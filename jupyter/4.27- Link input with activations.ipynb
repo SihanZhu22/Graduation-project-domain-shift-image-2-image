{
 "cells": [
  {
   "cell_type": "code",
   "execution_count": 1,
   "id": "ebfaa43d",
   "metadata": {},
   "outputs": [],
   "source": [
    "from PIL import Image\n",
    "import numpy as np\n",
    "import os\n",
    "import pickle\n",
    "import random\n",
    "import matplotlib.pyplot as plt\n",
    "import pandas as pd\n",
    "import seaborn as sns\n",
    "\n",
    "from sklearn.decomposition import PCA\n",
    "from sklearn.manifold import TSNE\n",
    "\n",
    "from torch.utils.data import Dataset, DataLoader\n",
    "import torch\n",
    "import torch.nn as nn\n",
    "from torchvision import transforms\n",
    "\n",
    "# Use IoU instead\n",
    "# import re\n",
    "from scipy.spatial.distance import cdist\n"
   ]
  },
  {
   "cell_type": "markdown",
   "id": "86c12b35",
   "metadata": {},
   "source": [
    "# Load image and labels"
   ]
  },
  {
   "cell_type": "code",
   "execution_count": 2,
   "id": "af3aba39",
   "metadata": {},
   "outputs": [],
   "source": [
    "resize_image_path_synthia = \"D:\\zsh\\graduation\\Graduation-project-domain-shift-image-2-image\\dataset\\SYNTHIA_256\\image\"\n",
    "resize_label_path_synthia = \"D:\\zsh\\graduation\\Graduation-project-domain-shift-image-2-image\\dataset\\SYNTHIA_256\\label-rgb\"\n",
    "\n",
    "cityscapes_path = \"D:\\zsh\\graduation\\Graduation-project-domain-shift-image-2-image\\dataset\\original_cityscapes_inputs\""
   ]
  },
  {
   "cell_type": "code",
   "execution_count": 3,
   "id": "f6b158f3",
   "metadata": {},
   "outputs": [],
   "source": [
    "# get relative path for both datasets, because global path is not allowed (\"Not allowed to load local resource\")\n",
    "start = \"D:\\zsh\\graduation\\Graduation-project-domain-shift-image-2-image\"\n",
    "relative_path_cityscapes = os.path.relpath(cityscapes_path, start)\n",
    "relative_path_synthia = os.path.relpath(resize_image_path_synthia, start)"
   ]
  },
  {
   "cell_type": "code",
   "execution_count": 4,
   "id": "1600be7a",
   "metadata": {},
   "outputs": [],
   "source": [
    "# labels of cityscapes\n",
    "pickle_file = os.path.join(\"D:\\zsh\\graduation\\Graduation-project-domain-shift-image-2-image\\dataset\\\\5_classes_preprocessed\", \"validation_label_classes.pkl\")\n",
    "with open(pickle_file, 'rb') as f:\n",
    "    Y_test = pickle.load(f)\n",
    "    \n",
    "cityscapes_labels = np.array(Y_test)"
   ]
  },
  {
   "cell_type": "code",
   "execution_count": 5,
   "id": "65aff767",
   "metadata": {},
   "outputs": [],
   "source": [
    "# Cityscapes\n",
    "# import the pickle \n",
    "cityscapes_100 = []\n",
    "cityscapes_path_100 = []\n",
    "cityscapes_labels_100= []\n",
    "\n",
    "cityscapes_names= os.listdir(cityscapes_path)\n",
    "random.seed(55)\n",
    "cityscapes_names_100 = random.sample(cityscapes_names,100)\n",
    "for name in cityscapes_names_100:\n",
    "    image = Image.open(cityscapes_path+\"\\\\\"+name).convert(\"RGB\")\n",
    "    cityscapes_100.append(np.array(image))\n",
    "    cityscapes_path_100.append(relative_path_cityscapes+\"\\\\\"+name)\n",
    "    ind = int(name.split('.')[0])\n",
    "    label = cityscapes_labels[ind]\n",
    "    cityscapes_labels_100.append(label)\n",
    "\n",
    "cityscapes_100 = np.array(cityscapes_100)\n",
    "cityscapes_path_100 = np.array(cityscapes_path_100)\n",
    "cityscapes_labels_100= np.array(cityscapes_labels_100)\n",
    "\n",
    "# pickle_file = \"D:\\zsh\\graduation\\graduation_dataset\\\\5_classes_preprocessed\\\\validation_images.pkl\"\n",
    "# with open(pickle_file, 'rb') as f:\n",
    "#     cityscapes_images = pickle.load(f)\n",
    "# # randomly select images 100 out of the 500\n",
    "# cityscapes_100 = random.choices(cityscapes_images, k=100)\n",
    "# cityscapes_100 = np.array(cityscapes_100)"
   ]
  },
  {
   "cell_type": "code",
   "execution_count": 6,
   "id": "88aaf22c",
   "metadata": {},
   "outputs": [],
   "source": [
    "# synthia\n",
    "\n",
    "synthia_100 = []\n",
    "synthia_path_100 =[]\n",
    "synthia_label_100_initial = []\n",
    "\n",
    "synthia_names = os.listdir(resize_image_path_synthia)\n",
    "# randomly select 100 images to load in to numpy array\n",
    "random.seed(55)\n",
    "synthia_names_100 = random.sample(synthia_names,100)\n",
    "for name in synthia_names_100:\n",
    "#     print(name)\n",
    "#     print(resize_image_path_synthia)\n",
    "#     print(resize_image_path_synthia+\"\\\\\"+name)\n",
    "    image = Image.open(resize_image_path_synthia+\"\\\\\"+name).convert(\"RGB\")\n",
    "    \n",
    "    synthia_100.append(np.array(image))\n",
    "    synthia_path_100.append(relative_path_synthia+\"\\\\\"+name)\n",
    "    label = Image.open(resize_label_path_synthia+\"\\\\\"+name).convert(\"RGB\")\n",
    "    synthia_label_100_initial.append(np.array(label))\n",
    "\n",
    "synthia_100 = np.array(synthia_100)\n",
    "synthia_path_100 = np.array(synthia_path_100)\n",
    "synthia_label_100_initial = np.array(synthia_label_100_initial)"
   ]
  },
  {
   "cell_type": "markdown",
   "id": "175c5f10",
   "metadata": {},
   "source": [
    "# Synthia: Transform label images to classes"
   ]
  },
  {
   "cell_type": "code",
   "execution_count": 7,
   "id": "f4a3ce4a",
   "metadata": {},
   "outputs": [],
   "source": [
    "synthia_colors = [[  0,   0,   0], # void\n",
    "         [70,130, 180], # sky\n",
    "         [70,70,70], # building\n",
    "        [128, 64, 128], # road\n",
    "        [244, 35, 232], # sidewalk\n",
    "         [64,64,128], # fense\n",
    "         [107,142,35], # vegetation\t\n",
    "        [153, 153, 153], # pole\n",
    "        [0, 0, 142], # car\n",
    "        [220, 220, 0],  # traffic sign\n",
    "        [220, 20, 60], # pedestrian\n",
    "        [119, 11, 32], # bicycle\n",
    "        [0, 0, 230], # motorcycle\n",
    "        [250,170,160], # parking-slot\n",
    "        [128,64,64], # road-work\n",
    "        [250,170,30], # traffic light\n",
    "        [152, 251, 152], # terrain\n",
    "        [255, 0, 0], # rider\n",
    "        [0, 0, 70], # truck\n",
    "        [0, 60, 100], # bus\n",
    "        [0, 80, 100], # train\n",
    "        [102, 102, 156]# wall, lanemarking\n",
    "    ]\n",
    "\n",
    "\n",
    "category_map = {\n",
    "    0: 0,\n",
    "    1: 4,\n",
    "    2: 0,\n",
    "    3: 1,\n",
    "    4: 2,\n",
    "    5: 0,\n",
    "    6: 3,\n",
    "    7: 0,\n",
    "    8: 5,\n",
    "    9: 0,\n",
    "    10: 0,\n",
    "    11: 0,\n",
    "    12: 0,\n",
    "    13: 0,\n",
    "    14: 0,\n",
    "    15: 0,\n",
    "    16: 0,\n",
    "    17: 0,\n",
    "    18: 0,\n",
    "    19: 0,\n",
    "    20: 0,\n",
    "    21: 0}"
   ]
  },
  {
   "cell_type": "code",
   "execution_count": 8,
   "id": "81ede991",
   "metadata": {},
   "outputs": [],
   "source": [
    "# color to class\n",
    "def color_to_class(label):\n",
    "    # create new empty mask\n",
    "    mask = np.zeros(shape=(label.shape[0], label.shape[1]), dtype = np.int32)\n",
    "    # iterate through two dimensions\n",
    "    for row in range(label.shape[0]):\n",
    "        for col in range(label.shape[1]):\n",
    "            a = label[row, col,:]\n",
    "            # distance between this pixel and the original pixel\n",
    "            d = cdist(np.array([a]),np.array(synthia_colors))\n",
    "            idx = np.argmin(d)\n",
    "            new_idx = category_map[idx]\n",
    "            mask[row, col] = new_idx\n",
    "    mask = np.reshape(mask, (mask.shape[0], mask.shape[1]))\n",
    "    return mask"
   ]
  },
  {
   "cell_type": "code",
   "execution_count": 9,
   "id": "91be4658",
   "metadata": {},
   "outputs": [],
   "source": [
    "def transform_masks_synthia(labels):\n",
    "    masks = []\n",
    "    for label in labels:\n",
    "        mask = color_to_class(label)\n",
    "        masks.append(mask)\n",
    "    masks = np.array(masks)\n",
    "\n",
    "    return masks"
   ]
  },
  {
   "cell_type": "markdown",
   "id": "ec67d2d5",
   "metadata": {},
   "source": [
    "Load the saved labels (alternatively could regenerate labels)"
   ]
  },
  {
   "cell_type": "code",
   "execution_count": 11,
   "id": "e51a00a2",
   "metadata": {},
   "outputs": [],
   "source": [
    "synthia_label_100_classes = transform_masks_synthia(synthia_label_100_initial)"
   ]
  },
  {
   "cell_type": "code",
   "execution_count": 12,
   "id": "5f8396a1",
   "metadata": {},
   "outputs": [],
   "source": [
    "# save a pickle file to save times for \n",
    "\n",
    "with open('synthia_label_100_classes_new.pkl', 'wb') as file:\n",
    "      \n",
    "    # A new file will be created\n",
    "    pickle.dump(synthia_label_100_classes, file)\n",
    "\n",
    "# with open('synthia_label_100_classes_new.pkl', 'rb') as f:\n",
    "#     synthia_label_100_classes = pickle.load(f)\n"
   ]
  },
  {
   "cell_type": "code",
   "execution_count": 13,
   "id": "e37956e9",
   "metadata": {},
   "outputs": [],
   "source": [
    "# class to color: useful for displaying the similar images later\n",
    "colors = [[  0,   0,   0],\n",
    "          [128, 64, 128],# road\n",
    "          [244, 35, 232], # sidewalk\n",
    "          [107, 142, 35],# vegetation\n",
    "          [70, 130, 180], # sky\n",
    "          [0, 0, 142], # car\n",
    "         ]\n",
    "\n",
    "def class_to_color(labels):\n",
    "    label_colors = np.zeros((256,256,3))\n",
    "    \n",
    "    for i,row in enumerate(labels):\n",
    "        for j,pixel in enumerate(row):\n",
    "            label_colors[i,j] = colors[pixel]\n",
    "    \n",
    "    return label_colors.astype(int)  # make each pixel value an integer to visualize it better"
   ]
  },
  {
   "cell_type": "markdown",
   "id": "0c1c0488",
   "metadata": {},
   "source": [
    "Generate and save labels for the subset for later"
   ]
  },
  {
   "cell_type": "code",
   "execution_count": 14,
   "id": "8e9138b5",
   "metadata": {},
   "outputs": [],
   "source": [
    "# # for generating coherent labels for the random subset (cityscapes)\n",
    "save_labels_path_cityscapes = \"D:\\zsh\\graduation\\Graduation-project-domain-shift-image-2-image\\dataset\\cityscapes_labels_100\"\n",
    "for i in range(100):\n",
    "    name = cityscapes_names_100[i]\n",
    "    label = cityscapes_labels_100[i]\n",
    "    label_color = class_to_color(label)\n",
    "    label_image = Image.fromarray(label_color.astype(np.uint8))\n",
    "    label_image.save(save_labels_path_cityscapes+\"\\\\\"+name)"
   ]
  },
  {
   "cell_type": "code",
   "execution_count": 15,
   "id": "a22e7cff",
   "metadata": {},
   "outputs": [],
   "source": [
    "save_labels_path_synthia = \"D:\\zsh\\graduation\\Graduation-project-domain-shift-image-2-image\\dataset\\SYNTHIA_256\\\\new_labels_100\"\n",
    "for i in range(100):\n",
    "    name = synthia_names_100[i]\n",
    "    label = synthia_label_100_classes[i]\n",
    "    label_color = class_to_color(label)\n",
    "#     print(label_color.dtype)\n",
    "#     print(label_color)\n",
    "    label_image = Image.fromarray(label_color.astype(np.uint8))\n",
    "    label_image.save(save_labels_path_synthia+\"\\\\\"+name)"
   ]
  },
  {
   "cell_type": "code",
   "execution_count": 16,
   "id": "6751adf7",
   "metadata": {},
   "outputs": [],
   "source": [
    "start = \"D:\\zsh\\graduation\\Graduation-project-domain-shift-image-2-image\"\n",
    "relative_path_cityscapes_labels = os.path.relpath(save_labels_path_cityscapes, start)\n",
    "relative_path_synthia_labels = os.path.relpath(save_labels_path_synthia, start)"
   ]
  },
  {
   "cell_type": "code",
   "execution_count": 17,
   "id": "c9ab476f",
   "metadata": {},
   "outputs": [],
   "source": [
    "# find the cityscapes images with mimimal distance to citiscapes images\n",
    "def most_similar_mask(instance, data,mode = \"IoU\"):\n",
    "#     nodes = np.asarray(nodes)\n",
    "    # Euclidean distance calculation\n",
    "    if mode == \"IoU\":\n",
    "        iou_list = []\n",
    "        for new_instance in data:\n",
    "#             the original IoU methods were not good because when both class is 0, the intersection won't count it\n",
    "#             intersection = np.logical_and(instance, new_instance)\n",
    "#             union = np.logical_or(instance, new_instance)\n",
    "            intersection = len(np.where(instance == new_instance)[0])\n",
    "            union = instance.shape[0]*instance.shape[1]\n",
    "#             print(intersection)\n",
    "#             print(union)\n",
    "            iou_score = intersection / union\n",
    "            iou_list.append(iou_score)\n",
    "        iou_arr = np.array(iou_list)\n",
    "        best_index = np.argmax(iou_arr)\n",
    "        best_score = iou_arr[best_index]\n",
    "    \n",
    "    return best_index, best_score"
   ]
  },
  {
   "cell_type": "code",
   "execution_count": 18,
   "id": "f8720607",
   "metadata": {},
   "outputs": [
    {
     "name": "stdout",
     "output_type": "stream",
     "text": [
      "256\n",
      "(100, 256, 256)\n"
     ]
    }
   ],
   "source": [
    "print(cityscapes_labels_100[0].shape[1])\n",
    "print(synthia_label_100_classes.shape)"
   ]
  },
  {
   "cell_type": "markdown",
   "id": "1b3fc4ab",
   "metadata": {},
   "source": [
    "TODO:\n",
    "make this a dictionary"
   ]
  },
  {
   "cell_type": "code",
   "execution_count": 19,
   "id": "77e9ecc1",
   "metadata": {},
   "outputs": [],
   "source": [
    "cityscapes_similar_100_names = []\n",
    "cityscapes_similar_100_image_paths = [] # relative paths to the cityscapes images\n",
    "cityscapes_similar_100_labels = []\n",
    "cityscapes_similar_100_label_paths = []\n",
    "cityscapes_similar_100_scores = []\n",
    "\n",
    "for label in cityscapes_labels_100:\n",
    "    image_index_synthia,similar_score = most_similar_mask(label,synthia_label_100_classes)\n",
    "#     print(label.shape)\n",
    "#     print(synthia_label_100_classes.shape)\n",
    "#     print(image_index_synthia)\n",
    "    name = synthia_names_100[image_index_synthia]\n",
    "    image_path = synthia_path_100[image_index_synthia]\n",
    "    label_path = relative_path_synthia_labels+\"\\\\\"+name\n",
    "    label = synthia_label_100_classes[image_index_synthia]\n",
    "    \n",
    "    cityscapes_similar_100_names.append(name)\n",
    "    cityscapes_similar_100_image_paths.append(image_path)\n",
    "    cityscapes_similar_100_labels.append(label)\n",
    "    cityscapes_similar_100_label_paths.append(label_path)\n",
    "    cityscapes_similar_100_scores.append(similar_score)\n",
    "\n",
    "cityscapes_similar_100_labels= np.array(cityscapes_similar_100_labels)\n",
    "cityscapes_similar_100_scores = np.array(cityscapes_similar_100_scores)"
   ]
  },
  {
   "cell_type": "code",
   "execution_count": 20,
   "id": "23f507d5",
   "metadata": {},
   "outputs": [
    {
     "name": "stdout",
     "output_type": "stream",
     "text": [
      "(array([ 2,  6, 13, 18, 21, 24, 29, 33, 36, 38, 40, 41, 43, 47, 50, 51, 57,\n",
      "       61, 65, 66, 67, 68, 74, 77, 83, 92, 95, 97, 99], dtype=int64),)\n"
     ]
    }
   ],
   "source": [
    "print(np.where((cityscapes_similar_100_scores>0.6)))"
   ]
  },
  {
   "cell_type": "code",
   "execution_count": 21,
   "id": "2a6666ec",
   "metadata": {},
   "outputs": [],
   "source": [
    "# synthia_similar_100_names = []\n",
    "# synthia_similar_100_paths = [] # relative paths to the synthia images\n",
    "# for label in synthia_label_100_classes:\n",
    "#     image_index_cityscapes = most_similar_mask(label,cityscapes_labels_100)\n",
    "#     name = cityscapes_names_100[image_index_cityscapes]\n",
    "#     path = cityscapes_path_100[image_index_cityscapes]\n",
    "#     synthia_similar_100_names.append(name)\n",
    "#     synthia_similar_100_paths.append(path)\n",
    "\n",
    "synthia_similar_100_names = []\n",
    "synthia_similar_100_image_paths = [] # relative paths to the cityscapes images\n",
    "synthia_similar_100_labels = []\n",
    "synthia_similar_100_label_paths = []\n",
    "synthia_similar_100_scores = []\n",
    "\n",
    "for label in synthia_label_100_classes:\n",
    "    image_index_cityscapes,similar_score = most_similar_mask(label,cityscapes_labels_100)\n",
    "    name = cityscapes_names_100[image_index_cityscapes]\n",
    "    image_path = cityscapes_path_100[image_index_cityscapes]\n",
    "    label = cityscapes_labels_100[image_index_cityscapes]\n",
    "    label_path = relative_path_cityscapes_labels+\"\\\\\"+name\n",
    "    synthia_similar_100_names.append(name)\n",
    "    synthia_similar_100_image_paths.append(image_path)\n",
    "    synthia_similar_100_labels.append(label)\n",
    "    synthia_similar_100_label_paths.append(label_path)\n",
    "    synthia_similar_100_scores.append(similar_score)\n",
    "\n",
    "synthia_similar_100_labels= np.array(synthia_similar_100_labels)\n",
    "synthia_similar_100_scores = np.array(synthia_similar_100_scores)"
   ]
  },
  {
   "cell_type": "code",
   "execution_count": 22,
   "id": "15935313",
   "metadata": {},
   "outputs": [
    {
     "data": {
      "text/plain": [
       "(256, 256)"
      ]
     },
     "execution_count": 22,
     "metadata": {},
     "output_type": "execute_result"
    }
   ],
   "source": [
    "cityscapes_similar_100_labels[0].shape"
   ]
  },
  {
   "cell_type": "code",
   "execution_count": 23,
   "id": "007f3da8",
   "metadata": {},
   "outputs": [
    {
     "name": "stdout",
     "output_type": "stream",
     "text": [
      "[43 50 51 57 68 74 99]\n",
      "0.8092041015625\n",
      "0.7506866455078125\n",
      "0.807220458984375\n",
      "0.809783935546875\n",
      "0.7834014892578125\n",
      "0.7004241943359375\n"
     ]
    },
    {
     "data": {
      "image/png": "[encoded data removed]",
      "text/plain": [
       "<Figure size 432x288 with 2 Axes>"
      ]
     },
     "metadata": {
      "needs_background": "light"
     },
     "output_type": "display_data"
    },
    {
     "data": {
      "image/png": "[encoded data removed]",
      "text/plain": [
       "<Figure size 432x288 with 2 Axes>"
      ]
     },
     "metadata": {
      "needs_background": "light"
     },
     "output_type": "display_data"
    },
    {
     "data": {
      "image/png": "[encoded data removed]",
      "text/plain": [
       "<Figure size 432x288 with 2 Axes>"
      ]
     },
     "metadata": {
      "needs_background": "light"
     },
     "output_type": "display_data"
    },
    {
     "data": {
      "image/png": "[encoded data removed]",
      "text/plain": [
       "<Figure size 432x288 with 2 Axes>"
      ]
     },
     "metadata": {
      "needs_background": "light"
     },
     "output_type": "display_data"
    },
    {
     "data": {
      "image/png": "[encoded data removed]",
      "text/plain": [
       "<Figure size 432x288 with 2 Axes>"
      ]
     },
     "metadata": {
      "needs_background": "light"
     },
     "output_type": "display_data"
    },
    {
     "data": {
      "image/png": "[encoded data removed]",
      "text/plain": [
       "<Figure size 432x288 with 2 Axes>"
      ]
     },
     "metadata": {
      "needs_background": "light"
     },
     "output_type": "display_data"
    }
   ],
   "source": [
    "threshold = 0.65\n",
    "indices = np.where((cityscapes_similar_100_scores>0.7))[0]\n",
    "print(indices)\n",
    "count = 0\n",
    "for i in indices:\n",
    "    cityscapes_similar_100_labels[i].shape\n",
    "    synthia_label = class_to_color(cityscapes_similar_100_labels[i])\n",
    "    cityscapes_label = class_to_color(cityscapes_labels_100[i])\n",
    "    print(cityscapes_similar_100_scores[i])\n",
    "\n",
    "    fig, (ax1, ax2) = plt.subplots(1, 2)\n",
    "    ax1.imshow(cityscapes_label)\n",
    "    ax2.imshow(synthia_label)\n",
    "    count +=1\n",
    "    if count>5: \n",
    "        break"
   ]
  },
  {
   "cell_type": "markdown",
   "id": "ca78fc80",
   "metadata": {},
   "source": [
    "# Embedding for the input （pca and tsne）"
   ]
  },
  {
   "cell_type": "code",
   "execution_count": 24,
   "id": "2ac20a9e",
   "metadata": {},
   "outputs": [],
   "source": [
    "num_images = 100"
   ]
  },
  {
   "cell_type": "code",
   "execution_count": 25,
   "id": "904305d0",
   "metadata": {},
   "outputs": [],
   "source": [
    "# concatenate the images and the paths from two different dataset\n",
    "combined_embedding = np.concatenate((cityscapes_100,synthia_100),axis=0)\n",
    "combined_embedding = np.reshape(combined_embedding,(len(combined_embedding), 256*256*3))\n",
    "\n",
    "combined_paths = np.concatenate((cityscapes_path_100,synthia_path_100),axis=0)"
   ]
  },
  {
   "cell_type": "code",
   "execution_count": 26,
   "id": "16899660",
   "metadata": {},
   "outputs": [],
   "source": [
    "pca = PCA(n_components=2)\n",
    "pca_embedding = pca.fit_transform(combined_embedding)\n",
    "# print(pca.explained_variance_ratio_)\n",
    "\n",
    "df_pca = pd.DataFrame(pca_embedding,columns=[\"pca_1\",\"pca_2\"])"
   ]
  },
  {
   "cell_type": "code",
   "execution_count": 27,
   "id": "3ccb3975",
   "metadata": {},
   "outputs": [
    {
     "name": "stdout",
     "output_type": "stream",
     "text": [
      "0.7972302680203084\n"
     ]
    },
    {
     "data": {
      "text/html": [
       "<div>\n",
       "<style scoped>\n",
       "    .dataframe tbody tr th:only-of-type {\n",
       "        vertical-align: middle;\n",
       "    }\n",
       "\n",
       "    .dataframe tbody tr th {\n",
       "        vertical-align: top;\n",
       "    }\n",
       "\n",
       "    .dataframe thead th {\n",
       "        text-align: right;\n",
       "    }\n",
       "</style>\n",
       "<table border=\"1\" class=\"dataframe\">\n",
       "  <thead>\n",
       "    <tr style=\"text-align: right;\">\n",
       "      <th></th>\n",
       "      <th>tsne_1</th>\n",
       "      <th>tsne_2</th>\n",
       "    </tr>\n",
       "  </thead>\n",
       "  <tbody>\n",
       "    <tr>\n",
       "      <th>0</th>\n",
       "      <td>0.162255</td>\n",
       "      <td>2.424274</td>\n",
       "    </tr>\n",
       "    <tr>\n",
       "      <th>1</th>\n",
       "      <td>0.224811</td>\n",
       "      <td>-9.874747</td>\n",
       "    </tr>\n",
       "    <tr>\n",
       "      <th>2</th>\n",
       "      <td>2.077152</td>\n",
       "      <td>-5.325325</td>\n",
       "    </tr>\n",
       "    <tr>\n",
       "      <th>3</th>\n",
       "      <td>-0.325244</td>\n",
       "      <td>-1.208278</td>\n",
       "    </tr>\n",
       "    <tr>\n",
       "      <th>4</th>\n",
       "      <td>0.704434</td>\n",
       "      <td>2.569544</td>\n",
       "    </tr>\n",
       "  </tbody>\n",
       "</table>\n",
       "</div>"
      ],
      "text/plain": [
       "     tsne_1    tsne_2\n",
       "0  0.162255  2.424274\n",
       "1  0.224811 -9.874747\n",
       "2  2.077152 -5.325325\n",
       "3 -0.325244 -1.208278\n",
       "4  0.704434  2.569544"
      ]
     },
     "execution_count": 27,
     "metadata": {},
     "output_type": "execute_result"
    }
   ],
   "source": [
    "pca_50 = PCA(n_components=50)\n",
    "pca_embedding = pca_50.fit_transform(combined_embedding)\n",
    "print(np.sum(pca_50.explained_variance_ratio_))\n",
    "tsne = TSNE()\n",
    "tsne_embedding = tsne.fit_transform(pca_embedding)\n",
    "\n",
    "df_tsne = pd.DataFrame(tsne_embedding,columns=[\"tsne_1\",\"tsne_2\"])\n",
    "df_tsne.head()"
   ]
  },
  {
   "cell_type": "code",
   "execution_count": 28,
   "id": "d1a62044",
   "metadata": {},
   "outputs": [
    {
     "name": "stderr",
     "output_type": "stream",
     "text": [
      "d:\\zsh\\graduation\\grad_env_take_2\\lib\\site-packages\\pandas\\core\\indexing.py:670: SettingWithCopyWarning: \n",
      "A value is trying to be set on a copy of a slice from a DataFrame\n",
      "\n",
      "See the caveats in the documentation: https://pandas.pydata.org/pandas-docs/stable/user_guide/indexing.html#returning-a-view-versus-a-copy\n",
      "  iloc._setitem_with_indexer(indexer, value)\n"
     ]
    }
   ],
   "source": [
    "df = pd.concat([df_pca, df_tsne], axis=1)\n",
    "df[\"dataset\"] =np.nan\n",
    "df[\"path\"] = combined_paths\n",
    "\n",
    "# mark the dataset name\n",
    "df[\"dataset\"].iloc[:num_images] = \"Cityscapes\"\n",
    "df[\"dataset\"].iloc[num_images:] = \"Synthia\""
   ]
  },
  {
   "cell_type": "code",
   "execution_count": 29,
   "id": "663f6aeb",
   "metadata": {},
   "outputs": [],
   "source": [
    "df_cityscapes = df.iloc[:num_images,:]\n",
    "df_synthia = df.iloc[num_images:,:]"
   ]
  },
  {
   "cell_type": "code",
   "execution_count": 30,
   "id": "41f80ff9",
   "metadata": {},
   "outputs": [
    {
     "data": {
      "text/plain": [
       "(100, 256, 256)"
      ]
     },
     "execution_count": 30,
     "metadata": {},
     "output_type": "execute_result"
    }
   ],
   "source": [
    "synthia_similar_100_labels.shape"
   ]
  },
  {
   "cell_type": "code",
   "execution_count": 31,
   "id": "7ba07a55",
   "metadata": {},
   "outputs": [
    {
     "name": "stderr",
     "output_type": "stream",
     "text": [
      "d:\\zsh\\graduation\\grad_env_take_2\\lib\\site-packages\\ipykernel_launcher.py:1: SettingWithCopyWarning: \n",
      "A value is trying to be set on a copy of a slice from a DataFrame.\n",
      "Try using .loc[row_indexer,col_indexer] = value instead\n",
      "\n",
      "See the caveats in the documentation: https://pandas.pydata.org/pandas-docs/stable/user_guide/indexing.html#returning-a-view-versus-a-copy\n",
      "  \"\"\"Entry point for launching an IPython kernel.\n",
      "d:\\zsh\\graduation\\grad_env_take_2\\lib\\site-packages\\ipykernel_launcher.py:2: SettingWithCopyWarning: \n",
      "A value is trying to be set on a copy of a slice from a DataFrame.\n",
      "Try using .loc[row_indexer,col_indexer] = value instead\n",
      "\n",
      "See the caveats in the documentation: https://pandas.pydata.org/pandas-docs/stable/user_guide/indexing.html#returning-a-view-versus-a-copy\n",
      "  \n",
      "d:\\zsh\\graduation\\grad_env_take_2\\lib\\site-packages\\ipykernel_launcher.py:3: SettingWithCopyWarning: \n",
      "A value is trying to be set on a copy of a slice from a DataFrame.\n",
      "Try using .loc[row_indexer,col_indexer] = value instead\n",
      "\n",
      "See the caveats in the documentation: https://pandas.pydata.org/pandas-docs/stable/user_guide/indexing.html#returning-a-view-versus-a-copy\n",
      "  This is separate from the ipykernel package so we can avoid doing imports until\n",
      "d:\\zsh\\graduation\\grad_env_take_2\\lib\\site-packages\\ipykernel_launcher.py:4: SettingWithCopyWarning: \n",
      "A value is trying to be set on a copy of a slice from a DataFrame.\n",
      "Try using .loc[row_indexer,col_indexer] = value instead\n",
      "\n",
      "See the caveats in the documentation: https://pandas.pydata.org/pandas-docs/stable/user_guide/indexing.html#returning-a-view-versus-a-copy\n",
      "  after removing the cwd from sys.path.\n"
     ]
    }
   ],
   "source": [
    "df_synthia[\"similar_name\"] = synthia_similar_100_names\n",
    "df_synthia[\"similar_image_paths\"] =synthia_similar_100_image_paths\n",
    "df_synthia[\"similar_label_paths\"] = synthia_similar_100_label_paths\n",
    "df_synthia[\"IoU_score\"]=synthia_similar_100_scores"
   ]
  },
  {
   "cell_type": "code",
   "execution_count": 32,
   "id": "88dc3af9",
   "metadata": {},
   "outputs": [
    {
     "data": {
      "text/html": [
       "<div>\n",
       "<style scoped>\n",
       "    .dataframe tbody tr th:only-of-type {\n",
       "        vertical-align: middle;\n",
       "    }\n",
       "\n",
       "    .dataframe tbody tr th {\n",
       "        vertical-align: top;\n",
       "    }\n",
       "\n",
       "    .dataframe thead th {\n",
       "        text-align: right;\n",
       "    }\n",
       "</style>\n",
       "<table border=\"1\" class=\"dataframe\">\n",
       "  <thead>\n",
       "    <tr style=\"text-align: right;\">\n",
       "      <th></th>\n",
       "      <th>pca_1</th>\n",
       "      <th>pca_2</th>\n",
       "      <th>tsne_1</th>\n",
       "      <th>tsne_2</th>\n",
       "      <th>dataset</th>\n",
       "      <th>path</th>\n",
       "      <th>similar_name</th>\n",
       "      <th>similar_image_paths</th>\n",
       "      <th>similar_label_paths</th>\n",
       "      <th>IoU_score</th>\n",
       "    </tr>\n",
       "  </thead>\n",
       "  <tbody>\n",
       "    <tr>\n",
       "      <th>100</th>\n",
       "      <td>-16323.851317</td>\n",
       "      <td>-2716.315185</td>\n",
       "      <td>-7.329942</td>\n",
       "      <td>2.807381</td>\n",
       "      <td>Synthia</td>\n",
       "      <td>dataset\\SYNTHIA_256\\image\\0001480.png</td>\n",
       "      <td>237.jpeg</td>\n",
       "      <td>dataset\\original_cityscapes_inputs\\237.jpeg</td>\n",
       "      <td>dataset\\cityscapes_labels_100\\237.jpeg</td>\n",
       "      <td>0.435898</td>\n",
       "    </tr>\n",
       "    <tr>\n",
       "      <th>101</th>\n",
       "      <td>-19717.417386</td>\n",
       "      <td>359.187684</td>\n",
       "      <td>-8.969543</td>\n",
       "      <td>2.707227</td>\n",
       "      <td>Synthia</td>\n",
       "      <td>dataset\\SYNTHIA_256\\image\\0003215.png</td>\n",
       "      <td>188.jpeg</td>\n",
       "      <td>dataset\\original_cityscapes_inputs\\188.jpeg</td>\n",
       "      <td>dataset\\cityscapes_labels_100\\188.jpeg</td>\n",
       "      <td>0.492340</td>\n",
       "    </tr>\n",
       "    <tr>\n",
       "      <th>102</th>\n",
       "      <td>-17868.910768</td>\n",
       "      <td>1337.739512</td>\n",
       "      <td>-8.803271</td>\n",
       "      <td>2.448810</td>\n",
       "      <td>Synthia</td>\n",
       "      <td>dataset\\SYNTHIA_256\\image\\0002457.png</td>\n",
       "      <td>147.jpeg</td>\n",
       "      <td>dataset\\original_cityscapes_inputs\\147.jpeg</td>\n",
       "      <td>dataset\\cityscapes_labels_100\\147.jpeg</td>\n",
       "      <td>0.487686</td>\n",
       "    </tr>\n",
       "    <tr>\n",
       "      <th>103</th>\n",
       "      <td>-15686.410718</td>\n",
       "      <td>-5517.977135</td>\n",
       "      <td>-6.963422</td>\n",
       "      <td>3.057447</td>\n",
       "      <td>Synthia</td>\n",
       "      <td>dataset\\SYNTHIA_256\\image\\0004959.png</td>\n",
       "      <td>101.jpeg</td>\n",
       "      <td>dataset\\original_cityscapes_inputs\\101.jpeg</td>\n",
       "      <td>dataset\\cityscapes_labels_100\\101.jpeg</td>\n",
       "      <td>0.587204</td>\n",
       "    </tr>\n",
       "    <tr>\n",
       "      <th>104</th>\n",
       "      <td>-5020.711841</td>\n",
       "      <td>19910.825895</td>\n",
       "      <td>-7.654329</td>\n",
       "      <td>-2.031567</td>\n",
       "      <td>Synthia</td>\n",
       "      <td>dataset\\SYNTHIA_256\\image\\0001305.png</td>\n",
       "      <td>423.jpeg</td>\n",
       "      <td>dataset\\original_cityscapes_inputs\\423.jpeg</td>\n",
       "      <td>dataset\\cityscapes_labels_100\\423.jpeg</td>\n",
       "      <td>0.536331</td>\n",
       "    </tr>\n",
       "  </tbody>\n",
       "</table>\n",
       "</div>"
      ],
      "text/plain": [
       "            pca_1         pca_2    tsne_1    tsne_2  dataset  \\\n",
       "100 -16323.851317  -2716.315185 -7.329942  2.807381  Synthia   \n",
       "101 -19717.417386    359.187684 -8.969543  2.707227  Synthia   \n",
       "102 -17868.910768   1337.739512 -8.803271  2.448810  Synthia   \n",
       "103 -15686.410718  -5517.977135 -6.963422  3.057447  Synthia   \n",
       "104  -5020.711841  19910.825895 -7.654329 -2.031567  Synthia   \n",
       "\n",
       "                                      path similar_name  \\\n",
       "100  dataset\\SYNTHIA_256\\image\\0001480.png     237.jpeg   \n",
       "101  dataset\\SYNTHIA_256\\image\\0003215.png     188.jpeg   \n",
       "102  dataset\\SYNTHIA_256\\image\\0002457.png     147.jpeg   \n",
       "103  dataset\\SYNTHIA_256\\image\\0004959.png     101.jpeg   \n",
       "104  dataset\\SYNTHIA_256\\image\\0001305.png     423.jpeg   \n",
       "\n",
       "                             similar_image_paths  \\\n",
       "100  dataset\\original_cityscapes_inputs\\237.jpeg   \n",
       "101  dataset\\original_cityscapes_inputs\\188.jpeg   \n",
       "102  dataset\\original_cityscapes_inputs\\147.jpeg   \n",
       "103  dataset\\original_cityscapes_inputs\\101.jpeg   \n",
       "104  dataset\\original_cityscapes_inputs\\423.jpeg   \n",
       "\n",
       "                        similar_label_paths  IoU_score  \n",
       "100  dataset\\cityscapes_labels_100\\237.jpeg   0.435898  \n",
       "101  dataset\\cityscapes_labels_100\\188.jpeg   0.492340  \n",
       "102  dataset\\cityscapes_labels_100\\147.jpeg   0.487686  \n",
       "103  dataset\\cityscapes_labels_100\\101.jpeg   0.587204  \n",
       "104  dataset\\cityscapes_labels_100\\423.jpeg   0.536331  "
      ]
     },
     "execution_count": 32,
     "metadata": {},
     "output_type": "execute_result"
    }
   ],
   "source": [
    "df_synthia.head()"
   ]
  },
  {
   "cell_type": "code",
   "execution_count": 33,
   "id": "f8fa6374",
   "metadata": {},
   "outputs": [
    {
     "name": "stderr",
     "output_type": "stream",
     "text": [
      "d:\\zsh\\graduation\\grad_env_take_2\\lib\\site-packages\\ipykernel_launcher.py:1: SettingWithCopyWarning: \n",
      "A value is trying to be set on a copy of a slice from a DataFrame.\n",
      "Try using .loc[row_indexer,col_indexer] = value instead\n",
      "\n",
      "See the caveats in the documentation: https://pandas.pydata.org/pandas-docs/stable/user_guide/indexing.html#returning-a-view-versus-a-copy\n",
      "  \"\"\"Entry point for launching an IPython kernel.\n",
      "d:\\zsh\\graduation\\grad_env_take_2\\lib\\site-packages\\ipykernel_launcher.py:2: SettingWithCopyWarning: \n",
      "A value is trying to be set on a copy of a slice from a DataFrame.\n",
      "Try using .loc[row_indexer,col_indexer] = value instead\n",
      "\n",
      "See the caveats in the documentation: https://pandas.pydata.org/pandas-docs/stable/user_guide/indexing.html#returning-a-view-versus-a-copy\n",
      "  \n",
      "d:\\zsh\\graduation\\grad_env_take_2\\lib\\site-packages\\ipykernel_launcher.py:3: SettingWithCopyWarning: \n",
      "A value is trying to be set on a copy of a slice from a DataFrame.\n",
      "Try using .loc[row_indexer,col_indexer] = value instead\n",
      "\n",
      "See the caveats in the documentation: https://pandas.pydata.org/pandas-docs/stable/user_guide/indexing.html#returning-a-view-versus-a-copy\n",
      "  This is separate from the ipykernel package so we can avoid doing imports until\n",
      "d:\\zsh\\graduation\\grad_env_take_2\\lib\\site-packages\\ipykernel_launcher.py:4: SettingWithCopyWarning: \n",
      "A value is trying to be set on a copy of a slice from a DataFrame.\n",
      "Try using .loc[row_indexer,col_indexer] = value instead\n",
      "\n",
      "See the caveats in the documentation: https://pandas.pydata.org/pandas-docs/stable/user_guide/indexing.html#returning-a-view-versus-a-copy\n",
      "  after removing the cwd from sys.path.\n"
     ]
    }
   ],
   "source": [
    "df_cityscapes[\"similar_name\"] = cityscapes_similar_100_names\n",
    "df_cityscapes[\"similar_image_paths\"] =cityscapes_similar_100_image_paths\n",
    "df_cityscapes[\"similar_label_paths\"] = cityscapes_similar_100_label_paths\n",
    "df_cityscapes[\"IoU_score\"]=cityscapes_similar_100_scores"
   ]
  },
  {
   "cell_type": "code",
   "execution_count": 34,
   "id": "d1dc8714",
   "metadata": {},
   "outputs": [
    {
     "data": {
      "text/html": [
       "<div>\n",
       "<style scoped>\n",
       "    .dataframe tbody tr th:only-of-type {\n",
       "        vertical-align: middle;\n",
       "    }\n",
       "\n",
       "    .dataframe tbody tr th {\n",
       "        vertical-align: top;\n",
       "    }\n",
       "\n",
       "    .dataframe thead th {\n",
       "        text-align: right;\n",
       "    }\n",
       "</style>\n",
       "<table border=\"1\" class=\"dataframe\">\n",
       "  <thead>\n",
       "    <tr style=\"text-align: right;\">\n",
       "      <th></th>\n",
       "      <th>pca_1</th>\n",
       "      <th>pca_2</th>\n",
       "      <th>tsne_1</th>\n",
       "      <th>tsne_2</th>\n",
       "      <th>dataset</th>\n",
       "      <th>path</th>\n",
       "      <th>similar_name</th>\n",
       "      <th>similar_image_paths</th>\n",
       "      <th>similar_label_paths</th>\n",
       "      <th>IoU_score</th>\n",
       "    </tr>\n",
       "  </thead>\n",
       "  <tbody>\n",
       "    <tr>\n",
       "      <th>0</th>\n",
       "      <td>2625.505731</td>\n",
       "      <td>-6238.133910</td>\n",
       "      <td>0.162255</td>\n",
       "      <td>2.424274</td>\n",
       "      <td>Cityscapes</td>\n",
       "      <td>dataset\\original_cityscapes_inputs\\14.jpeg</td>\n",
       "      <td>0002688.png</td>\n",
       "      <td>dataset\\SYNTHIA_256\\image\\0002688.png</td>\n",
       "      <td>dataset\\SYNTHIA_256\\new_labels_100\\0002688.png</td>\n",
       "      <td>0.475754</td>\n",
       "    </tr>\n",
       "    <tr>\n",
       "      <th>1</th>\n",
       "      <td>3934.173844</td>\n",
       "      <td>1301.542079</td>\n",
       "      <td>0.224811</td>\n",
       "      <td>-9.874747</td>\n",
       "      <td>Cityscapes</td>\n",
       "      <td>dataset\\original_cityscapes_inputs\\87.jpeg</td>\n",
       "      <td>0002688.png</td>\n",
       "      <td>dataset\\SYNTHIA_256\\image\\0002688.png</td>\n",
       "      <td>dataset\\SYNTHIA_256\\new_labels_100\\0002688.png</td>\n",
       "      <td>0.480301</td>\n",
       "    </tr>\n",
       "    <tr>\n",
       "      <th>2</th>\n",
       "      <td>5246.379128</td>\n",
       "      <td>-149.925287</td>\n",
       "      <td>2.077152</td>\n",
       "      <td>-5.325325</td>\n",
       "      <td>Cityscapes</td>\n",
       "      <td>dataset\\original_cityscapes_inputs\\189.jpeg</td>\n",
       "      <td>0004607.png</td>\n",
       "      <td>dataset\\SYNTHIA_256\\image\\0004607.png</td>\n",
       "      <td>dataset\\SYNTHIA_256\\new_labels_100\\0004607.png</td>\n",
       "      <td>0.653656</td>\n",
       "    </tr>\n",
       "    <tr>\n",
       "      <th>3</th>\n",
       "      <td>-2283.366499</td>\n",
       "      <td>-635.567715</td>\n",
       "      <td>-0.325244</td>\n",
       "      <td>-1.208278</td>\n",
       "      <td>Cityscapes</td>\n",
       "      <td>dataset\\original_cityscapes_inputs\\167.jpeg</td>\n",
       "      <td>0005291.png</td>\n",
       "      <td>dataset\\SYNTHIA_256\\image\\0005291.png</td>\n",
       "      <td>dataset\\SYNTHIA_256\\new_labels_100\\0005291.png</td>\n",
       "      <td>0.453262</td>\n",
       "    </tr>\n",
       "    <tr>\n",
       "      <th>4</th>\n",
       "      <td>2057.622061</td>\n",
       "      <td>-11766.691359</td>\n",
       "      <td>0.704434</td>\n",
       "      <td>2.569544</td>\n",
       "      <td>Cityscapes</td>\n",
       "      <td>dataset\\original_cityscapes_inputs\\439.jpeg</td>\n",
       "      <td>0002688.png</td>\n",
       "      <td>dataset\\SYNTHIA_256\\image\\0002688.png</td>\n",
       "      <td>dataset\\SYNTHIA_256\\new_labels_100\\0002688.png</td>\n",
       "      <td>0.522873</td>\n",
       "    </tr>\n",
       "  </tbody>\n",
       "</table>\n",
       "</div>"
      ],
      "text/plain": [
       "         pca_1         pca_2    tsne_1    tsne_2     dataset  \\\n",
       "0  2625.505731  -6238.133910  0.162255  2.424274  Cityscapes   \n",
       "1  3934.173844   1301.542079  0.224811 -9.874747  Cityscapes   \n",
       "2  5246.379128   -149.925287  2.077152 -5.325325  Cityscapes   \n",
       "3 -2283.366499   -635.567715 -0.325244 -1.208278  Cityscapes   \n",
       "4  2057.622061 -11766.691359  0.704434  2.569544  Cityscapes   \n",
       "\n",
       "                                          path similar_name  \\\n",
       "0   dataset\\original_cityscapes_inputs\\14.jpeg  0002688.png   \n",
       "1   dataset\\original_cityscapes_inputs\\87.jpeg  0002688.png   \n",
       "2  dataset\\original_cityscapes_inputs\\189.jpeg  0004607.png   \n",
       "3  dataset\\original_cityscapes_inputs\\167.jpeg  0005291.png   \n",
       "4  dataset\\original_cityscapes_inputs\\439.jpeg  0002688.png   \n",
       "\n",
       "                     similar_image_paths  \\\n",
       "0  dataset\\SYNTHIA_256\\image\\0002688.png   \n",
       "1  dataset\\SYNTHIA_256\\image\\0002688.png   \n",
       "2  dataset\\SYNTHIA_256\\image\\0004607.png   \n",
       "3  dataset\\SYNTHIA_256\\image\\0005291.png   \n",
       "4  dataset\\SYNTHIA_256\\image\\0002688.png   \n",
       "\n",
       "                              similar_label_paths  IoU_score  \n",
       "0  dataset\\SYNTHIA_256\\new_labels_100\\0002688.png   0.475754  \n",
       "1  dataset\\SYNTHIA_256\\new_labels_100\\0002688.png   0.480301  \n",
       "2  dataset\\SYNTHIA_256\\new_labels_100\\0004607.png   0.653656  \n",
       "3  dataset\\SYNTHIA_256\\new_labels_100\\0005291.png   0.453262  \n",
       "4  dataset\\SYNTHIA_256\\new_labels_100\\0002688.png   0.522873  "
      ]
     },
     "execution_count": 34,
     "metadata": {},
     "output_type": "execute_result"
    }
   ],
   "source": [
    "df_cityscapes.head()"
   ]
  },
  {
   "cell_type": "code",
   "execution_count": 35,
   "id": "f587ee98",
   "metadata": {},
   "outputs": [],
   "source": [
    "df = pd.concat([df_cityscapes, df_synthia], axis=0)"
   ]
  },
  {
   "cell_type": "code",
   "execution_count": 36,
   "id": "c3afe8ee",
   "metadata": {},
   "outputs": [
    {
     "data": {
      "text/plain": [
       "<AxesSubplot:xlabel='tsne_1', ylabel='tsne_2'>"
      ]
     },
     "execution_count": 36,
     "metadata": {},
     "output_type": "execute_result"
    },
    {
     "data": {
      "image/png": "[encoded data removed]",
      "text/plain": [
       "<Figure size 576x360 with 1 Axes>"
      ]
     },
     "metadata": {
      "needs_background": "light"
     },
     "output_type": "display_data"
    }
   ],
   "source": [
    "plt.figure(figsize=(8,5))\n",
    "sns.scatterplot(\n",
    "    x=\"tsne_1\", y=\"tsne_2\",\n",
    "    hue=\"dataset\", # see if this need to be changed\n",
    "    palette=sns.color_palette(\"hls\", 2), # palette corresponds to hue\n",
    "    data=df # df_tsne_1 or df_tsne_2\n",
    ")"
   ]
  },
  {
   "cell_type": "code",
   "execution_count": 37,
   "id": "c2f85958",
   "metadata": {},
   "outputs": [],
   "source": [
    "df.to_csv(\"input_df_similarity_v3.csv\",index=False)"
   ]
  },
  {
   "cell_type": "markdown",
   "id": "86ee21df",
   "metadata": {},
   "source": [
    "# Link to model activations"
   ]
  },
  {
   "cell_type": "markdown",
   "id": "26d63c01",
   "metadata": {},
   "source": [
    "**If start from here: load the csv file into a dataframe**"
   ]
  },
  {
   "cell_type": "code",
   "execution_count": 38,
   "id": "2f461ddd",
   "metadata": {},
   "outputs": [],
   "source": [
    "df = pd.read_csv('input_df_similarity_v3.csv')"
   ]
  },
  {
   "cell_type": "code",
   "execution_count": 41,
   "id": "fd17b4d2",
   "metadata": {},
   "outputs": [],
   "source": [
    "# load the model"
   ]
  },
  {
   "cell_type": "markdown",
   "id": "7e7e414d",
   "metadata": {},
   "source": [
    "How do you save the activations? A separate file or together with this dataframe?"
   ]
  },
  {
   "cell_type": "code",
   "execution_count": 40,
   "id": "fd3bc94f",
   "metadata": {},
   "outputs": [
    {
     "data": {
      "text/html": [
       "<div>\n",
       "<style scoped>\n",
       "    .dataframe tbody tr th:only-of-type {\n",
       "        vertical-align: middle;\n",
       "    }\n",
       "\n",
       "    .dataframe tbody tr th {\n",
       "        vertical-align: top;\n",
       "    }\n",
       "\n",
       "    .dataframe thead th {\n",
       "        text-align: right;\n",
       "    }\n",
       "</style>\n",
       "<table border=\"1\" class=\"dataframe\">\n",
       "  <thead>\n",
       "    <tr style=\"text-align: right;\">\n",
       "      <th></th>\n",
       "      <th>pca_1</th>\n",
       "      <th>pca_2</th>\n",
       "      <th>tsne_1</th>\n",
       "      <th>tsne_2</th>\n",
       "      <th>dataset</th>\n",
       "      <th>path</th>\n",
       "      <th>similar_name</th>\n",
       "      <th>similar_image_paths</th>\n",
       "      <th>similar_label_paths</th>\n",
       "      <th>IoU_score</th>\n",
       "      <th>bottleneck_activations</th>\n",
       "    </tr>\n",
       "  </thead>\n",
       "  <tbody>\n",
       "    <tr>\n",
       "      <th>0</th>\n",
       "      <td>2625.505731</td>\n",
       "      <td>-6238.133910</td>\n",
       "      <td>0.162255</td>\n",
       "      <td>2.424274</td>\n",
       "      <td>Cityscapes</td>\n",
       "      <td>dataset\\original_cityscapes_inputs\\14.jpeg</td>\n",
       "      <td>0002688.png</td>\n",
       "      <td>dataset\\SYNTHIA_256\\image\\0002688.png</td>\n",
       "      <td>dataset\\SYNTHIA_256\\new_labels_100\\0002688.png</td>\n",
       "      <td>0.475754</td>\n",
       "      <td>NaN</td>\n",
       "    </tr>\n",
       "    <tr>\n",
       "      <th>1</th>\n",
       "      <td>3934.173844</td>\n",
       "      <td>1301.542079</td>\n",
       "      <td>0.224811</td>\n",
       "      <td>-9.874747</td>\n",
       "      <td>Cityscapes</td>\n",
       "      <td>dataset\\original_cityscapes_inputs\\87.jpeg</td>\n",
       "      <td>0002688.png</td>\n",
       "      <td>dataset\\SYNTHIA_256\\image\\0002688.png</td>\n",
       "      <td>dataset\\SYNTHIA_256\\new_labels_100\\0002688.png</td>\n",
       "      <td>0.480301</td>\n",
       "      <td>NaN</td>\n",
       "    </tr>\n",
       "    <tr>\n",
       "      <th>2</th>\n",
       "      <td>5246.379128</td>\n",
       "      <td>-149.925287</td>\n",
       "      <td>2.077152</td>\n",
       "      <td>-5.325325</td>\n",
       "      <td>Cityscapes</td>\n",
       "      <td>dataset\\original_cityscapes_inputs\\189.jpeg</td>\n",
       "      <td>0004607.png</td>\n",
       "      <td>dataset\\SYNTHIA_256\\image\\0004607.png</td>\n",
       "      <td>dataset\\SYNTHIA_256\\new_labels_100\\0004607.png</td>\n",
       "      <td>0.653656</td>\n",
       "      <td>NaN</td>\n",
       "    </tr>\n",
       "    <tr>\n",
       "      <th>3</th>\n",
       "      <td>-2283.366499</td>\n",
       "      <td>-635.567715</td>\n",
       "      <td>-0.325244</td>\n",
       "      <td>-1.208278</td>\n",
       "      <td>Cityscapes</td>\n",
       "      <td>dataset\\original_cityscapes_inputs\\167.jpeg</td>\n",
       "      <td>0005291.png</td>\n",
       "      <td>dataset\\SYNTHIA_256\\image\\0005291.png</td>\n",
       "      <td>dataset\\SYNTHIA_256\\new_labels_100\\0005291.png</td>\n",
       "      <td>0.453262</td>\n",
       "      <td>NaN</td>\n",
       "    </tr>\n",
       "    <tr>\n",
       "      <th>4</th>\n",
       "      <td>2057.622061</td>\n",
       "      <td>-11766.691359</td>\n",
       "      <td>0.704434</td>\n",
       "      <td>2.569544</td>\n",
       "      <td>Cityscapes</td>\n",
       "      <td>dataset\\original_cityscapes_inputs\\439.jpeg</td>\n",
       "      <td>0002688.png</td>\n",
       "      <td>dataset\\SYNTHIA_256\\image\\0002688.png</td>\n",
       "      <td>dataset\\SYNTHIA_256\\new_labels_100\\0002688.png</td>\n",
       "      <td>0.522873</td>\n",
       "      <td>NaN</td>\n",
       "    </tr>\n",
       "  </tbody>\n",
       "</table>\n",
       "</div>"
      ],
      "text/plain": [
       "         pca_1         pca_2    tsne_1    tsne_2     dataset  \\\n",
       "0  2625.505731  -6238.133910  0.162255  2.424274  Cityscapes   \n",
       "1  3934.173844   1301.542079  0.224811 -9.874747  Cityscapes   \n",
       "2  5246.379128   -149.925287  2.077152 -5.325325  Cityscapes   \n",
       "3 -2283.366499   -635.567715 -0.325244 -1.208278  Cityscapes   \n",
       "4  2057.622061 -11766.691359  0.704434  2.569544  Cityscapes   \n",
       "\n",
       "                                          path similar_name  \\\n",
       "0   dataset\\original_cityscapes_inputs\\14.jpeg  0002688.png   \n",
       "1   dataset\\original_cityscapes_inputs\\87.jpeg  0002688.png   \n",
       "2  dataset\\original_cityscapes_inputs\\189.jpeg  0004607.png   \n",
       "3  dataset\\original_cityscapes_inputs\\167.jpeg  0005291.png   \n",
       "4  dataset\\original_cityscapes_inputs\\439.jpeg  0002688.png   \n",
       "\n",
       "                     similar_image_paths  \\\n",
       "0  dataset\\SYNTHIA_256\\image\\0002688.png   \n",
       "1  dataset\\SYNTHIA_256\\image\\0002688.png   \n",
       "2  dataset\\SYNTHIA_256\\image\\0004607.png   \n",
       "3  dataset\\SYNTHIA_256\\image\\0005291.png   \n",
       "4  dataset\\SYNTHIA_256\\image\\0002688.png   \n",
       "\n",
       "                              similar_label_paths  IoU_score  \\\n",
       "0  dataset\\SYNTHIA_256\\new_labels_100\\0002688.png   0.475754   \n",
       "1  dataset\\SYNTHIA_256\\new_labels_100\\0002688.png   0.480301   \n",
       "2  dataset\\SYNTHIA_256\\new_labels_100\\0004607.png   0.653656   \n",
       "3  dataset\\SYNTHIA_256\\new_labels_100\\0005291.png   0.453262   \n",
       "4  dataset\\SYNTHIA_256\\new_labels_100\\0002688.png   0.522873   \n",
       "\n",
       "   bottleneck_activations  \n",
       "0                     NaN  \n",
       "1                     NaN  \n",
       "2                     NaN  \n",
       "3                     NaN  \n",
       "4                     NaN  "
      ]
     },
     "execution_count": 40,
     "metadata": {},
     "output_type": "execute_result"
    }
   ],
   "source": [
    "df.head()"
   ]
  },
  {
   "cell_type": "code",
   "execution_count": 43,
   "id": "a1187687",
   "metadata": {},
   "outputs": [
    {
     "data": {
      "text/html": [
       "<div>\n",
       "<style scoped>\n",
       "    .dataframe tbody tr th:only-of-type {\n",
       "        vertical-align: middle;\n",
       "    }\n",
       "\n",
       "    .dataframe tbody tr th {\n",
       "        vertical-align: top;\n",
       "    }\n",
       "\n",
       "    .dataframe thead th {\n",
       "        text-align: right;\n",
       "    }\n",
       "</style>\n",
       "<table border=\"1\" class=\"dataframe\">\n",
       "  <thead>\n",
       "    <tr style=\"text-align: right;\">\n",
       "      <th></th>\n",
       "      <th>pca_1</th>\n",
       "      <th>pca_2</th>\n",
       "      <th>tsne_1</th>\n",
       "      <th>tsne_2</th>\n",
       "      <th>dataset</th>\n",
       "      <th>path</th>\n",
       "      <th>similar_name</th>\n",
       "      <th>similar_image_paths</th>\n",
       "      <th>similar_label_paths</th>\n",
       "      <th>IoU_score</th>\n",
       "      <th>bottleneck_activations</th>\n",
       "    </tr>\n",
       "  </thead>\n",
       "  <tbody>\n",
       "    <tr>\n",
       "      <th>0</th>\n",
       "      <td>2625.505731</td>\n",
       "      <td>-6238.133910</td>\n",
       "      <td>0.162255</td>\n",
       "      <td>2.424274</td>\n",
       "      <td>Cityscapes</td>\n",
       "      <td>dataset\\original_cityscapes_inputs\\14.jpeg</td>\n",
       "      <td>0002688.png</td>\n",
       "      <td>dataset\\SYNTHIA_256\\image\\0002688.png</td>\n",
       "      <td>dataset\\SYNTHIA_256\\new_labels_100\\0002688.png</td>\n",
       "      <td>0.475754</td>\n",
       "      <td>NaN</td>\n",
       "    </tr>\n",
       "    <tr>\n",
       "      <th>1</th>\n",
       "      <td>3934.173844</td>\n",
       "      <td>1301.542079</td>\n",
       "      <td>0.224811</td>\n",
       "      <td>-9.874747</td>\n",
       "      <td>Cityscapes</td>\n",
       "      <td>dataset\\original_cityscapes_inputs\\87.jpeg</td>\n",
       "      <td>0002688.png</td>\n",
       "      <td>dataset\\SYNTHIA_256\\image\\0002688.png</td>\n",
       "      <td>dataset\\SYNTHIA_256\\new_labels_100\\0002688.png</td>\n",
       "      <td>0.480301</td>\n",
       "      <td>NaN</td>\n",
       "    </tr>\n",
       "    <tr>\n",
       "      <th>2</th>\n",
       "      <td>5246.379128</td>\n",
       "      <td>-149.925287</td>\n",
       "      <td>2.077152</td>\n",
       "      <td>-5.325325</td>\n",
       "      <td>Cityscapes</td>\n",
       "      <td>dataset\\original_cityscapes_inputs\\189.jpeg</td>\n",
       "      <td>0004607.png</td>\n",
       "      <td>dataset\\SYNTHIA_256\\image\\0004607.png</td>\n",
       "      <td>dataset\\SYNTHIA_256\\new_labels_100\\0004607.png</td>\n",
       "      <td>0.653656</td>\n",
       "      <td>NaN</td>\n",
       "    </tr>\n",
       "    <tr>\n",
       "      <th>3</th>\n",
       "      <td>-2283.366499</td>\n",
       "      <td>-635.567715</td>\n",
       "      <td>-0.325244</td>\n",
       "      <td>-1.208278</td>\n",
       "      <td>Cityscapes</td>\n",
       "      <td>dataset\\original_cityscapes_inputs\\167.jpeg</td>\n",
       "      <td>0005291.png</td>\n",
       "      <td>dataset\\SYNTHIA_256\\image\\0005291.png</td>\n",
       "      <td>dataset\\SYNTHIA_256\\new_labels_100\\0005291.png</td>\n",
       "      <td>0.453262</td>\n",
       "      <td>NaN</td>\n",
       "    </tr>\n",
       "    <tr>\n",
       "      <th>4</th>\n",
       "      <td>2057.622061</td>\n",
       "      <td>-11766.691359</td>\n",
       "      <td>0.704434</td>\n",
       "      <td>2.569544</td>\n",
       "      <td>Cityscapes</td>\n",
       "      <td>dataset\\original_cityscapes_inputs\\439.jpeg</td>\n",
       "      <td>0002688.png</td>\n",
       "      <td>dataset\\SYNTHIA_256\\image\\0002688.png</td>\n",
       "      <td>dataset\\SYNTHIA_256\\new_labels_100\\0002688.png</td>\n",
       "      <td>0.522873</td>\n",
       "      <td>NaN</td>\n",
       "    </tr>\n",
       "  </tbody>\n",
       "</table>\n",
       "</div>"
      ],
      "text/plain": [
       "         pca_1         pca_2    tsne_1    tsne_2     dataset  \\\n",
       "0  2625.505731  -6238.133910  0.162255  2.424274  Cityscapes   \n",
       "1  3934.173844   1301.542079  0.224811 -9.874747  Cityscapes   \n",
       "2  5246.379128   -149.925287  2.077152 -5.325325  Cityscapes   \n",
       "3 -2283.366499   -635.567715 -0.325244 -1.208278  Cityscapes   \n",
       "4  2057.622061 -11766.691359  0.704434  2.569544  Cityscapes   \n",
       "\n",
       "                                          path similar_name  \\\n",
       "0   dataset\\original_cityscapes_inputs\\14.jpeg  0002688.png   \n",
       "1   dataset\\original_cityscapes_inputs\\87.jpeg  0002688.png   \n",
       "2  dataset\\original_cityscapes_inputs\\189.jpeg  0004607.png   \n",
       "3  dataset\\original_cityscapes_inputs\\167.jpeg  0005291.png   \n",
       "4  dataset\\original_cityscapes_inputs\\439.jpeg  0002688.png   \n",
       "\n",
       "                     similar_image_paths  \\\n",
       "0  dataset\\SYNTHIA_256\\image\\0002688.png   \n",
       "1  dataset\\SYNTHIA_256\\image\\0002688.png   \n",
       "2  dataset\\SYNTHIA_256\\image\\0004607.png   \n",
       "3  dataset\\SYNTHIA_256\\image\\0005291.png   \n",
       "4  dataset\\SYNTHIA_256\\image\\0002688.png   \n",
       "\n",
       "                              similar_label_paths  IoU_score  \\\n",
       "0  dataset\\SYNTHIA_256\\new_labels_100\\0002688.png   0.475754   \n",
       "1  dataset\\SYNTHIA_256\\new_labels_100\\0002688.png   0.480301   \n",
       "2  dataset\\SYNTHIA_256\\new_labels_100\\0004607.png   0.653656   \n",
       "3  dataset\\SYNTHIA_256\\new_labels_100\\0005291.png   0.453262   \n",
       "4  dataset\\SYNTHIA_256\\new_labels_100\\0002688.png   0.522873   \n",
       "\n",
       "  bottleneck_activations  \n",
       "0                    NaN  \n",
       "1                    NaN  \n",
       "2                    NaN  \n",
       "3                    NaN  \n",
       "4                    NaN  "
      ]
     },
     "execution_count": 43,
     "metadata": {},
     "output_type": "execute_result"
    }
   ],
   "source": [
    "df.head()"
   ]
  },
  {
   "cell_type": "markdown",
   "id": "eec6aadf",
   "metadata": {},
   "source": [
    "# Load model and data"
   ]
  },
  {
   "cell_type": "code",
   "execution_count": 44,
   "id": "eae3beec",
   "metadata": {},
   "outputs": [],
   "source": [
    "# check the input size for the Cityscapes Dataset by loading X_test, Y_test\n",
    "data_pth = \"D:\\zsh\\graduation\\Graduation-project-domain-shift-image-2-image\\dataset\\\\5_classes_preprocessed\"\n",
    "\n",
    "pickle_file = os.path.join(data_pth, \"validation_images.pkl\")\n",
    "with open(pickle_file, 'rb') as f:\n",
    "    X_test = pickle.load(f)\n",
    "    \n",
    "pickle_file = os.path.join(data_pth, \"validation_label_classes.pkl\")\n",
    "with open(pickle_file, 'rb') as f:\n",
    "    Y_test = pickle.load(f)"
   ]
  },
  {
   "cell_type": "code",
   "execution_count": null,
   "id": "c5750dbe",
   "metadata": {},
   "outputs": [],
   "source": [
    "# with open('synthia_label_100_classes.pkl', 'rb') as f:\n",
    "#     synthia_label_100_classes = pickle.load(f)"
   ]
  },
  {
   "cell_type": "code",
   "execution_count": 45,
   "id": "42c8fcd3",
   "metadata": {},
   "outputs": [
    {
     "name": "stdout",
     "output_type": "stream",
     "text": [
      "(500, 256, 256, 3)\n",
      "(500, 256, 256)\n"
     ]
    }
   ],
   "source": [
    "print(np.array(X_test).shape)\n",
    "print(np.array(Y_test).shape)"
   ]
  },
  {
   "cell_type": "code",
   "execution_count": 46,
   "id": "273e436c",
   "metadata": {},
   "outputs": [],
   "source": [
    "class CityscapesDataset(Dataset):\n",
    "    \n",
    "    def __init__(self, images, labels, noise_level = 0):\n",
    "        self.images = images\n",
    "        self.labels = labels\n",
    "        self.noise_level = noise_level\n",
    "        \n",
    "    def __len__(self):\n",
    "        return len(self.images)\n",
    "    \n",
    "    def __getitem__(self, index):\n",
    "        image = self.images[index]\n",
    "        label = self.labels[index]\n",
    "        if self.noise_level!=0:\n",
    "            image = image+(self.noise_level*np.random.normal(0, (image.max() - image.min()), image.shape)).astype(\"uint8\") # (mean, sigma, image_shape)\n",
    "        image = self.transform(image)\n",
    "        label = torch.from_numpy(label).long()\n",
    "        return image, label\n",
    "        \n",
    "    def transform(self, image):\n",
    "        transform_ops = transforms.Compose([\n",
    "            transforms.ToTensor(),\n",
    "            transforms.Normalize(mean=(0.485, 0.456, 0.406), std=(0.229, 0.224, 0.225)) # normalize to control the \"dynamic range\" of activations of different layers\n",
    "        ])\n",
    "        return transform_ops(image)"
   ]
  },
  {
   "cell_type": "code",
   "execution_count": 47,
   "id": "080c6cd8",
   "metadata": {},
   "outputs": [],
   "source": [
    "repo_path = \"D:\\zsh\\graduation\\\\Graduation-project-domain-shift-image-2-image\"\n",
    "# cityscapes_label_path = \"dataset\\\\cityscapes_labels_100\"\n",
    "cityscapes_images = []\n",
    "cityscapes_labels = []\n",
    "synthia_images = []\n",
    "synthia_labels = []\n",
    "\n",
    "for index,path in enumerate(df[\"path\"]):\n",
    "    full_path = os.path.join(repo_path,path)\n",
    "    dataset = df[\"dataset\"].iloc[index]\n",
    "    # parse to get the name of image\n",
    "    name = os.path.split(path)[1]\n",
    "    label_index = int(name.split(\".\")[0])\n",
    "    if dataset == \"Cityscapes\":\n",
    "        # image\n",
    "        img = Image.open(full_path)\n",
    "        img = np.array(img)\n",
    "        # label\n",
    "        label = Y_test[label_index]\n",
    "        label = np.array(label)\n",
    "        cityscapes_images.append(img)\n",
    "        cityscapes_labels.append(label)\n",
    "    elif dataset == \"Synthia\":\n",
    "        # image\n",
    "        img = Image.open(full_path)\n",
    "        img = np.array(img)\n",
    "        # label\n",
    "        label = synthia_label_100_classes[index-100]\n",
    "        label = np.array(label)\n",
    "        synthia_images.append(img)\n",
    "        synthia_labels.append(label)\n",
    "    "
   ]
  },
  {
   "cell_type": "code",
   "execution_count": 48,
   "id": "3641b8b3",
   "metadata": {},
   "outputs": [
    {
     "name": "stdout",
     "output_type": "stream",
     "text": [
      "(100, 256, 256, 3)\n",
      "(100, 256, 256, 3)\n"
     ]
    }
   ],
   "source": [
    "cityscapes_images = np.array(cityscapes_images)\n",
    "cityscapes_labels = np.array(cityscapes_labels)\n",
    "synthia_images = np.array(synthia_images)\n",
    "synthia_labels = np.array(synthia_labels)\n",
    "\n",
    "print(synthia_images.shape)\n",
    "print(synthia_images.shape)\n",
    "\n",
    "# load to Dataset class and DataLoader\n",
    "batch_size = 1\n",
    "cityscapes_dataset = CityscapesDataset(cityscapes_images, cityscapes_labels,noise_level=0)\n",
    "cityscapes_loader = DataLoader(cityscapes_dataset, batch_size=batch_size)\n",
    "\n",
    "synthia_dataset = CityscapesDataset(synthia_images, synthia_labels,noise_level=0)\n",
    "synthia_loader = DataLoader(synthia_dataset, batch_size=batch_size)"
   ]
  },
  {
   "cell_type": "markdown",
   "id": "21ace8f9",
   "metadata": {},
   "source": [
    "Load the UNet model"
   ]
  },
  {
   "cell_type": "code",
   "execution_count": 49,
   "id": "7b2cb194",
   "metadata": {},
   "outputs": [],
   "source": [
    "class UNet(nn.Module):\n",
    "    \n",
    "    def __init__(self, num_classes):\n",
    "        super(UNet, self).__init__()\n",
    "        self.num_classes = num_classes\n",
    "        self.contracting_11 = self.conv_block(in_channels=3, out_channels=64)\n",
    "        self.contracting_12 = nn.MaxPool2d(kernel_size=2, stride=2)\n",
    "        self.contracting_21 = self.conv_block(in_channels=64, out_channels=128)\n",
    "        self.contracting_22 = nn.MaxPool2d(kernel_size=2, stride=2)\n",
    "        self.contracting_31 = self.conv_block(in_channels=128, out_channels=256)\n",
    "        self.contracting_32 = nn.MaxPool2d(kernel_size=2, stride=2)\n",
    "        self.contracting_41 = self.conv_block(in_channels=256, out_channels=512)\n",
    "        self.contracting_42 = nn.MaxPool2d(kernel_size=2, stride=2)\n",
    "        self.middle = self.conv_block(in_channels=512, out_channels=1024)\n",
    "        self.expansive_11 = nn.ConvTranspose2d(in_channels=1024, out_channels=512, kernel_size=3, stride=2, padding=1, output_padding=1)\n",
    "        self.expansive_12 = self.conv_block(in_channels=1024, out_channels=512)\n",
    "        self.expansive_21 = nn.ConvTranspose2d(in_channels=512, out_channels=256, kernel_size=3, stride=2, padding=1, output_padding=1)\n",
    "        self.expansive_22 = self.conv_block(in_channels=512, out_channels=256)\n",
    "        self.expansive_31 = nn.ConvTranspose2d(in_channels=256, out_channels=128, kernel_size=3, stride=2, padding=1, output_padding=1)\n",
    "        self.expansive_32 = self.conv_block(in_channels=256, out_channels=128)\n",
    "        self.expansive_41 = nn.ConvTranspose2d(in_channels=128, out_channels=64, kernel_size=3, stride=2, padding=1, output_padding=1)\n",
    "        self.expansive_42 = self.conv_block(in_channels=128, out_channels=64)\n",
    "        self.output = nn.Conv2d(in_channels=64, out_channels=num_classes, kernel_size=3, stride=1, padding=1)\n",
    "        \n",
    "    def conv_block(self, in_channels, out_channels):\n",
    "        block = nn.Sequential(nn.Conv2d(in_channels=in_channels, out_channels=out_channels, kernel_size=3, stride=1, padding=1),\n",
    "                                    nn.ReLU(),\n",
    "                                    nn.BatchNorm2d(num_features=out_channels),\n",
    "                                    nn.Conv2d(in_channels=out_channels, out_channels=out_channels, kernel_size=3, stride=1, padding=1),\n",
    "                                    nn.ReLU(),\n",
    "                                    nn.BatchNorm2d(num_features=out_channels))\n",
    "        return block\n",
    "    \n",
    "    def forward(self, X):\n",
    "        contracting_11_out = self.contracting_11(X) # [-1, 64, 256, 256]\n",
    "        contracting_12_out = self.contracting_12(contracting_11_out) # [-1, 64, 128, 128]\n",
    "        contracting_21_out = self.contracting_21(contracting_12_out) # [-1, 128, 128, 128]\n",
    "        contracting_22_out = self.contracting_22(contracting_21_out) # [-1, 128, 64, 64]\n",
    "        contracting_31_out = self.contracting_31(contracting_22_out) # [-1, 256, 64, 64]\n",
    "        contracting_32_out = self.contracting_32(contracting_31_out) # [-1, 256, 32, 32]\n",
    "        contracting_41_out = self.contracting_41(contracting_32_out) # [-1, 512, 32, 32]\n",
    "        contracting_42_out = self.contracting_42(contracting_41_out) # [-1, 512, 16, 16]\n",
    "        middle_out = self.middle(contracting_42_out) # [-1, 1024, 16, 16]\n",
    "        expansive_11_out = self.expansive_11(middle_out) # [-1, 512, 32, 32]\n",
    "        expansive_12_out = self.expansive_12(torch.cat((expansive_11_out, contracting_41_out), dim=1)) # [-1, 1024, 32, 32] -> [-1, 512, 32, 32]\n",
    "        expansive_21_out = self.expansive_21(expansive_12_out) # [-1, 256, 64, 64]\n",
    "        expansive_22_out = self.expansive_22(torch.cat((expansive_21_out, contracting_31_out), dim=1)) # [-1, 512, 64, 64] -> [-1, 256, 64, 64]\n",
    "        expansive_31_out = self.expansive_31(expansive_22_out) # [-1, 128, 128, 128]\n",
    "        expansive_32_out = self.expansive_32(torch.cat((expansive_31_out, contracting_21_out), dim=1)) # [-1, 256, 128, 128] -> [-1, 128, 128, 128]\n",
    "        expansive_41_out = self.expansive_41(expansive_32_out) # [-1, 64, 256, 256]\n",
    "        expansive_42_out = self.expansive_42(torch.cat((expansive_41_out, contracting_11_out), dim=1)) # [-1, 128, 256, 256] -> [-1, 64, 256, 256]\n",
    "        output_out = self.output(expansive_42_out) # [-1, num_classes, 256, 256]\n",
    "        return output_out"
   ]
  },
  {
   "cell_type": "code",
   "execution_count": 50,
   "id": "657df2fd",
   "metadata": {},
   "outputs": [
    {
     "data": {
      "text/plain": [
       "<All keys matched successfully>"
      ]
     },
     "execution_count": 50,
     "metadata": {},
     "output_type": "execute_result"
    }
   ],
   "source": [
    "model_path = \"D:\\zsh\\graduation\\Graduation-project-domain-shift-image-2-image\\models\\\\5-classes-U-Net-2023-03-09.pth\"\n",
    "\n",
    "device = torch.device('cpu')\n",
    "model_ = UNet(num_classes=6).to(device)\n",
    "model_.load_state_dict(torch.load(model_path,map_location=device))"
   ]
  },
  {
   "cell_type": "code",
   "execution_count": 51,
   "id": "191a5854",
   "metadata": {},
   "outputs": [],
   "source": [
    "def getActivation(name):\n",
    "    # the hook signature\n",
    "    def hook(model, input, output):\n",
    "        activation[name] = output.detach()\n",
    "    return hook\n",
    "\n",
    "cityscapes_activations = []\n",
    "for image,label in cityscapes_loader:\n",
    "    activation = {}\n",
    "    h = model_.middle[3].register_forward_hook(getActivation(\"bottleneck\"))\n",
    "    out = model_(image)\n",
    "    h.remove()\n",
    "    instance_activation = activation[\"bottleneck\"]\n",
    "#     print(instance_activation.size())\n",
    "    # need to reshape\n",
    "    instance_activation_reshaped = instance_activation.clone().squeeze(0).reshape(256,1024).numpy()\n",
    "    cityscapes_activations.append(instance_activation_reshaped)\n",
    "#     print(instance_activation_reshaped.shape)"
   ]
  },
  {
   "cell_type": "code",
   "execution_count": 52,
   "id": "cdae29a5",
   "metadata": {},
   "outputs": [],
   "source": [
    "synthia_activations = []\n",
    "for image,label in synthia_loader:\n",
    "    activation = {}\n",
    "    h = model_.middle[3].register_forward_hook(getActivation(\"bottleneck\"))\n",
    "    out = model_(image)\n",
    "    h.remove()\n",
    "    instance_activation = activation[\"bottleneck\"]\n",
    "#     print(instance_activation.size())\n",
    "    # need to reshape\n",
    "    instance_activation_reshaped = instance_activation.clone().squeeze(0).reshape(256,1024).numpy()\n",
    "    synthia_activations.append(instance_activation_reshaped)"
   ]
  },
  {
   "cell_type": "code",
   "execution_count": 53,
   "id": "1fc8aed4",
   "metadata": {},
   "outputs": [
    {
     "data": {
      "text/plain": [
       "(100, 256, 1024)"
      ]
     },
     "execution_count": 53,
     "metadata": {},
     "output_type": "execute_result"
    }
   ],
   "source": [
    "cityscapes_activations = np.array(cityscapes_activations)\n",
    "cityscapes_activations.shape"
   ]
  },
  {
   "cell_type": "code",
   "execution_count": 54,
   "id": "baa44fa7",
   "metadata": {},
   "outputs": [
    {
     "data": {
      "text/plain": [
       "(100, 256, 1024)"
      ]
     },
     "execution_count": 54,
     "metadata": {},
     "output_type": "execute_result"
    }
   ],
   "source": [
    "synthia_activations = np.array(synthia_activations)\n",
    "synthia_activations.shape"
   ]
  },
  {
   "cell_type": "code",
   "execution_count": 55,
   "id": "fe82d8c3",
   "metadata": {},
   "outputs": [],
   "source": [
    "with open('cityscapes_activations.pkl', 'wb') as file:\n",
    "      \n",
    "    # A new file will be created\n",
    "    pickle.dump(cityscapes_activations, file)\n",
    "\n",
    "with open('synthia_activations.pkl', 'wb') as file:\n",
    "      \n",
    "    # A new file will be created\n",
    "    pickle.dump(synthia_activations, file)"
   ]
  },
  {
   "cell_type": "code",
   "execution_count": 2,
   "id": "ec68ea77",
   "metadata": {},
   "outputs": [],
   "source": [
    "# with open(\"cityscapes_activations.pkl\", 'rb') as f:\n",
    "#     cityscapes_activations = pickle.load(f)\n",
    "    \n",
    "# with open(\"synthia_activations.pkl\", 'rb') as f:\n",
    "#     synthia_activations = pickle.load(f)"
   ]
  },
  {
   "cell_type": "code",
   "execution_count": 56,
   "id": "8c37fa8e",
   "metadata": {},
   "outputs": [],
   "source": [
    "combined_activations = np.concatenate([cityscapes_activations,synthia_activations],axis =0)"
   ]
  },
  {
   "cell_type": "code",
   "execution_count": 57,
   "id": "874dd0e1",
   "metadata": {},
   "outputs": [
    {
     "data": {
      "text/plain": [
       "(200, 256, 1024)"
      ]
     },
     "execution_count": 57,
     "metadata": {},
     "output_type": "execute_result"
    }
   ],
   "source": [
    "combined_activations.shape"
   ]
  },
  {
   "cell_type": "code",
   "execution_count": 58,
   "id": "d5cab158",
   "metadata": {},
   "outputs": [
    {
     "data": {
      "text/plain": [
       "200"
      ]
     },
     "execution_count": 58,
     "metadata": {},
     "output_type": "execute_result"
    }
   ],
   "source": [
    "len(df)"
   ]
  },
  {
   "cell_type": "markdown",
   "id": "4e3404f3",
   "metadata": {},
   "source": [
    "# Dimensionality reduction"
   ]
  },
  {
   "cell_type": "markdown",
   "id": "b5854602",
   "metadata": {},
   "source": [
    "Generate embedding before putting it into df"
   ]
  },
  {
   "cell_type": "code",
   "execution_count": 72,
   "id": "1253a22e",
   "metadata": {},
   "outputs": [],
   "source": [
    "# function for reducing the dimensionality of an image\n",
    "def instance_dimenisonality_reduction(data, mode = \"pca_tsne\"):\n",
    "    # this part might need to be moved to the outside\n",
    "    # first reduce the dimension from 1024 to 50 with PCA\n",
    "    if mode == \"pca\":\n",
    "        pca = PCA(n_components=2)\n",
    "        embedded = pca.fit_transform(data)\n",
    "        print('Explained variation per principal component: {}'.format(pca.explained_variance_ratio_))\n",
    "    elif mode == \"tsne\":\n",
    "        embedded = TSNE(n_components=2).fit_transform(data)\n",
    "    elif mode == \"pca_tsne\":\n",
    "        pca = PCA(n_components=30)\n",
    "        pca_embedding = pca.fit_transform(data)\n",
    "        embedded = TSNE(n_components=2).fit_transform(pca_embedding)\n",
    "#         print('Explained variation per principal component: {}'.format(pca.explained_variance_ratio_))\n",
    "#         print(np.cumsum(pca.explained_variance_ratio_))\n",
    "    else:\n",
    "        print(\"Need to specify mode: pca or tsne\")\n",
    "        return 0\n",
    "    \n",
    "    return embedded"
   ]
  },
  {
   "cell_type": "code",
   "execution_count": 73,
   "id": "222cd66a",
   "metadata": {},
   "outputs": [],
   "source": [
    "embeddings = []\n",
    "for instance in combined_activations:\n",
    "    embedding = instance_dimenisonality_reduction(instance)\n",
    "    embeddings.append(embedding)\n",
    "\n",
    "embeddings = np.array(embeddings)"
   ]
  },
  {
   "cell_type": "code",
   "execution_count": 74,
   "id": "ef130364",
   "metadata": {},
   "outputs": [],
   "source": [
    "# save the embeddings for future use\n",
    "with open('activations_embeddings.pkl', 'wb') as file:\n",
    "      \n",
    "    # A new file will be created\n",
    "    pickle.dump(embeddings, file)"
   ]
  },
  {
   "cell_type": "code",
   "execution_count": 75,
   "id": "f88012a9",
   "metadata": {},
   "outputs": [
    {
     "data": {
      "text/plain": [
       "(200, 256, 1024)"
      ]
     },
     "execution_count": 75,
     "metadata": {},
     "output_type": "execute_result"
    }
   ],
   "source": [
    "combined_activations.shape"
   ]
  },
  {
   "cell_type": "code",
   "execution_count": 77,
   "id": "75898a60",
   "metadata": {},
   "outputs": [],
   "source": [
    "df[\"bottleneck_activations_embedding\"] = embeddings.tolist()"
   ]
  },
  {
   "cell_type": "code",
   "execution_count": 81,
   "id": "2b304feb",
   "metadata": {},
   "outputs": [
    {
     "data": {
      "text/html": [
       "<div>\n",
       "<style scoped>\n",
       "    .dataframe tbody tr th:only-of-type {\n",
       "        vertical-align: middle;\n",
       "    }\n",
       "\n",
       "    .dataframe tbody tr th {\n",
       "        vertical-align: top;\n",
       "    }\n",
       "\n",
       "    .dataframe thead th {\n",
       "        text-align: right;\n",
       "    }\n",
       "</style>\n",
       "<table border=\"1\" class=\"dataframe\">\n",
       "  <thead>\n",
       "    <tr style=\"text-align: right;\">\n",
       "      <th></th>\n",
       "      <th>pca_1</th>\n",
       "      <th>pca_2</th>\n",
       "      <th>tsne_1</th>\n",
       "      <th>tsne_2</th>\n",
       "      <th>dataset</th>\n",
       "      <th>path</th>\n",
       "      <th>similar_name</th>\n",
       "      <th>similar_image_paths</th>\n",
       "      <th>similar_label_paths</th>\n",
       "      <th>IoU_score</th>\n",
       "      <th>bottleneck_activations</th>\n",
       "      <th>bottleneck_activations_embedding</th>\n",
       "    </tr>\n",
       "  </thead>\n",
       "  <tbody>\n",
       "    <tr>\n",
       "      <th>0</th>\n",
       "      <td>2625.505731</td>\n",
       "      <td>-6238.133910</td>\n",
       "      <td>0.162255</td>\n",
       "      <td>2.424274</td>\n",
       "      <td>Cityscapes</td>\n",
       "      <td>dataset\\original_cityscapes_inputs\\14.jpeg</td>\n",
       "      <td>0002688.png</td>\n",
       "      <td>dataset\\SYNTHIA_256\\image\\0002688.png</td>\n",
       "      <td>dataset\\SYNTHIA_256\\new_labels_100\\0002688.png</td>\n",
       "      <td>0.475754</td>\n",
       "      <td>NaN</td>\n",
       "      <td>[[1.8898383378982544, 1.1155751943588257], [-5...</td>\n",
       "    </tr>\n",
       "    <tr>\n",
       "      <th>1</th>\n",
       "      <td>3934.173844</td>\n",
       "      <td>1301.542079</td>\n",
       "      <td>0.224811</td>\n",
       "      <td>-9.874747</td>\n",
       "      <td>Cityscapes</td>\n",
       "      <td>dataset\\original_cityscapes_inputs\\87.jpeg</td>\n",
       "      <td>0002688.png</td>\n",
       "      <td>dataset\\SYNTHIA_256\\image\\0002688.png</td>\n",
       "      <td>dataset\\SYNTHIA_256\\new_labels_100\\0002688.png</td>\n",
       "      <td>0.480301</td>\n",
       "      <td>NaN</td>\n",
       "      <td>[[0.19028380513191223, 2.180586814880371], [7....</td>\n",
       "    </tr>\n",
       "    <tr>\n",
       "      <th>2</th>\n",
       "      <td>5246.379128</td>\n",
       "      <td>-149.925287</td>\n",
       "      <td>2.077152</td>\n",
       "      <td>-5.325325</td>\n",
       "      <td>Cityscapes</td>\n",
       "      <td>dataset\\original_cityscapes_inputs\\189.jpeg</td>\n",
       "      <td>0004607.png</td>\n",
       "      <td>dataset\\SYNTHIA_256\\image\\0004607.png</td>\n",
       "      <td>dataset\\SYNTHIA_256\\new_labels_100\\0004607.png</td>\n",
       "      <td>0.653656</td>\n",
       "      <td>NaN</td>\n",
       "      <td>[[-11.183615684509277, -3.835369110107422], [-...</td>\n",
       "    </tr>\n",
       "    <tr>\n",
       "      <th>3</th>\n",
       "      <td>-2283.366499</td>\n",
       "      <td>-635.567715</td>\n",
       "      <td>-0.325244</td>\n",
       "      <td>-1.208278</td>\n",
       "      <td>Cityscapes</td>\n",
       "      <td>dataset\\original_cityscapes_inputs\\167.jpeg</td>\n",
       "      <td>0005291.png</td>\n",
       "      <td>dataset\\SYNTHIA_256\\image\\0005291.png</td>\n",
       "      <td>dataset\\SYNTHIA_256\\new_labels_100\\0005291.png</td>\n",
       "      <td>0.453262</td>\n",
       "      <td>NaN</td>\n",
       "      <td>[[-3.408116102218628, -6.009547710418701], [-5...</td>\n",
       "    </tr>\n",
       "    <tr>\n",
       "      <th>4</th>\n",
       "      <td>2057.622061</td>\n",
       "      <td>-11766.691359</td>\n",
       "      <td>0.704434</td>\n",
       "      <td>2.569544</td>\n",
       "      <td>Cityscapes</td>\n",
       "      <td>dataset\\original_cityscapes_inputs\\439.jpeg</td>\n",
       "      <td>0002688.png</td>\n",
       "      <td>dataset\\SYNTHIA_256\\image\\0002688.png</td>\n",
       "      <td>dataset\\SYNTHIA_256\\new_labels_100\\0002688.png</td>\n",
       "      <td>0.522873</td>\n",
       "      <td>NaN</td>\n",
       "      <td>[[-0.2733990252017975, -5.647787094116211], [-...</td>\n",
       "    </tr>\n",
       "  </tbody>\n",
       "</table>\n",
       "</div>"
      ],
      "text/plain": [
       "         pca_1         pca_2    tsne_1    tsne_2     dataset  \\\n",
       "0  2625.505731  -6238.133910  0.162255  2.424274  Cityscapes   \n",
       "1  3934.173844   1301.542079  0.224811 -9.874747  Cityscapes   \n",
       "2  5246.379128   -149.925287  2.077152 -5.325325  Cityscapes   \n",
       "3 -2283.366499   -635.567715 -0.325244 -1.208278  Cityscapes   \n",
       "4  2057.622061 -11766.691359  0.704434  2.569544  Cityscapes   \n",
       "\n",
       "                                          path similar_name  \\\n",
       "0   dataset\\original_cityscapes_inputs\\14.jpeg  0002688.png   \n",
       "1   dataset\\original_cityscapes_inputs\\87.jpeg  0002688.png   \n",
       "2  dataset\\original_cityscapes_inputs\\189.jpeg  0004607.png   \n",
       "3  dataset\\original_cityscapes_inputs\\167.jpeg  0005291.png   \n",
       "4  dataset\\original_cityscapes_inputs\\439.jpeg  0002688.png   \n",
       "\n",
       "                     similar_image_paths  \\\n",
       "0  dataset\\SYNTHIA_256\\image\\0002688.png   \n",
       "1  dataset\\SYNTHIA_256\\image\\0002688.png   \n",
       "2  dataset\\SYNTHIA_256\\image\\0004607.png   \n",
       "3  dataset\\SYNTHIA_256\\image\\0005291.png   \n",
       "4  dataset\\SYNTHIA_256\\image\\0002688.png   \n",
       "\n",
       "                              similar_label_paths  IoU_score  \\\n",
       "0  dataset\\SYNTHIA_256\\new_labels_100\\0002688.png   0.475754   \n",
       "1  dataset\\SYNTHIA_256\\new_labels_100\\0002688.png   0.480301   \n",
       "2  dataset\\SYNTHIA_256\\new_labels_100\\0004607.png   0.653656   \n",
       "3  dataset\\SYNTHIA_256\\new_labels_100\\0005291.png   0.453262   \n",
       "4  dataset\\SYNTHIA_256\\new_labels_100\\0002688.png   0.522873   \n",
       "\n",
       "  bottleneck_activations                   bottleneck_activations_embedding  \n",
       "0                    NaN  [[1.8898383378982544, 1.1155751943588257], [-5...  \n",
       "1                    NaN  [[0.19028380513191223, 2.180586814880371], [7....  \n",
       "2                    NaN  [[-11.183615684509277, -3.835369110107422], [-...  \n",
       "3                    NaN  [[-3.408116102218628, -6.009547710418701], [-5...  \n",
       "4                    NaN  [[-0.2733990252017975, -5.647787094116211], [-...  "
      ]
     },
     "execution_count": 81,
     "metadata": {},
     "output_type": "execute_result"
    }
   ],
   "source": [
    "df.head()"
   ]
  },
  {
   "cell_type": "code",
   "execution_count": 82,
   "id": "4102a1d8",
   "metadata": {},
   "outputs": [],
   "source": [
    "df.to_csv(\"df_linked.csv\",index=False)"
   ]
  },
  {
   "cell_type": "code",
   "execution_count": 83,
   "id": "43961843",
   "metadata": {},
   "outputs": [
    {
     "data": {
      "text/plain": [
       "array([[[  1.8898383 ,   1.1155752 ],\n",
       "        [ -5.0258646 ,  -2.5032105 ],\n",
       "        [ -5.012864  ,   7.722998  ],\n",
       "        ...,\n",
       "        [ -6.6282363 ,  -3.7369747 ],\n",
       "        [  6.69353   ,  -8.197266  ],\n",
       "        [ 13.603943  ,  -0.26343578]],\n",
       "\n",
       "       [[  0.1902838 ,   2.1805868 ],\n",
       "        [  7.837532  ,  -1.5901432 ],\n",
       "        [ -1.2136091 ,  -1.875444  ],\n",
       "        ...,\n",
       "        [ 16.438566  ,  -4.5652833 ],\n",
       "        [ -5.695369  ,  -4.6528883 ],\n",
       "        [ -6.8936667 ,  13.268232  ]],\n",
       "\n",
       "       [[-11.183616  ,  -3.835369  ],\n",
       "        [ -1.7804009 ,   1.2482502 ],\n",
       "        [ -4.8562856 ,  13.35659   ],\n",
       "        ...,\n",
       "        [  3.1348999 ,  -0.67187697],\n",
       "        [ 18.306137  ,  -7.8755465 ],\n",
       "        [-12.724665  , -17.52808   ]],\n",
       "\n",
       "       ...,\n",
       "\n",
       "       [[-10.850699  ,  -1.5585119 ],\n",
       "        [ -3.7833648 ,  -8.068903  ],\n",
       "        [  1.1235105 ,   4.5092797 ],\n",
       "        ...,\n",
       "        [ -1.0383126 ,  -6.5747423 ],\n",
       "        [ -8.392109  ,  10.888018  ],\n",
       "        [-12.007097  ,   9.036607  ]],\n",
       "\n",
       "       [[  8.4163685 ,  -2.9568949 ],\n",
       "        [ -0.33383125,  -0.41638336],\n",
       "        [  6.6701    ,  11.428257  ],\n",
       "        ...,\n",
       "        [ -4.762327  ,   3.8752606 ],\n",
       "        [ -6.1948013 ,  -1.2863849 ],\n",
       "        [ 12.241774  ,  -1.0729395 ]],\n",
       "\n",
       "       [[ -2.0210648 ,   2.4221694 ],\n",
       "        [ -7.3222494 ,   6.959281  ],\n",
       "        [  3.720232  ,  -0.37872094],\n",
       "        ...,\n",
       "        [ 10.764109  ,   0.4822216 ],\n",
       "        [ -2.9453464 ,  -5.9589696 ],\n",
       "        [-12.594427  ,  -0.7142007 ]]], dtype=float32)"
      ]
     },
     "execution_count": 83,
     "metadata": {},
     "output_type": "execute_result"
    }
   ],
   "source": [
    "embeddings"
   ]
  },
  {
   "cell_type": "code",
   "execution_count": null,
   "id": "6c83fffd",
   "metadata": {},
   "outputs": [],
   "source": [
    "200* 256*2"
   ]
  }
 ],
 "metadata": {
  "kernelspec": {
   "display_name": "Python 3",
   "language": "python",
   "name": "python3"
  },
  "language_info": {
   "codemirror_mode": {
    "name": "ipython",
    "version": 3
   },
   "file_extension": ".py",
   "mimetype": "text/x-python",
   "name": "python",
   "nbconvert_exporter": "python",
   "pygments_lexer": "ipython3",
   "version": "3.6.5"
  }
 },
 "nbformat": 4,
 "nbformat_minor": 5
}
