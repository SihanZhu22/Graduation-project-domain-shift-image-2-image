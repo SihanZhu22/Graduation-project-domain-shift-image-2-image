{
 "cells": [
  {
   "cell_type": "code",
   "execution_count": 1,
   "id": "47891df3",
   "metadata": {},
   "outputs": [],
   "source": [
    "from PIL import Image\n",
    "import numpy as np\n",
    "import os\n",
    "import pickle\n",
    "import random\n",
    "import matplotlib.pyplot as plt\n",
    "import pandas as pd\n",
    "import seaborn as sns\n",
    "\n",
    "from sklearn.decomposition import PCA\n",
    "from sklearn.manifold import TSNE\n",
    "\n",
    "# Use IoU instead\n",
    "# import re\n",
    "from scipy.spatial.distance import cdist"
   ]
  },
  {
   "cell_type": "markdown",
   "id": "f6bf6ffc",
   "metadata": {},
   "source": [
    "# Load image and labels"
   ]
  },
  {
   "cell_type": "code",
   "execution_count": 2,
   "id": "2b054bff",
   "metadata": {},
   "outputs": [],
   "source": [
    "resize_image_path_synthia = \"D:\\zsh\\graduation\\Graduation-project-domain-shift-image-2-image\\dataset\\SYNTHIA_256\\image\"\n",
    "resize_label_path_synthia = \"D:\\zsh\\graduation\\Graduation-project-domain-shift-image-2-image\\dataset\\SYNTHIA_256\\label-rgb\"\n",
    "\n",
    "cityscapes_path = \"D:\\zsh\\graduation\\Graduation-project-domain-shift-image-2-image\\dataset\\original_cityscapes_inputs\""
   ]
  },
  {
   "cell_type": "code",
   "execution_count": 3,
   "id": "530cc0c7",
   "metadata": {},
   "outputs": [],
   "source": [
    "# get relative path for both datasets, because global path is not allowed (\"Not allowed to load local resource\")\n",
    "start = \"D:\\zsh\\graduation\\Graduation-project-domain-shift-image-2-image\"\n",
    "relative_path_cityscapes = os.path.relpath(cityscapes_path, start)\n",
    "relative_path_synthia = os.path.relpath(resize_image_path_synthia, start)"
   ]
  },
  {
   "cell_type": "code",
   "execution_count": 4,
   "id": "143883d6",
   "metadata": {},
   "outputs": [],
   "source": [
    "# labels of cityscapes\n",
    "pickle_file = os.path.join(\"D:\\zsh\\graduation\\Graduation-project-domain-shift-image-2-image\\dataset\\\\5_classes_preprocessed\", \"validation_label_classes.pkl\")\n",
    "with open(pickle_file, 'rb') as f:\n",
    "    Y_test = pickle.load(f)\n",
    "    \n",
    "cityscapes_labels = np.array(Y_test)"
   ]
  },
  {
   "cell_type": "code",
   "execution_count": 6,
   "id": "11ba38d8",
   "metadata": {},
   "outputs": [],
   "source": [
    "# Cityscapes\n",
    "# import the pickle \n",
    "cityscapes_100 = []\n",
    "cityscapes_path_100 = []\n",
    "cityscapes_labels_100= []\n",
    "\n",
    "cityscapes_names= os.listdir(cityscapes_path)\n",
    "random.seed(55)\n",
    "cityscapes_names_100 = random.sample(cityscapes_names,100)\n",
    "for name in cityscapes_names_100:\n",
    "    image = Image.open(cityscapes_path+\"\\\\\"+name).convert(\"RGB\")\n",
    "    cityscapes_100.append(np.array(image))\n",
    "    cityscapes_path_100.append(relative_path_cityscapes+\"\\\\\"+name)\n",
    "    ind = int(name.split('.')[0])\n",
    "    label = cityscapes_labels[ind]\n",
    "    cityscapes_labels_100.append(label)\n",
    "\n",
    "cityscapes_100 = np.array(cityscapes_100)\n",
    "cityscapes_path_100 = np.array(cityscapes_path_100)\n",
    "cityscapes_labels_100= np.array(cityscapes_labels_100)\n",
    "\n",
    "# pickle_file = \"D:\\zsh\\graduation\\graduation_dataset\\\\5_classes_preprocessed\\\\validation_images.pkl\"\n",
    "# with open(pickle_file, 'rb') as f:\n",
    "#     cityscapes_images = pickle.load(f)\n",
    "# # randomly select images 100 out of the 500\n",
    "# cityscapes_100 = random.choices(cityscapes_images, k=100)\n",
    "# cityscapes_100 = np.array(cityscapes_100)"
   ]
  },
  {
   "cell_type": "code",
   "execution_count": 7,
   "id": "d76da7c0",
   "metadata": {},
   "outputs": [],
   "source": [
    "# synthia\n",
    "\n",
    "synthia_100 = []\n",
    "synthia_path_100 =[]\n",
    "synthia_label_100_initial = []\n",
    "\n",
    "synthia_names = os.listdir(resize_image_path_synthia)\n",
    "# randomly select 100 images to load in to numpy array\n",
    "random.seed(55)\n",
    "synthia_names_100 = random.sample(synthia_names,150)\n",
    "for name in synthia_names_100:\n",
    "#     print(name)\n",
    "#     print(resize_image_path_synthia)\n",
    "#     print(resize_image_path_synthia+\"\\\\\"+name)\n",
    "    image = Image.open(resize_image_path_synthia+\"\\\\\"+name).convert(\"RGB\")\n",
    "    \n",
    "    synthia_100.append(np.array(image))\n",
    "    synthia_path_100.append(relative_path_synthia+\"\\\\\"+name)\n",
    "    label = Image.open(resize_label_path_synthia+\"\\\\\"+name).convert(\"RGB\")\n",
    "    synthia_label_100_initial.append(np.array(label))\n",
    "\n",
    "synthia_100 = np.array(synthia_100)\n",
    "synthia_path_100 = np.array(synthia_path_100)\n",
    "synthia_label_100_initial = np.array(synthia_label_100_initial)"
   ]
  },
  {
   "cell_type": "markdown",
   "id": "4c711e39",
   "metadata": {},
   "source": [
    "# Synthia: Transform label images to classes"
   ]
  },
  {
   "cell_type": "code",
   "execution_count": 8,
   "id": "c7871520",
   "metadata": {},
   "outputs": [],
   "source": [
    "synthia_colors = [[  0,   0,   0], # void\n",
    "         [70,130, 180], # sky\n",
    "         [70,70,70], # building\n",
    "        [128, 64, 128], # road\n",
    "        [244, 35, 232], # sidewalk\n",
    "         [64,64,128], # fense\n",
    "         [107,142,35], # vegetation\t\n",
    "        [153, 153, 153], # pole\n",
    "        [0, 0, 142], # car\n",
    "        [220, 220, 0],  # traffic sign\n",
    "        [220, 20, 60], # pedestrian\n",
    "        [119, 11, 32], # bicycle\n",
    "        [0, 0, 230], # motorcycle\n",
    "        [250,170,160], # parking-slot\n",
    "        [128,64,64], # road-work\n",
    "        [250,170,30], # traffic light\n",
    "        [152, 251, 152], # terrain\n",
    "        [255, 0, 0], # rider\n",
    "        [0, 0, 70], # truck\n",
    "        [0, 60, 100], # bus\n",
    "        [0, 80, 100], # train\n",
    "        [102, 102, 156]# wall, lanemarking\n",
    "    ]\n",
    "\n",
    "\n",
    "category_map = {\n",
    "    0: 0,\n",
    "    1: 4,\n",
    "    2: 0,\n",
    "    3: 1,\n",
    "    4: 2,\n",
    "    5: 0,\n",
    "    6: 3,\n",
    "    7: 0,\n",
    "    8: 5,\n",
    "    9: 0,\n",
    "    10: 0,\n",
    "    11: 0,\n",
    "    12: 0,\n",
    "    13: 0,\n",
    "    14: 0,\n",
    "    15: 0,\n",
    "    16: 0,\n",
    "    17: 0,\n",
    "    18: 0,\n",
    "    19: 0,\n",
    "    20: 0,\n",
    "    21: 0}"
   ]
  },
  {
   "cell_type": "code",
   "execution_count": 9,
   "id": "8f79270d",
   "metadata": {},
   "outputs": [],
   "source": [
    "# color to class\n",
    "def color_to_class(label):\n",
    "    # create new empty mask\n",
    "    mask = np.zeros(shape=(label.shape[0], label.shape[1]), dtype = np.int32)\n",
    "    # iterate through two dimensions\n",
    "    for row in range(label.shape[0]):\n",
    "        for col in range(label.shape[1]):\n",
    "            a = label[row, col,:]\n",
    "            # distance between this pixel and the original pixel\n",
    "            d = cdist(np.array([a]),np.array(synthia_colors))\n",
    "            idx = np.argmin(d)\n",
    "            new_idx = category_map[idx]\n",
    "            mask[row, col] = new_idx\n",
    "    mask = np.reshape(mask, (mask.shape[0], mask.shape[1]))\n",
    "    return mask"
   ]
  },
  {
   "cell_type": "code",
   "execution_count": 10,
   "id": "bc86de66",
   "metadata": {},
   "outputs": [],
   "source": [
    "def transform_masks_synthia(labels):\n",
    "    masks = []\n",
    "    for label in labels:\n",
    "        mask = color_to_class(label)\n",
    "        masks.append(mask)\n",
    "    masks = np.array(masks)\n",
    "\n",
    "    return masks"
   ]
  },
  {
   "cell_type": "markdown",
   "id": "2527b067",
   "metadata": {},
   "source": [
    "Load the saved labels (alternatively could regenerate labels)"
   ]
  },
  {
   "cell_type": "code",
   "execution_count": 13,
   "id": "52a629ea",
   "metadata": {},
   "outputs": [],
   "source": [
    "synthia_label_100_classes = transform_masks_synthia(synthia_label_100_initial)"
   ]
  },
  {
   "cell_type": "code",
   "execution_count": 14,
   "id": "8a1aa71f",
   "metadata": {},
   "outputs": [],
   "source": [
    "# save a pickle file to save times for \n",
    "\n",
    "with open('synthia_label_100_classes.pkl', 'wb') as file:\n",
    "      \n",
    "    # A new file will be created\n",
    "    pickle.dump(synthia_label_100_classes, file)\n",
    "\n",
    "# with open('synthia_label_100_classes.pkl', 'rb') as f:\n",
    "#     synthia_label_100_classes = pickle.load(f)\n"
   ]
  },
  {
   "cell_type": "code",
   "execution_count": 17,
   "id": "b598a6ff",
   "metadata": {},
   "outputs": [],
   "source": [
    "# class to color: useful for displaying the similar images later\n",
    "colors = [[  0,   0,   0],\n",
    "          [128, 64, 128],# road\n",
    "          [244, 35, 232], # sidewalk\n",
    "          [107, 142, 35],# vegetation\n",
    "          [70, 130, 180], # sky\n",
    "          [0, 0, 142], # car\n",
    "         ]\n",
    "\n",
    "def class_to_color(labels):\n",
    "    label_colors = np.zeros((256,256,3))\n",
    "    \n",
    "    for i,row in enumerate(labels):\n",
    "        for j,pixel in enumerate(row):\n",
    "            label_colors[i,j] = colors[pixel]\n",
    "    \n",
    "    return label_colors.astype(int)  # make each pixel value an integer to visualize it better"
   ]
  },
  {
   "cell_type": "markdown",
   "id": "9df5d044",
   "metadata": {},
   "source": [
    "Generate and save labels for the subset for later"
   ]
  },
  {
   "cell_type": "code",
   "execution_count": 18,
   "id": "5dae77b6",
   "metadata": {},
   "outputs": [],
   "source": [
    "# # for generating coherent labels for the random subset (cityscapes)\n",
    "save_labels_path_cityscapes = \"D:\\zsh\\graduation\\Graduation-project-domain-shift-image-2-image\\dataset\\cityscapes_labels_100\"\n",
    "for i in range(100):\n",
    "    name = cityscapes_names_100[i]\n",
    "    label = cityscapes_labels_100[i]\n",
    "    label_color = class_to_color(label)\n",
    "    label_image = Image.fromarray(label_color.astype(np.uint8))\n",
    "    label_image.save(save_labels_path_cityscapes+\"\\\\\"+name)"
   ]
  },
  {
   "cell_type": "code",
   "execution_count": 19,
   "id": "8ec76183",
   "metadata": {},
   "outputs": [],
   "source": [
    "save_labels_path_synthia = \"D:\\zsh\\graduation\\Graduation-project-domain-shift-image-2-image\\dataset\\SYNTHIA_256\\\\new_labels_100\"\n",
    "for i in range(100):\n",
    "    name = synthia_names_100[i]\n",
    "    label = synthia_label_100_classes[i]\n",
    "    label_color = class_to_color(label)\n",
    "#     print(label_color.dtype)\n",
    "#     print(label_color)\n",
    "    label_image = Image.fromarray(label_color.astype(np.uint8))\n",
    "    label_image.save(save_labels_path_synthia+\"\\\\\"+name)"
   ]
  },
  {
   "cell_type": "code",
   "execution_count": 20,
   "id": "7e48202b",
   "metadata": {},
   "outputs": [],
   "source": [
    "start = \"D:\\zsh\\graduation\\Graduation-project-domain-shift-image-2-image\"\n",
    "relative_path_cityscapes_labels = os.path.relpath(save_labels_path_cityscapes, start)\n",
    "relative_path_synthia_labels = os.path.relpath(save_labels_path_synthia, start)"
   ]
  },
  {
   "cell_type": "code",
   "execution_count": 21,
   "id": "ae403697",
   "metadata": {},
   "outputs": [],
   "source": [
    "# find the cityscapes images with mimimal distance to citiscapes images\n",
    "def most_similar_mask(instance, data,mode = \"IoU\"):\n",
    "#     nodes = np.asarray(nodes)\n",
    "    # Euclidean distance calculation\n",
    "    if mode == \"IoU\":\n",
    "        iou_list = []\n",
    "        for new_instance in data:\n",
    "#             the original IoU methods were not good because when both class is 0, the intersection won't count it\n",
    "#             intersection = np.logical_and(instance, new_instance)\n",
    "#             union = np.logical_or(instance, new_instance)\n",
    "            intersection = len(np.where(instance == new_instance)[0])\n",
    "            union = instance.shape[0]*instance.shape[1]\n",
    "#             print(intersection)\n",
    "#             print(union)\n",
    "            iou_score = intersection / union\n",
    "            iou_list.append(iou_score)\n",
    "        iou_arr = np.array(iou_list)\n",
    "        best_index = np.argmax(iou_arr)\n",
    "        best_score = iou_arr[best_index]\n",
    "    \n",
    "    return best_index, best_score"
   ]
  },
  {
   "cell_type": "code",
   "execution_count": 22,
   "id": "86adb0d1",
   "metadata": {},
   "outputs": [
    {
     "name": "stdout",
     "output_type": "stream",
     "text": [
      "256\n",
      "(150, 256, 256)\n"
     ]
    }
   ],
   "source": [
    "print(cityscapes_labels_100[0].shape[1])\n",
    "print(synthia_label_100_classes.shape)"
   ]
  },
  {
   "cell_type": "markdown",
   "id": "d1be3da7",
   "metadata": {},
   "source": [
    "TODO:\n",
    "make this a dictionary"
   ]
  },
  {
   "cell_type": "code",
   "execution_count": 23,
   "id": "3a6a1eaf",
   "metadata": {},
   "outputs": [],
   "source": [
    "cityscapes_similar_100_names = []\n",
    "cityscapes_similar_100_image_paths = [] # relative paths to the cityscapes images\n",
    "cityscapes_similar_100_labels = []\n",
    "cityscapes_similar_100_label_paths = []\n",
    "cityscapes_similar_100_scores = []\n",
    "\n",
    "for label in cityscapes_labels_100:\n",
    "    image_index_synthia,similar_score = most_similar_mask(label,synthia_label_100_classes)\n",
    "#     print(label.shape)\n",
    "#     print(synthia_label_100_classes.shape)\n",
    "#     print(image_index_synthia)\n",
    "    name = synthia_names_100[image_index_synthia]\n",
    "    image_path = synthia_path_100[image_index_synthia]\n",
    "    label_path = relative_path_synthia_labels+\"\\\\\"+name\n",
    "    label = synthia_label_100_classes[image_index_synthia]\n",
    "    \n",
    "    cityscapes_similar_100_names.append(name)\n",
    "    cityscapes_similar_100_image_paths.append(image_path)\n",
    "    cityscapes_similar_100_labels.append(label)\n",
    "    cityscapes_similar_100_label_paths.append(label_path)\n",
    "    cityscapes_similar_100_scores.append(similar_score)\n",
    "\n",
    "cityscapes_similar_100_labels= np.array(cityscapes_similar_100_labels)\n",
    "cityscapes_similar_100_scores = np.array(cityscapes_similar_100_scores)"
   ]
  },
  {
   "cell_type": "code",
   "execution_count": 24,
   "id": "d112f6ec",
   "metadata": {},
   "outputs": [
    {
     "name": "stdout",
     "output_type": "stream",
     "text": [
      "(array([ 2,  6, 13, 16, 18, 21, 24, 29, 33, 36, 38, 40, 41, 42, 43, 47, 50,\n",
      "       51, 57, 59, 61, 65, 66, 67, 68, 74, 77, 83, 91, 92, 95, 97, 99],\n",
      "      dtype=int64),)\n"
     ]
    }
   ],
   "source": [
    "print(np.where((cityscapes_similar_100_scores>0.6)))"
   ]
  },
  {
   "cell_type": "code",
   "execution_count": 25,
   "id": "81ac0ff5",
   "metadata": {},
   "outputs": [],
   "source": [
    "# synthia_similar_100_names = []\n",
    "# synthia_similar_100_paths = [] # relative paths to the synthia images\n",
    "# for label in synthia_label_100_classes:\n",
    "#     image_index_cityscapes = most_similar_mask(label,cityscapes_labels_100)\n",
    "#     name = cityscapes_names_100[image_index_cityscapes]\n",
    "#     path = cityscapes_path_100[image_index_cityscapes]\n",
    "#     synthia_similar_100_names.append(name)\n",
    "#     synthia_similar_100_paths.append(path)\n",
    "\n",
    "synthia_similar_100_names = []\n",
    "synthia_similar_100_image_paths = [] # relative paths to the cityscapes images\n",
    "synthia_similar_100_labels = []\n",
    "synthia_similar_100_label_paths = []\n",
    "synthia_similar_100_scores = []\n",
    "\n",
    "for label in synthia_label_100_classes:\n",
    "    image_index_cityscapes,similar_score = most_similar_mask(label,cityscapes_labels_100)\n",
    "    name = cityscapes_names_100[image_index_cityscapes]\n",
    "    image_path = cityscapes_path_100[image_index_cityscapes]\n",
    "    label = cityscapes_labels_100[image_index_cityscapes]\n",
    "    label_path = relative_path_cityscapes_labels+\"\\\\\"+name\n",
    "    synthia_similar_100_names.append(name)\n",
    "    synthia_similar_100_image_paths.append(image_path)\n",
    "    synthia_similar_100_labels.append(label)\n",
    "    synthia_similar_100_label_paths.append(label_path)\n",
    "    synthia_similar_100_scores.append(similar_score)\n",
    "\n",
    "synthia_similar_100_labels= np.array(synthia_similar_100_labels)\n",
    "synthia_similar_100_scores = np.array(synthia_similar_100_scores)"
   ]
  },
  {
   "cell_type": "code",
   "execution_count": 26,
   "id": "26913be7",
   "metadata": {},
   "outputs": [
    {
     "data": {
      "text/plain": [
       "(256, 256)"
      ]
     },
     "execution_count": 26,
     "metadata": {},
     "output_type": "execute_result"
    }
   ],
   "source": [
    "cityscapes_similar_100_labels[0].shape"
   ]
  },
  {
   "cell_type": "code",
   "execution_count": 43,
   "id": "914041d1",
   "metadata": {},
   "outputs": [
    {
     "name": "stdout",
     "output_type": "stream",
     "text": [
      "[43 50 51 57 68 74 99]\n",
      "0.8092041015625\n",
      "0.772186279296875\n",
      "0.807220458984375\n",
      "0.809783935546875\n",
      "0.7834014892578125\n",
      "0.7004241943359375\n"
     ]
    },
    {
     "data": {
      "image/png": "[encoded data removed]",
      "text/plain": [
       "<Figure size 432x288 with 2 Axes>"
      ]
     },
     "metadata": {
      "needs_background": "light"
     },
     "output_type": "display_data"
    },
    {
     "data": {
      "image/png": "[encoded data removed]",
      "text/plain": [
       "<Figure size 432x288 with 2 Axes>"
      ]
     },
     "metadata": {
      "needs_background": "light"
     },
     "output_type": "display_data"
    },
    {
     "data": {
      "image/png": "[encoded data removed]",
      "text/plain": [
       "<Figure size 432x288 with 2 Axes>"
      ]
     },
     "metadata": {
      "needs_background": "light"
     },
     "output_type": "display_data"
    },
    {
     "data": {
      "image/png": "[encoded data removed]",
      "text/plain": [
       "<Figure size 432x288 with 2 Axes>"
      ]
     },
     "metadata": {
      "needs_background": "light"
     },
     "output_type": "display_data"
    },
    {
     "data": {
      "image/png": "[encoded data removed]",
      "text/plain": [
       "<Figure size 432x288 with 2 Axes>"
      ]
     },
     "metadata": {
      "needs_background": "light"
     },
     "output_type": "display_data"
    },
    {
     "data": {
      "image/png": "[encoded data removed]",
      "text/plain": [
       "<Figure size 432x288 with 2 Axes>"
      ]
     },
     "metadata": {
      "needs_background": "light"
     },
     "output_type": "display_data"
    }
   ],
   "source": [
    "threshold = 0.65\n",
    "indices = np.where((cityscapes_similar_100_scores>0.7))[0]\n",
    "print(indices)\n",
    "count = 0\n",
    "for i in indices:\n",
    "    cityscapes_similar_100_labels[i].shape\n",
    "    synthia_label = class_to_color(cityscapes_similar_100_labels[i])\n",
    "    cityscapes_label = class_to_color(cityscapes_labels_100[i])\n",
    "    print(cityscapes_similar_100_scores[i])\n",
    "\n",
    "    fig, (ax1, ax2) = plt.subplots(1, 2)\n",
    "    ax1.imshow(cityscapes_label)\n",
    "    ax2.imshow(synthia_label)\n",
    "    count +=1\n",
    "    if count>5: \n",
    "        break"
   ]
  },
  {
   "cell_type": "markdown",
   "id": "b47b24d3",
   "metadata": {},
   "source": [
    "# Embedding for the input （pca and tsne）"
   ]
  },
  {
   "cell_type": "code",
   "execution_count": 28,
   "id": "1abcbefb",
   "metadata": {},
   "outputs": [],
   "source": [
    "num_images = 100"
   ]
  },
  {
   "cell_type": "code",
   "execution_count": 29,
   "id": "9225c502",
   "metadata": {},
   "outputs": [],
   "source": [
    "# concatenate the images and the paths from two different dataset\n",
    "combined_embedding = np.concatenate((cityscapes_100,synthia_100),axis=0)\n",
    "combined_embedding = np.reshape(combined_embedding,(len(combined_embedding), 256*256*3))\n",
    "\n",
    "combined_paths = np.concatenate((cityscapes_path_100,synthia_path_100),axis=0)"
   ]
  },
  {
   "cell_type": "code",
   "execution_count": 30,
   "id": "7a9ab53a",
   "metadata": {},
   "outputs": [],
   "source": [
    "pca = PCA(n_components=2)\n",
    "pca_embedding = pca.fit_transform(combined_embedding)\n",
    "# print(pca.explained_variance_ratio_)\n",
    "\n",
    "df_pca = pd.DataFrame(pca_embedding,columns=[\"pca_1\",\"pca_2\"])"
   ]
  },
  {
   "cell_type": "code",
   "execution_count": 31,
   "id": "9140babb",
   "metadata": {},
   "outputs": [
    {
     "name": "stdout",
     "output_type": "stream",
     "text": [
      "0.7771112410436303\n"
     ]
    },
    {
     "data": {
      "text/html": [
       "<div>\n",
       "<style scoped>\n",
       "    .dataframe tbody tr th:only-of-type {\n",
       "        vertical-align: middle;\n",
       "    }\n",
       "\n",
       "    .dataframe tbody tr th {\n",
       "        vertical-align: top;\n",
       "    }\n",
       "\n",
       "    .dataframe thead th {\n",
       "        text-align: right;\n",
       "    }\n",
       "</style>\n",
       "<table border=\"1\" class=\"dataframe\">\n",
       "  <thead>\n",
       "    <tr style=\"text-align: right;\">\n",
       "      <th></th>\n",
       "      <th>tsne_1</th>\n",
       "      <th>tsne_2</th>\n",
       "    </tr>\n",
       "  </thead>\n",
       "  <tbody>\n",
       "    <tr>\n",
       "      <th>0</th>\n",
       "      <td>0.786381</td>\n",
       "      <td>-5.751820</td>\n",
       "    </tr>\n",
       "    <tr>\n",
       "      <th>1</th>\n",
       "      <td>-5.247579</td>\n",
       "      <td>4.741427</td>\n",
       "    </tr>\n",
       "    <tr>\n",
       "      <th>2</th>\n",
       "      <td>-5.738930</td>\n",
       "      <td>1.250532</td>\n",
       "    </tr>\n",
       "    <tr>\n",
       "      <th>3</th>\n",
       "      <td>-0.506370</td>\n",
       "      <td>-2.337746</td>\n",
       "    </tr>\n",
       "    <tr>\n",
       "      <th>4</th>\n",
       "      <td>0.527758</td>\n",
       "      <td>-6.337439</td>\n",
       "    </tr>\n",
       "  </tbody>\n",
       "</table>\n",
       "</div>"
      ],
      "text/plain": [
       "     tsne_1    tsne_2\n",
       "0  0.786381 -5.751820\n",
       "1 -5.247579  4.741427\n",
       "2 -5.738930  1.250532\n",
       "3 -0.506370 -2.337746\n",
       "4  0.527758 -6.337439"
      ]
     },
     "execution_count": 31,
     "metadata": {},
     "output_type": "execute_result"
    }
   ],
   "source": [
    "pca_50 = PCA(n_components=50)\n",
    "pca_embedding = pca_50.fit_transform(combined_embedding)\n",
    "print(np.sum(pca_50.explained_variance_ratio_))\n",
    "tsne = TSNE()\n",
    "tsne_embedding = tsne.fit_transform(pca_embedding)\n",
    "\n",
    "df_tsne = pd.DataFrame(tsne_embedding,columns=[\"tsne_1\",\"tsne_2\"])\n",
    "df_tsne.head()"
   ]
  },
  {
   "cell_type": "code",
   "execution_count": 32,
   "id": "1765dba6",
   "metadata": {},
   "outputs": [
    {
     "name": "stderr",
     "output_type": "stream",
     "text": [
      "d:\\zsh\\graduation\\grad_env_take_2\\lib\\site-packages\\pandas\\core\\indexing.py:670: SettingWithCopyWarning: \n",
      "A value is trying to be set on a copy of a slice from a DataFrame\n",
      "\n",
      "See the caveats in the documentation: https://pandas.pydata.org/pandas-docs/stable/user_guide/indexing.html#returning-a-view-versus-a-copy\n",
      "  iloc._setitem_with_indexer(indexer, value)\n"
     ]
    }
   ],
   "source": [
    "df = pd.concat([df_pca, df_tsne], axis=1)\n",
    "df[\"dataset\"] =np.nan\n",
    "df[\"path\"] = combined_paths\n",
    "\n",
    "# mark the dataset name\n",
    "df[\"dataset\"].iloc[:num_images] = \"Cityscapes\"\n",
    "df[\"dataset\"].iloc[num_images:] = \"Synthia\""
   ]
  },
  {
   "cell_type": "code",
   "execution_count": 33,
   "id": "16426660",
   "metadata": {},
   "outputs": [],
   "source": [
    "df_cityscapes = df.iloc[:num_images,:]\n",
    "df_synthia = df.iloc[num_images:,:]"
   ]
  },
  {
   "cell_type": "code",
   "execution_count": 34,
   "id": "7fc70c8f",
   "metadata": {},
   "outputs": [
    {
     "data": {
      "text/plain": [
       "(150, 256, 256)"
      ]
     },
     "execution_count": 34,
     "metadata": {},
     "output_type": "execute_result"
    }
   ],
   "source": [
    "synthia_similar_100_labels.shape"
   ]
  },
  {
   "cell_type": "code",
   "execution_count": 35,
   "id": "5cf69e0f",
   "metadata": {},
   "outputs": [
    {
     "name": "stderr",
     "output_type": "stream",
     "text": [
      "d:\\zsh\\graduation\\grad_env_take_2\\lib\\site-packages\\ipykernel_launcher.py:1: SettingWithCopyWarning: \n",
      "A value is trying to be set on a copy of a slice from a DataFrame.\n",
      "Try using .loc[row_indexer,col_indexer] = value instead\n",
      "\n",
      "See the caveats in the documentation: https://pandas.pydata.org/pandas-docs/stable/user_guide/indexing.html#returning-a-view-versus-a-copy\n",
      "  \"\"\"Entry point for launching an IPython kernel.\n",
      "d:\\zsh\\graduation\\grad_env_take_2\\lib\\site-packages\\ipykernel_launcher.py:2: SettingWithCopyWarning: \n",
      "A value is trying to be set on a copy of a slice from a DataFrame.\n",
      "Try using .loc[row_indexer,col_indexer] = value instead\n",
      "\n",
      "See the caveats in the documentation: https://pandas.pydata.org/pandas-docs/stable/user_guide/indexing.html#returning-a-view-versus-a-copy\n",
      "  \n",
      "d:\\zsh\\graduation\\grad_env_take_2\\lib\\site-packages\\ipykernel_launcher.py:3: SettingWithCopyWarning: \n",
      "A value is trying to be set on a copy of a slice from a DataFrame.\n",
      "Try using .loc[row_indexer,col_indexer] = value instead\n",
      "\n",
      "See the caveats in the documentation: https://pandas.pydata.org/pandas-docs/stable/user_guide/indexing.html#returning-a-view-versus-a-copy\n",
      "  This is separate from the ipykernel package so we can avoid doing imports until\n",
      "d:\\zsh\\graduation\\grad_env_take_2\\lib\\site-packages\\ipykernel_launcher.py:4: SettingWithCopyWarning: \n",
      "A value is trying to be set on a copy of a slice from a DataFrame.\n",
      "Try using .loc[row_indexer,col_indexer] = value instead\n",
      "\n",
      "See the caveats in the documentation: https://pandas.pydata.org/pandas-docs/stable/user_guide/indexing.html#returning-a-view-versus-a-copy\n",
      "  after removing the cwd from sys.path.\n"
     ]
    }
   ],
   "source": [
    "df_synthia[\"similar_name\"] = synthia_similar_100_names\n",
    "df_synthia[\"similar_image_paths\"] =synthia_similar_100_image_paths\n",
    "df_synthia[\"similar_label_paths\"] = synthia_similar_100_label_paths\n",
    "df_synthia[\"IoU_score\"]=synthia_similar_100_scores"
   ]
  },
  {
   "cell_type": "code",
   "execution_count": 36,
   "id": "5b745925",
   "metadata": {},
   "outputs": [
    {
     "data": {
      "text/html": [
       "<div>\n",
       "<style scoped>\n",
       "    .dataframe tbody tr th:only-of-type {\n",
       "        vertical-align: middle;\n",
       "    }\n",
       "\n",
       "    .dataframe tbody tr th {\n",
       "        vertical-align: top;\n",
       "    }\n",
       "\n",
       "    .dataframe thead th {\n",
       "        text-align: right;\n",
       "    }\n",
       "</style>\n",
       "<table border=\"1\" class=\"dataframe\">\n",
       "  <thead>\n",
       "    <tr style=\"text-align: right;\">\n",
       "      <th></th>\n",
       "      <th>pca_1</th>\n",
       "      <th>pca_2</th>\n",
       "      <th>tsne_1</th>\n",
       "      <th>tsne_2</th>\n",
       "      <th>dataset</th>\n",
       "      <th>path</th>\n",
       "      <th>similar_name</th>\n",
       "      <th>similar_image_paths</th>\n",
       "      <th>similar_label_paths</th>\n",
       "      <th>IoU_score</th>\n",
       "    </tr>\n",
       "  </thead>\n",
       "  <tbody>\n",
       "    <tr>\n",
       "      <th>100</th>\n",
       "      <td>-15404.164974</td>\n",
       "      <td>-2149.842325</td>\n",
       "      <td>8.899217</td>\n",
       "      <td>0.683241</td>\n",
       "      <td>Synthia</td>\n",
       "      <td>dataset\\SYNTHIA_256\\image\\0001480.png</td>\n",
       "      <td>237.jpeg</td>\n",
       "      <td>dataset\\original_cityscapes_inputs\\237.jpeg</td>\n",
       "      <td>dataset\\cityscapes_labels_100\\237.jpeg</td>\n",
       "      <td>0.435898</td>\n",
       "    </tr>\n",
       "    <tr>\n",
       "      <th>101</th>\n",
       "      <td>-18665.561276</td>\n",
       "      <td>1163.392650</td>\n",
       "      <td>10.611006</td>\n",
       "      <td>3.238011</td>\n",
       "      <td>Synthia</td>\n",
       "      <td>dataset\\SYNTHIA_256\\image\\0003215.png</td>\n",
       "      <td>188.jpeg</td>\n",
       "      <td>dataset\\original_cityscapes_inputs\\188.jpeg</td>\n",
       "      <td>dataset\\cityscapes_labels_100\\188.jpeg</td>\n",
       "      <td>0.492340</td>\n",
       "    </tr>\n",
       "    <tr>\n",
       "      <th>102</th>\n",
       "      <td>-16573.747274</td>\n",
       "      <td>2489.736906</td>\n",
       "      <td>10.875667</td>\n",
       "      <td>3.952422</td>\n",
       "      <td>Synthia</td>\n",
       "      <td>dataset\\SYNTHIA_256\\image\\0002457.png</td>\n",
       "      <td>147.jpeg</td>\n",
       "      <td>dataset\\original_cityscapes_inputs\\147.jpeg</td>\n",
       "      <td>dataset\\cityscapes_labels_100\\147.jpeg</td>\n",
       "      <td>0.487686</td>\n",
       "    </tr>\n",
       "    <tr>\n",
       "      <th>103</th>\n",
       "      <td>-14744.651408</td>\n",
       "      <td>-4469.167078</td>\n",
       "      <td>8.942293</td>\n",
       "      <td>-0.297214</td>\n",
       "      <td>Synthia</td>\n",
       "      <td>dataset\\SYNTHIA_256\\image\\0004959.png</td>\n",
       "      <td>101.jpeg</td>\n",
       "      <td>dataset\\original_cityscapes_inputs\\101.jpeg</td>\n",
       "      <td>dataset\\cityscapes_labels_100\\101.jpeg</td>\n",
       "      <td>0.587204</td>\n",
       "    </tr>\n",
       "    <tr>\n",
       "      <th>104</th>\n",
       "      <td>-3468.833608</td>\n",
       "      <td>18113.538418</td>\n",
       "      <td>3.939224</td>\n",
       "      <td>6.841429</td>\n",
       "      <td>Synthia</td>\n",
       "      <td>dataset\\SYNTHIA_256\\image\\0001305.png</td>\n",
       "      <td>423.jpeg</td>\n",
       "      <td>dataset\\original_cityscapes_inputs\\423.jpeg</td>\n",
       "      <td>dataset\\cityscapes_labels_100\\423.jpeg</td>\n",
       "      <td>0.536331</td>\n",
       "    </tr>\n",
       "  </tbody>\n",
       "</table>\n",
       "</div>"
      ],
      "text/plain": [
       "            pca_1         pca_2     tsne_1    tsne_2  dataset  \\\n",
       "100 -15404.164974  -2149.842325   8.899217  0.683241  Synthia   \n",
       "101 -18665.561276   1163.392650  10.611006  3.238011  Synthia   \n",
       "102 -16573.747274   2489.736906  10.875667  3.952422  Synthia   \n",
       "103 -14744.651408  -4469.167078   8.942293 -0.297214  Synthia   \n",
       "104  -3468.833608  18113.538418   3.939224  6.841429  Synthia   \n",
       "\n",
       "                                      path similar_name  \\\n",
       "100  dataset\\SYNTHIA_256\\image\\0001480.png     237.jpeg   \n",
       "101  dataset\\SYNTHIA_256\\image\\0003215.png     188.jpeg   \n",
       "102  dataset\\SYNTHIA_256\\image\\0002457.png     147.jpeg   \n",
       "103  dataset\\SYNTHIA_256\\image\\0004959.png     101.jpeg   \n",
       "104  dataset\\SYNTHIA_256\\image\\0001305.png     423.jpeg   \n",
       "\n",
       "                             similar_image_paths  \\\n",
       "100  dataset\\original_cityscapes_inputs\\237.jpeg   \n",
       "101  dataset\\original_cityscapes_inputs\\188.jpeg   \n",
       "102  dataset\\original_cityscapes_inputs\\147.jpeg   \n",
       "103  dataset\\original_cityscapes_inputs\\101.jpeg   \n",
       "104  dataset\\original_cityscapes_inputs\\423.jpeg   \n",
       "\n",
       "                        similar_label_paths  IoU_score  \n",
       "100  dataset\\cityscapes_labels_100\\237.jpeg   0.435898  \n",
       "101  dataset\\cityscapes_labels_100\\188.jpeg   0.492340  \n",
       "102  dataset\\cityscapes_labels_100\\147.jpeg   0.487686  \n",
       "103  dataset\\cityscapes_labels_100\\101.jpeg   0.587204  \n",
       "104  dataset\\cityscapes_labels_100\\423.jpeg   0.536331  "
      ]
     },
     "execution_count": 36,
     "metadata": {},
     "output_type": "execute_result"
    }
   ],
   "source": [
    "df_synthia.head()"
   ]
  },
  {
   "cell_type": "code",
   "execution_count": 37,
   "id": "80c5b291",
   "metadata": {},
   "outputs": [
    {
     "name": "stderr",
     "output_type": "stream",
     "text": [
      "d:\\zsh\\graduation\\grad_env_take_2\\lib\\site-packages\\ipykernel_launcher.py:1: SettingWithCopyWarning: \n",
      "A value is trying to be set on a copy of a slice from a DataFrame.\n",
      "Try using .loc[row_indexer,col_indexer] = value instead\n",
      "\n",
      "See the caveats in the documentation: https://pandas.pydata.org/pandas-docs/stable/user_guide/indexing.html#returning-a-view-versus-a-copy\n",
      "  \"\"\"Entry point for launching an IPython kernel.\n",
      "d:\\zsh\\graduation\\grad_env_take_2\\lib\\site-packages\\ipykernel_launcher.py:2: SettingWithCopyWarning: \n",
      "A value is trying to be set on a copy of a slice from a DataFrame.\n",
      "Try using .loc[row_indexer,col_indexer] = value instead\n",
      "\n",
      "See the caveats in the documentation: https://pandas.pydata.org/pandas-docs/stable/user_guide/indexing.html#returning-a-view-versus-a-copy\n",
      "  \n",
      "d:\\zsh\\graduation\\grad_env_take_2\\lib\\site-packages\\ipykernel_launcher.py:3: SettingWithCopyWarning: \n",
      "A value is trying to be set on a copy of a slice from a DataFrame.\n",
      "Try using .loc[row_indexer,col_indexer] = value instead\n",
      "\n",
      "See the caveats in the documentation: https://pandas.pydata.org/pandas-docs/stable/user_guide/indexing.html#returning-a-view-versus-a-copy\n",
      "  This is separate from the ipykernel package so we can avoid doing imports until\n",
      "d:\\zsh\\graduation\\grad_env_take_2\\lib\\site-packages\\ipykernel_launcher.py:4: SettingWithCopyWarning: \n",
      "A value is trying to be set on a copy of a slice from a DataFrame.\n",
      "Try using .loc[row_indexer,col_indexer] = value instead\n",
      "\n",
      "See the caveats in the documentation: https://pandas.pydata.org/pandas-docs/stable/user_guide/indexing.html#returning-a-view-versus-a-copy\n",
      "  after removing the cwd from sys.path.\n"
     ]
    }
   ],
   "source": [
    "df_cityscapes[\"similar_name\"] = cityscapes_similar_100_names\n",
    "df_cityscapes[\"similar_image_paths\"] =cityscapes_similar_100_image_paths\n",
    "df_cityscapes[\"similar_label_paths\"] = cityscapes_similar_100_label_paths\n",
    "df_cityscapes[\"IoU_score\"]=cityscapes_similar_100_scores"
   ]
  },
  {
   "cell_type": "code",
   "execution_count": 38,
   "id": "b73dc6ed",
   "metadata": {},
   "outputs": [
    {
     "data": {
      "text/html": [
       "<div>\n",
       "<style scoped>\n",
       "    .dataframe tbody tr th:only-of-type {\n",
       "        vertical-align: middle;\n",
       "    }\n",
       "\n",
       "    .dataframe tbody tr th {\n",
       "        vertical-align: top;\n",
       "    }\n",
       "\n",
       "    .dataframe thead th {\n",
       "        text-align: right;\n",
       "    }\n",
       "</style>\n",
       "<table border=\"1\" class=\"dataframe\">\n",
       "  <thead>\n",
       "    <tr style=\"text-align: right;\">\n",
       "      <th></th>\n",
       "      <th>pca_1</th>\n",
       "      <th>pca_2</th>\n",
       "      <th>tsne_1</th>\n",
       "      <th>tsne_2</th>\n",
       "      <th>dataset</th>\n",
       "      <th>path</th>\n",
       "      <th>similar_name</th>\n",
       "      <th>similar_image_paths</th>\n",
       "      <th>similar_label_paths</th>\n",
       "      <th>IoU_score</th>\n",
       "    </tr>\n",
       "  </thead>\n",
       "  <tbody>\n",
       "    <tr>\n",
       "      <th>0</th>\n",
       "      <td>3269.979255</td>\n",
       "      <td>-6667.838714</td>\n",
       "      <td>0.786381</td>\n",
       "      <td>-5.751820</td>\n",
       "      <td>Cityscapes</td>\n",
       "      <td>dataset\\original_cityscapes_inputs\\14.jpeg</td>\n",
       "      <td>0002688.png</td>\n",
       "      <td>dataset\\SYNTHIA_256\\image\\0002688.png</td>\n",
       "      <td>dataset\\SYNTHIA_256\\new_labels_100\\0002688.png</td>\n",
       "      <td>0.475754</td>\n",
       "    </tr>\n",
       "    <tr>\n",
       "      <th>1</th>\n",
       "      <td>5784.425763</td>\n",
       "      <td>2545.306338</td>\n",
       "      <td>-5.247579</td>\n",
       "      <td>4.741427</td>\n",
       "      <td>Cityscapes</td>\n",
       "      <td>dataset\\original_cityscapes_inputs\\87.jpeg</td>\n",
       "      <td>0002688.png</td>\n",
       "      <td>dataset\\SYNTHIA_256\\image\\0002688.png</td>\n",
       "      <td>dataset\\SYNTHIA_256\\new_labels_100\\0002688.png</td>\n",
       "      <td>0.480301</td>\n",
       "    </tr>\n",
       "    <tr>\n",
       "      <th>2</th>\n",
       "      <td>6760.294852</td>\n",
       "      <td>88.007172</td>\n",
       "      <td>-5.738930</td>\n",
       "      <td>1.250532</td>\n",
       "      <td>Cityscapes</td>\n",
       "      <td>dataset\\original_cityscapes_inputs\\189.jpeg</td>\n",
       "      <td>0004607.png</td>\n",
       "      <td>dataset\\SYNTHIA_256\\image\\0004607.png</td>\n",
       "      <td>dataset\\SYNTHIA_256\\new_labels_100\\0004607.png</td>\n",
       "      <td>0.653656</td>\n",
       "    </tr>\n",
       "    <tr>\n",
       "      <th>3</th>\n",
       "      <td>-852.511960</td>\n",
       "      <td>-1063.299505</td>\n",
       "      <td>-0.506370</td>\n",
       "      <td>-2.337746</td>\n",
       "      <td>Cityscapes</td>\n",
       "      <td>dataset\\original_cityscapes_inputs\\167.jpeg</td>\n",
       "      <td>0005291.png</td>\n",
       "      <td>dataset\\SYNTHIA_256\\image\\0005291.png</td>\n",
       "      <td>dataset\\SYNTHIA_256\\new_labels_100\\0005291.png</td>\n",
       "      <td>0.453262</td>\n",
       "    </tr>\n",
       "    <tr>\n",
       "      <th>4</th>\n",
       "      <td>2671.823273</td>\n",
       "      <td>-12162.158767</td>\n",
       "      <td>0.527758</td>\n",
       "      <td>-6.337439</td>\n",
       "      <td>Cityscapes</td>\n",
       "      <td>dataset\\original_cityscapes_inputs\\439.jpeg</td>\n",
       "      <td>0004775.png</td>\n",
       "      <td>dataset\\SYNTHIA_256\\image\\0004775.png</td>\n",
       "      <td>dataset\\SYNTHIA_256\\new_labels_100\\0004775.png</td>\n",
       "      <td>0.538010</td>\n",
       "    </tr>\n",
       "  </tbody>\n",
       "</table>\n",
       "</div>"
      ],
      "text/plain": [
       "         pca_1         pca_2    tsne_1    tsne_2     dataset  \\\n",
       "0  3269.979255  -6667.838714  0.786381 -5.751820  Cityscapes   \n",
       "1  5784.425763   2545.306338 -5.247579  4.741427  Cityscapes   \n",
       "2  6760.294852     88.007172 -5.738930  1.250532  Cityscapes   \n",
       "3  -852.511960  -1063.299505 -0.506370 -2.337746  Cityscapes   \n",
       "4  2671.823273 -12162.158767  0.527758 -6.337439  Cityscapes   \n",
       "\n",
       "                                          path similar_name  \\\n",
       "0   dataset\\original_cityscapes_inputs\\14.jpeg  0002688.png   \n",
       "1   dataset\\original_cityscapes_inputs\\87.jpeg  0002688.png   \n",
       "2  dataset\\original_cityscapes_inputs\\189.jpeg  0004607.png   \n",
       "3  dataset\\original_cityscapes_inputs\\167.jpeg  0005291.png   \n",
       "4  dataset\\original_cityscapes_inputs\\439.jpeg  0004775.png   \n",
       "\n",
       "                     similar_image_paths  \\\n",
       "0  dataset\\SYNTHIA_256\\image\\0002688.png   \n",
       "1  dataset\\SYNTHIA_256\\image\\0002688.png   \n",
       "2  dataset\\SYNTHIA_256\\image\\0004607.png   \n",
       "3  dataset\\SYNTHIA_256\\image\\0005291.png   \n",
       "4  dataset\\SYNTHIA_256\\image\\0004775.png   \n",
       "\n",
       "                              similar_label_paths  IoU_score  \n",
       "0  dataset\\SYNTHIA_256\\new_labels_100\\0002688.png   0.475754  \n",
       "1  dataset\\SYNTHIA_256\\new_labels_100\\0002688.png   0.480301  \n",
       "2  dataset\\SYNTHIA_256\\new_labels_100\\0004607.png   0.653656  \n",
       "3  dataset\\SYNTHIA_256\\new_labels_100\\0005291.png   0.453262  \n",
       "4  dataset\\SYNTHIA_256\\new_labels_100\\0004775.png   0.538010  "
      ]
     },
     "execution_count": 38,
     "metadata": {},
     "output_type": "execute_result"
    }
   ],
   "source": [
    "df_cityscapes.head()"
   ]
  },
  {
   "cell_type": "code",
   "execution_count": 39,
   "id": "e58b568f",
   "metadata": {},
   "outputs": [],
   "source": [
    "df = pd.concat([df_cityscapes, df_synthia], axis=0)"
   ]
  },
  {
   "cell_type": "code",
   "execution_count": 40,
   "id": "7a4d8023",
   "metadata": {},
   "outputs": [
    {
     "data": {
      "text/plain": [
       "<AxesSubplot:xlabel='tsne_1', ylabel='tsne_2'>"
      ]
     },
     "execution_count": 40,
     "metadata": {},
     "output_type": "execute_result"
    },
    {
     "data": {
      "image/png": "[encoded data removed]",
      "text/plain": [
       "<Figure size 576x360 with 1 Axes>"
      ]
     },
     "metadata": {
      "needs_background": "light"
     },
     "output_type": "display_data"
    }
   ],
   "source": [
    "plt.figure(figsize=(8,5))\n",
    "sns.scatterplot(\n",
    "    x=\"tsne_1\", y=\"tsne_2\",\n",
    "    hue=\"dataset\", # see if this need to be changed\n",
    "    palette=sns.color_palette(\"hls\", 2), # palette corresponds to hue\n",
    "    data=df # df_tsne_1 or df_tsne_2\n",
    ")"
   ]
  },
  {
   "cell_type": "code",
   "execution_count": 41,
   "id": "1888a16a",
   "metadata": {},
   "outputs": [],
   "source": [
    "df.to_csv(\"input_df_similarity_v2.csv\",index=False)"
   ]
  },
  {
   "cell_type": "markdown",
   "id": "f38152ab",
   "metadata": {},
   "source": [
    "# Link to model activations"
   ]
  },
  {
   "cell_type": "code",
   "execution_count": null,
   "id": "83f149a7",
   "metadata": {},
   "outputs": [],
   "source": []
  }
 ],
 "metadata": {
  "kernelspec": {
   "display_name": "Python 3",
   "language": "python",
   "name": "python3"
  },
  "language_info": {
   "codemirror_mode": {
    "name": "ipython",
    "version": 3
   },
   "file_extension": ".py",
   "mimetype": "text/x-python",
   "name": "python",
   "nbconvert_exporter": "python",
   "pygments_lexer": "ipython3",
   "version": "3.6.5"
  }
 },
 "nbformat": 4,
 "nbformat_minor": 5
}
