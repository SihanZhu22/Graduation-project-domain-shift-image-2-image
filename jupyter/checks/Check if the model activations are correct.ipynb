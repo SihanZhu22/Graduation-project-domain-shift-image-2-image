{
 "cells": [
  {
   "cell_type": "code",
   "execution_count": 1,
   "id": "c5db8a9b",
   "metadata": {},
   "outputs": [
    {
     "name": "stderr",
     "output_type": "stream",
     "text": [
      "D:\\zsh\\graduation\\grad_env_take_2\\lib\\site-packages\\tqdm\\auto.py:22: TqdmWarning: IProgress not found. Please update jupyter and ipywidgets. See https://ipywidgets.readthedocs.io/en/stable/user_install.html\n",
      "  from .autonotebook import tqdm as notebook_tqdm\n"
     ]
    }
   ],
   "source": [
    "from PIL import Image\n",
    "import numpy as np\n",
    "import os\n",
    "import pickle\n",
    "import random\n",
    "import matplotlib.pyplot as plt\n",
    "import pandas as pd\n",
    "import seaborn as sns\n",
    "\n",
    "from sklearn.decomposition import PCA\n",
    "from sklearn.manifold import TSNE\n",
    "\n",
    "from torch.utils.data import Dataset, DataLoader\n",
    "import torch\n",
    "import torch.nn as nn\n",
    "from torchvision import transforms\n",
    "from tqdm import tqdm\n",
    "\n",
    "# Use IoU instead\n",
    "# import re\n",
    "from scipy.spatial.distance import cdist\n",
    "from skimage.transform import resize"
   ]
  },
  {
   "cell_type": "code",
   "execution_count": 4,
   "id": "e656428e",
   "metadata": {},
   "outputs": [],
   "source": [
    "# path of the image folders for the model\n",
    "image_path_cityscapes = \"D:\\zsh\\graduation\\Graduation-project-domain-shift-image-2-image\\dataset\\original_cityscapes_inputs\"\n",
    "image_path_synthia = \"D:\\zsh\\graduation\\Graduation-project-domain-shift-image-2-image\\dataset\\SYNTHIA_256\\image\"\n",
    "\n",
    "# path of image folders for displaying in the system\n",
    "\n",
    "start = \"D:\\zsh\\graduation\\Graduation-project-domain-shift-image-2-image\"\n",
    "relative_img_path_cityscapes = os.path.relpath(image_path_cityscapes, start)\n",
    "relative_img_path_synthia = os.path.relpath(image_path_synthia, start)"
   ]
  },
  {
   "cell_type": "code",
   "execution_count": 8,
   "id": "8ce84f39",
   "metadata": {},
   "outputs": [],
   "source": [
    "pickle_file = os.path.join(\"D:\\zsh\\graduation\\Graduation-project-domain-shift-image-2-image\\dataset\\\\5_classes_preprocessed\", \"validation_label_classes.pkl\")\n",
    "with open(pickle_file, 'rb') as f:\n",
    "    Y_test = pickle.load(f)\n",
    "    \n",
    "cityscapes_labels = np.array(Y_test)"
   ]
  },
  {
   "cell_type": "code",
   "execution_count": 5,
   "id": "1c1ab81c",
   "metadata": {},
   "outputs": [],
   "source": [
    "sample_number = 10"
   ]
  },
  {
   "cell_type": "code",
   "execution_count": 6,
   "id": "55af767b",
   "metadata": {},
   "outputs": [],
   "source": [
    "cityscapes_names= os.listdir(image_path_cityscapes)\n",
    "random.seed(55)\n",
    "cityscapes_names_sample = random.sample(cityscapes_names,sample_number)"
   ]
  },
  {
   "cell_type": "code",
   "execution_count": 11,
   "id": "1a6dd888",
   "metadata": {},
   "outputs": [],
   "source": [
    "cityscapes_labels_sample= []\n",
    "cityscapes_label_path_sample = []\n",
    "\n",
    "for name in cityscapes_names_sample:\n",
    "    ind = int(name.split('.')[0]) # todo: change this for other names\n",
    "    label = cityscapes_labels[ind]\n",
    "    \n",
    "    cityscapes_labels_sample.append(label)\n",
    "\n",
    "cityscapes_labels_sample = np.array(cityscapes_labels_sample)\n",
    "\n"
   ]
  },
  {
   "attachments": {},
   "cell_type": "markdown",
   "id": "381a09d2",
   "metadata": {},
   "source": [
    "Cityscapes"
   ]
  },
  {
   "cell_type": "code",
   "execution_count": 12,
   "id": "18b62925",
   "metadata": {},
   "outputs": [],
   "source": [
    "class CityscapesDataset(Dataset):\n",
    "    \n",
    "    def __init__(self, images, labels, noise_level = 0):\n",
    "        self.images = images\n",
    "        self.labels = labels\n",
    "        self.noise_level = noise_level\n",
    "        \n",
    "    def __len__(self):\n",
    "        return len(self.images)\n",
    "    \n",
    "    def __getitem__(self, index):\n",
    "        image = self.images[index]\n",
    "        label = self.labels[index]\n",
    "        if self.noise_level!=0:\n",
    "            image = image+(self.noise_level*np.random.normal(0, (image.max() - image.min()), image.shape)).astype(\"uint8\") # (mean, sigma, image_shape)\n",
    "        image = self.transform(image)\n",
    "        label = torch.from_numpy(label).long()\n",
    "        return image, label\n",
    "        \n",
    "    def transform(self, image):\n",
    "        transform_ops = transforms.Compose([\n",
    "            transforms.ToTensor(),\n",
    "            transforms.Normalize(mean=(0.485, 0.456, 0.406), std=(0.229, 0.224, 0.225)) # normalize to control the \"dynamic range\" of activations of different layers\n",
    "        ])\n",
    "        return transform_ops(image)"
   ]
  },
  {
   "cell_type": "code",
   "execution_count": 13,
   "id": "1f3d01c1",
   "metadata": {},
   "outputs": [],
   "source": [
    "cityscapes_images= []\n",
    "for name in cityscapes_names_sample:\n",
    "    image = Image.open(image_path_cityscapes+\"\\\\\"+name).convert(\"RGB\")\n",
    "    cityscapes_images.append(image)"
   ]
  },
  {
   "cell_type": "code",
   "execution_count": 15,
   "id": "d705ef0d",
   "metadata": {},
   "outputs": [],
   "source": [
    "batch_size = 1\n",
    "cityscapes_dataset = CityscapesDataset(cityscapes_images, cityscapes_labels,noise_level=0)\n",
    "cityscapes_loader = DataLoader(cityscapes_dataset, batch_size=batch_size)"
   ]
  },
  {
   "cell_type": "code",
   "execution_count": 16,
   "id": "e9bbb174",
   "metadata": {},
   "outputs": [
    {
     "data": {
      "text/plain": [
       "10"
      ]
     },
     "execution_count": 16,
     "metadata": {},
     "output_type": "execute_result"
    }
   ],
   "source": [
    "len(cityscapes_loader)"
   ]
  },
  {
   "cell_type": "code",
   "execution_count": 17,
   "id": "f83f29a0",
   "metadata": {},
   "outputs": [],
   "source": [
    "class UNet(nn.Module):\n",
    "    \n",
    "    def __init__(self, num_classes):\n",
    "        super(UNet, self).__init__()\n",
    "        self.num_classes = num_classes\n",
    "        self.contracting_11 = self.conv_block(in_channels=3, out_channels=64)\n",
    "        self.contracting_12 = nn.MaxPool2d(kernel_size=2, stride=2)\n",
    "        self.contracting_21 = self.conv_block(in_channels=64, out_channels=128)\n",
    "        self.contracting_22 = nn.MaxPool2d(kernel_size=2, stride=2)\n",
    "        self.contracting_31 = self.conv_block(in_channels=128, out_channels=256)\n",
    "        self.contracting_32 = nn.MaxPool2d(kernel_size=2, stride=2)\n",
    "        self.contracting_41 = self.conv_block(in_channels=256, out_channels=512)\n",
    "        self.contracting_42 = nn.MaxPool2d(kernel_size=2, stride=2)\n",
    "        self.middle = self.conv_block(in_channels=512, out_channels=1024)\n",
    "        self.expansive_11 = nn.ConvTranspose2d(in_channels=1024, out_channels=512, kernel_size=3, stride=2, padding=1, output_padding=1)\n",
    "        self.expansive_12 = self.conv_block(in_channels=1024, out_channels=512)\n",
    "        self.expansive_21 = nn.ConvTranspose2d(in_channels=512, out_channels=256, kernel_size=3, stride=2, padding=1, output_padding=1)\n",
    "        self.expansive_22 = self.conv_block(in_channels=512, out_channels=256)\n",
    "        self.expansive_31 = nn.ConvTranspose2d(in_channels=256, out_channels=128, kernel_size=3, stride=2, padding=1, output_padding=1)\n",
    "        self.expansive_32 = self.conv_block(in_channels=256, out_channels=128)\n",
    "        self.expansive_41 = nn.ConvTranspose2d(in_channels=128, out_channels=64, kernel_size=3, stride=2, padding=1, output_padding=1)\n",
    "        self.expansive_42 = self.conv_block(in_channels=128, out_channels=64)\n",
    "        self.output = nn.Conv2d(in_channels=64, out_channels=num_classes, kernel_size=3, stride=1, padding=1)\n",
    "        \n",
    "    def conv_block(self, in_channels, out_channels):\n",
    "        block = nn.Sequential(nn.Conv2d(in_channels=in_channels, out_channels=out_channels, kernel_size=3, stride=1, padding=1),\n",
    "                                    nn.ReLU(),\n",
    "                                    nn.BatchNorm2d(num_features=out_channels),\n",
    "                                    nn.Conv2d(in_channels=out_channels, out_channels=out_channels, kernel_size=3, stride=1, padding=1),\n",
    "                                    nn.ReLU(),\n",
    "                                    nn.BatchNorm2d(num_features=out_channels))\n",
    "        return block\n",
    "    \n",
    "    def forward(self, X):\n",
    "        contracting_11_out = self.contracting_11(X) # [-1, 64, 256, 256]\n",
    "        contracting_12_out = self.contracting_12(contracting_11_out) # [-1, 64, 128, 128]\n",
    "        contracting_21_out = self.contracting_21(contracting_12_out) # [-1, 128, 128, 128]\n",
    "        contracting_22_out = self.contracting_22(contracting_21_out) # [-1, 128, 64, 64]\n",
    "        contracting_31_out = self.contracting_31(contracting_22_out) # [-1, 256, 64, 64]\n",
    "        contracting_32_out = self.contracting_32(contracting_31_out) # [-1, 256, 32, 32]\n",
    "        contracting_41_out = self.contracting_41(contracting_32_out) # [-1, 512, 32, 32]\n",
    "        contracting_42_out = self.contracting_42(contracting_41_out) # [-1, 512, 16, 16]\n",
    "        middle_out = self.middle(contracting_42_out) # [-1, 1024, 16, 16]\n",
    "        expansive_11_out = self.expansive_11(middle_out) # [-1, 512, 32, 32]\n",
    "        expansive_12_out = self.expansive_12(torch.cat((expansive_11_out, contracting_41_out), dim=1)) # [-1, 1024, 32, 32] -> [-1, 512, 32, 32]\n",
    "        expansive_21_out = self.expansive_21(expansive_12_out) # [-1, 256, 64, 64]\n",
    "        expansive_22_out = self.expansive_22(torch.cat((expansive_21_out, contracting_31_out), dim=1)) # [-1, 512, 64, 64] -> [-1, 256, 64, 64]\n",
    "        expansive_31_out = self.expansive_31(expansive_22_out) # [-1, 128, 128, 128]\n",
    "        expansive_32_out = self.expansive_32(torch.cat((expansive_31_out, contracting_21_out), dim=1)) # [-1, 256, 128, 128] -> [-1, 128, 128, 128]\n",
    "        expansive_41_out = self.expansive_41(expansive_32_out) # [-1, 64, 256, 256]\n",
    "        expansive_42_out = self.expansive_42(torch.cat((expansive_41_out, contracting_11_out), dim=1)) # [-1, 128, 256, 256] -> [-1, 64, 256, 256]\n",
    "        output_out = self.output(expansive_42_out) # [-1, num_classes, 256, 256]\n",
    "        return output_out"
   ]
  },
  {
   "cell_type": "code",
   "execution_count": 21,
   "id": "e8142fb6",
   "metadata": {},
   "outputs": [
    {
     "data": {
      "text/plain": [
       "<All keys matched successfully>"
      ]
     },
     "execution_count": 21,
     "metadata": {},
     "output_type": "execute_result"
    }
   ],
   "source": [
    "model_path = \"D:\\zsh\\graduation\\Graduation-project-domain-shift-image-2-image\\models\\\\5-classes-U-Net-2023-03-09.pth\"\n",
    "\n",
    "device = torch.device('cpu')\n",
    "model_ = UNet(num_classes=6).to(device)\n",
    "model_.load_state_dict(torch.load(model_path,map_location=device))"
   ]
  },
  {
   "cell_type": "code",
   "execution_count": 27,
   "id": "ed5b482d",
   "metadata": {},
   "outputs": [
    {
     "name": "stdout",
     "output_type": "stream",
     "text": [
      "6\n"
     ]
    }
   ],
   "source": [
    "print(len(model_.middle))"
   ]
  },
  {
   "cell_type": "code",
   "execution_count": 14,
   "id": "2a3f8f69",
   "metadata": {},
   "outputs": [
    {
     "name": "stderr",
     "output_type": "stream",
     "text": [
      "  0%|                                                                                           | 0/10 [00:00<?, ?it/s]\n"
     ]
    },
    {
     "ename": "IndexError",
     "evalue": "list index out of range",
     "output_type": "error",
     "traceback": [
      "\u001b[1;31m---------------------------------------------------------------------------\u001b[0m",
      "\u001b[1;31mIndexError\u001b[0m                                Traceback (most recent call last)",
      "\u001b[1;32m<ipython-input-14-0aade0d38081>\u001b[0m in \u001b[0;36m<module>\u001b[1;34m\u001b[0m\n\u001b[0;32m      7\u001b[0m \u001b[0mcityscapes_activations\u001b[0m \u001b[1;33m=\u001b[0m \u001b[1;33m[\u001b[0m\u001b[1;33m]\u001b[0m\u001b[1;33m\u001b[0m\u001b[0m\n\u001b[0;32m      8\u001b[0m \u001b[1;33m\u001b[0m\u001b[0m\n\u001b[1;32m----> 9\u001b[1;33m \u001b[1;32mfor\u001b[0m \u001b[0mimage\u001b[0m\u001b[1;33m,\u001b[0m\u001b[0mlabel\u001b[0m \u001b[1;32min\u001b[0m \u001b[0mtqdm\u001b[0m\u001b[1;33m(\u001b[0m\u001b[0mcityscapes_loader\u001b[0m\u001b[1;33m)\u001b[0m\u001b[1;33m:\u001b[0m\u001b[1;33m\u001b[0m\u001b[0m\n\u001b[0m\u001b[0;32m     10\u001b[0m     \u001b[0mactivation\u001b[0m \u001b[1;33m=\u001b[0m \u001b[1;33m{\u001b[0m\u001b[1;33m}\u001b[0m\u001b[1;33m\u001b[0m\u001b[0m\n\u001b[0;32m     11\u001b[0m     \u001b[0mh\u001b[0m \u001b[1;33m=\u001b[0m \u001b[0mmodel_\u001b[0m\u001b[1;33m.\u001b[0m\u001b[0mmiddle\u001b[0m\u001b[1;33m[\u001b[0m\u001b[1;36m5\u001b[0m\u001b[1;33m]\u001b[0m\u001b[1;33m.\u001b[0m\u001b[0mregister_forward_hook\u001b[0m\u001b[1;33m(\u001b[0m\u001b[0mgetActivation\u001b[0m\u001b[1;33m(\u001b[0m\u001b[1;34m\"bottleneck\"\u001b[0m\u001b[1;33m)\u001b[0m\u001b[1;33m)\u001b[0m\u001b[1;33m\u001b[0m\u001b[0m\n",
      "\u001b[1;32md:\\zsh\\graduation\\grad_env_take_2\\lib\\site-packages\\tqdm\\std.py\u001b[0m in \u001b[0;36m__iter__\u001b[1;34m(self)\u001b[0m\n\u001b[0;32m   1193\u001b[0m \u001b[1;33m\u001b[0m\u001b[0m\n\u001b[0;32m   1194\u001b[0m         \u001b[1;32mtry\u001b[0m\u001b[1;33m:\u001b[0m\u001b[1;33m\u001b[0m\u001b[0m\n\u001b[1;32m-> 1195\u001b[1;33m             \u001b[1;32mfor\u001b[0m \u001b[0mobj\u001b[0m \u001b[1;32min\u001b[0m \u001b[0miterable\u001b[0m\u001b[1;33m:\u001b[0m\u001b[1;33m\u001b[0m\u001b[0m\n\u001b[0m\u001b[0;32m   1196\u001b[0m                 \u001b[1;32myield\u001b[0m \u001b[0mobj\u001b[0m\u001b[1;33m\u001b[0m\u001b[0m\n\u001b[0;32m   1197\u001b[0m                 \u001b[1;31m# Update and possibly print the progressbar.\u001b[0m\u001b[1;33m\u001b[0m\u001b[1;33m\u001b[0m\u001b[0m\n",
      "\u001b[1;32md:\\zsh\\graduation\\grad_env_take_2\\lib\\site-packages\\torch\\utils\\data\\dataloader.py\u001b[0m in \u001b[0;36m__next__\u001b[1;34m(self)\u001b[0m\n\u001b[0;32m    519\u001b[0m             \u001b[1;32mif\u001b[0m \u001b[0mself\u001b[0m\u001b[1;33m.\u001b[0m\u001b[0m_sampler_iter\u001b[0m \u001b[1;32mis\u001b[0m \u001b[1;32mNone\u001b[0m\u001b[1;33m:\u001b[0m\u001b[1;33m\u001b[0m\u001b[0m\n\u001b[0;32m    520\u001b[0m                 \u001b[0mself\u001b[0m\u001b[1;33m.\u001b[0m\u001b[0m_reset\u001b[0m\u001b[1;33m(\u001b[0m\u001b[1;33m)\u001b[0m\u001b[1;33m\u001b[0m\u001b[0m\n\u001b[1;32m--> 521\u001b[1;33m             \u001b[0mdata\u001b[0m \u001b[1;33m=\u001b[0m \u001b[0mself\u001b[0m\u001b[1;33m.\u001b[0m\u001b[0m_next_data\u001b[0m\u001b[1;33m(\u001b[0m\u001b[1;33m)\u001b[0m\u001b[1;33m\u001b[0m\u001b[0m\n\u001b[0m\u001b[0;32m    522\u001b[0m             \u001b[0mself\u001b[0m\u001b[1;33m.\u001b[0m\u001b[0m_num_yielded\u001b[0m \u001b[1;33m+=\u001b[0m \u001b[1;36m1\u001b[0m\u001b[1;33m\u001b[0m\u001b[0m\n\u001b[0;32m    523\u001b[0m             \u001b[1;32mif\u001b[0m \u001b[0mself\u001b[0m\u001b[1;33m.\u001b[0m\u001b[0m_dataset_kind\u001b[0m \u001b[1;33m==\u001b[0m \u001b[0m_DatasetKind\u001b[0m\u001b[1;33m.\u001b[0m\u001b[0mIterable\u001b[0m \u001b[1;32mand\u001b[0m\u001b[0;31m \u001b[0m\u001b[0;31m\\\u001b[0m\u001b[1;33m\u001b[0m\u001b[0m\n",
      "\u001b[1;32md:\\zsh\\graduation\\grad_env_take_2\\lib\\site-packages\\torch\\utils\\data\\dataloader.py\u001b[0m in \u001b[0;36m_next_data\u001b[1;34m(self)\u001b[0m\n\u001b[0;32m    559\u001b[0m     \u001b[1;32mdef\u001b[0m \u001b[0m_next_data\u001b[0m\u001b[1;33m(\u001b[0m\u001b[0mself\u001b[0m\u001b[1;33m)\u001b[0m\u001b[1;33m:\u001b[0m\u001b[1;33m\u001b[0m\u001b[0m\n\u001b[0;32m    560\u001b[0m         \u001b[0mindex\u001b[0m \u001b[1;33m=\u001b[0m \u001b[0mself\u001b[0m\u001b[1;33m.\u001b[0m\u001b[0m_next_index\u001b[0m\u001b[1;33m(\u001b[0m\u001b[1;33m)\u001b[0m  \u001b[1;31m# may raise StopIteration\u001b[0m\u001b[1;33m\u001b[0m\u001b[0m\n\u001b[1;32m--> 561\u001b[1;33m         \u001b[0mdata\u001b[0m \u001b[1;33m=\u001b[0m \u001b[0mself\u001b[0m\u001b[1;33m.\u001b[0m\u001b[0m_dataset_fetcher\u001b[0m\u001b[1;33m.\u001b[0m\u001b[0mfetch\u001b[0m\u001b[1;33m(\u001b[0m\u001b[0mindex\u001b[0m\u001b[1;33m)\u001b[0m  \u001b[1;31m# may raise StopIteration\u001b[0m\u001b[1;33m\u001b[0m\u001b[0m\n\u001b[0m\u001b[0;32m    562\u001b[0m         \u001b[1;32mif\u001b[0m \u001b[0mself\u001b[0m\u001b[1;33m.\u001b[0m\u001b[0m_pin_memory\u001b[0m\u001b[1;33m:\u001b[0m\u001b[1;33m\u001b[0m\u001b[0m\n\u001b[0;32m    563\u001b[0m             \u001b[0mdata\u001b[0m \u001b[1;33m=\u001b[0m \u001b[0m_utils\u001b[0m\u001b[1;33m.\u001b[0m\u001b[0mpin_memory\u001b[0m\u001b[1;33m.\u001b[0m\u001b[0mpin_memory\u001b[0m\u001b[1;33m(\u001b[0m\u001b[0mdata\u001b[0m\u001b[1;33m)\u001b[0m\u001b[1;33m\u001b[0m\u001b[0m\n",
      "\u001b[1;32md:\\zsh\\graduation\\grad_env_take_2\\lib\\site-packages\\torch\\utils\\data\\_utils\\fetch.py\u001b[0m in \u001b[0;36mfetch\u001b[1;34m(self, possibly_batched_index)\u001b[0m\n\u001b[0;32m     47\u001b[0m     \u001b[1;32mdef\u001b[0m \u001b[0mfetch\u001b[0m\u001b[1;33m(\u001b[0m\u001b[0mself\u001b[0m\u001b[1;33m,\u001b[0m \u001b[0mpossibly_batched_index\u001b[0m\u001b[1;33m)\u001b[0m\u001b[1;33m:\u001b[0m\u001b[1;33m\u001b[0m\u001b[0m\n\u001b[0;32m     48\u001b[0m         \u001b[1;32mif\u001b[0m \u001b[0mself\u001b[0m\u001b[1;33m.\u001b[0m\u001b[0mauto_collation\u001b[0m\u001b[1;33m:\u001b[0m\u001b[1;33m\u001b[0m\u001b[0m\n\u001b[1;32m---> 49\u001b[1;33m             \u001b[0mdata\u001b[0m \u001b[1;33m=\u001b[0m \u001b[1;33m[\u001b[0m\u001b[0mself\u001b[0m\u001b[1;33m.\u001b[0m\u001b[0mdataset\u001b[0m\u001b[1;33m[\u001b[0m\u001b[0midx\u001b[0m\u001b[1;33m]\u001b[0m \u001b[1;32mfor\u001b[0m \u001b[0midx\u001b[0m \u001b[1;32min\u001b[0m \u001b[0mpossibly_batched_index\u001b[0m\u001b[1;33m]\u001b[0m\u001b[1;33m\u001b[0m\u001b[0m\n\u001b[0m\u001b[0;32m     50\u001b[0m         \u001b[1;32melse\u001b[0m\u001b[1;33m:\u001b[0m\u001b[1;33m\u001b[0m\u001b[0m\n\u001b[0;32m     51\u001b[0m             \u001b[0mdata\u001b[0m \u001b[1;33m=\u001b[0m \u001b[0mself\u001b[0m\u001b[1;33m.\u001b[0m\u001b[0mdataset\u001b[0m\u001b[1;33m[\u001b[0m\u001b[0mpossibly_batched_index\u001b[0m\u001b[1;33m]\u001b[0m\u001b[1;33m\u001b[0m\u001b[0m\n",
      "\u001b[1;32md:\\zsh\\graduation\\grad_env_take_2\\lib\\site-packages\\torch\\utils\\data\\_utils\\fetch.py\u001b[0m in \u001b[0;36m<listcomp>\u001b[1;34m(.0)\u001b[0m\n\u001b[0;32m     47\u001b[0m     \u001b[1;32mdef\u001b[0m \u001b[0mfetch\u001b[0m\u001b[1;33m(\u001b[0m\u001b[0mself\u001b[0m\u001b[1;33m,\u001b[0m \u001b[0mpossibly_batched_index\u001b[0m\u001b[1;33m)\u001b[0m\u001b[1;33m:\u001b[0m\u001b[1;33m\u001b[0m\u001b[0m\n\u001b[0;32m     48\u001b[0m         \u001b[1;32mif\u001b[0m \u001b[0mself\u001b[0m\u001b[1;33m.\u001b[0m\u001b[0mauto_collation\u001b[0m\u001b[1;33m:\u001b[0m\u001b[1;33m\u001b[0m\u001b[0m\n\u001b[1;32m---> 49\u001b[1;33m             \u001b[0mdata\u001b[0m \u001b[1;33m=\u001b[0m \u001b[1;33m[\u001b[0m\u001b[0mself\u001b[0m\u001b[1;33m.\u001b[0m\u001b[0mdataset\u001b[0m\u001b[1;33m[\u001b[0m\u001b[0midx\u001b[0m\u001b[1;33m]\u001b[0m \u001b[1;32mfor\u001b[0m \u001b[0midx\u001b[0m \u001b[1;32min\u001b[0m \u001b[0mpossibly_batched_index\u001b[0m\u001b[1;33m]\u001b[0m\u001b[1;33m\u001b[0m\u001b[0m\n\u001b[0m\u001b[0;32m     50\u001b[0m         \u001b[1;32melse\u001b[0m\u001b[1;33m:\u001b[0m\u001b[1;33m\u001b[0m\u001b[0m\n\u001b[0;32m     51\u001b[0m             \u001b[0mdata\u001b[0m \u001b[1;33m=\u001b[0m \u001b[0mself\u001b[0m\u001b[1;33m.\u001b[0m\u001b[0mdataset\u001b[0m\u001b[1;33m[\u001b[0m\u001b[0mpossibly_batched_index\u001b[0m\u001b[1;33m]\u001b[0m\u001b[1;33m\u001b[0m\u001b[0m\n",
      "\u001b[1;32m<ipython-input-7-b6e270dd1940>\u001b[0m in \u001b[0;36m__getitem__\u001b[1;34m(self, index)\u001b[0m\n\u001b[0;32m     11\u001b[0m     \u001b[1;32mdef\u001b[0m \u001b[0m__getitem__\u001b[0m\u001b[1;33m(\u001b[0m\u001b[0mself\u001b[0m\u001b[1;33m,\u001b[0m \u001b[0mindex\u001b[0m\u001b[1;33m)\u001b[0m\u001b[1;33m:\u001b[0m\u001b[1;33m\u001b[0m\u001b[0m\n\u001b[0;32m     12\u001b[0m         \u001b[0mimage\u001b[0m \u001b[1;33m=\u001b[0m \u001b[0mself\u001b[0m\u001b[1;33m.\u001b[0m\u001b[0mimages\u001b[0m\u001b[1;33m[\u001b[0m\u001b[0mindex\u001b[0m\u001b[1;33m]\u001b[0m\u001b[1;33m\u001b[0m\u001b[0m\n\u001b[1;32m---> 13\u001b[1;33m         \u001b[0mlabel\u001b[0m \u001b[1;33m=\u001b[0m \u001b[0mself\u001b[0m\u001b[1;33m.\u001b[0m\u001b[0mlabels\u001b[0m\u001b[1;33m[\u001b[0m\u001b[0mindex\u001b[0m\u001b[1;33m]\u001b[0m\u001b[1;33m\u001b[0m\u001b[0m\n\u001b[0m\u001b[0;32m     14\u001b[0m         \u001b[1;32mif\u001b[0m \u001b[0mself\u001b[0m\u001b[1;33m.\u001b[0m\u001b[0mnoise_level\u001b[0m\u001b[1;33m!=\u001b[0m\u001b[1;36m0\u001b[0m\u001b[1;33m:\u001b[0m\u001b[1;33m\u001b[0m\u001b[0m\n\u001b[0;32m     15\u001b[0m             \u001b[0mimage\u001b[0m \u001b[1;33m=\u001b[0m \u001b[0mimage\u001b[0m\u001b[1;33m+\u001b[0m\u001b[1;33m(\u001b[0m\u001b[0mself\u001b[0m\u001b[1;33m.\u001b[0m\u001b[0mnoise_level\u001b[0m\u001b[1;33m*\u001b[0m\u001b[0mnp\u001b[0m\u001b[1;33m.\u001b[0m\u001b[0mrandom\u001b[0m\u001b[1;33m.\u001b[0m\u001b[0mnormal\u001b[0m\u001b[1;33m(\u001b[0m\u001b[1;36m0\u001b[0m\u001b[1;33m,\u001b[0m \u001b[1;33m(\u001b[0m\u001b[0mimage\u001b[0m\u001b[1;33m.\u001b[0m\u001b[0mmax\u001b[0m\u001b[1;33m(\u001b[0m\u001b[1;33m)\u001b[0m \u001b[1;33m-\u001b[0m \u001b[0mimage\u001b[0m\u001b[1;33m.\u001b[0m\u001b[0mmin\u001b[0m\u001b[1;33m(\u001b[0m\u001b[1;33m)\u001b[0m\u001b[1;33m)\u001b[0m\u001b[1;33m,\u001b[0m \u001b[0mimage\u001b[0m\u001b[1;33m.\u001b[0m\u001b[0mshape\u001b[0m\u001b[1;33m)\u001b[0m\u001b[1;33m)\u001b[0m\u001b[1;33m.\u001b[0m\u001b[0mastype\u001b[0m\u001b[1;33m(\u001b[0m\u001b[1;34m\"uint8\"\u001b[0m\u001b[1;33m)\u001b[0m \u001b[1;31m# (mean, sigma, image_shape)\u001b[0m\u001b[1;33m\u001b[0m\u001b[0m\n",
      "\u001b[1;31mIndexError\u001b[0m: list index out of range"
     ]
    }
   ],
   "source": [
    "def getActivation(name):\n",
    "    # the hook signature\n",
    "    def hook(model, input, output):\n",
    "        activation[name] = output.detach()\n",
    "    return hook\n",
    "\n",
    "cityscapes_activations = []\n",
    "\n",
    "for image,label in tqdm(cityscapes_loader):\n",
    "    activation = {}\n",
    "    h = model_.middle[5].register_forward_hook(getActivation(\"bottleneck\"))\n",
    "    out = model_(image)\n",
    "    h.remove()\n",
    "    instance_activation = activation[\"bottleneck\"]\n",
    "    instance_activation_reshaped = instance_activation.clone().squeeze(0).reshape(256,1024).numpy()\n",
    "    cityscapes_activations.append(instance_activation_reshaped)"
   ]
  },
  {
   "cell_type": "code",
   "execution_count": 21,
   "id": "43b91185",
   "metadata": {},
   "outputs": [],
   "source": [
    "cityscapes_activations_moddle_5=cityscapes_activations.copy()"
   ]
  },
  {
   "cell_type": "code",
   "execution_count": 39,
   "id": "333a0620",
   "metadata": {},
   "outputs": [],
   "source": [
    "cityscapes_activations_moddle_5 = np.array(cityscapes_activations_moddle_5)"
   ]
  },
  {
   "cell_type": "code",
   "execution_count": 28,
   "id": "776d6047",
   "metadata": {},
   "outputs": [],
   "source": [
    "class UNet(nn.Module):\n",
    "    \n",
    "    def __init__(self, num_classes):\n",
    "        super(UNet, self).__init__()\n",
    "        self.num_classes = num_classes\n",
    "        self.contracting_11 = self.conv_block(in_channels=3, out_channels=64)\n",
    "        self.contracting_12 = nn.MaxPool2d(kernel_size=2, stride=2)\n",
    "        self.contracting_21 = self.conv_block(in_channels=64, out_channels=128)\n",
    "        self.contracting_22 = nn.MaxPool2d(kernel_size=2, stride=2)\n",
    "        self.contracting_31 = self.conv_block(in_channels=128, out_channels=256)\n",
    "        self.contracting_32 = nn.MaxPool2d(kernel_size=2, stride=2)\n",
    "        self.contracting_41 = self.conv_block(in_channels=256, out_channels=512)\n",
    "        self.contracting_42 = nn.MaxPool2d(kernel_size=2, stride=2)\n",
    "        self.middle = self.conv_block(in_channels=512, out_channels=1024)\n",
    "        self.expansive_11 = nn.ConvTranspose2d(in_channels=1024, out_channels=512, kernel_size=3, stride=2, padding=1, output_padding=1)\n",
    "        self.expansive_12 = self.conv_block(in_channels=1024, out_channels=512)\n",
    "        self.expansive_21 = nn.ConvTranspose2d(in_channels=512, out_channels=256, kernel_size=3, stride=2, padding=1, output_padding=1)\n",
    "        self.expansive_22 = self.conv_block(in_channels=512, out_channels=256)\n",
    "        self.expansive_31 = nn.ConvTranspose2d(in_channels=256, out_channels=128, kernel_size=3, stride=2, padding=1, output_padding=1)\n",
    "        self.expansive_32 = self.conv_block(in_channels=256, out_channels=128)\n",
    "        self.expansive_41 = nn.ConvTranspose2d(in_channels=128, out_channels=64, kernel_size=3, stride=2, padding=1, output_padding=1)\n",
    "        self.expansive_42 = self.conv_block(in_channels=128, out_channels=64)\n",
    "        self.output = nn.Conv2d(in_channels=64, out_channels=num_classes, kernel_size=3, stride=1, padding=1)\n",
    "        \n",
    "    def conv_block(self, in_channels, out_channels):\n",
    "        block = nn.Sequential(nn.Conv2d(in_channels=in_channels, out_channels=out_channels, kernel_size=3, stride=1, padding=1),\n",
    "                                    nn.ReLU(),\n",
    "                                    nn.BatchNorm2d(num_features=out_channels),\n",
    "                                    nn.Conv2d(in_channels=out_channels, out_channels=out_channels, kernel_size=3, stride=1, padding=1),\n",
    "                                    nn.ReLU(),\n",
    "                                    nn.BatchNorm2d(num_features=out_channels))\n",
    "        return block\n",
    "    \n",
    "    def forward(self, X):\n",
    "        contracting_11_out = self.contracting_11(X) # [-1, 64, 256, 256]\n",
    "        contracting_12_out = self.contracting_12(contracting_11_out) # [-1, 64, 128, 128]\n",
    "        contracting_21_out = self.contracting_21(contracting_12_out) # [-1, 128, 128, 128]\n",
    "        contracting_22_out = self.contracting_22(contracting_21_out) # [-1, 128, 64, 64]\n",
    "        contracting_31_out = self.contracting_31(contracting_22_out) # [-1, 256, 64, 64]\n",
    "        contracting_32_out = self.contracting_32(contracting_31_out) # [-1, 256, 32, 32]\n",
    "        contracting_41_out = self.contracting_41(contracting_32_out) # [-1, 512, 32, 32]\n",
    "        contracting_42_out = self.contracting_42(contracting_41_out) # [-1, 512, 16, 16]\n",
    "        middle_out = self.middle(contracting_42_out) # [-1, 1024, 16, 16]\n",
    "        expansive_11_out = self.expansive_11(middle_out) # [-1, 512, 32, 32]\n",
    "        expansive_12_out = self.expansive_12(torch.cat((expansive_11_out, contracting_41_out), dim=1)) # [-1, 1024, 32, 32] -> [-1, 512, 32, 32]\n",
    "        expansive_21_out = self.expansive_21(expansive_12_out) # [-1, 256, 64, 64]\n",
    "        expansive_22_out = self.expansive_22(torch.cat((expansive_21_out, contracting_31_out), dim=1)) # [-1, 512, 64, 64] -> [-1, 256, 64, 64]\n",
    "        expansive_31_out = self.expansive_31(expansive_22_out) # [-1, 128, 128, 128]\n",
    "        expansive_32_out = self.expansive_32(torch.cat((expansive_31_out, contracting_21_out), dim=1)) # [-1, 256, 128, 128] -> [-1, 128, 128, 128]\n",
    "        expansive_41_out = self.expansive_41(expansive_32_out) # [-1, 64, 256, 256]\n",
    "        expansive_42_out = self.expansive_42(torch.cat((expansive_41_out, contracting_11_out), dim=1)) # [-1, 128, 256, 256] -> [-1, 64, 256, 256]\n",
    "        output_out = self.output(expansive_42_out) # [-1, num_classes, 256, 256]\n",
    "        return output_out, middle_out"
   ]
  },
  {
   "cell_type": "code",
   "execution_count": 29,
   "id": "8741c9d1",
   "metadata": {},
   "outputs": [
    {
     "data": {
      "text/plain": [
       "<All keys matched successfully>"
      ]
     },
     "execution_count": 29,
     "metadata": {},
     "output_type": "execute_result"
    }
   ],
   "source": [
    "model_ = UNet(num_classes=6).to(device)\n",
    "model_.load_state_dict(torch.load(model_path,map_location=device))"
   ]
  },
  {
   "attachments": {},
   "cell_type": "markdown",
   "id": "cac03068",
   "metadata": {},
   "source": [
    "output size [1,6,256,256]\n",
    "\n",
    "activations size[1,1024,16,16]"
   ]
  },
  {
   "cell_type": "code",
   "execution_count": 30,
   "id": "4b8c075e",
   "metadata": {},
   "outputs": [
    {
     "name": "stderr",
     "output_type": "stream",
     "text": [
      " ... (more hidden) ...\n"
     ]
    }
   ],
   "source": [
    "# change the activations first\n",
    "cityscapes_activations = []\n",
    "\n",
    "for image,label in tqdm(cityscapes_loader):\n",
    "    output,activations = model_(image)\n",
    "    instance_activation_reshaped = activations.clone().squeeze(0).reshape(256,1024).detach().numpy()\n",
    "    cityscapes_activations.append(instance_activation_reshaped)"
   ]
  },
  {
   "cell_type": "code",
   "execution_count": 31,
   "id": "76daba5e",
   "metadata": {},
   "outputs": [],
   "source": [
    "cityscapes_activations_correct = np.array(cityscapes_activations)"
   ]
  },
  {
   "cell_type": "code",
   "execution_count": 32,
   "id": "7b43c169",
   "metadata": {},
   "outputs": [
    {
     "data": {
      "text/plain": [
       "(10, 256, 1024)"
      ]
     },
     "execution_count": 32,
     "metadata": {},
     "output_type": "execute_result"
    }
   ],
   "source": [
    "cityscapes_activations_correct.shape"
   ]
  },
  {
   "cell_type": "code",
   "execution_count": 40,
   "id": "90b5b9a1",
   "metadata": {},
   "outputs": [
    {
     "name": "stdout",
     "output_type": "stream",
     "text": [
      "(10, 256, 1024)\n",
      "(10, 256, 1024)\n"
     ]
    }
   ],
   "source": [
    "print(cityscapes_activations_correct.shape)\n",
    "print(cityscapes_activations_moddle_5.shape)"
   ]
  },
  {
   "cell_type": "code",
   "execution_count": 41,
   "id": "b0b3ac84",
   "metadata": {},
   "outputs": [
    {
     "data": {
      "text/plain": [
       "array([[-9.6487328e-03, -9.6487328e-03, -9.6487328e-03, ...,\n",
       "         1.8445213e+00, -7.2949678e-02, -7.2949678e-02],\n",
       "       [-4.8238605e-01, -4.8238605e-01, -4.8238605e-01, ...,\n",
       "         7.4306473e-02,  7.4306473e-02,  7.4306473e-02],\n",
       "       [-3.1865224e-01, -3.1865224e-01,  1.3132114e+01, ...,\n",
       "        -1.7004824e-01, -1.7004824e-01, -1.7004824e-01],\n",
       "       ...,\n",
       "       [ 4.9915761e-03,  4.9915761e-03,  4.9915761e-03, ...,\n",
       "        -6.7413487e-02, -6.7413487e-02, -6.7413487e-02],\n",
       "       [-2.7201825e-01, -2.7201825e-01, -2.7201825e-01, ...,\n",
       "        -3.1879300e-01, -3.1879300e-01, -3.1879300e-01],\n",
       "       [-1.2684970e-01, -1.2684970e-01, -1.2684970e-01, ...,\n",
       "        -7.2249420e-02, -7.2249420e-02, -7.2249420e-02]], dtype=float32)"
      ]
     },
     "execution_count": 41,
     "metadata": {},
     "output_type": "execute_result"
    }
   ],
   "source": [
    "cityscapes_activations_correct[0]"
   ]
  },
  {
   "cell_type": "code",
   "execution_count": 42,
   "id": "a505a5cd",
   "metadata": {},
   "outputs": [
    {
     "data": {
      "text/plain": [
       "array([[-9.6487328e-03, -9.6487328e-03, -9.6487328e-03, ...,\n",
       "         1.8445213e+00, -7.2949678e-02, -7.2949678e-02],\n",
       "       [-4.8238605e-01, -4.8238605e-01, -4.8238605e-01, ...,\n",
       "         7.4306473e-02,  7.4306473e-02,  7.4306473e-02],\n",
       "       [-3.1865224e-01, -3.1865224e-01,  1.3132114e+01, ...,\n",
       "        -1.7004824e-01, -1.7004824e-01, -1.7004824e-01],\n",
       "       ...,\n",
       "       [ 4.9915761e-03,  4.9915761e-03,  4.9915761e-03, ...,\n",
       "        -6.7413487e-02, -6.7413487e-02, -6.7413487e-02],\n",
       "       [-2.7201825e-01, -2.7201825e-01, -2.7201825e-01, ...,\n",
       "        -3.1879300e-01, -3.1879300e-01, -3.1879300e-01],\n",
       "       [-1.2684970e-01, -1.2684970e-01, -1.2684970e-01, ...,\n",
       "        -7.2249420e-02, -7.2249420e-02, -7.2249420e-02]], dtype=float32)"
      ]
     },
     "execution_count": 42,
     "metadata": {},
     "output_type": "execute_result"
    }
   ],
   "source": [
    "cityscapes_activations_moddle_5[0]"
   ]
  },
  {
   "cell_type": "code",
   "execution_count": null,
   "id": "6dd4e926",
   "metadata": {},
   "outputs": [],
   "source": []
  },
  {
   "attachments": {},
   "cell_type": "markdown",
   "id": "15b6a485",
   "metadata": {},
   "source": [
    "# Continue with the correct form"
   ]
  },
  {
   "cell_type": "code",
   "execution_count": 34,
   "id": "392511f2",
   "metadata": {},
   "outputs": [
    {
     "data": {
      "text/plain": [
       "(10, 256, 1024)"
      ]
     },
     "execution_count": 34,
     "metadata": {},
     "output_type": "execute_result"
    }
   ],
   "source": [
    "cityscapes_activations_correct.shape"
   ]
  },
  {
   "cell_type": "code",
   "execution_count": 35,
   "id": "29384587",
   "metadata": {},
   "outputs": [
    {
     "name": "stdout",
     "output_type": "stream",
     "text": [
      "Min Value:  -21.021078\n",
      "Max Value:  117.311035\n"
     ]
    }
   ],
   "source": [
    "# find the min and max value of this 3d array\n",
    "min_value = np.min(cityscapes_activations_correct)\n",
    "max_value = np.max(cityscapes_activations_correct)\n",
    "print(\"Min Value: \", min_value)\n",
    "print(\"Max Value: \", max_value)\n"
   ]
  },
  {
   "cell_type": "code",
   "execution_count": 38,
   "id": "4baa18c0",
   "metadata": {},
   "outputs": [
    {
     "data": {
      "text/plain": [
       "<AxesSubplot:ylabel='Count'>"
      ]
     },
     "execution_count": 38,
     "metadata": {},
     "output_type": "execute_result"
    },
    {
     "data": {
      "image/png": "[encoded data removed]",
      "text/plain": [
       "<Figure size 432x288 with 1 Axes>"
      ]
     },
     "metadata": {
      "needs_background": "light"
     },
     "output_type": "display_data"
    }
   ],
   "source": [
    "# Flatten the cityscapes_activations_correct from 3D to 1D\n",
    "flattened_activations = cityscapes_activations_correct.flatten()\n",
    "\n",
    "# Plot the distribution of the values in a histogram format in seaborn\n",
    "sns.histplot(flattened_activations)\n"
   ]
  },
  {
   "cell_type": "code",
   "execution_count": 36,
   "id": "820be14f",
   "metadata": {},
   "outputs": [
    {
     "data": {
      "text/plain": [
       "array([[[-9.64873284e-03, -9.64873284e-03, -9.64873284e-03, ...,\n",
       "          1.84452128e+00, -7.29496777e-02, -7.29496777e-02],\n",
       "        [-4.82386053e-01, -4.82386053e-01, -4.82386053e-01, ...,\n",
       "          7.43064731e-02,  7.43064731e-02,  7.43064731e-02],\n",
       "        [-3.18652242e-01, -3.18652242e-01,  1.31321144e+01, ...,\n",
       "         -1.70048237e-01, -1.70048237e-01, -1.70048237e-01],\n",
       "        ...,\n",
       "        [ 4.99157608e-03,  4.99157608e-03,  4.99157608e-03, ...,\n",
       "         -6.74134865e-02, -6.74134865e-02, -6.74134865e-02],\n",
       "        [-2.72018254e-01, -2.72018254e-01, -2.72018254e-01, ...,\n",
       "         -3.18792999e-01, -3.18792999e-01, -3.18792999e-01],\n",
       "        [-1.26849696e-01, -1.26849696e-01, -1.26849696e-01, ...,\n",
       "         -7.22494200e-02, -7.22494200e-02, -7.22494200e-02]],\n",
       "\n",
       "       [[-4.03089598e-02, -4.03089598e-02, -4.03089598e-02, ...,\n",
       "         -1.55643225e-01, -1.55643225e-01, -1.55643225e-01],\n",
       "        [-5.21776974e-01, -5.21776974e-01, -5.21776974e-01, ...,\n",
       "         -1.77105516e-03, -1.77105516e-03, -1.77105516e-03],\n",
       "        [-2.67947108e-01, -2.67947108e-01, -2.67947108e-01, ...,\n",
       "         -1.10655725e-01, -1.10655725e-01,  2.42582113e-01],\n",
       "        ...,\n",
       "        [ 4.05055583e-02,  4.05055583e-02,  4.05055583e-02, ...,\n",
       "         -2.30615586e-01, -2.30615586e-01, -2.30615586e-01],\n",
       "        [-3.25855613e-01, -3.25855613e-01, -3.25855613e-01, ...,\n",
       "         -3.26217324e-01, -3.26217324e-01, -3.26217324e-01],\n",
       "        [-1.57505795e-01, -1.57505795e-01, -1.57505795e-01, ...,\n",
       "         -7.05452561e-02, -7.05452561e-02, -7.05452561e-02]],\n",
       "\n",
       "       [[ 3.03013992e+01, -9.64945555e-03, -9.64945555e-03, ...,\n",
       "         -5.64685464e-03, -5.64685464e-03, -5.64685464e-03],\n",
       "        [-5.87738454e-01, -5.87738454e-01, -5.87738454e-01, ...,\n",
       "          7.43064731e-02,  7.43064731e-02,  7.43064731e-02],\n",
       "        [-3.43295455e-01, -3.43295455e-01,  1.22303247e-01, ...,\n",
       "         -1.65041387e-02, -1.65041387e-02,  2.74540521e-02],\n",
       "        ...,\n",
       "        [ 5.83005995e-02,  5.83005995e-02,  5.83005995e-02, ...,\n",
       "         -3.25315148e-01, -3.25315148e-01, -3.25315148e-01],\n",
       "        [-2.34436005e-01, -2.34436005e-01, -2.34436005e-01, ...,\n",
       "         -2.32833385e-01,  5.75541139e-01, -2.32833385e-01],\n",
       "        [-2.01618597e-01, -2.01618597e-01, -2.01618597e-01, ...,\n",
       "         -6.68755621e-02, -6.68755621e-02, -6.68755621e-02]],\n",
       "\n",
       "       ...,\n",
       "\n",
       "       [[-9.64927673e-03, -9.64927673e-03, -9.64927673e-03, ...,\n",
       "         -5.83719909e-02, -5.83719909e-02, -5.83719909e-02],\n",
       "        [-4.99616861e-01,  1.59423590e+00,  1.20873153e+00, ...,\n",
       "         -5.34249246e-02, -5.34249246e-02, -5.34249246e-02],\n",
       "        [-3.14311028e-01, -3.14311028e-01, -3.14311028e-01, ...,\n",
       "         -4.29416895e-02, -4.29416895e-02, -4.29416895e-02],\n",
       "        ...,\n",
       "        [ 4.33385521e-02,  4.33385521e-02,  4.33385521e-02, ...,\n",
       "         -2.66585737e-01, -2.66585737e-01, -2.66585737e-01],\n",
       "        [-3.33865583e-01, -3.33865583e-01, -3.33865583e-01, ...,\n",
       "         -2.68604815e-01, -2.68604815e-01, -2.68604815e-01],\n",
       "        [-1.48449212e-01, -1.48449212e-01, -1.48449212e-01, ...,\n",
       "         -7.41674900e-02, -7.41674900e-02, -7.41674900e-02]],\n",
       "\n",
       "       [[ 1.08753078e-01,  1.08753078e-01,  1.08753078e-01, ...,\n",
       "         -1.42008454e-01, -1.42008454e-01, -1.42008454e-01],\n",
       "        [-5.32151997e-01, -5.32151997e-01, -5.32151997e-01, ...,\n",
       "          7.43064731e-02,  7.43064731e-02,  7.43064731e-02],\n",
       "        [-2.69706070e-01, -2.69706070e-01, -2.69706070e-01, ...,\n",
       "         -1.31221116e-01, -1.31221116e-01, -1.31221116e-01],\n",
       "        ...,\n",
       "        [ 3.02768946e-02,  3.02768946e-02,  3.02768946e-02, ...,\n",
       "         -1.96289688e-01, -1.96289688e-01, -1.96289688e-01],\n",
       "        [-2.40920767e-01, -2.40920767e-01, -2.40920767e-01, ...,\n",
       "         -3.22282493e-01, -3.22282493e-01, -3.22282493e-01],\n",
       "        [-1.89773306e-01, -1.89773306e-01, -1.89773306e-01, ...,\n",
       "         -7.17933774e-02, -7.17933774e-02, -7.17933774e-02]],\n",
       "\n",
       "       [[-4.41741720e-02, -4.41741720e-02, -4.41741720e-02, ...,\n",
       "         -1.74507558e-01, -1.74507558e-01, -1.74507558e-01],\n",
       "        [ 3.71384549e+00,  2.51080084e+00, -5.42602777e-01, ...,\n",
       "          2.10885704e-03,  2.10885704e-03,  2.10885704e-03],\n",
       "        [-2.94265628e-01, -2.94265628e-01, -2.94265628e-01, ...,\n",
       "         -8.85472894e-02, -8.85472894e-02,  2.11070776e-02],\n",
       "        ...,\n",
       "        [ 2.06121534e-01,  7.41381049e-02,  5.14866412e-02, ...,\n",
       "         -2.64593631e-01, -2.64593631e-01, -2.64593631e-01],\n",
       "        [-3.04998398e-01, -3.04998398e-01, -3.04998398e-01, ...,\n",
       "         -2.31912374e-01, -2.31912374e-01, -2.31912374e-01],\n",
       "        [-2.11571589e-01, -2.11571589e-01, -2.11571589e-01, ...,\n",
       "         -7.36194476e-02, -7.36194476e-02, -7.36194476e-02]]],\n",
       "      dtype=float32)"
      ]
     },
     "execution_count": 36,
     "metadata": {},
     "output_type": "execute_result"
    }
   ],
   "source": []
  },
  {
   "cell_type": "code",
   "execution_count": null,
   "id": "7d9deb34",
   "metadata": {},
   "outputs": [],
   "source": []
  },
  {
   "attachments": {},
   "cell_type": "markdown",
   "id": "0f22ab61",
   "metadata": {},
   "source": [
    "# Check the model activations"
   ]
  },
  {
   "cell_type": "code",
   "execution_count": 41,
   "id": "3374e087",
   "metadata": {},
   "outputs": [],
   "source": [
    "# load noise activations\n",
    "with open('D:\\zsh\\graduation\\Graduation-project-domain-shift-image-2-image\\jupyter\\\\activations_2d-noise-0-1-5_middle_5.pkl', 'rb') as f:\n",
    "    noise_activations_original = pickle.load(f)"
   ]
  },
  {
   "cell_type": "code",
   "execution_count": 42,
   "id": "58a05843",
   "metadata": {},
   "outputs": [
    {
     "data": {
      "text/plain": [
       "(153600, 1024)"
      ]
     },
     "execution_count": 42,
     "metadata": {},
     "output_type": "execute_result"
    }
   ],
   "source": [
    "noise_activations_original.shape"
   ]
  },
  {
   "cell_type": "code",
   "execution_count": 48,
   "id": "f40b268c",
   "metadata": {},
   "outputs": [],
   "source": [
    "noise_levels = [0,1,2,3,4,5]"
   ]
  },
  {
   "cell_type": "code",
   "execution_count": 43,
   "id": "864f762a",
   "metadata": {},
   "outputs": [],
   "source": [
    "def normalize_3d_array(array_3d):\n",
    "    array_min = np.min(array_3d)\n",
    "    array_max = np.max(array_3d)\n",
    "    normalized_array = (array_3d - array_min) / (array_max - array_min)\n",
    "    return normalized_array"
   ]
  },
  {
   "cell_type": "code",
   "execution_count": 44,
   "id": "5e2b4d78",
   "metadata": {},
   "outputs": [],
   "source": [
    "noise_activations_normalized = normalize_3d_array(noise_activations_original)"
   ]
  },
  {
   "cell_type": "code",
   "execution_count": 45,
   "id": "c87cfbdc",
   "metadata": {},
   "outputs": [],
   "source": [
    "tsne = TSNE()\n",
    "activations_tsne_embedding_new = TSNE(n_components=2).fit_transform(noise_activations_normalized)"
   ]
  },
  {
   "cell_type": "code",
   "execution_count": 46,
   "id": "c8262c3c",
   "metadata": {},
   "outputs": [],
   "source": [
    "with open('normalized_activation_tsne_embedding_0_1_5.pkl', 'wb') as f:\n",
    "    pickle.dump(activations_tsne_embedding_new, f)"
   ]
  },
  {
   "cell_type": "code",
   "execution_count": 51,
   "id": "52ba4795",
   "metadata": {},
   "outputs": [
    {
     "data": {
      "text/plain": [
       "(153600, 2)"
      ]
     },
     "execution_count": 51,
     "metadata": {},
     "output_type": "execute_result"
    }
   ],
   "source": [
    "activations_tsne_embedding_new.shape"
   ]
  },
  {
   "cell_type": "code",
   "execution_count": 52,
   "id": "5434a9be",
   "metadata": {},
   "outputs": [],
   "source": [
    "activations_tsne_embedding_reshaped = np.reshape(activations_tsne_embedding_new,(len(noise_levels)*100,256,2))"
   ]
  },
  {
   "cell_type": "code",
   "execution_count": 54,
   "id": "889f149f",
   "metadata": {},
   "outputs": [
    {
     "data": {
      "text/plain": [
       "<matplotlib.collections.PathCollection at 0x1da662de390>"
      ]
     },
     "execution_count": 54,
     "metadata": {},
     "output_type": "execute_result"
    },
    {
     "data": {
      "image/png": "[encoded data removed]",
      "text/plain": [
       "<Figure size 432x288 with 1 Axes>"
      ]
     },
     "metadata": {
      "needs_background": "light"
     },
     "output_type": "display_data"
    }
   ],
   "source": [
    "plt.scatter(activations_tsne_embedding_reshaped[0,:,0],activations_tsne_embedding_reshaped[0,:,1])\n",
    "plt.scatter(activations_tsne_embedding_reshaped[500,:,0],activations_tsne_embedding_reshaped[500,:,1])"
   ]
  },
  {
   "attachments": {},
   "cell_type": "markdown",
   "id": "721b6428",
   "metadata": {},
   "source": [
    "经验:\n",
    "1. 10个照片应该就够用了，能看大概的效果\n",
    "2. pca测起来最快\n",
    "3. 看看能不能直接把activation-prediction link 加在这里"
   ]
  },
  {
   "attachments": {},
   "cell_type": "markdown",
   "id": "e5cb05d0",
   "metadata": {},
   "source": [
    "# Try other appoaches\n",
    "1. range cutoff (\"clipping\")\n",
    "2. yeon-johnson (power cut-off)\n",
    "3. RobustScaler in scikit-learn\n",
    "    This Scaler removes the median and scales the data according to the quantile range (defaults to IQR: Interquartile Range). The IQR is the range between the 1st quartile (25th quantile) and the 3rd quartile (75th quantile).\n",
    "4."
   ]
  },
  {
   "cell_type": "code",
   "execution_count": null,
   "id": "5b795fbc",
   "metadata": {},
   "outputs": [],
   "source": []
  },
  {
   "cell_type": "code",
   "execution_count": null,
   "id": "b4117c9f",
   "metadata": {},
   "outputs": [],
   "source": [
    "# also check for PCA"
   ]
  }
 ],
 "metadata": {
  "kernelspec": {
   "display_name": "grad_env_take_2",
   "language": "python",
   "name": "grad_env_take_2"
  },
  "language_info": {
   "codemirror_mode": {
    "name": "ipython",
    "version": 3
   },
   "file_extension": ".py",
   "mimetype": "text/x-python",
   "name": "python",
   "nbconvert_exporter": "python",
   "pygments_lexer": "ipython3",
   "version": "3.6.5"
  }
 },
 "nbformat": 4,
 "nbformat_minor": 5
}
