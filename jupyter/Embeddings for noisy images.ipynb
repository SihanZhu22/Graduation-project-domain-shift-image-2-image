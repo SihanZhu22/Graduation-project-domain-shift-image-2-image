{
 "cells": [
  {
   "cell_type": "code",
   "execution_count": 1,
   "id": "30f32ee0",
   "metadata": {},
   "outputs": [
    {
     "name": "stderr",
     "output_type": "stream",
     "text": [
      "d:\\zsh\\graduation\\grad_env_take_2\\lib\\site-packages\\tqdm\\auto.py:22: TqdmWarning: IProgress not found. Please update jupyter and ipywidgets. See https://ipywidgets.readthedocs.io/en/stable/user_install.html\n",
      "  from .autonotebook import tqdm as notebook_tqdm\n"
     ]
    }
   ],
   "source": [
    "from PIL import Image\n",
    "import numpy as np\n",
    "import os\n",
    "import pickle\n",
    "import random\n",
    "import matplotlib.pyplot as plt\n",
    "import pandas as pd\n",
    "import seaborn as sns\n",
    "from torch.utils.data import Dataset, DataLoader\n",
    "\n",
    "from sklearn.decomposition import PCA\n",
    "from sklearn.manifold import TSNE\n",
    "from skimage.transform import resize\n",
    "from torchvision import transforms"
   ]
  },
  {
   "cell_type": "code",
   "execution_count": 2,
   "id": "441da411",
   "metadata": {},
   "outputs": [],
   "source": [
    "import torch\n",
    "import torch.nn as nn"
   ]
  },
  {
   "cell_type": "markdown",
   "id": "41231c1b",
   "metadata": {},
   "source": [
    "# Data requirements\n",
    "* we need: image name or id (to distinguish link back to the main df),simple_tsne, meaningful_tsne, pca,bottleneck_activations_embedding, IoU values, image path, prediction path\n",
    "* existing information: name, dataset, label_path, class ratios,\n",
    "* not useful for continuous domains: similar_image_paths"
   ]
  },
  {
   "cell_type": "markdown",
   "id": "33b9c7be",
   "metadata": {},
   "source": [
    "# Note: should be able to modify noise levels and sample number, and just re-run everything"
   ]
  },
  {
   "cell_type": "markdown",
   "id": "9cb7ed15",
   "metadata": {},
   "source": [
    "1. Load images and the labels (**Cityscapes for now**)"
   ]
  },
  {
   "cell_type": "code",
   "execution_count": 9,
   "id": "c3ed9cd6",
   "metadata": {},
   "outputs": [],
   "source": [
    "# read in the relavant data\n",
    "pickle_file = os.path.join(\"D:\\zsh\\graduation\\Graduation-project-domain-shift-image-2-image\\dataset\\\\5_classes_preprocessed\", \"validation_images.pkl\")\n",
    "with open(pickle_file, 'rb') as f:\n",
    "    X_test = pickle.load(f)\n",
    "\n",
    "pickle_file = os.path.join(\"D:\\zsh\\graduation\\Graduation-project-domain-shift-image-2-image\\dataset\\\\5_classes_preprocessed\", \"validation_label_classes.pkl\")\n",
    "with open(pickle_file, 'rb') as f:\n",
    "    Y_test = pickle.load(f)"
   ]
  },
  {
   "cell_type": "code",
   "execution_count": 10,
   "id": "e4e08735",
   "metadata": {},
   "outputs": [],
   "source": [
    "image_path_cityscapes = \"D:\\zsh\\graduation\\Graduation-project-domain-shift-image-2-image\\dataset\\original_cityscapes_inputs\""
   ]
  },
  {
   "cell_type": "code",
   "execution_count": 11,
   "id": "ec456d01",
   "metadata": {},
   "outputs": [],
   "source": [
    "X_test = np.array(X_test)\n",
    "Y_test = np.array(Y_test)"
   ]
  },
  {
   "cell_type": "markdown",
   "id": "0a15eef8",
   "metadata": {},
   "source": [
    "verify that the images are the same"
   ]
  },
  {
   "cell_type": "code",
   "execution_count": 6,
   "id": "520816ae",
   "metadata": {},
   "outputs": [],
   "source": [
    "# example_imaage_path = os.path.join(image_path_cityscapes,\"0.jpeg\")\n",
    "# example = Image.open(example_imaage_path).convert(\"RGB\")\n",
    "# example = np.array(example)"
   ]
  },
  {
   "cell_type": "code",
   "execution_count": 7,
   "id": "a8bbd9c0",
   "metadata": {},
   "outputs": [],
   "source": [
    "# print(example[0])\n",
    "# print(X_test[0])"
   ]
  },
  {
   "cell_type": "markdown",
   "id": "1f40ebf9",
   "metadata": {},
   "source": [
    "use the first 100 images"
   ]
  },
  {
   "cell_type": "code",
   "execution_count": 11,
   "id": "feadf9fd",
   "metadata": {},
   "outputs": [],
   "source": [
    "sample_number=100"
   ]
  },
  {
   "cell_type": "code",
   "execution_count": 13,
   "id": "280797b6",
   "metadata": {},
   "outputs": [],
   "source": [
    "subset_images = X_test[:sample_number]\n",
    "subset_labels = Y_test[:sample_number]"
   ]
  },
  {
   "cell_type": "markdown",
   "id": "f446e236",
   "metadata": {},
   "source": [
    "Attempt at sampling, and then realizing this creates more difficulties later on"
   ]
  },
  {
   "cell_type": "code",
   "execution_count": 10,
   "id": "80ece635",
   "metadata": {},
   "outputs": [],
   "source": [
    "# sample_number = 100\n",
    "\n",
    "# cityscapes_names= os.listdir(image_path_cityscapes)\n",
    "# random.seed(55)\n",
    "# cityscapes_names_sample = random.sample(cityscapes_names,sample_number)\n",
    "\n",
    "# sample_indices = []\n",
    "# for name in cityscapes_names_sample:\n",
    "#     index = int(name.split(\".\")[0])\n",
    "#     sample_indices.append(index)\n",
    "\n",
    "# sample_indices.sort()\n",
    "# print(sample_indices)"
   ]
  },
  {
   "cell_type": "markdown",
   "id": "8a24ebbb",
   "metadata": {},
   "source": [
    "1. Need to create and save images"
   ]
  },
  {
   "cell_type": "code",
   "execution_count": 9,
   "id": "5c0d085d",
   "metadata": {},
   "outputs": [],
   "source": [
    "noise_levels = [0,0.2,0.4,0.6,0.8,1.0,1.2,1.4,1.6,1.8]"
   ]
  },
  {
   "cell_type": "markdown",
   "id": "d3f629ea",
   "metadata": {},
   "source": [
    "A function to transform original data to noisy data"
   ]
  },
  {
   "cell_type": "code",
   "execution_count": 15,
   "id": "79b6d329",
   "metadata": {},
   "outputs": [],
   "source": [
    "def transform_dataset(original_dataset,noise_level=0):\n",
    "    new_dataset = []\n",
    "    if noise_level == 0:\n",
    "        return original_dataset\n",
    "    for image in original_dataset:\n",
    "        new_image = image+(noise_level*np.random.normal(0, (image.max() - image.min())/6., image.shape)) # (mean, sigma, image_shape)\n",
    "        # sometimes the random results are out of the pixel range, portraying very weird values\n",
    "        new_image = np.clip(new_image,0,255).astype(\"uint8\")\n",
    "        new_dataset.append(new_image)\n",
    "    new_dataset = np.array(new_dataset)\n",
    "    return new_dataset"
   ]
  },
  {
   "cell_type": "code",
   "execution_count": 16,
   "id": "708e82e5",
   "metadata": {},
   "outputs": [],
   "source": [
    "input_image_list = [transform_dataset(subset_images,noise_levels[i]) for i in range(len(noise_levels))]"
   ]
  },
  {
   "cell_type": "code",
   "execution_count": 17,
   "id": "2012fd67",
   "metadata": {},
   "outputs": [],
   "source": [
    "input_image_array = np.array(input_image_list)"
   ]
  },
  {
   "cell_type": "code",
   "execution_count": 18,
   "id": "8141c986",
   "metadata": {},
   "outputs": [
    {
     "data": {
      "text/plain": [
       "(10, 100, 256, 256, 3)"
      ]
     },
     "execution_count": 18,
     "metadata": {},
     "output_type": "execute_result"
    }
   ],
   "source": [
    "input_image_array.shape"
   ]
  },
  {
   "cell_type": "markdown",
   "id": "41a357c0",
   "metadata": {},
   "source": [
    "* Save images in different folders (each labeled with the noise level)\n",
    "* Save the corresponding paths to list"
   ]
  },
  {
   "cell_type": "code",
   "execution_count": 19,
   "id": "bedac556",
   "metadata": {},
   "outputs": [],
   "source": [
    "original_df = pd.read_csv(\"D:\\zsh\\graduation\\Graduation-project-domain-shift-image-2-image\\system_df_v2.csv\")"
   ]
  },
  {
   "cell_type": "code",
   "execution_count": 20,
   "id": "b3fb2721",
   "metadata": {},
   "outputs": [],
   "source": [
    "# df with real vs synthetic data\n",
    "# use the label path of original df later\n",
    "ratio_columns = original_df.filter(like=\"_ratio\").columns.tolist()"
   ]
  },
  {
   "cell_type": "code",
   "execution_count": 21,
   "id": "dabccafb",
   "metadata": {},
   "outputs": [],
   "source": [
    "start = \"D:\\zsh\\graduation\\Graduation-project-domain-shift-image-2-image\""
   ]
  },
  {
   "cell_type": "code",
   "execution_count": 23,
   "id": "be0a2392",
   "metadata": {},
   "outputs": [
    {
     "name": "stdout",
     "output_type": "stream",
     "text": [
      "D:\\zsh\\graduation\\Graduation-project-domain-shift-image-2-image\\dataset\\noise_data\\images\n"
     ]
    }
   ],
   "source": [
    "print(noisy_image_folder)"
   ]
  },
  {
   "cell_type": "code",
   "execution_count": 24,
   "id": "451094c2",
   "metadata": {},
   "outputs": [],
   "source": [
    "path_list = []\n",
    "for i,noisy_images in enumerate(input_image_array):\n",
    "    noise_level = noise_levels[i]\n",
    "    noise_level_folder = os.path.join(noisy_image_folder,str(noise_level))\n",
    "    if not os.path.exists(noise_level_folder):\n",
    "        os.makedirs(noise_level_folder)\n",
    "    for j,image in enumerate(noisy_images):\n",
    "        img_object = Image.fromarray(image.astype(np.uint8))\n",
    "        name = str(j)+\".jpeg\"\n",
    "        img_path = os.path.join(noise_level_folder,name)\n",
    "        img_path_rel = os.path.relpath(img_path, start)\n",
    "        img_object.save(img_path)\n",
    "        original_row = original_df.loc[original_df[\"name\"]==name]\n",
    "        label_path = original_row[\"label_path\"].values[0]\n",
    "        instance=[name,img_path_rel,label_path]\n",
    "        for column in ratio_columns:\n",
    "            instance.append(original_row[column].values[0])        \n",
    "        \n",
    "        path_list.append(instance)"
   ]
  },
  {
   "cell_type": "code",
   "execution_count": 25,
   "id": "aaaf61b3",
   "metadata": {},
   "outputs": [],
   "source": [
    "column_names_initial = [\"name\", \"image_path\",\"label_path\"]\n",
    "column_names_initial.extend(ratio_columns)\n",
    "df = pd.DataFrame(path_list,columns = column_names_initial)"
   ]
  },
  {
   "cell_type": "code",
   "execution_count": 26,
   "id": "2bb34602",
   "metadata": {},
   "outputs": [],
   "source": [
    "df[\"dataset\"]=\"Cityscapes\""
   ]
  },
  {
   "cell_type": "code",
   "execution_count": 28,
   "id": "4e77f3b6",
   "metadata": {},
   "outputs": [
    {
     "data": {
      "text/html": [
       "<div>\n",
       "<style scoped>\n",
       "    .dataframe tbody tr th:only-of-type {\n",
       "        vertical-align: middle;\n",
       "    }\n",
       "\n",
       "    .dataframe tbody tr th {\n",
       "        vertical-align: top;\n",
       "    }\n",
       "\n",
       "    .dataframe thead th {\n",
       "        text-align: right;\n",
       "    }\n",
       "</style>\n",
       "<table border=\"1\" class=\"dataframe\">\n",
       "  <thead>\n",
       "    <tr style=\"text-align: right;\">\n",
       "      <th></th>\n",
       "      <th>name</th>\n",
       "      <th>image_path</th>\n",
       "      <th>label_path</th>\n",
       "      <th>other_ratio</th>\n",
       "      <th>road_ratio</th>\n",
       "      <th>sidewalk_ratio</th>\n",
       "      <th>vegetation_ratio</th>\n",
       "      <th>sky_ratio</th>\n",
       "      <th>car_ratio</th>\n",
       "      <th>dataset</th>\n",
       "    </tr>\n",
       "  </thead>\n",
       "  <tbody>\n",
       "    <tr>\n",
       "      <th>0</th>\n",
       "      <td>0.jpeg</td>\n",
       "      <td>dataset\\noise_data\\images\\0\\0.jpeg</td>\n",
       "      <td>dataset\\cityscapes_labels_sample\\0.jpeg</td>\n",
       "      <td>0.372009</td>\n",
       "      <td>0.320770</td>\n",
       "      <td>0.100510</td>\n",
       "      <td>0.183990</td>\n",
       "      <td>0.020248</td>\n",
       "      <td>0.002472</td>\n",
       "      <td>Cityscapes</td>\n",
       "    </tr>\n",
       "    <tr>\n",
       "      <th>1</th>\n",
       "      <td>1.jpeg</td>\n",
       "      <td>dataset\\noise_data\\images\\0\\1.jpeg</td>\n",
       "      <td>dataset\\cityscapes_labels_sample\\1.jpeg</td>\n",
       "      <td>0.539703</td>\n",
       "      <td>0.414398</td>\n",
       "      <td>0.041168</td>\n",
       "      <td>0.000565</td>\n",
       "      <td>0.004166</td>\n",
       "      <td>0.000000</td>\n",
       "      <td>Cityscapes</td>\n",
       "    </tr>\n",
       "    <tr>\n",
       "      <th>2</th>\n",
       "      <td>2.jpeg</td>\n",
       "      <td>dataset\\noise_data\\images\\0\\2.jpeg</td>\n",
       "      <td>dataset\\cityscapes_labels_sample\\2.jpeg</td>\n",
       "      <td>0.462753</td>\n",
       "      <td>0.354187</td>\n",
       "      <td>0.029633</td>\n",
       "      <td>0.121323</td>\n",
       "      <td>0.018356</td>\n",
       "      <td>0.013748</td>\n",
       "      <td>Cityscapes</td>\n",
       "    </tr>\n",
       "    <tr>\n",
       "      <th>3</th>\n",
       "      <td>3.jpeg</td>\n",
       "      <td>dataset\\noise_data\\images\\0\\3.jpeg</td>\n",
       "      <td>dataset\\cityscapes_labels_sample\\3.jpeg</td>\n",
       "      <td>0.425674</td>\n",
       "      <td>0.381119</td>\n",
       "      <td>0.065292</td>\n",
       "      <td>0.101120</td>\n",
       "      <td>0.016296</td>\n",
       "      <td>0.010498</td>\n",
       "      <td>Cityscapes</td>\n",
       "    </tr>\n",
       "    <tr>\n",
       "      <th>4</th>\n",
       "      <td>4.jpeg</td>\n",
       "      <td>dataset\\noise_data\\images\\0\\4.jpeg</td>\n",
       "      <td>dataset\\cityscapes_labels_sample\\4.jpeg</td>\n",
       "      <td>0.400284</td>\n",
       "      <td>0.329453</td>\n",
       "      <td>0.090469</td>\n",
       "      <td>0.174393</td>\n",
       "      <td>0.001465</td>\n",
       "      <td>0.003937</td>\n",
       "      <td>Cityscapes</td>\n",
       "    </tr>\n",
       "    <tr>\n",
       "      <th>...</th>\n",
       "      <td>...</td>\n",
       "      <td>...</td>\n",
       "      <td>...</td>\n",
       "      <td>...</td>\n",
       "      <td>...</td>\n",
       "      <td>...</td>\n",
       "      <td>...</td>\n",
       "      <td>...</td>\n",
       "      <td>...</td>\n",
       "      <td>...</td>\n",
       "    </tr>\n",
       "    <tr>\n",
       "      <th>995</th>\n",
       "      <td>95.jpeg</td>\n",
       "      <td>dataset\\noise_data\\images\\1.8\\95.jpeg</td>\n",
       "      <td>dataset\\cityscapes_labels_sample\\95.jpeg</td>\n",
       "      <td>0.558487</td>\n",
       "      <td>0.187454</td>\n",
       "      <td>0.000000</td>\n",
       "      <td>0.135422</td>\n",
       "      <td>0.095032</td>\n",
       "      <td>0.023605</td>\n",
       "      <td>Cityscapes</td>\n",
       "    </tr>\n",
       "    <tr>\n",
       "      <th>996</th>\n",
       "      <td>96.jpeg</td>\n",
       "      <td>dataset\\noise_data\\images\\1.8\\96.jpeg</td>\n",
       "      <td>dataset\\cityscapes_labels_sample\\96.jpeg</td>\n",
       "      <td>0.433578</td>\n",
       "      <td>0.403763</td>\n",
       "      <td>0.017990</td>\n",
       "      <td>0.086182</td>\n",
       "      <td>0.023712</td>\n",
       "      <td>0.034775</td>\n",
       "      <td>Cityscapes</td>\n",
       "    </tr>\n",
       "    <tr>\n",
       "      <th>997</th>\n",
       "      <td>97.jpeg</td>\n",
       "      <td>dataset\\noise_data\\images\\1.8\\97.jpeg</td>\n",
       "      <td>dataset\\cityscapes_labels_sample\\97.jpeg</td>\n",
       "      <td>0.504059</td>\n",
       "      <td>0.320679</td>\n",
       "      <td>0.055939</td>\n",
       "      <td>0.010696</td>\n",
       "      <td>0.050110</td>\n",
       "      <td>0.058517</td>\n",
       "      <td>Cityscapes</td>\n",
       "    </tr>\n",
       "    <tr>\n",
       "      <th>998</th>\n",
       "      <td>98.jpeg</td>\n",
       "      <td>dataset\\noise_data\\images\\1.8\\98.jpeg</td>\n",
       "      <td>dataset\\cityscapes_labels_sample\\98.jpeg</td>\n",
       "      <td>0.367798</td>\n",
       "      <td>0.340378</td>\n",
       "      <td>0.065277</td>\n",
       "      <td>0.166519</td>\n",
       "      <td>0.007507</td>\n",
       "      <td>0.052521</td>\n",
       "      <td>Cityscapes</td>\n",
       "    </tr>\n",
       "    <tr>\n",
       "      <th>999</th>\n",
       "      <td>99.jpeg</td>\n",
       "      <td>dataset\\noise_data\\images\\1.8\\99.jpeg</td>\n",
       "      <td>dataset\\cityscapes_labels_sample\\99.jpeg</td>\n",
       "      <td>0.212357</td>\n",
       "      <td>0.442505</td>\n",
       "      <td>0.037872</td>\n",
       "      <td>0.164948</td>\n",
       "      <td>0.126434</td>\n",
       "      <td>0.015884</td>\n",
       "      <td>Cityscapes</td>\n",
       "    </tr>\n",
       "  </tbody>\n",
       "</table>\n",
       "<p>1000 rows × 10 columns</p>\n",
       "</div>"
      ],
      "text/plain": [
       "        name                             image_path  \\\n",
       "0     0.jpeg     dataset\\noise_data\\images\\0\\0.jpeg   \n",
       "1     1.jpeg     dataset\\noise_data\\images\\0\\1.jpeg   \n",
       "2     2.jpeg     dataset\\noise_data\\images\\0\\2.jpeg   \n",
       "3     3.jpeg     dataset\\noise_data\\images\\0\\3.jpeg   \n",
       "4     4.jpeg     dataset\\noise_data\\images\\0\\4.jpeg   \n",
       "..       ...                                    ...   \n",
       "995  95.jpeg  dataset\\noise_data\\images\\1.8\\95.jpeg   \n",
       "996  96.jpeg  dataset\\noise_data\\images\\1.8\\96.jpeg   \n",
       "997  97.jpeg  dataset\\noise_data\\images\\1.8\\97.jpeg   \n",
       "998  98.jpeg  dataset\\noise_data\\images\\1.8\\98.jpeg   \n",
       "999  99.jpeg  dataset\\noise_data\\images\\1.8\\99.jpeg   \n",
       "\n",
       "                                   label_path  other_ratio  road_ratio  \\\n",
       "0     dataset\\cityscapes_labels_sample\\0.jpeg     0.372009    0.320770   \n",
       "1     dataset\\cityscapes_labels_sample\\1.jpeg     0.539703    0.414398   \n",
       "2     dataset\\cityscapes_labels_sample\\2.jpeg     0.462753    0.354187   \n",
       "3     dataset\\cityscapes_labels_sample\\3.jpeg     0.425674    0.381119   \n",
       "4     dataset\\cityscapes_labels_sample\\4.jpeg     0.400284    0.329453   \n",
       "..                                        ...          ...         ...   \n",
       "995  dataset\\cityscapes_labels_sample\\95.jpeg     0.558487    0.187454   \n",
       "996  dataset\\cityscapes_labels_sample\\96.jpeg     0.433578    0.403763   \n",
       "997  dataset\\cityscapes_labels_sample\\97.jpeg     0.504059    0.320679   \n",
       "998  dataset\\cityscapes_labels_sample\\98.jpeg     0.367798    0.340378   \n",
       "999  dataset\\cityscapes_labels_sample\\99.jpeg     0.212357    0.442505   \n",
       "\n",
       "     sidewalk_ratio  vegetation_ratio  sky_ratio  car_ratio     dataset  \n",
       "0          0.100510          0.183990   0.020248   0.002472  Cityscapes  \n",
       "1          0.041168          0.000565   0.004166   0.000000  Cityscapes  \n",
       "2          0.029633          0.121323   0.018356   0.013748  Cityscapes  \n",
       "3          0.065292          0.101120   0.016296   0.010498  Cityscapes  \n",
       "4          0.090469          0.174393   0.001465   0.003937  Cityscapes  \n",
       "..              ...               ...        ...        ...         ...  \n",
       "995        0.000000          0.135422   0.095032   0.023605  Cityscapes  \n",
       "996        0.017990          0.086182   0.023712   0.034775  Cityscapes  \n",
       "997        0.055939          0.010696   0.050110   0.058517  Cityscapes  \n",
       "998        0.065277          0.166519   0.007507   0.052521  Cityscapes  \n",
       "999        0.037872          0.164948   0.126434   0.015884  Cityscapes  \n",
       "\n",
       "[1000 rows x 10 columns]"
      ]
     },
     "execution_count": 28,
     "metadata": {},
     "output_type": "execute_result"
    }
   ],
   "source": [
    "df"
   ]
  },
  {
   "cell_type": "markdown",
   "id": "918a8071",
   "metadata": {},
   "source": [
    "# Embedding of inputs"
   ]
  },
  {
   "cell_type": "code",
   "execution_count": 39,
   "id": "d66fd38e",
   "metadata": {},
   "outputs": [
    {
     "name": "stdout",
     "output_type": "stream",
     "text": [
      "0.4946311120336876\n"
     ]
    }
   ],
   "source": [
    "simple_combined_embedding =np.reshape(input_image_array,(len(input_image_array)*sample_number, 256*256*3))\n",
    "\n",
    "pca_50 = PCA(n_components=50)\n",
    "pca_embedding = pca_50.fit_transform(simple_combined_embedding)\n",
    "print(np.sum(pca_50.explained_variance_ratio_))\n",
    "tsne = TSNE(perplexity = 5)\n",
    "simple_tsne_embedding = tsne.fit_transform(pca_embedding)"
   ]
  },
  {
   "cell_type": "code",
   "execution_count": 40,
   "id": "7ac1afdf",
   "metadata": {},
   "outputs": [
    {
     "name": "stdout",
     "output_type": "stream",
     "text": [
      "0.1252126103317993\n"
     ]
    }
   ],
   "source": [
    "pca = PCA(n_components=2)\n",
    "pca_embedding = pca.fit_transform(simple_combined_embedding)\n",
    "print(np.sum(pca.explained_variance_ratio_))"
   ]
  },
  {
   "cell_type": "code",
   "execution_count": 32,
   "id": "c7b4f2ad",
   "metadata": {},
   "outputs": [
    {
     "name": "stdout",
     "output_type": "stream",
     "text": [
      "D:\\zsh\\graduation\\ViTs-vs-CNNs\n"
     ]
    }
   ],
   "source": [
    "cd D:\\zsh\\graduation\\ViTs-vs-CNNs"
   ]
  },
  {
   "cell_type": "code",
   "execution_count": 33,
   "id": "ca54a37a",
   "metadata": {},
   "outputs": [
    {
     "data": {
      "text/plain": [
       "<All keys matched successfully>"
      ]
     },
     "execution_count": 33,
     "metadata": {},
     "output_type": "execute_result"
    }
   ],
   "source": [
    "import torch\n",
    "import torch.nn as nn\n",
    "import global_val\n",
    "\n",
    "from models.ghost_bn import GhostBN2D_ADV\n",
    "from models.advresnet_gbn_gelu import Affine\n",
    "import models.advresnet_gbn_gelu as advres\n",
    "from main_adv_res import EightBN\n",
    "\n",
    "device = torch.device(\"cuda:0\" if torch.cuda.is_available() else \"cpu\")\n",
    "\n",
    "classifier_model = advres.__dict__[\"resnet50\"](norm_layer = EightBN)\n",
    "weights_path = \"D:\\zsh\\graduation\\Graduation-project-domain-shift-image-2-image\\models\\\\advres50_gelu.pth\"\n",
    "weight_dict = torch.load(weights_path,map_location=device)[\"model\"]\n",
    "\n",
    "classifier_model.load_state_dict(weight_dict)"
   ]
  },
  {
   "cell_type": "code",
   "execution_count": 35,
   "id": "481649fe",
   "metadata": {},
   "outputs": [
    {
     "name": "stdout",
     "output_type": "stream",
     "text": [
      "D:\\zsh\\graduation\\Graduation-project-domain-shift-image-2-image\\jupyter\n"
     ]
    }
   ],
   "source": [
    "cd D:\\zsh\\graduation\\Graduation-project-domain-shift-image-2-image\\jupyter"
   ]
  },
  {
   "cell_type": "markdown",
   "id": "c1fb1c62",
   "metadata": {},
   "source": [
    "(added second_part_embedding back after the last run)"
   ]
  },
  {
   "cell_type": "code",
   "execution_count": 36,
   "id": "2dba5c1d",
   "metadata": {},
   "outputs": [],
   "source": [
    "def get_representation_for_image(image,label):\n",
    "    # resize the image and transform it to tensor # [256,256,3] -> [224,224,3] \n",
    "    resized_image = resize(image, (224, 224,3))\n",
    "    resized_image_tensor = torch.from_numpy(resized_image)\n",
    "    resized_image_tensor = torch.permute(resized_image_tensor, (2, 0, 1))\n",
    "    resized_image_tensor = resized_image_tensor[None,:] # [3,224,224] -> [1,3,224,224] (because model takes 4D input)\n",
    "    \n",
    "    # dictionary for the activations\n",
    "    activations = {}\n",
    "\n",
    "    def get_activations(name):\n",
    "        def hook(model, input, output):\n",
    "            activations[name] = output.detach()\n",
    "        return hook\n",
    "\n",
    "    # use the output of (avgpool) layer because it is the same as the input of last layer\n",
    "    h = classifier_model.avgpool.register_forward_hook(get_activations(\"input_last_layer\"))\n",
    "\n",
    "    classifier_model.eval()\n",
    "    classifier_model.sing=True\n",
    "    classifier_model.training=False\n",
    "    out = classifier_model(resized_image_tensor.float(),label)\n",
    "    \n",
    "    # remove the hook\n",
    "    h.remove()\n",
    "\n",
    "    first_part_embedding = torch.flatten(activations[\"input_last_layer\"][0])\n",
    "    # the second part of the embedding is size of each class\n",
    "    #  (this section of code is overlapping with generating class distribution, improve this for a better result)   \n",
    "    second_part_embedding=[]\n",
    "    for i in range(6):\n",
    "        class_size = np.count_nonzero(label == i)\n",
    "        second_part_embedding.append(class_size)\n",
    "    embedding = np.concatenate((first_part_embedding.numpy(),np.array(second_part_embedding)),axis = 0)\n",
    "    \n",
    "    return embedding"
   ]
  },
  {
   "cell_type": "code",
   "execution_count": 37,
   "id": "8a7a81b3",
   "metadata": {},
   "outputs": [],
   "source": [
    "combined_images = input_image_array.reshape(((len(input_image_array)*sample_number, 256,256,3)))"
   ]
  },
  {
   "cell_type": "code",
   "execution_count": 38,
   "id": "9412744d",
   "metadata": {},
   "outputs": [
    {
     "data": {
      "text/plain": [
       "(1000, 256, 256, 3)"
      ]
     },
     "execution_count": 38,
     "metadata": {},
     "output_type": "execute_result"
    }
   ],
   "source": [
    "combined_images.shape"
   ]
  },
  {
   "cell_type": "code",
   "execution_count": 41,
   "id": "e51aa950",
   "metadata": {},
   "outputs": [],
   "source": [
    "embedding_list = []\n",
    "for i, image in enumerate(combined_images): # i is not used, could remove the enumerate\n",
    "    embedding = get_representation_for_image(image,\"__\") # y_label is never used, so just use replacement\n",
    "    embedding_list.append(embedding)\n",
    "\n",
    "embedding_arr = np.array(embedding_list)\n",
    "\n",
    "# only use t-SNE for the classifier embedding\n",
    "tsne = TSNE(perplexity=5)\n",
    "meaningful_tsne_embedding = tsne.fit_transform(embedding_arr)"
   ]
  },
  {
   "cell_type": "code",
   "execution_count": 42,
   "id": "5ef2e2e1",
   "metadata": {},
   "outputs": [
    {
     "data": {
      "text/plain": [
       "(1000, 2)"
      ]
     },
     "execution_count": 42,
     "metadata": {},
     "output_type": "execute_result"
    }
   ],
   "source": [
    "meaningful_tsne_embedding.shape"
   ]
  },
  {
   "cell_type": "code",
   "execution_count": 43,
   "id": "616218d8",
   "metadata": {},
   "outputs": [],
   "source": [
    "full_embedding = np.concatenate((simple_tsne_embedding,meaningful_tsne_embedding,pca_embedding),axis=1)\n",
    "df_input_embedding = pd.DataFrame(full_embedding, columns=[\"simple_tsne_1\",\"simple_tsne_2\",\"meaningful_tsne_1\",\"meaningful_tsne_2\",\"pca_1\",\"pca_2\"])"
   ]
  },
  {
   "cell_type": "code",
   "execution_count": 44,
   "id": "ac7944e8",
   "metadata": {},
   "outputs": [],
   "source": [
    "df = pd.concat((df,df_input_embedding),axis = 1)"
   ]
  },
  {
   "cell_type": "code",
   "execution_count": 45,
   "id": "49bd7d24",
   "metadata": {},
   "outputs": [
    {
     "data": {
      "text/html": [
       "<div>\n",
       "<style scoped>\n",
       "    .dataframe tbody tr th:only-of-type {\n",
       "        vertical-align: middle;\n",
       "    }\n",
       "\n",
       "    .dataframe tbody tr th {\n",
       "        vertical-align: top;\n",
       "    }\n",
       "\n",
       "    .dataframe thead th {\n",
       "        text-align: right;\n",
       "    }\n",
       "</style>\n",
       "<table border=\"1\" class=\"dataframe\">\n",
       "  <thead>\n",
       "    <tr style=\"text-align: right;\">\n",
       "      <th></th>\n",
       "      <th>name</th>\n",
       "      <th>image_path</th>\n",
       "      <th>label_path</th>\n",
       "      <th>other_ratio</th>\n",
       "      <th>road_ratio</th>\n",
       "      <th>sidewalk_ratio</th>\n",
       "      <th>vegetation_ratio</th>\n",
       "      <th>sky_ratio</th>\n",
       "      <th>car_ratio</th>\n",
       "      <th>dataset</th>\n",
       "      <th>simple_tsne_1</th>\n",
       "      <th>simple_tsne_2</th>\n",
       "      <th>meaningful_tsne_1</th>\n",
       "      <th>meaningful_tsne_2</th>\n",
       "      <th>pca_1</th>\n",
       "      <th>pca_2</th>\n",
       "    </tr>\n",
       "  </thead>\n",
       "  <tbody>\n",
       "    <tr>\n",
       "      <th>0</th>\n",
       "      <td>0.jpeg</td>\n",
       "      <td>dataset\\noise_data\\images\\0\\0.jpeg</td>\n",
       "      <td>dataset\\cityscapes_labels_sample\\0.jpeg</td>\n",
       "      <td>0.372009</td>\n",
       "      <td>0.320770</td>\n",
       "      <td>0.100510</td>\n",
       "      <td>0.183990</td>\n",
       "      <td>0.020248</td>\n",
       "      <td>0.002472</td>\n",
       "      <td>Cityscapes</td>\n",
       "      <td>-62.074841</td>\n",
       "      <td>36.200264</td>\n",
       "      <td>3.043021</td>\n",
       "      <td>39.138824</td>\n",
       "      <td>-13878.240511</td>\n",
       "      <td>-3285.104962</td>\n",
       "    </tr>\n",
       "    <tr>\n",
       "      <th>1</th>\n",
       "      <td>1.jpeg</td>\n",
       "      <td>dataset\\noise_data\\images\\0\\1.jpeg</td>\n",
       "      <td>dataset\\cityscapes_labels_sample\\1.jpeg</td>\n",
       "      <td>0.539703</td>\n",
       "      <td>0.414398</td>\n",
       "      <td>0.041168</td>\n",
       "      <td>0.000565</td>\n",
       "      <td>0.004166</td>\n",
       "      <td>0.000000</td>\n",
       "      <td>Cityscapes</td>\n",
       "      <td>44.386837</td>\n",
       "      <td>-9.212891</td>\n",
       "      <td>-64.559502</td>\n",
       "      <td>-48.083633</td>\n",
       "      <td>7664.169604</td>\n",
       "      <td>2740.275866</td>\n",
       "    </tr>\n",
       "    <tr>\n",
       "      <th>2</th>\n",
       "      <td>2.jpeg</td>\n",
       "      <td>dataset\\noise_data\\images\\0\\2.jpeg</td>\n",
       "      <td>dataset\\cityscapes_labels_sample\\2.jpeg</td>\n",
       "      <td>0.462753</td>\n",
       "      <td>0.354187</td>\n",
       "      <td>0.029633</td>\n",
       "      <td>0.121323</td>\n",
       "      <td>0.018356</td>\n",
       "      <td>0.013748</td>\n",
       "      <td>Cityscapes</td>\n",
       "      <td>-67.072952</td>\n",
       "      <td>52.472343</td>\n",
       "      <td>-18.127096</td>\n",
       "      <td>41.133499</td>\n",
       "      <td>-2078.566185</td>\n",
       "      <td>4442.207241</td>\n",
       "    </tr>\n",
       "    <tr>\n",
       "      <th>3</th>\n",
       "      <td>3.jpeg</td>\n",
       "      <td>dataset\\noise_data\\images\\0\\3.jpeg</td>\n",
       "      <td>dataset\\cityscapes_labels_sample\\3.jpeg</td>\n",
       "      <td>0.425674</td>\n",
       "      <td>0.381119</td>\n",
       "      <td>0.065292</td>\n",
       "      <td>0.101120</td>\n",
       "      <td>0.016296</td>\n",
       "      <td>0.010498</td>\n",
       "      <td>Cityscapes</td>\n",
       "      <td>-18.054298</td>\n",
       "      <td>-13.525720</td>\n",
       "      <td>-47.439964</td>\n",
       "      <td>-34.783352</td>\n",
       "      <td>458.471576</td>\n",
       "      <td>-3887.799220</td>\n",
       "    </tr>\n",
       "    <tr>\n",
       "      <th>4</th>\n",
       "      <td>4.jpeg</td>\n",
       "      <td>dataset\\noise_data\\images\\0\\4.jpeg</td>\n",
       "      <td>dataset\\cityscapes_labels_sample\\4.jpeg</td>\n",
       "      <td>0.400284</td>\n",
       "      <td>0.329453</td>\n",
       "      <td>0.090469</td>\n",
       "      <td>0.174393</td>\n",
       "      <td>0.001465</td>\n",
       "      <td>0.003937</td>\n",
       "      <td>Cityscapes</td>\n",
       "      <td>-21.384346</td>\n",
       "      <td>39.205906</td>\n",
       "      <td>-2.997698</td>\n",
       "      <td>17.844503</td>\n",
       "      <td>-12533.626242</td>\n",
       "      <td>-1207.443328</td>\n",
       "    </tr>\n",
       "  </tbody>\n",
       "</table>\n",
       "</div>"
      ],
      "text/plain": [
       "     name                          image_path  \\\n",
       "0  0.jpeg  dataset\\noise_data\\images\\0\\0.jpeg   \n",
       "1  1.jpeg  dataset\\noise_data\\images\\0\\1.jpeg   \n",
       "2  2.jpeg  dataset\\noise_data\\images\\0\\2.jpeg   \n",
       "3  3.jpeg  dataset\\noise_data\\images\\0\\3.jpeg   \n",
       "4  4.jpeg  dataset\\noise_data\\images\\0\\4.jpeg   \n",
       "\n",
       "                                label_path  other_ratio  road_ratio  \\\n",
       "0  dataset\\cityscapes_labels_sample\\0.jpeg     0.372009    0.320770   \n",
       "1  dataset\\cityscapes_labels_sample\\1.jpeg     0.539703    0.414398   \n",
       "2  dataset\\cityscapes_labels_sample\\2.jpeg     0.462753    0.354187   \n",
       "3  dataset\\cityscapes_labels_sample\\3.jpeg     0.425674    0.381119   \n",
       "4  dataset\\cityscapes_labels_sample\\4.jpeg     0.400284    0.329453   \n",
       "\n",
       "   sidewalk_ratio  vegetation_ratio  sky_ratio  car_ratio     dataset  \\\n",
       "0        0.100510          0.183990   0.020248   0.002472  Cityscapes   \n",
       "1        0.041168          0.000565   0.004166   0.000000  Cityscapes   \n",
       "2        0.029633          0.121323   0.018356   0.013748  Cityscapes   \n",
       "3        0.065292          0.101120   0.016296   0.010498  Cityscapes   \n",
       "4        0.090469          0.174393   0.001465   0.003937  Cityscapes   \n",
       "\n",
       "   simple_tsne_1  simple_tsne_2  meaningful_tsne_1  meaningful_tsne_2  \\\n",
       "0     -62.074841      36.200264           3.043021          39.138824   \n",
       "1      44.386837      -9.212891         -64.559502         -48.083633   \n",
       "2     -67.072952      52.472343         -18.127096          41.133499   \n",
       "3     -18.054298     -13.525720         -47.439964         -34.783352   \n",
       "4     -21.384346      39.205906          -2.997698          17.844503   \n",
       "\n",
       "          pca_1        pca_2  \n",
       "0 -13878.240511 -3285.104962  \n",
       "1   7664.169604  2740.275866  \n",
       "2  -2078.566185  4442.207241  \n",
       "3    458.471576 -3887.799220  \n",
       "4 -12533.626242 -1207.443328  "
      ]
     },
     "execution_count": 45,
     "metadata": {},
     "output_type": "execute_result"
    }
   ],
   "source": [
    "df.head()"
   ]
  },
  {
   "cell_type": "markdown",
   "id": "2920bfd2",
   "metadata": {},
   "source": [
    "# Define the Dataloader and model"
   ]
  },
  {
   "cell_type": "code",
   "execution_count": 46,
   "id": "73a953bc",
   "metadata": {},
   "outputs": [],
   "source": [
    "class CityscapesDataset(Dataset):\n",
    "    \n",
    "    def __init__(self, images, labels, noise_level = 0):\n",
    "        self.images = images\n",
    "        self.labels = labels\n",
    "        self.noise_level = noise_level\n",
    "        \n",
    "    def __len__(self):\n",
    "        return len(self.images)\n",
    "    \n",
    "    def __getitem__(self, index):\n",
    "        image = self.images[index]\n",
    "        label = self.labels[index]\n",
    "        if self.noise_level!=0:\n",
    "            image = image+(self.noise_level*np.random.normal(0, (image.max() - image.min()), image.shape)).astype(\"uint8\") # (mean, sigma, image_shape)\n",
    "        image = self.transform(image)\n",
    "        label = torch.from_numpy(label).long()\n",
    "        return image, label\n",
    "        \n",
    "    def transform(self, image):\n",
    "        transform_ops = transforms.Compose([\n",
    "            transforms.ToTensor(),\n",
    "            transforms.Normalize(mean=(0.485, 0.456, 0.406), std=(0.229, 0.224, 0.225)) # normalize to control the \"dynamic range\" of activations of different layers\n",
    "        ])\n",
    "        return transform_ops(image)"
   ]
  },
  {
   "cell_type": "code",
   "execution_count": 47,
   "id": "4103f5fd",
   "metadata": {},
   "outputs": [],
   "source": [
    "class UNet(nn.Module):\n",
    "    \n",
    "    def __init__(self, num_classes):\n",
    "        super(UNet, self).__init__()\n",
    "        self.num_classes = num_classes\n",
    "        self.contracting_11 = self.conv_block(in_channels=3, out_channels=64)\n",
    "        self.contracting_12 = nn.MaxPool2d(kernel_size=2, stride=2)\n",
    "        self.contracting_21 = self.conv_block(in_channels=64, out_channels=128)\n",
    "        self.contracting_22 = nn.MaxPool2d(kernel_size=2, stride=2)\n",
    "        self.contracting_31 = self.conv_block(in_channels=128, out_channels=256)\n",
    "        self.contracting_32 = nn.MaxPool2d(kernel_size=2, stride=2)\n",
    "        self.contracting_41 = self.conv_block(in_channels=256, out_channels=512)\n",
    "        self.contracting_42 = nn.MaxPool2d(kernel_size=2, stride=2)\n",
    "        self.middle = self.conv_block(in_channels=512, out_channels=1024)\n",
    "        self.expansive_11 = nn.ConvTranspose2d(in_channels=1024, out_channels=512, kernel_size=3, stride=2, padding=1, output_padding=1)\n",
    "        self.expansive_12 = self.conv_block(in_channels=1024, out_channels=512)\n",
    "        self.expansive_21 = nn.ConvTranspose2d(in_channels=512, out_channels=256, kernel_size=3, stride=2, padding=1, output_padding=1)\n",
    "        self.expansive_22 = self.conv_block(in_channels=512, out_channels=256)\n",
    "        self.expansive_31 = nn.ConvTranspose2d(in_channels=256, out_channels=128, kernel_size=3, stride=2, padding=1, output_padding=1)\n",
    "        self.expansive_32 = self.conv_block(in_channels=256, out_channels=128)\n",
    "        self.expansive_41 = nn.ConvTranspose2d(in_channels=128, out_channels=64, kernel_size=3, stride=2, padding=1, output_padding=1)\n",
    "        self.expansive_42 = self.conv_block(in_channels=128, out_channels=64)\n",
    "        self.output = nn.Conv2d(in_channels=64, out_channels=num_classes, kernel_size=3, stride=1, padding=1)\n",
    "        \n",
    "    def conv_block(self, in_channels, out_channels):\n",
    "        block = nn.Sequential(nn.Conv2d(in_channels=in_channels, out_channels=out_channels, kernel_size=3, stride=1, padding=1),\n",
    "                                    nn.ReLU(),\n",
    "                                    nn.BatchNorm2d(num_features=out_channels),\n",
    "                                    nn.Conv2d(in_channels=out_channels, out_channels=out_channels, kernel_size=3, stride=1, padding=1),\n",
    "                                    nn.ReLU(),\n",
    "                                    nn.BatchNorm2d(num_features=out_channels))\n",
    "        return block\n",
    "    \n",
    "    def forward(self, X):\n",
    "        contracting_11_out = self.contracting_11(X) # [-1, 64, 256, 256]\n",
    "        contracting_12_out = self.contracting_12(contracting_11_out) # [-1, 64, 128, 128]\n",
    "        contracting_21_out = self.contracting_21(contracting_12_out) # [-1, 128, 128, 128]\n",
    "        contracting_22_out = self.contracting_22(contracting_21_out) # [-1, 128, 64, 64]\n",
    "        contracting_31_out = self.contracting_31(contracting_22_out) # [-1, 256, 64, 64]\n",
    "        contracting_32_out = self.contracting_32(contracting_31_out) # [-1, 256, 32, 32]\n",
    "        contracting_41_out = self.contracting_41(contracting_32_out) # [-1, 512, 32, 32]\n",
    "        contracting_42_out = self.contracting_42(contracting_41_out) # [-1, 512, 16, 16]\n",
    "        middle_out = self.middle(contracting_42_out) # [-1, 1024, 16, 16]\n",
    "        expansive_11_out = self.expansive_11(middle_out) # [-1, 512, 32, 32]\n",
    "        expansive_12_out = self.expansive_12(torch.cat((expansive_11_out, contracting_41_out), dim=1)) # [-1, 1024, 32, 32] -> [-1, 512, 32, 32]\n",
    "        expansive_21_out = self.expansive_21(expansive_12_out) # [-1, 256, 64, 64]\n",
    "        expansive_22_out = self.expansive_22(torch.cat((expansive_21_out, contracting_31_out), dim=1)) # [-1, 512, 64, 64] -> [-1, 256, 64, 64]\n",
    "        expansive_31_out = self.expansive_31(expansive_22_out) # [-1, 128, 128, 128]\n",
    "        expansive_32_out = self.expansive_32(torch.cat((expansive_31_out, contracting_21_out), dim=1)) # [-1, 256, 128, 128] -> [-1, 128, 128, 128]\n",
    "        expansive_41_out = self.expansive_41(expansive_32_out) # [-1, 64, 256, 256]\n",
    "        expansive_42_out = self.expansive_42(torch.cat((expansive_41_out, contracting_11_out), dim=1)) # [-1, 128, 256, 256] -> [-1, 64, 256, 256]\n",
    "        output_out = self.output(expansive_42_out) # [-1, num_classes, 256, 256]\n",
    "        return output_out"
   ]
  },
  {
   "cell_type": "code",
   "execution_count": 48,
   "id": "34005117",
   "metadata": {},
   "outputs": [
    {
     "name": "stdout",
     "output_type": "stream",
     "text": [
      "cpu\n"
     ]
    },
    {
     "data": {
      "text/plain": [
       "<All keys matched successfully>"
      ]
     },
     "execution_count": 48,
     "metadata": {},
     "output_type": "execute_result"
    }
   ],
   "source": [
    "model_path = \"D:\\zsh\\graduation\\Graduation-project-domain-shift-image-2-image\\models\\\\5-classes-U-Net-2023-03-09.pth\"\n",
    "\n",
    "device = torch.device(\"cuda:0\" if torch.cuda.is_available() else \"cpu\")\n",
    "print(device)\n",
    "model_ = UNet(num_classes=6).to(device)\n",
    "model_.load_state_dict(torch.load(model_path,map_location=device))"
   ]
  },
  {
   "cell_type": "code",
   "execution_count": 49,
   "id": "9cd7876c",
   "metadata": {},
   "outputs": [],
   "source": [
    "def IoU_per_class(prediction,label):\n",
    "    prediction = prediction.detach().numpy()\n",
    "    label = label.detach().numpy()\n",
    "    # Loop over each class\n",
    "    iou_list = []\n",
    "    # Flatten label and class arrays\n",
    "    flat_prediction = prediction.flatten()\n",
    "    flat_label = label.flatten()\n",
    "\n",
    "    for i in range(6):\n",
    "        \n",
    "        # Calculate intersection and union\n",
    "        intersection = np.sum((flat_prediction == i) & (flat_label == i))\n",
    "        union = np.sum((flat_prediction == i) | (flat_label == i))\n",
    "\n",
    "        # Calculate IoU\n",
    "        iou = intersection / (union + 1e-12)\n",
    "\n",
    "        # Store IoU value in dictionary\n",
    "        iou_list.append(iou)\n",
    "    \n",
    "    # calculate overall IoU\n",
    "    intersection = len(np.where(flat_prediction == flat_label)[0])\n",
    "    union = len(flat_label)\n",
    "    overall_iou = intersection / (union + 1e-12)\n",
    "    \n",
    "    return overall_iou,iou_list"
   ]
  },
  {
   "cell_type": "code",
   "execution_count": 50,
   "id": "043ec3e9",
   "metadata": {},
   "outputs": [
    {
     "name": "stdout",
     "output_type": "stream",
     "text": [
      "(1000, 256, 256)\n"
     ]
    }
   ],
   "source": [
    "# get labels for dataloader\n",
    "combined_labels = []\n",
    "combined_labels = np.tile(subset_labels,(len(noise_levels),1,1)) # repeat the array 4 times along the first axis, while keeping the other axes unchanged\n",
    "print(combined_labels.shape)\n",
    "\n",
    "# construct data loader\n",
    "batch_size = 1\n",
    "noise_dataset = CityscapesDataset(combined_images, combined_labels,noise_level=0)\n",
    "noise_loader = DataLoader(noise_dataset, batch_size=batch_size)"
   ]
  },
  {
   "cell_type": "code",
   "execution_count": 51,
   "id": "45953216",
   "metadata": {},
   "outputs": [
    {
     "name": "stdout",
     "output_type": "stream",
     "text": [
      "(1000, 256, 256, 3)\n",
      "(1000, 256, 256)\n"
     ]
    }
   ],
   "source": [
    "print(combined_images.shape)\n",
    "print(combined_labels.shape)"
   ]
  },
  {
   "cell_type": "code",
   "execution_count": 54,
   "id": "f924c1d6",
   "metadata": {},
   "outputs": [],
   "source": [
    "# class to color: for viewing labels\n",
    "colors = [[  0,   0,   0],\n",
    "          [128, 64, 128],# road\n",
    "          [244, 35, 232], # sidewalk\n",
    "          [107, 142, 35],# vegetation\n",
    "          [70, 130, 180], # sky\n",
    "          [0, 0, 142], # car\n",
    "         ]\n",
    "\n",
    "def class_to_color(labels):\n",
    "    label_colors = np.zeros((256,256,3))\n",
    "    \n",
    "    for i,row in enumerate(labels):\n",
    "        for j,pixel in enumerate(row):\n",
    "            label_colors[i,j] = colors[pixel]\n",
    "    \n",
    "    return label_colors.astype(int)  # make each pixel value an integer to visualize it better"
   ]
  },
  {
   "cell_type": "code",
   "execution_count": 56,
   "id": "53bf4f84",
   "metadata": {},
   "outputs": [],
   "source": [
    "def getActivation(name):\n",
    "    # the hook signature\n",
    "    def hook(model, input, output):\n",
    "        activation[name] = output.detach()\n",
    "    return hook\n",
    "\n",
    "model_activations = []\n",
    "overall_ious = []\n",
    "ious_by_class =[]\n",
    "predictions = []\n",
    "\n",
    "for image,label in noise_loader:\n",
    "    activation = {}\n",
    "    h = model_.middle[3].register_forward_hook(getActivation(\"bottleneck\"))\n",
    "    out = model_(image)\n",
    "    prediction = torch.argmax(out, dim=1)\n",
    "    h.remove()\n",
    "    overall_iou,iou_list = IoU_per_class(prediction,label)\n",
    "    overall_ious.append(overall_iou)\n",
    "    ious_by_class.append(iou_list)\n",
    "    prediction = prediction.detach().numpy()[0]\n",
    "    prediction_color = class_to_color(prediction)\n",
    "    predictions.append(prediction_color)\n",
    "    instance_activation = activation[\"bottleneck\"]\n",
    "#     print(instance_activation.size())\n",
    "    # need to reshape\n",
    "    instance_activation_reshaped = instance_activation.clone().squeeze(0).reshape(256,1024).numpy()\n",
    "    model_activations.append(instance_activation_reshaped)\n",
    "#     print(instance_activation_reshaped.shape)"
   ]
  },
  {
   "cell_type": "code",
   "execution_count": 57,
   "id": "05ea69aa",
   "metadata": {},
   "outputs": [],
   "source": [
    "model_activations = np.array(model_activations)\n",
    "overall_ious = np.array(overall_ious)\n",
    "ious_by_class = np.array(ious_by_class)\n",
    "predictions = np.array(predictions)"
   ]
  },
  {
   "cell_type": "code",
   "execution_count": 58,
   "id": "6e0e22e3",
   "metadata": {},
   "outputs": [
    {
     "name": "stdout",
     "output_type": "stream",
     "text": [
      "(1000, 256, 256, 3)\n"
     ]
    }
   ],
   "source": [
    "print(predictions.shape)"
   ]
  },
  {
   "cell_type": "markdown",
   "id": "f075b963",
   "metadata": {},
   "source": [
    "Save predictions to paths"
   ]
  },
  {
   "cell_type": "code",
   "execution_count": 60,
   "id": "6b251936",
   "metadata": {},
   "outputs": [],
   "source": [
    "predictions_by_noise_level=np.reshape(predictions,(len(noise_levels),sample_number,256,256,3))"
   ]
  },
  {
   "cell_type": "code",
   "execution_count": 61,
   "id": "037c52e6",
   "metadata": {},
   "outputs": [],
   "source": [
    "noisy_prediction_folder = \"D:\\zsh\\graduation\\Graduation-project-domain-shift-image-2-image\\dataset\\\\noise_data\\predictions\"\n",
    "prediction_paths = []\n",
    "for i,noisy_predictions in enumerate(predictions_by_noise_level):\n",
    "    noise_level = noise_levels[i]\n",
    "    noise_level_prediction_folder = os.path.join(noisy_prediction_folder,str(noise_level))\n",
    "    if not os.path.exists(noise_level_prediction_folder):\n",
    "        os.makedirs(noise_level_prediction_folder)\n",
    "    for j,prediction in enumerate(noisy_predictions):\n",
    "        prediction_object = Image.fromarray(prediction.astype(np.uint8))\n",
    "        # TODO: change the name when use other data\n",
    "        name = str(j)+\".jpeg\"\n",
    "        prediction_path = os.path.join(noise_level_prediction_folder,name)\n",
    "        prediction_path_rel = os.path.relpath(prediction_path, start)\n",
    "        # save image\n",
    "        prediction_object.save(prediction_path)      \n",
    "        \n",
    "        prediction_paths.append(prediction_path_rel)"
   ]
  },
  {
   "cell_type": "markdown",
   "id": "fb4fcfd5",
   "metadata": {},
   "source": [
    "Embedding for activations"
   ]
  },
  {
   "cell_type": "code",
   "execution_count": 67,
   "id": "fa5360dc",
   "metadata": {},
   "outputs": [],
   "source": [
    "# Preprocess the activations\n",
    "# TODO: change this shape for pre-trained model\n",
    "activations_2d = np.reshape(model_activations,(len(noise_levels)*sample_number*256,1024)) # 256 is 16x16, the activation \"image\""
   ]
  },
  {
   "cell_type": "code",
   "execution_count": 68,
   "id": "92b98427",
   "metadata": {},
   "outputs": [
    {
     "data": {
      "text/plain": [
       "(256000, 1024)"
      ]
     },
     "execution_count": 68,
     "metadata": {},
     "output_type": "execute_result"
    }
   ],
   "source": [
    "activations_2d.shape"
   ]
  },
  {
   "cell_type": "code",
   "execution_count": 69,
   "id": "1a3e9798",
   "metadata": {},
   "outputs": [],
   "source": [
    "with open('activations_2d.pkl', 'wb') as file:\n",
    "      \n",
    "    # A new file will be created\n",
    "    pickle.dump(activations_2d, file)"
   ]
  },
  {
   "cell_type": "code",
   "execution_count": 3,
   "id": "7c08cacf",
   "metadata": {},
   "outputs": [],
   "source": [
    "pickle_file = \"activations_2d.pkl\"\n",
    "with open(pickle_file, 'rb') as f:\n",
    "    activations_2d = pickle.load(f)"
   ]
  },
  {
   "cell_type": "code",
   "execution_count": 4,
   "id": "44e04d30",
   "metadata": {},
   "outputs": [
    {
     "data": {
      "text/plain": [
       "(256000, 1024)"
      ]
     },
     "execution_count": 4,
     "metadata": {},
     "output_type": "execute_result"
    }
   ],
   "source": [
    "activations_2d.shape"
   ]
  },
  {
   "cell_type": "markdown",
   "id": "f6e883ff",
   "metadata": {},
   "source": [
    "直接tsne (这里不调perplexity因为数据点够多，不行的话再试试umap或者pca)"
   ]
  },
  {
   "cell_type": "code",
   "execution_count": 70,
   "id": "50bbc201",
   "metadata": {},
   "outputs": [],
   "source": [
    "# pca_50 = PCA(n_components=50)\n",
    "# intermediate_pca_embedding = pca_50.fit_transform(activations_2d)\n",
    "activations_tsne_embedding = TSNE(n_components=2).fit_transform(activations_2d)"
   ]
  },
  {
   "cell_type": "code",
   "execution_count": 71,
   "id": "329f613d",
   "metadata": {},
   "outputs": [],
   "source": [
    "activations_tsne_embedding_reshaped = np.reshape(activations_tsne_embedding,(len(noise_levels)*sample_number,256,2))"
   ]
  },
  {
   "cell_type": "code",
   "execution_count": 20,
   "id": "0ccca5fb",
   "metadata": {},
   "outputs": [],
   "source": [
    "activations_pca_embedding = PCA(n_components=2).fit_transform(activations_2d)"
   ]
  },
  {
   "cell_type": "code",
   "execution_count": 21,
   "id": "1328c1a2",
   "metadata": {},
   "outputs": [],
   "source": [
    "activations_pca_embedding_reshaped = np.reshape(activations_pca_embedding,(len(noise_levels)*sample_number,256,2))"
   ]
  },
  {
   "cell_type": "code",
   "execution_count": 28,
   "id": "100005d7",
   "metadata": {},
   "outputs": [],
   "source": [
    "with open('noise_activation_embeddings_pca_0_0.2_1.8.pkl', 'wb') as file:\n",
    "      \n",
    "    # A new file will be created\n",
    "    pickle.dump(activations_pca_embedding_reshaped, file)"
   ]
  },
  {
   "cell_type": "code",
   "execution_count": null,
   "id": "bd1466bb",
   "metadata": {},
   "outputs": [],
   "source": [
    "# to use UMAP() function, install umap-learn\n",
    "\n",
    "# !pip uninstall umap\n",
    "# !pip install umap-learn"
   ]
  },
  {
   "cell_type": "code",
   "execution_count": 29,
   "id": "3ea1b9a5",
   "metadata": {},
   "outputs": [
    {
     "name": "stdout",
     "output_type": "stream",
     "text": [
      "(1024,)\n"
     ]
    }
   ],
   "source": [
    "print(activations_2d[0].shape)"
   ]
  },
  {
   "cell_type": "code",
   "execution_count": 8,
   "id": "6aaaeeea",
   "metadata": {},
   "outputs": [
    {
     "name": "stderr",
     "output_type": "stream",
     "text": [
      "d:\\zsh\\graduation\\grad_env_take_2\\lib\\site-packages\\sklearn\\manifold\\_spectral_embedding.py:245: UserWarning: Graph is not fully connected, spectral embedding may not work as expected.\n",
      "  warnings.warn(\"Graph is not fully connected, spectral embedding\"\n"
     ]
    },
    {
     "ename": "NameError",
     "evalue": "name 'noise_levels' is not defined",
     "output_type": "error",
     "traceback": [
      "\u001b[1;31m---------------------------------------------------------------------------\u001b[0m",
      "\u001b[1;31mNameError\u001b[0m                                 Traceback (most recent call last)",
      "\u001b[1;32m<ipython-input-8-1ea5c019cc25>\u001b[0m in \u001b[0;36m<module>\u001b[1;34m\u001b[0m\n\u001b[0;32m      4\u001b[0m \u001b[0mreducer\u001b[0m \u001b[1;33m=\u001b[0m \u001b[0mumap\u001b[0m\u001b[1;33m.\u001b[0m\u001b[0mUMAP\u001b[0m\u001b[1;33m(\u001b[0m\u001b[1;33m)\u001b[0m\u001b[1;33m\u001b[0m\u001b[0m\n\u001b[0;32m      5\u001b[0m \u001b[0mactivations_umap_embedding\u001b[0m \u001b[1;33m=\u001b[0m \u001b[0mreducer\u001b[0m\u001b[1;33m.\u001b[0m\u001b[0mfit_transform\u001b[0m\u001b[1;33m(\u001b[0m\u001b[0mactivations_2d\u001b[0m\u001b[1;33m)\u001b[0m\u001b[1;33m\u001b[0m\u001b[0m\n\u001b[1;32m----> 6\u001b[1;33m \u001b[0mactivations_umap_embedding_reshaped\u001b[0m \u001b[1;33m=\u001b[0m \u001b[0mnp\u001b[0m\u001b[1;33m.\u001b[0m\u001b[0mreshape\u001b[0m\u001b[1;33m(\u001b[0m\u001b[0mactivations_umap_embedding\u001b[0m\u001b[1;33m,\u001b[0m\u001b[1;33m(\u001b[0m\u001b[0mlen\u001b[0m\u001b[1;33m(\u001b[0m\u001b[0mnoise_levels\u001b[0m\u001b[1;33m)\u001b[0m\u001b[1;33m*\u001b[0m\u001b[0msample_number\u001b[0m\u001b[1;33m,\u001b[0m\u001b[1;36m256\u001b[0m\u001b[1;33m,\u001b[0m\u001b[1;36m2\u001b[0m\u001b[1;33m)\u001b[0m\u001b[1;33m)\u001b[0m\u001b[1;33m\u001b[0m\u001b[0m\n\u001b[0m",
      "\u001b[1;31mNameError\u001b[0m: name 'noise_levels' is not defined"
     ]
    }
   ],
   "source": [
    "# import umap\n",
    "import umap.umap_ as umap\n",
    "\n",
    "reducer = umap.UMAP()\n",
    "activations_ \n",
    "umap_embedding = reducer.fit_transform(activations_2d)\n"
   ]
  },
  {
   "cell_type": "code",
   "execution_count": 12,
   "id": "71c5e771",
   "metadata": {},
   "outputs": [],
   "source": [
    "activations_umap_embedding_reshaped = np.reshape(activations_umap_embedding,(len(noise_levels)*sample_number,256,2))"
   ]
  },
  {
   "cell_type": "code",
   "execution_count": 72,
   "id": "e81790c0",
   "metadata": {},
   "outputs": [],
   "source": [
    "with open('noise_activation_embeddings_tsne_0_0.2_1.8.pkl', 'wb') as file:\n",
    "      \n",
    "    # A new file will be created\n",
    "    pickle.dump(activations_tsne_embedding_reshaped, file)"
   ]
  },
  {
   "cell_type": "code",
   "execution_count": 30,
   "id": "d8ba811f",
   "metadata": {},
   "outputs": [
    {
     "data": {
      "text/plain": [
       "<matplotlib.collections.PathCollection at 0x175889ba080>"
      ]
     },
     "execution_count": 30,
     "metadata": {},
     "output_type": "execute_result"
    },
    {
     "data": {
      "image/png": "[encoded data removed]",
      "text/plain": [
       "<Figure size 432x288 with 1 Axes>"
      ]
     },
     "metadata": {
      "needs_background": "light"
     },
     "output_type": "display_data"
    }
   ],
   "source": [
    "plt.scatter(activations_pca_embedding_reshaped[0,:,0],activations_pca_embedding_reshaped[0,:,1])\n",
    "plt.scatter(activations_pca_embedding_reshaped[55,:,0],activations_pca_embedding_reshaped[55,:,1])"
   ]
  },
  {
   "cell_type": "code",
   "execution_count": 84,
   "id": "65cbce5c",
   "metadata": {},
   "outputs": [
    {
     "data": {
      "text/plain": [
       "<matplotlib.collections.PathCollection at 0x1629709de48>"
      ]
     },
     "execution_count": 84,
     "metadata": {},
     "output_type": "execute_result"
    },
    {
     "data": {
      "image/png": "[encoded data removed]",
      "text/plain": [
       "<Figure size 432x288 with 1 Axes>"
      ]
     },
     "metadata": {
      "needs_background": "light"
     },
     "output_type": "display_data"
    }
   ],
   "source": [
    "plt.scatter(activations_tsne_embedding_reshaped[0,:,0],activations_tsne_embedding_reshaped[0,:,1])\n",
    "plt.scatter(activations_tsne_embedding_reshaped[900,:,0],activations_tsne_embedding_reshaped[900,:,1])"
   ]
  },
  {
   "cell_type": "code",
   "execution_count": 13,
   "id": "2af87219",
   "metadata": {},
   "outputs": [],
   "source": [
    "with open('noise_activation_embeddings_umap_0_0.2_1.8.pkl', 'wb') as file:\n",
    "      \n",
    "    # A new file will be created\n",
    "    pickle.dump(activations_umap_embedding_reshaped, file)"
   ]
  },
  {
   "cell_type": "code",
   "execution_count": 27,
   "id": "3d4e3a95",
   "metadata": {},
   "outputs": [
    {
     "data": {
      "text/plain": [
       "<matplotlib.collections.PathCollection at 0x17639a83d30>"
      ]
     },
     "execution_count": 27,
     "metadata": {},
     "output_type": "execute_result"
    },
    {
     "data": {
      "image/png": "[encoded data removed]",
      "text/plain": [
       "<Figure size 432x288 with 1 Axes>"
      ]
     },
     "metadata": {
      "needs_background": "light"
     },
     "output_type": "display_data"
    }
   ],
   "source": [
    "plt.scatter(activations_umap_embedding_reshaped[0,:,0],activations_umap_embedding_reshaped[0,:,1])\n",
    "plt.scatter(activations_umap_embedding_reshaped[855,:,0],activations_umap_embedding_reshaped[855,:,1])"
   ]
  },
  {
   "cell_type": "code",
   "execution_count": 74,
   "id": "2fc09ae5",
   "metadata": {},
   "outputs": [],
   "source": [
    "# model activations\n",
    "df[\"bottleneck_activations_embedding\"] = activations_tsne_embedding_reshaped.tolist()"
   ]
  },
  {
   "cell_type": "code",
   "execution_count": 62,
   "id": "a86b9815",
   "metadata": {},
   "outputs": [],
   "source": [
    "# save everything to df\n",
    "\n",
    "# prediction path\n",
    "df[\"prediction_path\"] = prediction_paths\n",
    "\n",
    "# overall_iou\n",
    "df[\"overall_iou\"] = overall_ious\n",
    "\n",
    "# iou by class\n",
    "iou_class_df = pd.DataFrame(ious_by_class,columns = [\"other_iou\",\"road_iou\",\"sidewalk_iou\",\"vegetation_iou\",\"sky_iou\",\"car_iou\"])\n",
    "df = pd.concat((df,iou_class_df),axis=1)"
   ]
  },
  {
   "cell_type": "code",
   "execution_count": 63,
   "id": "e70c32b7",
   "metadata": {},
   "outputs": [],
   "source": [
    "noise_levels_full = [noise_levels[(index//100)] for index in range(len(df))]\n",
    "df[\"noise_level\"]=noise_levels_full"
   ]
  },
  {
   "cell_type": "code",
   "execution_count": 78,
   "id": "bcc1859f",
   "metadata": {},
   "outputs": [
    {
     "name": "stdout",
     "output_type": "stream",
     "text": [
      "26\n"
     ]
    },
    {
     "data": {
      "text/plain": [
       "26"
      ]
     },
     "execution_count": 78,
     "metadata": {},
     "output_type": "execute_result"
    }
   ],
   "source": [
    "print(len(df.columns))\n",
    "len(df_rearrange.columns)"
   ]
  },
  {
   "cell_type": "code",
   "execution_count": 129,
   "id": "59006648",
   "metadata": {},
   "outputs": [
    {
     "data": {
      "text/plain": [
       "400"
      ]
     },
     "execution_count": 129,
     "metadata": {},
     "output_type": "execute_result"
    }
   ],
   "source": [
    "len(df)"
   ]
  },
  {
   "cell_type": "code",
   "execution_count": 76,
   "id": "dbc26f5f",
   "metadata": {},
   "outputs": [],
   "source": [
    "df_rearrange = df[['name',\"noise_level\",'dataset', 'image_path', 'label_path','prediction_path', \n",
    "                       'other_ratio', 'road_ratio', 'sidewalk_ratio','vegetation_ratio', 'sky_ratio', 'car_ratio', \n",
    "                       'simple_tsne_1','simple_tsne_2', 'meaningful_tsne_1', 'meaningful_tsne_2',\"pca_1\",\"pca_2\",\n",
    "       'bottleneck_activations_embedding', 'overall_iou', 'other_iou',\n",
    "       'road_iou', 'sidewalk_iou', 'vegetation_iou', 'sky_iou', 'car_iou']]"
   ]
  },
  {
   "cell_type": "code",
   "execution_count": 79,
   "id": "8474b2de",
   "metadata": {},
   "outputs": [
    {
     "data": {
      "text/html": [
       "<div>\n",
       "<style scoped>\n",
       "    .dataframe tbody tr th:only-of-type {\n",
       "        vertical-align: middle;\n",
       "    }\n",
       "\n",
       "    .dataframe tbody tr th {\n",
       "        vertical-align: top;\n",
       "    }\n",
       "\n",
       "    .dataframe thead th {\n",
       "        text-align: right;\n",
       "    }\n",
       "</style>\n",
       "<table border=\"1\" class=\"dataframe\">\n",
       "  <thead>\n",
       "    <tr style=\"text-align: right;\">\n",
       "      <th></th>\n",
       "      <th>name</th>\n",
       "      <th>noise_level</th>\n",
       "      <th>dataset</th>\n",
       "      <th>image_path</th>\n",
       "      <th>label_path</th>\n",
       "      <th>prediction_path</th>\n",
       "      <th>other_ratio</th>\n",
       "      <th>road_ratio</th>\n",
       "      <th>sidewalk_ratio</th>\n",
       "      <th>vegetation_ratio</th>\n",
       "      <th>...</th>\n",
       "      <th>pca_1</th>\n",
       "      <th>pca_2</th>\n",
       "      <th>bottleneck_activations_embedding</th>\n",
       "      <th>overall_iou</th>\n",
       "      <th>other_iou</th>\n",
       "      <th>road_iou</th>\n",
       "      <th>sidewalk_iou</th>\n",
       "      <th>vegetation_iou</th>\n",
       "      <th>sky_iou</th>\n",
       "      <th>car_iou</th>\n",
       "    </tr>\n",
       "  </thead>\n",
       "  <tbody>\n",
       "    <tr>\n",
       "      <th>0</th>\n",
       "      <td>0.jpeg</td>\n",
       "      <td>0.0</td>\n",
       "      <td>Cityscapes</td>\n",
       "      <td>dataset\\noise_data\\images\\0\\0.jpeg</td>\n",
       "      <td>dataset\\cityscapes_labels_sample\\0.jpeg</td>\n",
       "      <td>dataset\\noise_data\\predictions\\0\\0.jpeg</td>\n",
       "      <td>0.372009</td>\n",
       "      <td>0.320770</td>\n",
       "      <td>0.100510</td>\n",
       "      <td>0.183990</td>\n",
       "      <td>...</td>\n",
       "      <td>-13878.240511</td>\n",
       "      <td>-3285.104962</td>\n",
       "      <td>[[-24.40557861328125, 16.901498794555664], [-1...</td>\n",
       "      <td>0.808624</td>\n",
       "      <td>0.662928</td>\n",
       "      <td>0.939133</td>\n",
       "      <td>0.512657</td>\n",
       "      <td>0.501233</td>\n",
       "      <td>0.874502</td>\n",
       "      <td>0.053785</td>\n",
       "    </tr>\n",
       "    <tr>\n",
       "      <th>1</th>\n",
       "      <td>1.jpeg</td>\n",
       "      <td>0.0</td>\n",
       "      <td>Cityscapes</td>\n",
       "      <td>dataset\\noise_data\\images\\0\\1.jpeg</td>\n",
       "      <td>dataset\\cityscapes_labels_sample\\1.jpeg</td>\n",
       "      <td>dataset\\noise_data\\predictions\\0\\1.jpeg</td>\n",
       "      <td>0.539703</td>\n",
       "      <td>0.414398</td>\n",
       "      <td>0.041168</td>\n",
       "      <td>0.000565</td>\n",
       "      <td>...</td>\n",
       "      <td>7664.169604</td>\n",
       "      <td>2740.275866</td>\n",
       "      <td>[[-24.243043899536133, 17.648046493530273], [-...</td>\n",
       "      <td>0.700150</td>\n",
       "      <td>0.610244</td>\n",
       "      <td>0.741904</td>\n",
       "      <td>0.266866</td>\n",
       "      <td>0.001502</td>\n",
       "      <td>0.457912</td>\n",
       "      <td>0.000000</td>\n",
       "    </tr>\n",
       "    <tr>\n",
       "      <th>2</th>\n",
       "      <td>2.jpeg</td>\n",
       "      <td>0.0</td>\n",
       "      <td>Cityscapes</td>\n",
       "      <td>dataset\\noise_data\\images\\0\\2.jpeg</td>\n",
       "      <td>dataset\\cityscapes_labels_sample\\2.jpeg</td>\n",
       "      <td>dataset\\noise_data\\predictions\\0\\2.jpeg</td>\n",
       "      <td>0.462753</td>\n",
       "      <td>0.354187</td>\n",
       "      <td>0.029633</td>\n",
       "      <td>0.121323</td>\n",
       "      <td>...</td>\n",
       "      <td>-2078.566185</td>\n",
       "      <td>4442.207241</td>\n",
       "      <td>[[-24.04833984375, 17.357967376708984], [-12.4...</td>\n",
       "      <td>0.906677</td>\n",
       "      <td>0.814527</td>\n",
       "      <td>0.970078</td>\n",
       "      <td>0.667676</td>\n",
       "      <td>0.833859</td>\n",
       "      <td>0.942492</td>\n",
       "      <td>0.195134</td>\n",
       "    </tr>\n",
       "    <tr>\n",
       "      <th>3</th>\n",
       "      <td>3.jpeg</td>\n",
       "      <td>0.0</td>\n",
       "      <td>Cityscapes</td>\n",
       "      <td>dataset\\noise_data\\images\\0\\3.jpeg</td>\n",
       "      <td>dataset\\cityscapes_labels_sample\\3.jpeg</td>\n",
       "      <td>dataset\\noise_data\\predictions\\0\\3.jpeg</td>\n",
       "      <td>0.425674</td>\n",
       "      <td>0.381119</td>\n",
       "      <td>0.065292</td>\n",
       "      <td>0.101120</td>\n",
       "      <td>...</td>\n",
       "      <td>458.471576</td>\n",
       "      <td>-3887.799220</td>\n",
       "      <td>[[-25.07553482055664, 19.404129028320312], [-1...</td>\n",
       "      <td>0.918213</td>\n",
       "      <td>0.857314</td>\n",
       "      <td>0.945041</td>\n",
       "      <td>0.702885</td>\n",
       "      <td>0.778673</td>\n",
       "      <td>0.891587</td>\n",
       "      <td>0.271600</td>\n",
       "    </tr>\n",
       "    <tr>\n",
       "      <th>4</th>\n",
       "      <td>4.jpeg</td>\n",
       "      <td>0.0</td>\n",
       "      <td>Cityscapes</td>\n",
       "      <td>dataset\\noise_data\\images\\0\\4.jpeg</td>\n",
       "      <td>dataset\\cityscapes_labels_sample\\4.jpeg</td>\n",
       "      <td>dataset\\noise_data\\predictions\\0\\4.jpeg</td>\n",
       "      <td>0.400284</td>\n",
       "      <td>0.329453</td>\n",
       "      <td>0.090469</td>\n",
       "      <td>0.174393</td>\n",
       "      <td>...</td>\n",
       "      <td>-12533.626242</td>\n",
       "      <td>-1207.443328</td>\n",
       "      <td>[[-23.370166778564453, 17.543115615844727], [-...</td>\n",
       "      <td>0.903854</td>\n",
       "      <td>0.776586</td>\n",
       "      <td>0.970622</td>\n",
       "      <td>0.839027</td>\n",
       "      <td>0.880338</td>\n",
       "      <td>0.272455</td>\n",
       "      <td>0.067600</td>\n",
       "    </tr>\n",
       "    <tr>\n",
       "      <th>...</th>\n",
       "      <td>...</td>\n",
       "      <td>...</td>\n",
       "      <td>...</td>\n",
       "      <td>...</td>\n",
       "      <td>...</td>\n",
       "      <td>...</td>\n",
       "      <td>...</td>\n",
       "      <td>...</td>\n",
       "      <td>...</td>\n",
       "      <td>...</td>\n",
       "      <td>...</td>\n",
       "      <td>...</td>\n",
       "      <td>...</td>\n",
       "      <td>...</td>\n",
       "      <td>...</td>\n",
       "      <td>...</td>\n",
       "      <td>...</td>\n",
       "      <td>...</td>\n",
       "      <td>...</td>\n",
       "      <td>...</td>\n",
       "      <td>...</td>\n",
       "    </tr>\n",
       "    <tr>\n",
       "      <th>995</th>\n",
       "      <td>95.jpeg</td>\n",
       "      <td>1.8</td>\n",
       "      <td>Cityscapes</td>\n",
       "      <td>dataset\\noise_data\\images\\1.8\\95.jpeg</td>\n",
       "      <td>dataset\\cityscapes_labels_sample\\95.jpeg</td>\n",
       "      <td>dataset\\noise_data\\predictions\\1.8\\95.jpeg</td>\n",
       "      <td>0.558487</td>\n",
       "      <td>0.187454</td>\n",
       "      <td>0.000000</td>\n",
       "      <td>0.135422</td>\n",
       "      <td>...</td>\n",
       "      <td>9547.120854</td>\n",
       "      <td>5200.312182</td>\n",
       "      <td>[[-25.05375099182129, 16.2783203125], [-11.118...</td>\n",
       "      <td>0.584198</td>\n",
       "      <td>0.479868</td>\n",
       "      <td>0.559818</td>\n",
       "      <td>0.000000</td>\n",
       "      <td>0.206933</td>\n",
       "      <td>0.498084</td>\n",
       "      <td>0.108259</td>\n",
       "    </tr>\n",
       "    <tr>\n",
       "      <th>996</th>\n",
       "      <td>96.jpeg</td>\n",
       "      <td>1.8</td>\n",
       "      <td>Cityscapes</td>\n",
       "      <td>dataset\\noise_data\\images\\1.8\\96.jpeg</td>\n",
       "      <td>dataset\\cityscapes_labels_sample\\96.jpeg</td>\n",
       "      <td>dataset\\noise_data\\predictions\\1.8\\96.jpeg</td>\n",
       "      <td>0.433578</td>\n",
       "      <td>0.403763</td>\n",
       "      <td>0.017990</td>\n",
       "      <td>0.086182</td>\n",
       "      <td>...</td>\n",
       "      <td>-4119.219402</td>\n",
       "      <td>-7089.826792</td>\n",
       "      <td>[[-25.194746017456055, 18.61809539794922], [-1...</td>\n",
       "      <td>0.643616</td>\n",
       "      <td>0.481509</td>\n",
       "      <td>0.617667</td>\n",
       "      <td>0.095524</td>\n",
       "      <td>0.265837</td>\n",
       "      <td>0.736759</td>\n",
       "      <td>0.468750</td>\n",
       "    </tr>\n",
       "    <tr>\n",
       "      <th>997</th>\n",
       "      <td>97.jpeg</td>\n",
       "      <td>1.8</td>\n",
       "      <td>Cityscapes</td>\n",
       "      <td>dataset\\noise_data\\images\\1.8\\97.jpeg</td>\n",
       "      <td>dataset\\cityscapes_labels_sample\\97.jpeg</td>\n",
       "      <td>dataset\\noise_data\\predictions\\1.8\\97.jpeg</td>\n",
       "      <td>0.504059</td>\n",
       "      <td>0.320679</td>\n",
       "      <td>0.055939</td>\n",
       "      <td>0.010696</td>\n",
       "      <td>...</td>\n",
       "      <td>6131.457006</td>\n",
       "      <td>4063.156690</td>\n",
       "      <td>[[-23.29961395263672, 17.390480041503906], [-1...</td>\n",
       "      <td>0.636627</td>\n",
       "      <td>0.531556</td>\n",
       "      <td>0.632178</td>\n",
       "      <td>0.179019</td>\n",
       "      <td>0.020934</td>\n",
       "      <td>0.469844</td>\n",
       "      <td>0.211550</td>\n",
       "    </tr>\n",
       "    <tr>\n",
       "      <th>998</th>\n",
       "      <td>98.jpeg</td>\n",
       "      <td>1.8</td>\n",
       "      <td>Cityscapes</td>\n",
       "      <td>dataset\\noise_data\\images\\1.8\\98.jpeg</td>\n",
       "      <td>dataset\\cityscapes_labels_sample\\98.jpeg</td>\n",
       "      <td>dataset\\noise_data\\predictions\\1.8\\98.jpeg</td>\n",
       "      <td>0.367798</td>\n",
       "      <td>0.340378</td>\n",
       "      <td>0.065277</td>\n",
       "      <td>0.166519</td>\n",
       "      <td>...</td>\n",
       "      <td>-3418.973475</td>\n",
       "      <td>-9316.225880</td>\n",
       "      <td>[[-24.102874755859375, 18.36153793334961], [-1...</td>\n",
       "      <td>0.672958</td>\n",
       "      <td>0.485144</td>\n",
       "      <td>0.662340</td>\n",
       "      <td>0.433283</td>\n",
       "      <td>0.299666</td>\n",
       "      <td>0.602837</td>\n",
       "      <td>0.556140</td>\n",
       "    </tr>\n",
       "    <tr>\n",
       "      <th>999</th>\n",
       "      <td>99.jpeg</td>\n",
       "      <td>1.8</td>\n",
       "      <td>Cityscapes</td>\n",
       "      <td>dataset\\noise_data\\images\\1.8\\99.jpeg</td>\n",
       "      <td>dataset\\cityscapes_labels_sample\\99.jpeg</td>\n",
       "      <td>dataset\\noise_data\\predictions\\1.8\\99.jpeg</td>\n",
       "      <td>0.212357</td>\n",
       "      <td>0.442505</td>\n",
       "      <td>0.037872</td>\n",
       "      <td>0.164948</td>\n",
       "      <td>...</td>\n",
       "      <td>7853.451335</td>\n",
       "      <td>4236.783524</td>\n",
       "      <td>[[-24.872817993164062, 18.258163452148438], [-...</td>\n",
       "      <td>0.405960</td>\n",
       "      <td>0.285462</td>\n",
       "      <td>0.379452</td>\n",
       "      <td>0.019808</td>\n",
       "      <td>0.071389</td>\n",
       "      <td>0.301953</td>\n",
       "      <td>0.000000</td>\n",
       "    </tr>\n",
       "  </tbody>\n",
       "</table>\n",
       "<p>1000 rows × 26 columns</p>\n",
       "</div>"
      ],
      "text/plain": [
       "        name  noise_level     dataset                             image_path  \\\n",
       "0     0.jpeg          0.0  Cityscapes     dataset\\noise_data\\images\\0\\0.jpeg   \n",
       "1     1.jpeg          0.0  Cityscapes     dataset\\noise_data\\images\\0\\1.jpeg   \n",
       "2     2.jpeg          0.0  Cityscapes     dataset\\noise_data\\images\\0\\2.jpeg   \n",
       "3     3.jpeg          0.0  Cityscapes     dataset\\noise_data\\images\\0\\3.jpeg   \n",
       "4     4.jpeg          0.0  Cityscapes     dataset\\noise_data\\images\\0\\4.jpeg   \n",
       "..       ...          ...         ...                                    ...   \n",
       "995  95.jpeg          1.8  Cityscapes  dataset\\noise_data\\images\\1.8\\95.jpeg   \n",
       "996  96.jpeg          1.8  Cityscapes  dataset\\noise_data\\images\\1.8\\96.jpeg   \n",
       "997  97.jpeg          1.8  Cityscapes  dataset\\noise_data\\images\\1.8\\97.jpeg   \n",
       "998  98.jpeg          1.8  Cityscapes  dataset\\noise_data\\images\\1.8\\98.jpeg   \n",
       "999  99.jpeg          1.8  Cityscapes  dataset\\noise_data\\images\\1.8\\99.jpeg   \n",
       "\n",
       "                                   label_path  \\\n",
       "0     dataset\\cityscapes_labels_sample\\0.jpeg   \n",
       "1     dataset\\cityscapes_labels_sample\\1.jpeg   \n",
       "2     dataset\\cityscapes_labels_sample\\2.jpeg   \n",
       "3     dataset\\cityscapes_labels_sample\\3.jpeg   \n",
       "4     dataset\\cityscapes_labels_sample\\4.jpeg   \n",
       "..                                        ...   \n",
       "995  dataset\\cityscapes_labels_sample\\95.jpeg   \n",
       "996  dataset\\cityscapes_labels_sample\\96.jpeg   \n",
       "997  dataset\\cityscapes_labels_sample\\97.jpeg   \n",
       "998  dataset\\cityscapes_labels_sample\\98.jpeg   \n",
       "999  dataset\\cityscapes_labels_sample\\99.jpeg   \n",
       "\n",
       "                                prediction_path  other_ratio  road_ratio  \\\n",
       "0       dataset\\noise_data\\predictions\\0\\0.jpeg     0.372009    0.320770   \n",
       "1       dataset\\noise_data\\predictions\\0\\1.jpeg     0.539703    0.414398   \n",
       "2       dataset\\noise_data\\predictions\\0\\2.jpeg     0.462753    0.354187   \n",
       "3       dataset\\noise_data\\predictions\\0\\3.jpeg     0.425674    0.381119   \n",
       "4       dataset\\noise_data\\predictions\\0\\4.jpeg     0.400284    0.329453   \n",
       "..                                          ...          ...         ...   \n",
       "995  dataset\\noise_data\\predictions\\1.8\\95.jpeg     0.558487    0.187454   \n",
       "996  dataset\\noise_data\\predictions\\1.8\\96.jpeg     0.433578    0.403763   \n",
       "997  dataset\\noise_data\\predictions\\1.8\\97.jpeg     0.504059    0.320679   \n",
       "998  dataset\\noise_data\\predictions\\1.8\\98.jpeg     0.367798    0.340378   \n",
       "999  dataset\\noise_data\\predictions\\1.8\\99.jpeg     0.212357    0.442505   \n",
       "\n",
       "     sidewalk_ratio  vegetation_ratio  ...         pca_1        pca_2  \\\n",
       "0          0.100510          0.183990  ... -13878.240511 -3285.104962   \n",
       "1          0.041168          0.000565  ...   7664.169604  2740.275866   \n",
       "2          0.029633          0.121323  ...  -2078.566185  4442.207241   \n",
       "3          0.065292          0.101120  ...    458.471576 -3887.799220   \n",
       "4          0.090469          0.174393  ... -12533.626242 -1207.443328   \n",
       "..              ...               ...  ...           ...          ...   \n",
       "995        0.000000          0.135422  ...   9547.120854  5200.312182   \n",
       "996        0.017990          0.086182  ...  -4119.219402 -7089.826792   \n",
       "997        0.055939          0.010696  ...   6131.457006  4063.156690   \n",
       "998        0.065277          0.166519  ...  -3418.973475 -9316.225880   \n",
       "999        0.037872          0.164948  ...   7853.451335  4236.783524   \n",
       "\n",
       "                      bottleneck_activations_embedding  overall_iou  \\\n",
       "0    [[-24.40557861328125, 16.901498794555664], [-1...     0.808624   \n",
       "1    [[-24.243043899536133, 17.648046493530273], [-...     0.700150   \n",
       "2    [[-24.04833984375, 17.357967376708984], [-12.4...     0.906677   \n",
       "3    [[-25.07553482055664, 19.404129028320312], [-1...     0.918213   \n",
       "4    [[-23.370166778564453, 17.543115615844727], [-...     0.903854   \n",
       "..                                                 ...          ...   \n",
       "995  [[-25.05375099182129, 16.2783203125], [-11.118...     0.584198   \n",
       "996  [[-25.194746017456055, 18.61809539794922], [-1...     0.643616   \n",
       "997  [[-23.29961395263672, 17.390480041503906], [-1...     0.636627   \n",
       "998  [[-24.102874755859375, 18.36153793334961], [-1...     0.672958   \n",
       "999  [[-24.872817993164062, 18.258163452148438], [-...     0.405960   \n",
       "\n",
       "     other_iou  road_iou  sidewalk_iou  vegetation_iou   sky_iou   car_iou  \n",
       "0     0.662928  0.939133      0.512657        0.501233  0.874502  0.053785  \n",
       "1     0.610244  0.741904      0.266866        0.001502  0.457912  0.000000  \n",
       "2     0.814527  0.970078      0.667676        0.833859  0.942492  0.195134  \n",
       "3     0.857314  0.945041      0.702885        0.778673  0.891587  0.271600  \n",
       "4     0.776586  0.970622      0.839027        0.880338  0.272455  0.067600  \n",
       "..         ...       ...           ...             ...       ...       ...  \n",
       "995   0.479868  0.559818      0.000000        0.206933  0.498084  0.108259  \n",
       "996   0.481509  0.617667      0.095524        0.265837  0.736759  0.468750  \n",
       "997   0.531556  0.632178      0.179019        0.020934  0.469844  0.211550  \n",
       "998   0.485144  0.662340      0.433283        0.299666  0.602837  0.556140  \n",
       "999   0.285462  0.379452      0.019808        0.071389  0.301953  0.000000  \n",
       "\n",
       "[1000 rows x 26 columns]"
      ]
     },
     "execution_count": 79,
     "metadata": {},
     "output_type": "execute_result"
    }
   ],
   "source": [
    "df_rearrange"
   ]
  },
  {
   "cell_type": "code",
   "execution_count": 77,
   "id": "cdfd1e00",
   "metadata": {},
   "outputs": [],
   "source": [
    "df_rearrange.to_csv(\"noise_df.csv\",index=True)"
   ]
  },
  {
   "cell_type": "code",
   "execution_count": null,
   "id": "700b342b",
   "metadata": {},
   "outputs": [],
   "source": []
  }
 ],
 "metadata": {
  "kernelspec": {
   "display_name": "Python 3",
   "language": "python",
   "name": "python3"
  },
  "language_info": {
   "codemirror_mode": {
    "name": "ipython",
    "version": 3
   },
   "file_extension": ".py",
   "mimetype": "text/x-python",
   "name": "python",
   "nbconvert_exporter": "python",
   "pygments_lexer": "ipython3",
   "version": "3.6.5"
  }
 },
 "nbformat": 4,
 "nbformat_minor": 5
}
