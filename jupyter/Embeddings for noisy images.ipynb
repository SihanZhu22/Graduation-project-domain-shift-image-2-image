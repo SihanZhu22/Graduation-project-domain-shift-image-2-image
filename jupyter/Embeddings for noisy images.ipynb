{
 "cells": [
  {
   "cell_type": "code",
   "execution_count": 84,
   "id": "30f32ee0",
   "metadata": {},
   "outputs": [],
   "source": [
    "from PIL import Image\n",
    "import numpy as np\n",
    "import os\n",
    "import pickle\n",
    "import random\n",
    "import matplotlib.pyplot as plt\n",
    "import pandas as pd\n",
    "import seaborn as sns\n",
    "from torch.utils.data import Dataset, DataLoader\n",
    "\n",
    "from sklearn.decomposition import PCA\n",
    "from sklearn.manifold import TSNE\n",
    "from skimage.transform import resize\n",
    "from torchvision import transforms"
   ]
  },
  {
   "cell_type": "markdown",
   "id": "41231c1b",
   "metadata": {},
   "source": [
    "# Data requirements\n",
    "* we need: image name or id (to distinguish link back to the main df),simple_tsne, meaningful_tsne, pca,bottleneck_activations_embedding, IoU values, image path, prediction path\n",
    "* existing information: name, dataset, label_path, class ratios,\n",
    "* not useful for continuous domains: similar_image_paths"
   ]
  },
  {
   "cell_type": "markdown",
   "id": "8b0db502",
   "metadata": {},
   "source": [
    "# Note: should be able to modify noise levels and sample number, and just re-run everything"
   ]
  },
  {
   "cell_type": "markdown",
   "id": "9cb7ed15",
   "metadata": {},
   "source": [
    "1. Load images and the labels (**Cityscapes for now**)"
   ]
  },
  {
   "cell_type": "code",
   "execution_count": 3,
   "id": "c3ed9cd6",
   "metadata": {},
   "outputs": [],
   "source": [
    "# read in the relavant data\n",
    "pickle_file = os.path.join(\"D:\\zsh\\graduation\\Graduation-project-domain-shift-image-2-image\\dataset\\\\5_classes_preprocessed\", \"validation_images.pkl\")\n",
    "with open(pickle_file, 'rb') as f:\n",
    "    X_test = pickle.load(f)\n",
    "\n",
    "pickle_file = os.path.join(\"D:\\zsh\\graduation\\Graduation-project-domain-shift-image-2-image\\dataset\\\\5_classes_preprocessed\", \"validation_label_classes.pkl\")\n",
    "with open(pickle_file, 'rb') as f:\n",
    "    Y_test = pickle.load(f)"
   ]
  },
  {
   "cell_type": "code",
   "execution_count": 4,
   "id": "e4e08735",
   "metadata": {},
   "outputs": [],
   "source": [
    "image_path_cityscapes = \"D:\\zsh\\graduation\\Graduation-project-domain-shift-image-2-image\\dataset\\original_cityscapes_inputs\""
   ]
  },
  {
   "cell_type": "code",
   "execution_count": 5,
   "id": "ec456d01",
   "metadata": {},
   "outputs": [],
   "source": [
    "X_test = np.array(X_test)\n",
    "Y_test = np.array(Y_test)"
   ]
  },
  {
   "cell_type": "markdown",
   "id": "0a15eef8",
   "metadata": {},
   "source": [
    "verify that the images are the same"
   ]
  },
  {
   "cell_type": "code",
   "execution_count": 6,
   "id": "520816ae",
   "metadata": {},
   "outputs": [],
   "source": [
    "# example_imaage_path = os.path.join(image_path_cityscapes,\"0.jpeg\")\n",
    "# example = Image.open(example_imaage_path).convert(\"RGB\")\n",
    "# example = np.array(example)"
   ]
  },
  {
   "cell_type": "code",
   "execution_count": 7,
   "id": "a8bbd9c0",
   "metadata": {},
   "outputs": [],
   "source": [
    "# print(example[0])\n",
    "# print(X_test[0])"
   ]
  },
  {
   "cell_type": "markdown",
   "id": "1f40ebf9",
   "metadata": {},
   "source": [
    "use the first 100 images"
   ]
  },
  {
   "cell_type": "code",
   "execution_count": 8,
   "id": "feadf9fd",
   "metadata": {},
   "outputs": [],
   "source": [
    "sample_number=100"
   ]
  },
  {
   "cell_type": "code",
   "execution_count": 56,
   "id": "280797b6",
   "metadata": {},
   "outputs": [],
   "source": [
    "subset_images = X_test[:sample_number]\n",
    "subset_labels = Y_test[:sample_number]"
   ]
  },
  {
   "cell_type": "markdown",
   "id": "f446e236",
   "metadata": {},
   "source": [
    "Attempt at sampling, and then realizing this creates more difficulties later on"
   ]
  },
  {
   "cell_type": "code",
   "execution_count": 10,
   "id": "80ece635",
   "metadata": {},
   "outputs": [],
   "source": [
    "# sample_number = 100\n",
    "\n",
    "# cityscapes_names= os.listdir(image_path_cityscapes)\n",
    "# random.seed(55)\n",
    "# cityscapes_names_sample = random.sample(cityscapes_names,sample_number)\n",
    "\n",
    "# sample_indices = []\n",
    "# for name in cityscapes_names_sample:\n",
    "#     index = int(name.split(\".\")[0])\n",
    "#     sample_indices.append(index)\n",
    "\n",
    "# sample_indices.sort()\n",
    "# print(sample_indices)"
   ]
  },
  {
   "cell_type": "markdown",
   "id": "8a24ebbb",
   "metadata": {},
   "source": [
    "1. Need to create and save images"
   ]
  },
  {
   "cell_type": "code",
   "execution_count": 11,
   "id": "5c0d085d",
   "metadata": {},
   "outputs": [],
   "source": [
    "noise_levels = [0,0.1,0.2,0.3]"
   ]
  },
  {
   "cell_type": "markdown",
   "id": "d3f629ea",
   "metadata": {},
   "source": [
    "A function to transform original data to noisy data"
   ]
  },
  {
   "cell_type": "code",
   "execution_count": 12,
   "id": "79b6d329",
   "metadata": {},
   "outputs": [],
   "source": [
    "def transform_dataset(original_dataset,noise_level=0):\n",
    "    new_dataset = []\n",
    "    if noise_level == 0:\n",
    "        return original_dataset\n",
    "    for image in original_dataset:\n",
    "        new_image = image+(noise_level*np.random.normal(0, (image.max() - image.min())/6., image.shape)) # (mean, sigma, image_shape)\n",
    "        # sometimes the random results are out of the pixel range, portraying very weird values\n",
    "        new_image = np.clip(new_image,0,255).astype(\"uint8\")\n",
    "        new_dataset.append(new_image)\n",
    "    new_dataset = np.array(new_dataset)\n",
    "    return new_dataset"
   ]
  },
  {
   "cell_type": "code",
   "execution_count": 13,
   "id": "708e82e5",
   "metadata": {},
   "outputs": [],
   "source": [
    "input_image_list = [transform_dataset(subset_images,noise_levels[i]) for i in range(len(noise_levels))]"
   ]
  },
  {
   "cell_type": "code",
   "execution_count": 14,
   "id": "2012fd67",
   "metadata": {},
   "outputs": [],
   "source": [
    "input_image_array = np.array(input_image_list)"
   ]
  },
  {
   "cell_type": "markdown",
   "id": "41a357c0",
   "metadata": {},
   "source": [
    "* Save images in different folders (each labeled with the noise level)\n",
    "* Save the corresponding paths to list"
   ]
  },
  {
   "cell_type": "code",
   "execution_count": 16,
   "id": "b3fb2721",
   "metadata": {},
   "outputs": [],
   "source": [
    "# df with real vs synthetic data\n",
    "# use the label path of original df later\n",
    "original_df = pd.read_csv(\"D:\\zsh\\graduation\\Graduation-project-domain-shift-image-2-image\\system_df_v2.csv\")\n",
    "ratio_columns = original_df.filter(like=\"_ratio\").columns.tolist()"
   ]
  },
  {
   "cell_type": "code",
   "execution_count": 17,
   "id": "dabccafb",
   "metadata": {},
   "outputs": [],
   "source": [
    "start = \"D:\\zsh\\graduation\\Graduation-project-domain-shift-image-2-image\""
   ]
  },
  {
   "cell_type": "code",
   "execution_count": 18,
   "id": "451094c2",
   "metadata": {},
   "outputs": [],
   "source": [
    "noisy_image_folder = \"D:\\zsh\\graduation\\Graduation-project-domain-shift-image-2-image\\dataset\\\\noise_data\\images\"\n",
    "path_list = []\n",
    "for i,noisy_images in enumerate(input_image_array):\n",
    "    noise_level = noise_levels[i]\n",
    "    for j,image in enumerate(noisy_images):\n",
    "        img_object = Image.fromarray(image.astype(np.uint8))\n",
    "        name = str(j)+\".jpeg\"\n",
    "        img_path = os.path.join(noisy_image_folder,str(noise_level),name)\n",
    "        img_path_rel = os.path.relpath(img_path, start)\n",
    "        img_object.save(img_path)\n",
    "        original_row = original_df.loc[original_df[\"name\"]==name]\n",
    "        label_path = original_row[\"label_path\"].values[0]\n",
    "        instance=[name,img_path_rel,label_path]\n",
    "        for column in ratio_columns:\n",
    "            instance.append(original_row[column].values[0])        \n",
    "        \n",
    "        path_list.append(instance)"
   ]
  },
  {
   "cell_type": "code",
   "execution_count": 21,
   "id": "aaaf61b3",
   "metadata": {},
   "outputs": [],
   "source": [
    "column_names_initial = [\"name\", \"image_path\",\"label_path\"]\n",
    "column_names_initial.extend(ratio_columns)\n",
    "df = pd.DataFrame(path_list,columns = column_names_initial)"
   ]
  },
  {
   "cell_type": "code",
   "execution_count": 22,
   "id": "2bb34602",
   "metadata": {},
   "outputs": [],
   "source": [
    "df[\"dataset\"]=\"Cityscapes\""
   ]
  },
  {
   "cell_type": "code",
   "execution_count": 23,
   "id": "4e77f3b6",
   "metadata": {},
   "outputs": [
    {
     "data": {
      "text/html": [
       "<div>\n",
       "<style scoped>\n",
       "    .dataframe tbody tr th:only-of-type {\n",
       "        vertical-align: middle;\n",
       "    }\n",
       "\n",
       "    .dataframe tbody tr th {\n",
       "        vertical-align: top;\n",
       "    }\n",
       "\n",
       "    .dataframe thead th {\n",
       "        text-align: right;\n",
       "    }\n",
       "</style>\n",
       "<table border=\"1\" class=\"dataframe\">\n",
       "  <thead>\n",
       "    <tr style=\"text-align: right;\">\n",
       "      <th></th>\n",
       "      <th>name</th>\n",
       "      <th>image_path</th>\n",
       "      <th>label_path</th>\n",
       "      <th>other_ratio</th>\n",
       "      <th>road_ratio</th>\n",
       "      <th>sidewalk_ratio</th>\n",
       "      <th>vegetation_ratio</th>\n",
       "      <th>sky_ratio</th>\n",
       "      <th>car_ratio</th>\n",
       "      <th>dataset</th>\n",
       "    </tr>\n",
       "  </thead>\n",
       "  <tbody>\n",
       "    <tr>\n",
       "      <th>0</th>\n",
       "      <td>0.jpeg</td>\n",
       "      <td>dataset\\noise_data\\images\\0\\0.jpeg</td>\n",
       "      <td>dataset\\cityscapes_labels_sample\\0.jpeg</td>\n",
       "      <td>0.372009</td>\n",
       "      <td>0.320770</td>\n",
       "      <td>0.100510</td>\n",
       "      <td>0.183990</td>\n",
       "      <td>0.020248</td>\n",
       "      <td>0.002472</td>\n",
       "      <td>Cityscapes</td>\n",
       "    </tr>\n",
       "    <tr>\n",
       "      <th>1</th>\n",
       "      <td>1.jpeg</td>\n",
       "      <td>dataset\\noise_data\\images\\0\\1.jpeg</td>\n",
       "      <td>dataset\\cityscapes_labels_sample\\1.jpeg</td>\n",
       "      <td>0.539703</td>\n",
       "      <td>0.414398</td>\n",
       "      <td>0.041168</td>\n",
       "      <td>0.000565</td>\n",
       "      <td>0.004166</td>\n",
       "      <td>0.000000</td>\n",
       "      <td>Cityscapes</td>\n",
       "    </tr>\n",
       "    <tr>\n",
       "      <th>2</th>\n",
       "      <td>2.jpeg</td>\n",
       "      <td>dataset\\noise_data\\images\\0\\2.jpeg</td>\n",
       "      <td>dataset\\cityscapes_labels_sample\\2.jpeg</td>\n",
       "      <td>0.462753</td>\n",
       "      <td>0.354187</td>\n",
       "      <td>0.029633</td>\n",
       "      <td>0.121323</td>\n",
       "      <td>0.018356</td>\n",
       "      <td>0.013748</td>\n",
       "      <td>Cityscapes</td>\n",
       "    </tr>\n",
       "    <tr>\n",
       "      <th>3</th>\n",
       "      <td>3.jpeg</td>\n",
       "      <td>dataset\\noise_data\\images\\0\\3.jpeg</td>\n",
       "      <td>dataset\\cityscapes_labels_sample\\3.jpeg</td>\n",
       "      <td>0.425674</td>\n",
       "      <td>0.381119</td>\n",
       "      <td>0.065292</td>\n",
       "      <td>0.101120</td>\n",
       "      <td>0.016296</td>\n",
       "      <td>0.010498</td>\n",
       "      <td>Cityscapes</td>\n",
       "    </tr>\n",
       "    <tr>\n",
       "      <th>4</th>\n",
       "      <td>4.jpeg</td>\n",
       "      <td>dataset\\noise_data\\images\\0\\4.jpeg</td>\n",
       "      <td>dataset\\cityscapes_labels_sample\\4.jpeg</td>\n",
       "      <td>0.400284</td>\n",
       "      <td>0.329453</td>\n",
       "      <td>0.090469</td>\n",
       "      <td>0.174393</td>\n",
       "      <td>0.001465</td>\n",
       "      <td>0.003937</td>\n",
       "      <td>Cityscapes</td>\n",
       "    </tr>\n",
       "  </tbody>\n",
       "</table>\n",
       "</div>"
      ],
      "text/plain": [
       "     name                          image_path  \\\n",
       "0  0.jpeg  dataset\\noise_data\\images\\0\\0.jpeg   \n",
       "1  1.jpeg  dataset\\noise_data\\images\\0\\1.jpeg   \n",
       "2  2.jpeg  dataset\\noise_data\\images\\0\\2.jpeg   \n",
       "3  3.jpeg  dataset\\noise_data\\images\\0\\3.jpeg   \n",
       "4  4.jpeg  dataset\\noise_data\\images\\0\\4.jpeg   \n",
       "\n",
       "                                label_path  other_ratio  road_ratio  \\\n",
       "0  dataset\\cityscapes_labels_sample\\0.jpeg     0.372009    0.320770   \n",
       "1  dataset\\cityscapes_labels_sample\\1.jpeg     0.539703    0.414398   \n",
       "2  dataset\\cityscapes_labels_sample\\2.jpeg     0.462753    0.354187   \n",
       "3  dataset\\cityscapes_labels_sample\\3.jpeg     0.425674    0.381119   \n",
       "4  dataset\\cityscapes_labels_sample\\4.jpeg     0.400284    0.329453   \n",
       "\n",
       "   sidewalk_ratio  vegetation_ratio  sky_ratio  car_ratio     dataset  \n",
       "0        0.100510          0.183990   0.020248   0.002472  Cityscapes  \n",
       "1        0.041168          0.000565   0.004166   0.000000  Cityscapes  \n",
       "2        0.029633          0.121323   0.018356   0.013748  Cityscapes  \n",
       "3        0.065292          0.101120   0.016296   0.010498  Cityscapes  \n",
       "4        0.090469          0.174393   0.001465   0.003937  Cityscapes  "
      ]
     },
     "execution_count": 23,
     "metadata": {},
     "output_type": "execute_result"
    }
   ],
   "source": [
    "df.head()"
   ]
  },
  {
   "cell_type": "markdown",
   "id": "918a8071",
   "metadata": {},
   "source": [
    "# Embedding of inputs"
   ]
  },
  {
   "cell_type": "code",
   "execution_count": 25,
   "id": "d66fd38e",
   "metadata": {},
   "outputs": [
    {
     "name": "stdout",
     "output_type": "stream",
     "text": [
      "0.847570815996223\n"
     ]
    }
   ],
   "source": [
    "simple_combined_embedding =np.reshape(input_image_array,(len(input_image_array)*sample_number, 256*256*3))\n",
    "\n",
    "pca_50 = PCA(n_components=50)\n",
    "pca_embedding = pca_50.fit_transform(simple_combined_embedding)\n",
    "print(np.sum(pca_50.explained_variance_ratio_))\n",
    "tsne = TSNE()\n",
    "simple_tsne_embedding = tsne.fit_transform(pca_embedding)"
   ]
  },
  {
   "cell_type": "code",
   "execution_count": 26,
   "id": "7ac1afdf",
   "metadata": {},
   "outputs": [
    {
     "name": "stdout",
     "output_type": "stream",
     "text": [
      "0.22266320806989054\n"
     ]
    }
   ],
   "source": [
    "pca = PCA(n_components=2)\n",
    "pca_embedding = pca.fit_transform(simple_combined_embedding)\n",
    "print(np.sum(pca.explained_variance_ratio_))"
   ]
  },
  {
   "cell_type": "code",
   "execution_count": 27,
   "id": "c7b4f2ad",
   "metadata": {},
   "outputs": [
    {
     "name": "stdout",
     "output_type": "stream",
     "text": [
      "D:\\zsh\\graduation\\ViTs-vs-CNNs\n"
     ]
    }
   ],
   "source": [
    "cd D:\\zsh\\graduation\\ViTs-vs-CNNs"
   ]
  },
  {
   "cell_type": "code",
   "execution_count": 28,
   "id": "ca54a37a",
   "metadata": {},
   "outputs": [
    {
     "data": {
      "text/plain": [
       "<All keys matched successfully>"
      ]
     },
     "execution_count": 28,
     "metadata": {},
     "output_type": "execute_result"
    }
   ],
   "source": [
    "import torch\n",
    "import torch.nn as nn\n",
    "import global_val\n",
    "\n",
    "from models.ghost_bn import GhostBN2D_ADV\n",
    "from models.advresnet_gbn_gelu import Affine\n",
    "import models.advresnet_gbn_gelu as advres\n",
    "from main_adv_res import EightBN\n",
    "\n",
    "device = torch.device(\"cuda:0\" if torch.cuda.is_available() else \"cpu\")\n",
    "\n",
    "classifier_model = advres.__dict__[\"resnet50\"](norm_layer = EightBN)\n",
    "weights_path = \"D:\\zsh\\graduation\\Graduation-project-domain-shift-image-2-image\\models\\\\advres50_gelu.pth\"\n",
    "weight_dict = torch.load(weights_path,map_location=device)[\"model\"]\n",
    "\n",
    "classifier_model.load_state_dict(weight_dict)"
   ]
  },
  {
   "cell_type": "code",
   "execution_count": 29,
   "id": "481649fe",
   "metadata": {},
   "outputs": [
    {
     "name": "stdout",
     "output_type": "stream",
     "text": [
      "D:\\zsh\\graduation\\Graduation-project-domain-shift-image-2-image\\jupyter\n"
     ]
    }
   ],
   "source": [
    "cd D:\\zsh\\graduation\\Graduation-project-domain-shift-image-2-image\\jupyter"
   ]
  },
  {
   "cell_type": "markdown",
   "id": "c1fb1c62",
   "metadata": {},
   "source": [
    "(added second_part_embedding back after the last run)"
   ]
  },
  {
   "cell_type": "code",
   "execution_count": 30,
   "id": "2dba5c1d",
   "metadata": {},
   "outputs": [],
   "source": [
    "def get_representation_for_image(image,label):\n",
    "    # resize the image and transform it to tensor # [256,256,3] -> [224,224,3] \n",
    "    resized_image = resize(image, (224, 224,3))\n",
    "    resized_image_tensor = torch.from_numpy(resized_image)\n",
    "    resized_image_tensor = torch.permute(resized_image_tensor, (2, 0, 1))\n",
    "    resized_image_tensor = resized_image_tensor[None,:] # [3,224,224] -> [1,3,224,224] (because model takes 4D input)\n",
    "    \n",
    "    # dictionary for the activations\n",
    "    activations = {}\n",
    "\n",
    "    def get_activations(name):\n",
    "        def hook(model, input, output):\n",
    "            activations[name] = output.detach()\n",
    "        return hook\n",
    "\n",
    "    # use the output of (avgpool) layer because it is the same as the input of last layer\n",
    "    h = classifier_model.avgpool.register_forward_hook(get_activations(\"input_last_layer\"))\n",
    "\n",
    "    classifier_model.eval()\n",
    "    classifier_model.sing=True\n",
    "    classifier_model.training=False\n",
    "    out = classifier_model(resized_image_tensor.float(),label)\n",
    "    \n",
    "    # remove the hook\n",
    "    h.remove()\n",
    "\n",
    "    first_part_embedding = torch.flatten(activations[\"input_last_layer\"][0])\n",
    "    # the second part of the embedding is size of each class\n",
    "    #  (this section of code is overlapping with generating class distribution, improve this for a better result)   \n",
    "    second_part_embedding=[]\n",
    "    for i in range(6):\n",
    "        class_size = np.count_nonzero(label == i)\n",
    "        second_part_embedding.append(class_size)\n",
    "    embedding = np.concatenate((first_part_embedding.numpy(),np.array(second_part_embedding)),axis = 0)\n",
    "    \n",
    "    return embedding"
   ]
  },
  {
   "cell_type": "code",
   "execution_count": 31,
   "id": "8a7a81b3",
   "metadata": {},
   "outputs": [],
   "source": [
    "combined_images = input_image_array.reshape(((len(input_image_array)*sample_number, 256,256,3)))"
   ]
  },
  {
   "cell_type": "code",
   "execution_count": 32,
   "id": "9412744d",
   "metadata": {},
   "outputs": [
    {
     "data": {
      "text/plain": [
       "(400, 256, 256, 3)"
      ]
     },
     "execution_count": 32,
     "metadata": {},
     "output_type": "execute_result"
    }
   ],
   "source": [
    "combined_images.shape"
   ]
  },
  {
   "cell_type": "code",
   "execution_count": 33,
   "id": "e51aa950",
   "metadata": {},
   "outputs": [
    {
     "name": "stdout",
     "output_type": "stream",
     "text": [
      "0.9206016738680827\n"
     ]
    }
   ],
   "source": [
    "embedding_list = []\n",
    "for i, image in enumerate(combined_images): # i is not used, could remove the enumerate\n",
    "    embedding = get_representation_for_image(image,\"__\") # y_label is never used, so just use replacement\n",
    "    embedding_list.append(embedding)\n",
    "\n",
    "embedding_arr = np.array(embedding_list)\n",
    "pca_50 = PCA(n_components=50)\n",
    "pca_embedding = pca_50.fit_transform(embedding_arr)\n",
    "print(np.sum(pca_50.explained_variance_ratio_))\n",
    "# pca = PCA(n_components=2)\n",
    "tsne = TSNE()\n",
    "meaningful_tsne_embedding = tsne.fit_transform(pca_embedding)"
   ]
  },
  {
   "cell_type": "code",
   "execution_count": 34,
   "id": "5ef2e2e1",
   "metadata": {},
   "outputs": [
    {
     "data": {
      "text/plain": [
       "(400, 2)"
      ]
     },
     "execution_count": 34,
     "metadata": {},
     "output_type": "execute_result"
    }
   ],
   "source": [
    "meaningful_tsne_embedding.shape"
   ]
  },
  {
   "cell_type": "code",
   "execution_count": 35,
   "id": "466eb3f9",
   "metadata": {},
   "outputs": [],
   "source": [
    "pca_2= PCA(n_components=2)\n",
    "pca_embedding = pca_2.fit_transform(embedding_arr)"
   ]
  },
  {
   "cell_type": "code",
   "execution_count": 36,
   "id": "616218d8",
   "metadata": {},
   "outputs": [],
   "source": [
    "full_embedding = np.concatenate((simple_tsne_embedding,meaningful_tsne_embedding,pca_embedding),axis=1)\n",
    "df_input_embedding = pd.DataFrame(full_embedding, columns=[\"simple_tsne_1\",\"simple_tsne_2\",\"meaningful_tsne_1\",\"meaningful_tsne_2\",\"pca_1\",\"pca_2\"])"
   ]
  },
  {
   "cell_type": "code",
   "execution_count": 37,
   "id": "ac7944e8",
   "metadata": {},
   "outputs": [],
   "source": [
    "df = pd.concat((df,df_input_embedding),axis = 1)"
   ]
  },
  {
   "cell_type": "code",
   "execution_count": 38,
   "id": "49bd7d24",
   "metadata": {},
   "outputs": [
    {
     "data": {
      "text/html": [
       "<div>\n",
       "<style scoped>\n",
       "    .dataframe tbody tr th:only-of-type {\n",
       "        vertical-align: middle;\n",
       "    }\n",
       "\n",
       "    .dataframe tbody tr th {\n",
       "        vertical-align: top;\n",
       "    }\n",
       "\n",
       "    .dataframe thead th {\n",
       "        text-align: right;\n",
       "    }\n",
       "</style>\n",
       "<table border=\"1\" class=\"dataframe\">\n",
       "  <thead>\n",
       "    <tr style=\"text-align: right;\">\n",
       "      <th></th>\n",
       "      <th>name</th>\n",
       "      <th>image_path</th>\n",
       "      <th>label_path</th>\n",
       "      <th>other_ratio</th>\n",
       "      <th>road_ratio</th>\n",
       "      <th>sidewalk_ratio</th>\n",
       "      <th>vegetation_ratio</th>\n",
       "      <th>sky_ratio</th>\n",
       "      <th>car_ratio</th>\n",
       "      <th>dataset</th>\n",
       "      <th>simple_tsne_1</th>\n",
       "      <th>simple_tsne_2</th>\n",
       "      <th>meaningful_tsne_1</th>\n",
       "      <th>meaningful_tsne_2</th>\n",
       "      <th>pca_1</th>\n",
       "      <th>pca_2</th>\n",
       "    </tr>\n",
       "  </thead>\n",
       "  <tbody>\n",
       "    <tr>\n",
       "      <th>0</th>\n",
       "      <td>0.jpeg</td>\n",
       "      <td>dataset\\noise_data\\images\\0\\0.jpeg</td>\n",
       "      <td>dataset\\cityscapes_labels_sample\\0.jpeg</td>\n",
       "      <td>0.372009</td>\n",
       "      <td>0.320770</td>\n",
       "      <td>0.100510</td>\n",
       "      <td>0.183990</td>\n",
       "      <td>0.020248</td>\n",
       "      <td>0.002472</td>\n",
       "      <td>Cityscapes</td>\n",
       "      <td>9.297244</td>\n",
       "      <td>14.170387</td>\n",
       "      <td>-14.293534</td>\n",
       "      <td>-5.071721</td>\n",
       "      <td>2.543226</td>\n",
       "      <td>5.683888</td>\n",
       "    </tr>\n",
       "    <tr>\n",
       "      <th>1</th>\n",
       "      <td>1.jpeg</td>\n",
       "      <td>dataset\\noise_data\\images\\0\\1.jpeg</td>\n",
       "      <td>dataset\\cityscapes_labels_sample\\1.jpeg</td>\n",
       "      <td>0.539703</td>\n",
       "      <td>0.414398</td>\n",
       "      <td>0.041168</td>\n",
       "      <td>0.000565</td>\n",
       "      <td>0.004166</td>\n",
       "      <td>0.000000</td>\n",
       "      <td>Cityscapes</td>\n",
       "      <td>-7.711626</td>\n",
       "      <td>-12.276681</td>\n",
       "      <td>-9.466860</td>\n",
       "      <td>15.319448</td>\n",
       "      <td>-0.228557</td>\n",
       "      <td>-4.261134</td>\n",
       "    </tr>\n",
       "    <tr>\n",
       "      <th>2</th>\n",
       "      <td>2.jpeg</td>\n",
       "      <td>dataset\\noise_data\\images\\0\\2.jpeg</td>\n",
       "      <td>dataset\\cityscapes_labels_sample\\2.jpeg</td>\n",
       "      <td>0.462753</td>\n",
       "      <td>0.354187</td>\n",
       "      <td>0.029633</td>\n",
       "      <td>0.121323</td>\n",
       "      <td>0.018356</td>\n",
       "      <td>0.013748</td>\n",
       "      <td>Cityscapes</td>\n",
       "      <td>-2.667099</td>\n",
       "      <td>3.300517</td>\n",
       "      <td>2.911404</td>\n",
       "      <td>-3.285340</td>\n",
       "      <td>0.035510</td>\n",
       "      <td>1.616864</td>\n",
       "    </tr>\n",
       "    <tr>\n",
       "      <th>3</th>\n",
       "      <td>3.jpeg</td>\n",
       "      <td>dataset\\noise_data\\images\\0\\3.jpeg</td>\n",
       "      <td>dataset\\cityscapes_labels_sample\\3.jpeg</td>\n",
       "      <td>0.425674</td>\n",
       "      <td>0.381119</td>\n",
       "      <td>0.065292</td>\n",
       "      <td>0.101120</td>\n",
       "      <td>0.016296</td>\n",
       "      <td>0.010498</td>\n",
       "      <td>Cityscapes</td>\n",
       "      <td>16.245871</td>\n",
       "      <td>-3.283362</td>\n",
       "      <td>-28.758741</td>\n",
       "      <td>-0.009148</td>\n",
       "      <td>3.053359</td>\n",
       "      <td>-0.375224</td>\n",
       "    </tr>\n",
       "    <tr>\n",
       "      <th>4</th>\n",
       "      <td>4.jpeg</td>\n",
       "      <td>dataset\\noise_data\\images\\0\\4.jpeg</td>\n",
       "      <td>dataset\\cityscapes_labels_sample\\4.jpeg</td>\n",
       "      <td>0.400284</td>\n",
       "      <td>0.329453</td>\n",
       "      <td>0.090469</td>\n",
       "      <td>0.174393</td>\n",
       "      <td>0.001465</td>\n",
       "      <td>0.003937</td>\n",
       "      <td>Cityscapes</td>\n",
       "      <td>7.521536</td>\n",
       "      <td>10.013210</td>\n",
       "      <td>16.275972</td>\n",
       "      <td>4.410336</td>\n",
       "      <td>-6.612169</td>\n",
       "      <td>5.832494</td>\n",
       "    </tr>\n",
       "  </tbody>\n",
       "</table>\n",
       "</div>"
      ],
      "text/plain": [
       "     name                          image_path  \\\n",
       "0  0.jpeg  dataset\\noise_data\\images\\0\\0.jpeg   \n",
       "1  1.jpeg  dataset\\noise_data\\images\\0\\1.jpeg   \n",
       "2  2.jpeg  dataset\\noise_data\\images\\0\\2.jpeg   \n",
       "3  3.jpeg  dataset\\noise_data\\images\\0\\3.jpeg   \n",
       "4  4.jpeg  dataset\\noise_data\\images\\0\\4.jpeg   \n",
       "\n",
       "                                label_path  other_ratio  road_ratio  \\\n",
       "0  dataset\\cityscapes_labels_sample\\0.jpeg     0.372009    0.320770   \n",
       "1  dataset\\cityscapes_labels_sample\\1.jpeg     0.539703    0.414398   \n",
       "2  dataset\\cityscapes_labels_sample\\2.jpeg     0.462753    0.354187   \n",
       "3  dataset\\cityscapes_labels_sample\\3.jpeg     0.425674    0.381119   \n",
       "4  dataset\\cityscapes_labels_sample\\4.jpeg     0.400284    0.329453   \n",
       "\n",
       "   sidewalk_ratio  vegetation_ratio  sky_ratio  car_ratio     dataset  \\\n",
       "0        0.100510          0.183990   0.020248   0.002472  Cityscapes   \n",
       "1        0.041168          0.000565   0.004166   0.000000  Cityscapes   \n",
       "2        0.029633          0.121323   0.018356   0.013748  Cityscapes   \n",
       "3        0.065292          0.101120   0.016296   0.010498  Cityscapes   \n",
       "4        0.090469          0.174393   0.001465   0.003937  Cityscapes   \n",
       "\n",
       "   simple_tsne_1  simple_tsne_2  meaningful_tsne_1  meaningful_tsne_2  \\\n",
       "0       9.297244      14.170387         -14.293534          -5.071721   \n",
       "1      -7.711626     -12.276681          -9.466860          15.319448   \n",
       "2      -2.667099       3.300517           2.911404          -3.285340   \n",
       "3      16.245871      -3.283362         -28.758741          -0.009148   \n",
       "4       7.521536      10.013210          16.275972           4.410336   \n",
       "\n",
       "      pca_1     pca_2  \n",
       "0  2.543226  5.683888  \n",
       "1 -0.228557 -4.261134  \n",
       "2  0.035510  1.616864  \n",
       "3  3.053359 -0.375224  \n",
       "4 -6.612169  5.832494  "
      ]
     },
     "execution_count": 38,
     "metadata": {},
     "output_type": "execute_result"
    }
   ],
   "source": [
    "df.head()"
   ]
  },
  {
   "cell_type": "markdown",
   "id": "2920bfd2",
   "metadata": {},
   "source": [
    "# Define the Dataloader and model"
   ]
  },
  {
   "cell_type": "code",
   "execution_count": 40,
   "id": "73a953bc",
   "metadata": {},
   "outputs": [],
   "source": [
    "class CityscapesDataset(Dataset):\n",
    "    \n",
    "    def __init__(self, images, labels, noise_level = 0):\n",
    "        self.images = images\n",
    "        self.labels = labels\n",
    "        self.noise_level = noise_level\n",
    "        \n",
    "    def __len__(self):\n",
    "        return len(self.images)\n",
    "    \n",
    "    def __getitem__(self, index):\n",
    "        image = self.images[index]\n",
    "        label = self.labels[index]\n",
    "        if self.noise_level!=0:\n",
    "            image = image+(self.noise_level*np.random.normal(0, (image.max() - image.min()), image.shape)).astype(\"uint8\") # (mean, sigma, image_shape)\n",
    "        image = self.transform(image)\n",
    "        label = torch.from_numpy(label).long()\n",
    "        return image, label\n",
    "        \n",
    "    def transform(self, image):\n",
    "        transform_ops = transforms.Compose([\n",
    "            transforms.ToTensor(),\n",
    "            transforms.Normalize(mean=(0.485, 0.456, 0.406), std=(0.229, 0.224, 0.225)) # normalize to control the \"dynamic range\" of activations of different layers\n",
    "        ])\n",
    "        return transform_ops(image)"
   ]
  },
  {
   "cell_type": "code",
   "execution_count": 46,
   "id": "449e4f9e",
   "metadata": {},
   "outputs": [],
   "source": [
    "class UNet(nn.Module):\n",
    "    \n",
    "    def __init__(self, num_classes):\n",
    "        super(UNet, self).__init__()\n",
    "        self.num_classes = num_classes\n",
    "        self.contracting_11 = self.conv_block(in_channels=3, out_channels=64)\n",
    "        self.contracting_12 = nn.MaxPool2d(kernel_size=2, stride=2)\n",
    "        self.contracting_21 = self.conv_block(in_channels=64, out_channels=128)\n",
    "        self.contracting_22 = nn.MaxPool2d(kernel_size=2, stride=2)\n",
    "        self.contracting_31 = self.conv_block(in_channels=128, out_channels=256)\n",
    "        self.contracting_32 = nn.MaxPool2d(kernel_size=2, stride=2)\n",
    "        self.contracting_41 = self.conv_block(in_channels=256, out_channels=512)\n",
    "        self.contracting_42 = nn.MaxPool2d(kernel_size=2, stride=2)\n",
    "        self.middle = self.conv_block(in_channels=512, out_channels=1024)\n",
    "        self.expansive_11 = nn.ConvTranspose2d(in_channels=1024, out_channels=512, kernel_size=3, stride=2, padding=1, output_padding=1)\n",
    "        self.expansive_12 = self.conv_block(in_channels=1024, out_channels=512)\n",
    "        self.expansive_21 = nn.ConvTranspose2d(in_channels=512, out_channels=256, kernel_size=3, stride=2, padding=1, output_padding=1)\n",
    "        self.expansive_22 = self.conv_block(in_channels=512, out_channels=256)\n",
    "        self.expansive_31 = nn.ConvTranspose2d(in_channels=256, out_channels=128, kernel_size=3, stride=2, padding=1, output_padding=1)\n",
    "        self.expansive_32 = self.conv_block(in_channels=256, out_channels=128)\n",
    "        self.expansive_41 = nn.ConvTranspose2d(in_channels=128, out_channels=64, kernel_size=3, stride=2, padding=1, output_padding=1)\n",
    "        self.expansive_42 = self.conv_block(in_channels=128, out_channels=64)\n",
    "        self.output = nn.Conv2d(in_channels=64, out_channels=num_classes, kernel_size=3, stride=1, padding=1)\n",
    "        \n",
    "    def conv_block(self, in_channels, out_channels):\n",
    "        block = nn.Sequential(nn.Conv2d(in_channels=in_channels, out_channels=out_channels, kernel_size=3, stride=1, padding=1),\n",
    "                                    nn.ReLU(),\n",
    "                                    nn.BatchNorm2d(num_features=out_channels),\n",
    "                                    nn.Conv2d(in_channels=out_channels, out_channels=out_channels, kernel_size=3, stride=1, padding=1),\n",
    "                                    nn.ReLU(),\n",
    "                                    nn.BatchNorm2d(num_features=out_channels))\n",
    "        return block\n",
    "    \n",
    "    def forward(self, X):\n",
    "        contracting_11_out = self.contracting_11(X) # [-1, 64, 256, 256]\n",
    "        contracting_12_out = self.contracting_12(contracting_11_out) # [-1, 64, 128, 128]\n",
    "        contracting_21_out = self.contracting_21(contracting_12_out) # [-1, 128, 128, 128]\n",
    "        contracting_22_out = self.contracting_22(contracting_21_out) # [-1, 128, 64, 64]\n",
    "        contracting_31_out = self.contracting_31(contracting_22_out) # [-1, 256, 64, 64]\n",
    "        contracting_32_out = self.contracting_32(contracting_31_out) # [-1, 256, 32, 32]\n",
    "        contracting_41_out = self.contracting_41(contracting_32_out) # [-1, 512, 32, 32]\n",
    "        contracting_42_out = self.contracting_42(contracting_41_out) # [-1, 512, 16, 16]\n",
    "        middle_out = self.middle(contracting_42_out) # [-1, 1024, 16, 16]\n",
    "        expansive_11_out = self.expansive_11(middle_out) # [-1, 512, 32, 32]\n",
    "        expansive_12_out = self.expansive_12(torch.cat((expansive_11_out, contracting_41_out), dim=1)) # [-1, 1024, 32, 32] -> [-1, 512, 32, 32]\n",
    "        expansive_21_out = self.expansive_21(expansive_12_out) # [-1, 256, 64, 64]\n",
    "        expansive_22_out = self.expansive_22(torch.cat((expansive_21_out, contracting_31_out), dim=1)) # [-1, 512, 64, 64] -> [-1, 256, 64, 64]\n",
    "        expansive_31_out = self.expansive_31(expansive_22_out) # [-1, 128, 128, 128]\n",
    "        expansive_32_out = self.expansive_32(torch.cat((expansive_31_out, contracting_21_out), dim=1)) # [-1, 256, 128, 128] -> [-1, 128, 128, 128]\n",
    "        expansive_41_out = self.expansive_41(expansive_32_out) # [-1, 64, 256, 256]\n",
    "        expansive_42_out = self.expansive_42(torch.cat((expansive_41_out, contracting_11_out), dim=1)) # [-1, 128, 256, 256] -> [-1, 64, 256, 256]\n",
    "        output_out = self.output(expansive_42_out) # [-1, num_classes, 256, 256]\n",
    "        return output_out"
   ]
  },
  {
   "cell_type": "code",
   "execution_count": 47,
   "id": "4f15f007",
   "metadata": {},
   "outputs": [
    {
     "data": {
      "text/plain": [
       "<All keys matched successfully>"
      ]
     },
     "execution_count": 47,
     "metadata": {},
     "output_type": "execute_result"
    }
   ],
   "source": [
    "model_path = \"D:\\zsh\\graduation\\Graduation-project-domain-shift-image-2-image\\models\\\\5-classes-U-Net-2023-03-09.pth\"\n",
    "\n",
    "device = torch.device('cpu')\n",
    "model_ = UNet(num_classes=6).to(device)\n",
    "model_.load_state_dict(torch.load(model_path,map_location=device))"
   ]
  },
  {
   "cell_type": "code",
   "execution_count": 48,
   "id": "b5b30940",
   "metadata": {},
   "outputs": [],
   "source": [
    "def IoU_per_class(prediction,label):\n",
    "    prediction = prediction.detach().numpy()\n",
    "    label = label.detach().numpy()\n",
    "    # Loop over each class\n",
    "    iou_list = []\n",
    "    # Flatten label and class arrays\n",
    "    flat_prediction = prediction.flatten()\n",
    "    flat_label = label.flatten()\n",
    "\n",
    "    for i in range(6):\n",
    "        \n",
    "        # Calculate intersection and union\n",
    "        intersection = np.sum((flat_prediction == i) & (flat_label == i))\n",
    "        union = np.sum((flat_prediction == i) | (flat_label == i))\n",
    "\n",
    "        # Calculate IoU\n",
    "        iou = intersection / (union + 1e-12)\n",
    "\n",
    "        # Store IoU value in dictionary\n",
    "        iou_list.append(iou)\n",
    "    \n",
    "    # calculate overall IoU\n",
    "    intersection = len(np.where(flat_prediction == flat_label)[0])\n",
    "    union = len(flat_label)\n",
    "    overall_iou = intersection / (union + 1e-12)\n",
    "    \n",
    "    return overall_iou,iou_list"
   ]
  },
  {
   "cell_type": "code",
   "execution_count": 92,
   "id": "d6f9ea5d",
   "metadata": {},
   "outputs": [
    {
     "name": "stdout",
     "output_type": "stream",
     "text": [
      "(400, 256, 256)\n"
     ]
    }
   ],
   "source": [
    "# get labels for dataloader\n",
    "combined_labels = []\n",
    "combined_labels = np.tile(subset_labels,(len(noise_levels),1,1)) # repeat the array 4 times along the first axis, while keeping the other axes unchanged\n",
    "print(combined_labels.shape)\n",
    "\n",
    "# construct data loader\n",
    "batch_size = 1\n",
    "noise_dataset = CityscapesDataset(combined_images, combined_labels,noise_level=0)\n",
    "noise_loader = DataLoader(noise_dataset, batch_size=batch_size)"
   ]
  },
  {
   "cell_type": "code",
   "execution_count": 93,
   "id": "e7eaf389",
   "metadata": {},
   "outputs": [
    {
     "name": "stdout",
     "output_type": "stream",
     "text": [
      "(400, 256, 256, 3)\n",
      "(400, 256, 256)\n"
     ]
    }
   ],
   "source": [
    "print(combined_images.shape)\n",
    "print(combined_labels.shape)"
   ]
  },
  {
   "cell_type": "code",
   "execution_count": 105,
   "id": "029463b1",
   "metadata": {},
   "outputs": [],
   "source": [
    "def getActivation(name):\n",
    "    # the hook signature\n",
    "    def hook(model, input, output):\n",
    "        activation[name] = output.detach()\n",
    "    return hook\n",
    "\n",
    "model_activations = []\n",
    "overall_ious = []\n",
    "ious_by_class =[]\n",
    "predictions = []\n",
    "\n",
    "for image,label in noise_loader:\n",
    "    activation = {}\n",
    "    h = model_.middle[3].register_forward_hook(getActivation(\"bottleneck\"))\n",
    "    out = model_(image)\n",
    "    prediction = torch.argmax(out, dim=1)\n",
    "    h.remove()\n",
    "    overall_iou,iou_list = IoU_per_class(prediction,label)\n",
    "    overall_ious.append(overall_iou)\n",
    "    ious_by_class.append(iou_list)\n",
    "    prediction = prediction.detach().numpy()[0]\n",
    "    predictions.append(prediction)\n",
    "    instance_activation = activation[\"bottleneck\"]\n",
    "#     print(instance_activation.size())\n",
    "    # need to reshape\n",
    "    instance_activation_reshaped = instance_activation.clone().squeeze(0).reshape(256,1024).numpy()\n",
    "    model_activations.append(instance_activation_reshaped)\n",
    "#     print(instance_activation_reshaped.shape)"
   ]
  },
  {
   "cell_type": "code",
   "execution_count": 106,
   "id": "9591102a",
   "metadata": {},
   "outputs": [],
   "source": [
    "model_activations = np.array(model_activations)\n",
    "overall_ious = np.array(overall_ious)\n",
    "ious_by_class = np.array(ious_by_class)\n",
    "predictions = np.array(predictions)"
   ]
  },
  {
   "cell_type": "code",
   "execution_count": 107,
   "id": "3d87e632",
   "metadata": {},
   "outputs": [
    {
     "name": "stdout",
     "output_type": "stream",
     "text": [
      "(400, 256, 256)\n"
     ]
    }
   ],
   "source": [
    "print(predictions.shape)"
   ]
  },
  {
   "cell_type": "markdown",
   "id": "48ffb174",
   "metadata": {},
   "source": [
    "Save predictions to paths"
   ]
  },
  {
   "cell_type": "code",
   "execution_count": 108,
   "id": "13ecd2be",
   "metadata": {},
   "outputs": [],
   "source": [
    "predictions_by_noise_level=np.reshape(predictions,(len(noise_levels),sample_number,256,256))"
   ]
  },
  {
   "cell_type": "code",
   "execution_count": 110,
   "id": "09a85d21",
   "metadata": {},
   "outputs": [],
   "source": [
    "noisy_prediction_folder = \"D:\\zsh\\graduation\\Graduation-project-domain-shift-image-2-image\\dataset\\\\noise_data\\predictions\"\n",
    "prediction_paths = []\n",
    "for i,noisy_predictions in enumerate(predictions_by_noise_level):\n",
    "    noise_level = noise_levels[i]\n",
    "    for j,prediction in enumerate(noisy_predictions):\n",
    "        prediction_object = Image.fromarray(prediction.astype(np.uint8))\n",
    "        # TODO: change the name when use other data\n",
    "        name = str(j)+\".jpeg\"\n",
    "        prediction_path = os.path.join(noisy_prediction_folder,str(noise_level),name)\n",
    "        prediction_path_rel = os.path.relpath(prediction_path, start)\n",
    "        # save image\n",
    "        prediction_object.save(prediction_path)      \n",
    "        \n",
    "        prediction_paths.append(prediction_path_rel)"
   ]
  },
  {
   "cell_type": "markdown",
   "id": "9fa23ecd",
   "metadata": {},
   "source": [
    "Embedding for activations"
   ]
  },
  {
   "cell_type": "code",
   "execution_count": 113,
   "id": "8cb022dc",
   "metadata": {},
   "outputs": [],
   "source": [
    "# Preprocess the activations\n",
    "# TODO: change this shape for pre-trained model\n",
    "activations_2d = np.reshape(model_activations,(len(noise_levels)*sample_number*256,1024)) # 256 is 16x16, the activation \"image\""
   ]
  },
  {
   "cell_type": "code",
   "execution_count": 114,
   "id": "53cef6f1",
   "metadata": {},
   "outputs": [],
   "source": [
    "pca_50 = PCA(n_components=50)\n",
    "intermediate_pca_embedding = pca_50.fit_transform(activations_2d)\n",
    "activations_tsne_embedding = TSNE(n_components=2).fit_transform(intermediate_pca_embedding)"
   ]
  },
  {
   "cell_type": "code",
   "execution_count": 116,
   "id": "0ea480ca",
   "metadata": {},
   "outputs": [],
   "source": [
    "activations_tsne_embedding_reshaped = np.reshape(activations_tsne_embedding,(len(noise_levels)*sample_number,256,2))"
   ]
  },
  {
   "cell_type": "code",
   "execution_count": 119,
   "id": "eb95e62d",
   "metadata": {},
   "outputs": [
    {
     "data": {
      "text/plain": [
       "<matplotlib.collections.PathCollection at 0x2c86d7dfeb8>"
      ]
     },
     "execution_count": 119,
     "metadata": {},
     "output_type": "execute_result"
    },
    {
     "data": {
      "image/png": "[encoded data removed]",
      "text/plain": [
       "<Figure size 432x288 with 1 Axes>"
      ]
     },
     "metadata": {
      "needs_background": "light"
     },
     "output_type": "display_data"
    }
   ],
   "source": [
    "plt.scatter(activations_tsne_embedding_reshaped[0,:,0],activations_tsne_embedding_reshaped[0,:,1])\n",
    "plt.scatter(activations_tsne_embedding_reshaped[300,:,0],activations_tsne_embedding_reshaped[300,:,1])"
   ]
  },
  {
   "cell_type": "code",
   "execution_count": 121,
   "id": "912215d5",
   "metadata": {},
   "outputs": [],
   "source": [
    "# save everything to df\n",
    "\n",
    "# model activations\n",
    "df[\"bottleneck_activations_embedding\"] = activations_tsne_embedding_reshaped.tolist()\n",
    "\n",
    "# prediction path\n",
    "df[\"prediction_path\"] = prediction_paths\n",
    "\n",
    "# overall_iou\n",
    "df[\"overall_iou\"] = overall_ious\n",
    "\n",
    "# iou by class\n",
    "iou_class_df = pd.DataFrame(ious_by_class,columns = [\"other_iou\",\"road_iou\",\"sidewalk_iou\",\"vegetation_iou\",\"sky_iou\",\"car_iou\"])\n",
    "df = pd.concat((df,iou_class_df),axis=1)"
   ]
  },
  {
   "cell_type": "code",
   "execution_count": 125,
   "id": "ae9b0008",
   "metadata": {},
   "outputs": [],
   "source": [
    "df_rearrange = df[['name','dataset', 'image_path', 'label_path','prediction_path', \n",
    "                       'other_ratio', 'road_ratio', 'sidewalk_ratio','vegetation_ratio', 'sky_ratio', 'car_ratio', \n",
    "                       'simple_tsne_1','simple_tsne_2', 'meaningful_tsne_1', 'meaningful_tsne_2',\"pca_1\",\"pca_2\",\n",
    "       'bottleneck_activations_embedding', 'overall_iou', 'other_iou',\n",
    "       'road_iou', 'sidewalk_iou', 'vegetation_iou', 'sky_iou', 'car_iou']]"
   ]
  },
  {
   "cell_type": "code",
   "execution_count": 127,
   "id": "1b3bb521",
   "metadata": {},
   "outputs": [],
   "source": [
    "df_rearrange.to_csv(\"noise_df.csv\",index=True)"
   ]
  }
 ],
 "metadata": {
  "kernelspec": {
   "display_name": "Python 3",
   "language": "python",
   "name": "python3"
  },
  "language_info": {
   "codemirror_mode": {
    "name": "ipython",
    "version": 3
   },
   "file_extension": ".py",
   "mimetype": "text/x-python",
   "name": "python",
   "nbconvert_exporter": "python",
   "pygments_lexer": "ipython3",
   "version": "3.6.5"
  }
 },
 "nbformat": 4,
 "nbformat_minor": 5
}
