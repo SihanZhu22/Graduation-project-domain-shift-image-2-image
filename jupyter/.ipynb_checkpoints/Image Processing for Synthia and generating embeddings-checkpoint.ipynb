{
 "cells": [
  {
   "cell_type": "code",
   "execution_count": 44,
   "id": "995de79c",
   "metadata": {},
   "outputs": [],
   "source": [
    "from PIL import Image\n",
    "import numpy as np\n",
    "import os\n",
    "import pickle\n",
    "import random\n",
    "import matplotlib.pyplot as plt\n",
    "import pandas as pd\n",
    "import seaborn as sns\n",
    "\n",
    "from sklearn.decomposition import PCA\n",
    "from sklearn.manifold import TSNE"
   ]
  },
  {
   "cell_type": "markdown",
   "id": "c6f20b87",
   "metadata": {},
   "source": [
    "# (Done) Exploration with resizing images"
   ]
  },
  {
   "cell_type": "code",
   "execution_count": 15,
   "id": "2a40f027",
   "metadata": {},
   "outputs": [],
   "source": [
    "synthia_image_path = \"D:\\zsh\\graduation\\graduation_dataset\\RAND_CITYSCAPES\\RGB\"\n",
    "label_path = \"D:\\zsh\\graduation\\graduation_dataset\\RAND_CITYSCAPES\\GT\\COLOR\""
   ]
  },
  {
   "cell_type": "code",
   "execution_count": 16,
   "id": "0159c201",
   "metadata": {},
   "outputs": [],
   "source": [
    "image = Image.open(synthia_image_path+\"\\\\\"+'0000000.png')\n",
    "label = Image.open(label_path+\"\\\\\"+'0000000.png')"
   ]
  },
  {
   "cell_type": "code",
   "execution_count": 19,
   "id": "5ebbc377",
   "metadata": {},
   "outputs": [
    {
     "name": "stdout",
     "output_type": "stream",
     "text": [
      "<PIL.PngImagePlugin.PngImageFile image mode=RGBA size=1280x760 at 0x25878EAEF40>\n"
     ]
    }
   ],
   "source": [
    "print(label)"
   ]
  },
  {
   "cell_type": "code",
   "execution_count": 21,
   "id": "24c69c9d",
   "metadata": {},
   "outputs": [],
   "source": [
    "label_arr = np.array(label)"
   ]
  },
  {
   "cell_type": "code",
   "execution_count": 22,
   "id": "db6d7e80",
   "metadata": {},
   "outputs": [
    {
     "data": {
      "text/plain": [
       "(760, 1280, 4)"
      ]
     },
     "execution_count": 22,
     "metadata": {},
     "output_type": "execute_result"
    }
   ],
   "source": [
    "label_arr.shape"
   ]
  },
  {
   "cell_type": "code",
   "execution_count": 23,
   "id": "0e466c4a",
   "metadata": {},
   "outputs": [
    {
     "name": "stdout",
     "output_type": "stream",
     "text": [
      "(1280, 760)\n",
      "(256, 256)\n"
     ]
    }
   ],
   "source": [
    "# example image\n",
    "new_image = image.resize((256, 256))\n",
    "new_image.save('image_256.jpg')\n",
    "\n",
    "new_label = label.resize((256, 256))\n",
    "new_label = new_label.convert('RGB')\n",
    "new_label.save('label_256.jpg')\n",
    "\n",
    "print(image.size) # Output: (1920, 1280)\n",
    "print(new_image.size) # Output: (400, 400)"
   ]
  },
  {
   "cell_type": "markdown",
   "id": "d514b81d",
   "metadata": {},
   "source": [
    "# (Done) A function that resize the images and put it to a new folder"
   ]
  },
  {
   "cell_type": "code",
   "execution_count": 29,
   "id": "cab57ca6",
   "metadata": {},
   "outputs": [],
   "source": [
    "synthia_image_path = \"D:\\zsh\\graduation\\graduation_dataset\\RAND_CITYSCAPES\\RGB\"\n",
    "label_path = \"D:\\zsh\\graduation\\graduation_dataset\\RAND_CITYSCAPES\\GT\\COLOR\"\n",
    "\n",
    "resize_image_path = \"D:\\zsh\\graduation\\graduation_dataset\\SYNTHIA_256\\image\"\n",
    "resize_label_path = \"D:\\zsh\\graduation\\graduation_dataset\\SYNTHIA_256\\label-rgb\""
   ]
  },
  {
   "cell_type": "code",
   "execution_count": 31,
   "id": "bae7929d",
   "metadata": {},
   "outputs": [],
   "source": [
    "def resize_images(source_folder,target_folder):\n",
    "    count= 0\n",
    "    for filename in os.listdir(source_folder):\n",
    "        if count>10:\n",
    "            break\n",
    "        f = os.path.join(source_folder, filename)\n",
    "        image = Image.open(f)\n",
    "        if image.format == \"RGBA\":\n",
    "            image = image.convert('RGB')\n",
    "            \n",
    "        new_image = image.resize((256, 256))\n",
    "        new_image.save(os.path.join(target_folder, filename))\n",
    "        count = count+1"
   ]
  },
  {
   "cell_type": "code",
   "execution_count": 32,
   "id": "e18df6eb",
   "metadata": {},
   "outputs": [],
   "source": [
    "resize_images(synthia_image_path,resize_image_path)"
   ]
  },
  {
   "cell_type": "code",
   "execution_count": 33,
   "id": "5f2338fc",
   "metadata": {},
   "outputs": [],
   "source": [
    "resize_images(label_path,resize_label_path)"
   ]
  },
  {
   "cell_type": "markdown",
   "id": "ce64bdaf",
   "metadata": {},
   "source": [
    "# (done) Embedding for the input （pca and tsne）"
   ]
  },
  {
   "cell_type": "code",
   "execution_count": 26,
   "id": "ade67f99",
   "metadata": {},
   "outputs": [],
   "source": [
    "resize_image_path_synthia = \"D:\\zsh\\graduation\\Graduation-project-domain-shift-image-2-image\\dataset\\SYNTHIA_256\\image\"\n",
    "resize_label_path_synthia = \"D:\\zsh\\graduation\\Graduation-project-domain-shift-image-2-image\\dataset\\SYNTHIA_256\\label-rgb\"\n",
    "\n",
    "cityscapes_path = \"D:\\zsh\\graduation\\Graduation-project-domain-shift-image-2-image\\dataset\\original_cityscapes_inputs\""
   ]
  },
  {
   "cell_type": "code",
   "execution_count": 27,
   "id": "7cb0ddab",
   "metadata": {},
   "outputs": [],
   "source": [
    "# get relative path for both datasets, because global path is not allowed (\"Not allowed to load local resource\")\n",
    "start = \"D:\\zsh\\graduation\\Graduation-project-domain-shift-image-2-image\"\n",
    "relative_path_cityscapes = os.path.relpath(cityscapes_path, start)\n",
    "relative_path_synthia = os.path.relpath(resize_image_path_synthia, start)"
   ]
  },
  {
   "cell_type": "code",
   "execution_count": 28,
   "id": "2a4fb742",
   "metadata": {},
   "outputs": [],
   "source": [
    "# Cityscapes\n",
    "# import the pickle \n",
    "cityscapes_100 = []\n",
    "cityscapes_path_100 = []\n",
    "\n",
    "cityscapes_names= os.listdir(cityscapes_path)\n",
    "cityscapes_names_100 = random.choices(cityscapes_names, k=100)\n",
    "for name in cityscapes_names_100:\n",
    "    image = Image.open(cityscapes_path+\"\\\\\"+name).convert(\"RGB\")\n",
    "    cityscapes_100.append(np.array(image))\n",
    "    cityscapes_path_100.append(relative_path_cityscapes+\"\\\\\"+name)\n",
    "\n",
    "cityscapes_100 = np.array(cityscapes_100)\n",
    "cityscapes_path_100 = np.array(cityscapes_path_100)\n",
    "\n",
    "# pickle_file = \"D:\\zsh\\graduation\\graduation_dataset\\\\5_classes_preprocessed\\\\validation_images.pkl\"\n",
    "# with open(pickle_file, 'rb') as f:\n",
    "#     cityscapes_images = pickle.load(f)\n",
    "# # randomly select images 100 out of the 500\n",
    "# cityscapes_100 = random.choices(cityscapes_images, k=100)\n",
    "# cityscapes_100 = np.array(cityscapes_100)"
   ]
  },
  {
   "cell_type": "code",
   "execution_count": 29,
   "id": "87475f51",
   "metadata": {},
   "outputs": [],
   "source": [
    "# synthia\n",
    "\n",
    "synthia_100 = []\n",
    "synthia_path_100 =[]\n",
    "\n",
    "synthia_names = os.listdir(resize_image_path_synthia)\n",
    "# randomly select 100 images to load in to numpy array\n",
    "synthia_names_100 = random.choices(synthia_names, k=100)\n",
    "for name in synthia_names_100:\n",
    "#     print(name)\n",
    "#     print(resize_image_path_synthia)\n",
    "#     print(resize_image_path_synthia+\"\\\\\"+name)\n",
    "    image = Image.open(resize_image_path_synthia+\"\\\\\"+name).convert(\"RGB\")\n",
    "    \n",
    "    synthia_100.append(np.array(image))\n",
    "    synthia_path_100.append(relative_path_synthia+\"\\\\\"+name)\n",
    "\n",
    "synthia_100 = np.array(synthia_100)\n",
    "synthia_path_100 = np.array(synthia_path_100)\n"
   ]
  },
  {
   "cell_type": "code",
   "execution_count": 30,
   "id": "3e983c7e",
   "metadata": {},
   "outputs": [],
   "source": [
    "# concatenate the images and the paths from two different dataset\n",
    "combined_embedding = np.concatenate((cityscapes_100,synthia_100),axis=0)\n",
    "combined_embedding = np.reshape(combined_embedding,(len(combined_embedding), 256*256*3))\n",
    "\n",
    "combined_paths = np.concatenate((cityscapes_path_100,synthia_path_100),axis=0)\n"
   ]
  },
  {
   "cell_type": "code",
   "execution_count": 52,
   "id": "f1149676",
   "metadata": {},
   "outputs": [
    {
     "name": "stdout",
     "output_type": "stream",
     "text": [
      "[0.17455037 0.12775415]\n"
     ]
    }
   ],
   "source": [
    "pca = PCA(n_components=2)\n",
    "pca_embedding = pca.fit_transform(combined_embedding)\n",
    "# print(pca.explained_variance_ratio_)\n",
    "\n",
    "df_pca = pd.DataFrame(pca_embedding,columns=[\"pca_1\",\"pca_2\"])"
   ]
  },
  {
   "cell_type": "code",
   "execution_count": 55,
   "id": "fdf9aa5e",
   "metadata": {},
   "outputs": [
    {
     "name": "stdout",
     "output_type": "stream",
     "text": [
      "[0.17455037 0.30230452 0.38021185 0.42038545 0.45542378 0.48613892\n",
      " 0.51117394 0.52933932 0.54443553 0.55916993 0.57289452 0.58568239\n",
      " 0.59734436 0.60846511 0.61880871 0.62881416 0.63748224 0.64583793\n",
      " 0.65378844 0.66140777 0.66845216 0.67510521 0.68160636 0.68799363\n",
      " 0.69420525 0.70026343 0.70606581 0.71154609 0.71683842 0.72195872\n",
      " 0.72696119 0.7319031  0.73675581 0.74145759 0.74594532 0.75033634\n",
      " 0.75463754 0.75887845 0.76295181 0.76694746 0.77081377 0.77459941\n",
      " 0.77832211 0.7819497  0.78549762 0.78898077 0.79244239 0.79587512\n",
      " 0.79924446 0.80238437]\n"
     ]
    }
   ],
   "source": [
    "pca_50 = PCA(n_components=50)\n",
    "pca_embedding = pca_50.fit_transform(combined_embedding)\n",
    "print(np.sum(pca_50.explained_variance_ratio_))\n",
    "tsne = TSNE()\n",
    "tsne_embedding = tsne.fit_transform(pca_embedding)\n",
    "\n",
    "df_tsne = pd.DataFrame(tsne_embedding,columns=[\"tsne_1\",\"tsne_2\"])\n",
    "df_tsne.head()"
   ]
  },
  {
   "cell_type": "markdown",
   "id": "818e672d",
   "metadata": {},
   "source": [
    "Then generate embedding (PCA, t-SNE(initialized with PCA))\n",
    "\n",
    "the columns of result df [\"pca_1\",\"pca_2\",\"tsne_1\",\"tsne_2\"]"
   ]
  },
  {
   "cell_type": "code",
   "execution_count": 46,
   "id": "8f6a225a",
   "metadata": {},
   "outputs": [],
   "source": [
    "df = pd.concat([df_pca, df_tsne], axis=1)\n",
    "df[\"dataset\"] =np.nan\n",
    "df[\"path\"] = combined_paths"
   ]
  },
  {
   "cell_type": "code",
   "execution_count": 47,
   "id": "cf5eae9f",
   "metadata": {},
   "outputs": [
    {
     "name": "stderr",
     "output_type": "stream",
     "text": [
      "C:\\Users\\Alex\\AppData\\Local\\Temp\\ipykernel_11340\\835237747.py:1: SettingWithCopyWarning: \n",
      "A value is trying to be set on a copy of a slice from a DataFrame\n",
      "\n",
      "See the caveats in the documentation: https://pandas.pydata.org/pandas-docs/stable/user_guide/indexing.html#returning-a-view-versus-a-copy\n",
      "  df[\"dataset\"].iloc[:100] = \"Cityscapes\"\n"
     ]
    }
   ],
   "source": [
    "df[\"dataset\"].iloc[:100] = \"Cityscapes\"\n",
    "df[\"dataset\"].iloc[100:] = \"Synthia\""
   ]
  },
  {
   "cell_type": "markdown",
   "id": "48e5e54f",
   "metadata": {},
   "source": [
    "Find the list of most similar images from the other dataset\n",
    "\n",
    "1. cityscapes_similar_100: where each item is a path to the most similar images in synthia dataset of the current cityscapes image\n",
    "2. synthia_similar_100: vice versa\n",
    "\n",
    "When the closest point is not calculated based on embedding, this should be moved forward"
   ]
  },
  {
   "cell_type": "code",
   "execution_count": 48,
   "id": "329523ae",
   "metadata": {},
   "outputs": [],
   "source": [
    "df_cityscapes = df.iloc[:100,:]\n",
    "df_synthia = df.iloc[100:,:]"
   ]
  },
  {
   "cell_type": "code",
   "execution_count": 49,
   "id": "eccb29ea",
   "metadata": {},
   "outputs": [],
   "source": [
    "# transform the columns to numpy array\n",
    "# if use tsne instead of pca, TODO: change this code\n",
    "cityscapes_embedding = df_cityscapes[[\"pca_1\",\"pca_2\"]].to_numpy()\n",
    "synthia_embedding = df_synthia[[\"pca_1\",\"pca_2\"]].to_numpy()"
   ]
  },
  {
   "cell_type": "code",
   "execution_count": 37,
   "id": "8d5ad3f3",
   "metadata": {},
   "outputs": [],
   "source": [
    "# function to find the corresponding point with minimal euclidean distance\n",
    "# this should work for more than 2d points as well\n",
    "def most_similar_image(instance, data):\n",
    "#     nodes = np.asarray(nodes)\n",
    "    # Euclidean distance calculation\n",
    "    dist_2 = np.sum((data - instance)**2, axis=1)\n",
    "    return np.argmin(dist_2)"
   ]
  },
  {
   "cell_type": "code",
   "execution_count": 38,
   "id": "68bacc0c",
   "metadata": {},
   "outputs": [],
   "source": [
    "# find the most similar image in the other dataset for each image\n",
    "# and make the image paths to be a list\n",
    "cityscapes_similar_100 = []\n",
    "for instance in cityscapes_embedding:\n",
    "    image_index_synthia = most_similar_image(instance,synthia_embedding)\n",
    "    path = synthia_path_100[image_index_synthia]\n",
    "    cityscapes_similar_100.append(path)\n",
    "\n",
    "synthia_similar_100 = []\n",
    "for instance in synthia_embedding:\n",
    "    image_index_cityscapes = most_similar_image(instance,cityscapes_embedding)\n",
    "    path = cityscapes_path_100[image_index_cityscapes]\n",
    "    synthia_similar_100.append(path)"
   ]
  },
  {
   "cell_type": "code",
   "execution_count": 39,
   "id": "c1c307a5",
   "metadata": {},
   "outputs": [
    {
     "name": "stderr",
     "output_type": "stream",
     "text": [
      "C:\\Users\\Alex\\AppData\\Local\\Temp\\ipykernel_11340\\3422265885.py:2: SettingWithCopyWarning: \n",
      "A value is trying to be set on a copy of a slice from a DataFrame.\n",
      "Try using .loc[row_indexer,col_indexer] = value instead\n",
      "\n",
      "See the caveats in the documentation: https://pandas.pydata.org/pandas-docs/stable/user_guide/indexing.html#returning-a-view-versus-a-copy\n",
      "  df_cityscapes.loc[:,\"similar_image_path\"] = np.array(cityscapes_similar_100)\n",
      "C:\\Users\\Alex\\AppData\\Local\\Temp\\ipykernel_11340\\3422265885.py:3: SettingWithCopyWarning: \n",
      "A value is trying to be set on a copy of a slice from a DataFrame.\n",
      "Try using .loc[row_indexer,col_indexer] = value instead\n",
      "\n",
      "See the caveats in the documentation: https://pandas.pydata.org/pandas-docs/stable/user_guide/indexing.html#returning-a-view-versus-a-copy\n",
      "  df_synthia.loc[:,\"similar_image_path\"] = np.array(synthia_similar_100)\n"
     ]
    }
   ],
   "source": [
    "# add the image paths to be a separate columns\n",
    "df_cityscapes.loc[:,\"similar_image_path\"] = np.array(cityscapes_similar_100)\n",
    "df_synthia.loc[:,\"similar_image_path\"] = np.array(synthia_similar_100)\n",
    "\n",
    "# combines the two dfs back to one\n",
    "df = pd.concat([df_cityscapes, df_synthia], axis=0)"
   ]
  },
  {
   "cell_type": "markdown",
   "id": "a71d5218",
   "metadata": {},
   "source": [
    "df.iloc[155,:]"
   ]
  },
  {
   "cell_type": "markdown",
   "id": "54f60ff4",
   "metadata": {},
   "source": [
    "Generate example graph"
   ]
  },
  {
   "cell_type": "code",
   "execution_count": 51,
   "id": "82da7c96",
   "metadata": {},
   "outputs": [],
   "source": [
    "plt.figure(figsize=(8,5))\n",
    "sns.scatterplot(\n",
    "    x=\"tsne_1\", y=\"tsne_2\",\n",
    "    hue=\"dataset\", # see if this need to be changed\n",
    "    palette=sns.color_palette(\"hls\", 2), # palette corresponds to hue\n",
    "    data=df # df_tsne_1 or df_tsne_2\n",
    ")"
   ]
  },
  {
   "cell_type": "code",
   "execution_count": 42,
   "id": "9a5c1dbf",
   "metadata": {},
   "outputs": [],
   "source": [
    "# save\n",
    "df.to_csv(\"input_df_v4.csv\",index=False)"
   ]
  },
  {
   "cell_type": "markdown",
   "id": "37bfa312",
   "metadata": {},
   "source": [
    "# Regenerate distance based on mask？"
   ]
  },
  {
   "cell_type": "code",
   "execution_count": null,
   "id": "7563ef38",
   "metadata": {},
   "outputs": [],
   "source": [
    "# read the label in\n",
    "# calculate distance"
   ]
  },
  {
   "cell_type": "markdown",
   "id": "fe6599f8",
   "metadata": {},
   "source": [
    "# Subset: transform the label to class number, and save？"
   ]
  },
  {
   "cell_type": "code",
   "execution_count": null,
   "id": "ae11a771",
   "metadata": {},
   "outputs": [],
   "source": []
  }
 ],
 "metadata": {
  "kernelspec": {
   "display_name": "Python 3 (ipykernel)",
   "language": "python",
   "name": "python3"
  },
  "language_info": {
   "codemirror_mode": {
    "name": "ipython",
    "version": 3
   },
   "file_extension": ".py",
   "mimetype": "text/x-python",
   "name": "python",
   "nbconvert_exporter": "python",
   "pygments_lexer": "ipython3",
   "version": "3.8.13"
  }
 },
 "nbformat": 4,
 "nbformat_minor": 5
}
