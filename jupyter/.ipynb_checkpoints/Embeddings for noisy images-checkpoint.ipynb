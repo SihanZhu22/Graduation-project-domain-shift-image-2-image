{
 "cells": [
  {
   "cell_type": "code",
   "execution_count": null,
   "id": "b560a6af",
   "metadata": {},
   "outputs": [],
   "source": [
    "from PIL import Image\n",
    "import numpy as np\n",
    "import os\n",
    "import pickle\n",
    "import random\n",
    "import matplotlib.pyplot as plt\n",
    "import pandas as pd\n",
    "import seaborn as sns\n",
    "\n",
    "from sklearn.decomposition import PCA\n",
    "from sklearn.manifold import TSNE"
   ]
  },
  {
   "cell_type": "code",
   "execution_count": null,
   "id": "4a8d0c75",
   "metadata": {},
   "outputs": [],
   "source": [
    "noise_levels = [0,0.1,0.2,0.3]"
   ]
  },
  {
   "cell_type": "code",
   "execution_count": null,
   "id": "d3023604",
   "metadata": {},
   "outputs": [],
   "source": [
    "class CityscapeDataset(Dataset):\n",
    "    \n",
    "    def __init__(self, images, labels, noise_level = 0):\n",
    "#         self.image_dir = image_dir\n",
    "#         self.image_fns = os.listdir(image_dir)\n",
    "#         self.label_model = label_model\n",
    "        self.images = images\n",
    "        self.labels = labels\n",
    "        self.noise_level = noise_level\n",
    "        \n",
    "    def __len__(self):\n",
    "        return len(self.images)\n",
    "    \n",
    "    def __getitem__(self, index):\n",
    "        image = self.images[index]\n",
    "        label = self.labels[index]\n",
    "#         mean = 0\n",
    "#         var = 0.1\n",
    "#         sigma = var**0.5\n",
    "        if self.noise_level!=0:\n",
    "            image = image+(self.noise_level*np.random.normal(0, (image.max() - image.min()), image.shape)).astype(\"uint8\") # (mean, sigma, image_shape)\n",
    "#             gauss = np.random.normal(mean,sigma,image.shape).astype(\"uint8\")\n",
    "#             image = image+gauss\n",
    "        image = self.transform(image)\n",
    "        label = torch.from_numpy(label).long()\n",
    "        return image, label\n",
    "            # gaussian nosie\n",
    "            # sigma could be changed, leave it for now\n",
    "                # e.g.(image.max() - image.min())/6.\n",
    "#             print(image.max()) -255\n",
    "#             print(image.min()) -0\n",
    "#             print(image.dtype) -unint8 \n",
    "        \n",
    "    def transform(self, image):\n",
    "        transform_ops = transforms.Compose([\n",
    "            transforms.ToTensor(),\n",
    "            transforms.Normalize(mean=(0.485, 0.456, 0.406), std=(0.229, 0.224, 0.225)) # normalize to control the \"dynamic range\" of activations of different layers\n",
    "        ])\n",
    "        return transform_ops(image)"
   ]
  },
  {
   "cell_type": "markdown",
   "id": "60a54f7d",
   "metadata": {},
   "source": [
    "A function to transform original data to noisy data"
   ]
  },
  {
   "cell_type": "code",
   "execution_count": null,
   "id": "efd1aed3",
   "metadata": {},
   "outputs": [],
   "source": [
    "def get_data_for_one_domain(noise_level,original_dataset,mode = \"PCA\"):\n",
    "    pca = PCA(n_components=2)\n",
    "    \n",
    "    if noise_level == 0:\n",
    "        dataset = original_dataset\n",
    "    else:\n",
    "        dataset = transform_dataset(original_dataset,noise_level=noise_level)\n",
    "\n",
    "    flat = np.reshape(dataset,(500, 256*256*3))\n",
    "    \n",
    "    return flat"
   ]
  },
  {
   "cell_type": "code",
   "execution_count": null,
   "id": "aa549195",
   "metadata": {},
   "outputs": [],
   "source": [
    "def transform_dataset(original_dataset,noise_level=0):\n",
    "    new_dataset = []\n",
    "    if noise_level == 0:\n",
    "        print(\"No transformation needed\")\n",
    "        return original_dataset\n",
    "    for image in original_dataset:\n",
    "        if noise_level!=0:\n",
    "            new_image = image+(noise_level*np.random.normal(0, (image.max() - image.min())/6., image.shape)).astype(\"uint8\") # (mean, sigma, image_shape)\n",
    "            new_dataset.append(new_image)\n",
    "    new_dataset = np.array(new_dataset)\n",
    "    return new_dataset"
   ]
  },
  {
   "cell_type": "code",
   "execution_count": null,
   "id": "5b3102e0",
   "metadata": {},
   "outputs": [],
   "source": [
    "input_image_list = [get_data_for_one_domain(noise_levels[i], original_dataset = X_test) for i in range(len(noise_levels))]"
   ]
  },
  {
   "cell_type": "code",
   "execution_count": null,
   "id": "fde41ed2",
   "metadata": {},
   "outputs": [],
   "source": [
    "input_image_array = np.array(input_image_list)\n",
    "input_image_array = input_image_array.reshape((input_image_array.shape)[0]*(input_image_array.shape)[1],(input_image_array.shape)[2])\n",
    "pca_50 = PCA(n_components = 50)\n",
    "pca_embedding = pca.fit_transform(input_image_array)"
   ]
  },
  {
   "cell_type": "code",
   "execution_count": null,
   "id": "08246a3a",
   "metadata": {},
   "outputs": [],
   "source": [
    "df_input_full = pd.DataFrame(embedding,columns=[\"tsne_1\",\"tsne_2\"])"
   ]
  },
  {
   "cell_type": "code",
   "execution_count": null,
   "id": "4b4235f1",
   "metadata": {},
   "outputs": [],
   "source": []
  }
 ],
 "metadata": {
  "kernelspec": {
   "display_name": "Python 3 (ipykernel)",
   "language": "python",
   "name": "python3"
  },
  "language_info": {
   "codemirror_mode": {
    "name": "ipython",
    "version": 3
   },
   "file_extension": ".py",
   "mimetype": "text/x-python",
   "name": "python",
   "nbconvert_exporter": "python",
   "pygments_lexer": "ipython3",
   "version": "3.8.13"
  }
 },
 "nbformat": 4,
 "nbformat_minor": 5
}
