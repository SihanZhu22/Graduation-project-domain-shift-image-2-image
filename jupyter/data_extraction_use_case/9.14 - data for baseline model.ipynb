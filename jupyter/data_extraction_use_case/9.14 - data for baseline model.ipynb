{
 "cells": [
  {
   "cell_type": "markdown",
   "id": "3bebe42c",
   "metadata": {},
   "source": [
    "This file is based on \"5.5-Generate DataFrame for front-end.ipynb\""
   ]
  },
  {
   "cell_type": "markdown",
   "id": "67141c6f",
   "metadata": {},
   "source": [
    "1. Load libraries"
   ]
  },
  {
   "cell_type": "code",
   "execution_count": 1,
   "id": "4430d195",
   "metadata": {},
   "outputs": [
    {
     "name": "stderr",
     "output_type": "stream",
     "text": [
      "d:\\zsh\\graduation\\grad_env_take_2\\lib\\site-packages\\tqdm\\auto.py:22: TqdmWarning: IProgress not found. Please update jupyter and ipywidgets. See https://ipywidgets.readthedocs.io/en/stable/user_install.html\n",
      "  from .autonotebook import tqdm as notebook_tqdm\n"
     ]
    }
   ],
   "source": [
    "from PIL import Image\n",
    "import numpy as np\n",
    "import os\n",
    "import pickle\n",
    "import random\n",
    "import matplotlib.pyplot as plt\n",
    "import pandas as pd\n",
    "import seaborn as sns\n",
    "\n",
    "from sklearn.decomposition import PCA\n",
    "from sklearn.manifold import TSNE\n",
    "from sklearn.preprocessing import MinMaxScaler\n",
    "import umap\n",
    "\n",
    "from torch.utils.data import Dataset, DataLoader\n",
    "import torch\n",
    "import torch.nn as nn\n",
    "from torchvision import transforms\n",
    "from tqdm import tqdm\n",
    "\n",
    "# Use IoU instead\n",
    "# import re\n",
    "from scipy.spatial.distance import cdist\n",
    "from skimage.transform import resize"
   ]
  },
  {
   "cell_type": "markdown",
   "id": "7342489a",
   "metadata": {},
   "source": [
    "###### 2. Decide the procedure by grouping the different columns together"
   ]
  },
  {
   "cell_type": "markdown",
   "id": "7e738012",
   "metadata": {},
   "source": [
    "For cityscapes and synthia separately (and then concatenate):\n",
    "\n",
    "* name, image_path, dataset\n",
    "\n",
    "* label_path:\n",
    "    * first get labels (in class format)\n",
    "        * for synthia, need to transform to class format specifically\n",
    "            * for calculating similarity\n",
    "        * also from class to color as well, because use the color of cityscapes\n",
    "            * for saving the label and getting the label path\n",
    "        * get the saved path and save it in a list\n",
    "    \n",
    "* similar_image_paths，similar_IoU_score (Note: called IoU_score originally): finding the most similar masks from another dataset\n",
    "* Generate from os list of images:\n",
    "    * class distribution\n",
    "        * (other_ratio, road_ratio, sidewalk_ratio, vegetation_ratio, sky_ratio, car_ratio)\n",
    "    * embedding of input (originally: tsne_1, tsne_2)\n",
    "        simple dimensionality reduction (simple_tsne_1,simple_tsne_2)\n",
    "        and also the embedding from classification model(meaningful_tsne_1,meaningful_tsne_1)\n",
    "* bottleneck_activations_embedding, prediction_path, and performance\n",
    "    * save output locally, and then add path (prediction_path)\n",
    "    * performance: (other_IoU, road_IoU, sidewalk_IoU, vegetation_IoU, sky_IoU, car_IoU)\n",
    "\n",
    "**Make sure that the column names are the same as current！！！**\n",
    "\n",
    "**Remember to also save id**"
   ]
  },
  {
   "cell_type": "markdown",
   "id": "12c096fb",
   "metadata": {},
   "source": [
    "# name, image_path, dataset"
   ]
  },
  {
   "cell_type": "code",
   "execution_count": 2,
   "id": "7517ead8",
   "metadata": {},
   "outputs": [],
   "source": [
    "# path of the image folders for the model\n",
    "image_path_cityscapes = \"D:\\zsh\\graduation\\Graduation-project-domain-shift-image-2-image\\dataset\\original_cityscapes_inputs\" # 500 images in total\n",
    "image_path_synthia = \"D:\\zsh\\graduation\\Graduation-project-domain-shift-image-2-image\\dataset\\SYNTHIA_256\\image\" # 9400 images in total\n",
    "\n",
    "# path of image folders for displaying in the system\n",
    "\n",
    "start = \"D:\\zsh\\graduation\\Graduation-project-domain-shift-image-2-image\"\n",
    "relative_img_path_cityscapes = os.path.relpath(image_path_cityscapes, start)\n",
    "relative_img_path_synthia = os.path.relpath(image_path_synthia, start)"
   ]
  },
  {
   "cell_type": "code",
   "execution_count": 1,
   "id": "8455c664",
   "metadata": {},
   "outputs": [],
   "source": [
    "sample_number = 10"
   ]
  },
  {
   "cell_type": "code",
   "execution_count": 4,
   "id": "5bd73b7f",
   "metadata": {},
   "outputs": [],
   "source": [
    "cityscapes_names= os.listdir(image_path_cityscapes)\n",
    "random.seed(55)\n",
    "cityscapes_names_sample = random.sample(cityscapes_names,sample_number)\n",
    "\n",
    "synthia_names = os.listdir(image_path_synthia)\n",
    "# randomly select 100 images to load in to numpy array\n",
    "random.seed(55)\n",
    "synthia_names_sample = random.sample(synthia_names,sample_number)"
   ]
  },
  {
   "cell_type": "code",
   "execution_count": 6,
   "id": "71168c19",
   "metadata": {},
   "outputs": [],
   "source": [
    "# Cityscapes\n",
    "cityscapes_initial_info = [] # include name, image path and dataset name\n",
    "cityscapes_img_sample = []\n",
    "\n",
    "for name in cityscapes_names_sample:\n",
    "    image = Image.open(image_path_cityscapes+\"\\\\\"+name).convert(\"RGB\")\n",
    "    image_path = relative_img_path_cityscapes+\"\\\\\"+name\n",
    "    \n",
    "    cityscapes_img_sample.append(np.array(image))\n",
    "    cityscapes_initial_info.append((name,image_path,\"Cityscapes\"))\n",
    "\n",
    "cityscapes_initial_info = np.array(cityscapes_initial_info)"
   ]
  },
  {
   "cell_type": "code",
   "execution_count": 7,
   "id": "d84629f5",
   "metadata": {},
   "outputs": [
    {
     "data": {
      "text/plain": [
       "array([['14.jpeg', 'dataset\\\\original_cityscapes_inputs\\\\14.jpeg',\n",
       "        'Cityscapes'],\n",
       "       ['87.jpeg', 'dataset\\\\original_cityscapes_inputs\\\\87.jpeg',\n",
       "        'Cityscapes'],\n",
       "       ['189.jpeg', 'dataset\\\\original_cityscapes_inputs\\\\189.jpeg',\n",
       "        'Cityscapes'],\n",
       "       ['167.jpeg', 'dataset\\\\original_cityscapes_inputs\\\\167.jpeg',\n",
       "        'Cityscapes'],\n",
       "       ['439.jpeg', 'dataset\\\\original_cityscapes_inputs\\\\439.jpeg',\n",
       "        'Cityscapes']], dtype='<U43')"
      ]
     },
     "execution_count": 7,
     "metadata": {},
     "output_type": "execute_result"
    }
   ],
   "source": [
    "cityscapes_initial_info[:5]"
   ]
  },
  {
   "cell_type": "code",
   "execution_count": 8,
   "id": "756d2269",
   "metadata": {},
   "outputs": [],
   "source": [
    "# synthia\n",
    "synthia_initial_info = [] # include name, image path and dataset name\n",
    "synthia_img_sample = []\n",
    "\n",
    "for name in synthia_names_sample:\n",
    "    image = Image.open(image_path_synthia+\"\\\\\"+name).convert(\"RGB\")\n",
    "    image_path = relative_img_path_synthia+\"\\\\\"+name\n",
    "    synthia_initial_info.append((name, image_path,\"Synthia\"))\n",
    "    synthia_img_sample.append(np.array(image))\n",
    "\n",
    "synthia_initial_info = np.array(synthia_initial_info)\n",
    "synthia_img_sample = np.array(synthia_img_sample)"
   ]
  },
  {
   "cell_type": "code",
   "execution_count": 9,
   "id": "d69e826b",
   "metadata": {},
   "outputs": [
    {
     "data": {
      "text/plain": [
       "10"
      ]
     },
     "execution_count": 9,
     "metadata": {},
     "output_type": "execute_result"
    }
   ],
   "source": [
    "len(synthia_initial_info)"
   ]
  },
  {
   "cell_type": "code",
   "execution_count": 10,
   "id": "cd7ec0ff",
   "metadata": {},
   "outputs": [],
   "source": [
    "combined_initial_info = np.concatenate((cityscapes_initial_info,synthia_initial_info),axis=0)"
   ]
  },
  {
   "cell_type": "code",
   "execution_count": 11,
   "id": "5cc0fef1",
   "metadata": {},
   "outputs": [],
   "source": [
    "df = pd.DataFrame(combined_initial_info,columns = [\"name\", \"image_path\",\"dataset\"])"
   ]
  },
  {
   "cell_type": "code",
   "execution_count": 13,
   "id": "8d709119",
   "metadata": {},
   "outputs": [
    {
     "data": {
      "text/html": [
       "<div>\n",
       "<style scoped>\n",
       "    .dataframe tbody tr th:only-of-type {\n",
       "        vertical-align: middle;\n",
       "    }\n",
       "\n",
       "    .dataframe tbody tr th {\n",
       "        vertical-align: top;\n",
       "    }\n",
       "\n",
       "    .dataframe thead th {\n",
       "        text-align: right;\n",
       "    }\n",
       "</style>\n",
       "<table border=\"1\" class=\"dataframe\">\n",
       "  <thead>\n",
       "    <tr style=\"text-align: right;\">\n",
       "      <th></th>\n",
       "      <th>name</th>\n",
       "      <th>image_path</th>\n",
       "      <th>dataset</th>\n",
       "    </tr>\n",
       "  </thead>\n",
       "  <tbody>\n",
       "    <tr>\n",
       "      <th>0</th>\n",
       "      <td>14.jpeg</td>\n",
       "      <td>dataset\\original_cityscapes_inputs\\14.jpeg</td>\n",
       "      <td>Cityscapes</td>\n",
       "    </tr>\n",
       "    <tr>\n",
       "      <th>1</th>\n",
       "      <td>87.jpeg</td>\n",
       "      <td>dataset\\original_cityscapes_inputs\\87.jpeg</td>\n",
       "      <td>Cityscapes</td>\n",
       "    </tr>\n",
       "    <tr>\n",
       "      <th>2</th>\n",
       "      <td>189.jpeg</td>\n",
       "      <td>dataset\\original_cityscapes_inputs\\189.jpeg</td>\n",
       "      <td>Cityscapes</td>\n",
       "    </tr>\n",
       "    <tr>\n",
       "      <th>3</th>\n",
       "      <td>167.jpeg</td>\n",
       "      <td>dataset\\original_cityscapes_inputs\\167.jpeg</td>\n",
       "      <td>Cityscapes</td>\n",
       "    </tr>\n",
       "    <tr>\n",
       "      <th>4</th>\n",
       "      <td>439.jpeg</td>\n",
       "      <td>dataset\\original_cityscapes_inputs\\439.jpeg</td>\n",
       "      <td>Cityscapes</td>\n",
       "    </tr>\n",
       "  </tbody>\n",
       "</table>\n",
       "</div>"
      ],
      "text/plain": [
       "       name                                   image_path     dataset\n",
       "0   14.jpeg   dataset\\original_cityscapes_inputs\\14.jpeg  Cityscapes\n",
       "1   87.jpeg   dataset\\original_cityscapes_inputs\\87.jpeg  Cityscapes\n",
       "2  189.jpeg  dataset\\original_cityscapes_inputs\\189.jpeg  Cityscapes\n",
       "3  167.jpeg  dataset\\original_cityscapes_inputs\\167.jpeg  Cityscapes\n",
       "4  439.jpeg  dataset\\original_cityscapes_inputs\\439.jpeg  Cityscapes"
      ]
     },
     "execution_count": 13,
     "metadata": {},
     "output_type": "execute_result"
    }
   ],
   "source": [
    "df.head()"
   ]
  },
  {
   "cell_type": "markdown",
   "id": "6b1c5c61",
   "metadata": {},
   "source": [
    "# Synthia color transformation code (for later use)"
   ]
  },
  {
   "cell_type": "code",
   "execution_count": 14,
   "id": "b6996559",
   "metadata": {},
   "outputs": [],
   "source": [
    "synthia_colors = [[  0,   0,   0], # void\n",
    "         [70,130, 180], # sky\n",
    "         [70,70,70], # building\n",
    "        [128, 64, 128], # road\n",
    "        [244, 35, 232], # sidewalk\n",
    "         [64,64,128], # fense\n",
    "         [107,142,35], # vegetation\t\n",
    "        [153, 153, 153], # pole\n",
    "        [0, 0, 142], # car\n",
    "        [220, 220, 0],  # traffic sign\n",
    "        [220, 20, 60], # pedestrian\n",
    "        [119, 11, 32], # bicycle\n",
    "        [0, 0, 230], # motorcycle\n",
    "        [250,170,160], # parking-slot\n",
    "        [128,64,64], # road-work\n",
    "        [250,170,30], # traffic light\n",
    "        [152, 251, 152], # terrain\n",
    "        [255, 0, 0], # rider\n",
    "        [0, 0, 70], # truck\n",
    "        [0, 60, 100], # bus\n",
    "        [0, 80, 100], # train\n",
    "        [102, 102, 156]# wall, lanemarking\n",
    "    ]\n",
    "\n",
    "\n",
    "category_map = {\n",
    "    0: 0,\n",
    "    1: 4,\n",
    "    2: 0,\n",
    "    3: 1,\n",
    "    4: 2,\n",
    "    5: 0,\n",
    "    6: 3,\n",
    "    7: 0,\n",
    "    8: 5,\n",
    "    9: 0,\n",
    "    10: 0,\n",
    "    11: 0,\n",
    "    12: 0,\n",
    "    13: 0,\n",
    "    14: 0,\n",
    "    15: 0,\n",
    "    16: 0,\n",
    "    17: 0,\n",
    "    18: 0,\n",
    "    19: 0,\n",
    "    20: 0,\n",
    "    21: 0}"
   ]
  },
  {
   "cell_type": "code",
   "execution_count": 15,
   "id": "79ebb591",
   "metadata": {},
   "outputs": [],
   "source": [
    "# color to class\n",
    "def color_to_class(label):\n",
    "    # create new empty mask\n",
    "    mask = np.zeros(shape=(label.shape[0], label.shape[1]), dtype = np.int32)\n",
    "    # iterate through two dimensions\n",
    "    for row in range(label.shape[0]):\n",
    "        for col in range(label.shape[1]):\n",
    "            a = label[row, col,:]\n",
    "            # distance between this pixel and the original pixel\n",
    "            d = cdist(np.array([a]),np.array(synthia_colors))\n",
    "            idx = np.argmin(d)\n",
    "            new_idx = category_map[idx]\n",
    "            mask[row, col] = new_idx\n",
    "    mask = np.reshape(mask, (mask.shape[0], mask.shape[1]))\n",
    "    return mask"
   ]
  },
  {
   "cell_type": "code",
   "execution_count": 16,
   "id": "b652eeee",
   "metadata": {},
   "outputs": [],
   "source": [
    "# Determine the color for classes\n",
    "colors = [[  0,   0,   0],\n",
    "          [128, 64, 128],# road\n",
    "          [244, 35, 232], # sidewalk\n",
    "          [107, 142, 35],# vegetation\n",
    "          [70, 130, 180], # sky\n",
    "          [0, 0, 142], # car\n",
    "         ]\n",
    "\n",
    "# class to color: useful for displaying the similar images later\n",
    "def class_to_color(labels):\n",
    "    label_colors = np.zeros((256,256,3))\n",
    "    \n",
    "    for i,row in enumerate(labels):\n",
    "        for j,pixel in enumerate(row):\n",
    "            label_colors[i,j] = colors[pixel]\n",
    "    \n",
    "    return label_colors.astype(int)  # make each pixel value an integer to visualize it better"
   ]
  },
  {
   "cell_type": "markdown",
   "id": "e88262b2",
   "metadata": {},
   "source": [
    "# label_path"
   ]
  },
  {
   "cell_type": "markdown",
   "id": "e65de755",
   "metadata": {},
   "source": [
    "Cityscapes labels"
   ]
  },
  {
   "cell_type": "code",
   "execution_count": 17,
   "id": "4553aa3d",
   "metadata": {},
   "outputs": [],
   "source": [
    "# relative paths for cityscapes\n",
    "cityscpaes_save_labels_path = \"D:\\zsh\\graduation\\Graduation-project-domain-shift-image-2-image\\dataset\\cityscapes_labels_sample\"\n",
    "cityscapes_label_folder_relative = os.path.relpath(cityscpaes_save_labels_path, start)"
   ]
  },
  {
   "cell_type": "markdown",
   "id": "76485fd1",
   "metadata": {},
   "source": [
    "**For now: still use the sample of labels. Possibly changing to something else later on**"
   ]
  },
  {
   "cell_type": "code",
   "execution_count": 18,
   "id": "672ccc25",
   "metadata": {},
   "outputs": [],
   "source": [
    "# labels of cityscapes\n",
    "pickle_file = os.path.join(\"D:\\zsh\\graduation\\Graduation-project-domain-shift-image-2-image\\dataset\\\\5_classes_preprocessed\", \"validation_label_classes.pkl\")\n",
    "with open(pickle_file, 'rb') as f:\n",
    "    Y_test = pickle.load(f)\n",
    "    \n",
    "cityscapes_labels = np.array(Y_test)"
   ]
  },
  {
   "cell_type": "markdown",
   "id": "0b47d538",
   "metadata": {},
   "source": [
    "Generate and save labels for the subset for displaying in the VA system"
   ]
  },
  {
   "cell_type": "code",
   "execution_count": 19,
   "id": "f6e57a35",
   "metadata": {},
   "outputs": [],
   "source": [
    "cityscapes_labels_sample= []\n",
    "cityscapes_label_path_sample = []\n",
    "\n",
    "for name in cityscapes_names_sample:\n",
    "    ind = int(name.split('.')[0]) # get the cityscapes index based on names\n",
    "    label = cityscapes_labels[ind] # get corresponding labels based on indices\n",
    "    label_path = cityscapes_label_folder_relative+\"\\\\\"+name\n",
    "    \n",
    "    cityscapes_labels_sample.append(label)\n",
    "    cityscapes_label_path_sample.append(label_path)\n",
    "\n",
    "cityscapes_labels_sample = np.array(cityscapes_labels_sample)\n",
    "cityscapes_label_path_sample = np.array(cityscapes_label_path_sample)"
   ]
  },
  {
   "cell_type": "code",
   "execution_count": 20,
   "id": "ecbe031c",
   "metadata": {},
   "outputs": [],
   "source": [
    "for i in range(sample_number):\n",
    "    name = cityscapes_names_sample[i]\n",
    "    label = cityscapes_labels_sample[i]\n",
    "    label_color = class_to_color(label)\n",
    "    label_image = Image.fromarray(label_color.astype(np.uint8))\n",
    "    label_image.save(cityscpaes_save_labels_path+\"\\\\\"+name)"
   ]
  },
  {
   "cell_type": "code",
   "execution_count": 21,
   "id": "78b74321",
   "metadata": {},
   "outputs": [
    {
     "data": {
      "text/plain": [
       "(10,)"
      ]
     },
     "execution_count": 21,
     "metadata": {},
     "output_type": "execute_result"
    }
   ],
   "source": [
    "cityscapes_label_path_sample.shape"
   ]
  },
  {
   "cell_type": "markdown",
   "id": "c037ca62",
   "metadata": {},
   "source": [
    "Synthia labels"
   ]
  },
  {
   "cell_type": "code",
   "execution_count": 22,
   "id": "fee9ca62",
   "metadata": {},
   "outputs": [],
   "source": [
    "synthia_label_original_folder = \"D:\\zsh\\graduation\\Graduation-project-domain-shift-image-2-image\\dataset\\SYNTHIA_256\\label-rgb\"\n",
    "synthia_save_labels_path = \"D:\\zsh\\graduation\\Graduation-project-domain-shift-image-2-image\\dataset\\SYNTHIA_256\\\\new_labels\"\n",
    "synthia_label_folder_relative = os.path.relpath(synthia_save_labels_path, start)"
   ]
  },
  {
   "cell_type": "code",
   "execution_count": 42,
   "id": "db462624",
   "metadata": {},
   "outputs": [],
   "source": [
    "# def transform_masks_synthia(labels):\n",
    "#     masks = []\n",
    "#     for label in labels:\n",
    "#         mask = color_to_class(label)\n",
    "#         masks.append(mask)\n",
    "#     masks = np.array(masks)\n",
    "\n",
    "#     return masks"
   ]
  },
  {
   "cell_type": "markdown",
   "id": "4450d4fc",
   "metadata": {},
   "source": [
    "Note: comment out the corresponding lines if loading the synthia_labels_sample.pkl"
   ]
  },
  {
   "cell_type": "code",
   "execution_count": 23,
   "id": "144ebc4d",
   "metadata": {},
   "outputs": [],
   "source": [
    "# this usually takes a long time\n",
    "synthia_labels_sample= []\n",
    "synthia_label_path_sample = []\n",
    "\n",
    "for name in synthia_names_sample:\n",
    "    # transform the color encoding from 20 classes to 6 classes\n",
    "    original_label_rgb = Image.open(synthia_label_original_folder+\"\\\\\"+name).convert(\"RGB\")\n",
    "    original_label_rgb = np.array(original_label_rgb)\n",
    "    label = color_to_class(original_label_rgb)\n",
    "    resized_label_rgb = class_to_color(label)\n",
    "    label_path =synthia_label_folder_relative+\"\\\\\"+name\n",
    "    resized_label_rgb = Image.fromarray(resized_label_rgb.astype(np.uint8))\n",
    "    \n",
    "#     save the new labels\n",
    "    resized_label_rgb.save(synthia_save_labels_path+\"\\\\\"+name)\n",
    "    \n",
    "    synthia_labels_sample.append(label)\n",
    "    synthia_label_path_sample.append(label_path)\n",
    "\n",
    "synthia_labels_sample = np.array(synthia_labels_sample)\n",
    "synthia_label_path_sample = np.array(synthia_label_path_sample)"
   ]
  },
  {
   "cell_type": "code",
   "execution_count": 24,
   "id": "153d901b",
   "metadata": {},
   "outputs": [
    {
     "data": {
      "text/plain": [
       "10"
      ]
     },
     "execution_count": 24,
     "metadata": {},
     "output_type": "execute_result"
    }
   ],
   "source": [
    "len(synthia_label_path_sample)"
   ]
  },
  {
   "cell_type": "markdown",
   "id": "e0093a29",
   "metadata": {},
   "source": [
    "save the synthia masks in a pickle to save effort"
   ]
  },
  {
   "cell_type": "code",
   "execution_count": 32,
   "id": "314c6cef",
   "metadata": {},
   "outputs": [],
   "source": [
    "# with open('synthia_labels_sample.pkl', 'wb') as file:\n",
    "      \n",
    "#     # A new file will be created\n",
    "#     pickle.dump(synthia_labels_sample, file)\n",
    "\n",
    "# with open('synthia_labels_sample.pkl', 'rb') as f:\n",
    "#     synthia_labels_sample = pickle.load(f)"
   ]
  },
  {
   "cell_type": "code",
   "execution_count": 25,
   "id": "302d8aeb",
   "metadata": {},
   "outputs": [
    {
     "data": {
      "text/plain": [
       "(10, 256, 256)"
      ]
     },
     "execution_count": 25,
     "metadata": {},
     "output_type": "execute_result"
    }
   ],
   "source": [
    "synthia_labels_sample.shape"
   ]
  },
  {
   "cell_type": "markdown",
   "id": "7a1540c1",
   "metadata": {},
   "source": [
    "Combine cityscapes_label_path_sample and synthia_label_path_sample"
   ]
  },
  {
   "cell_type": "code",
   "execution_count": 26,
   "id": "2ca7f0d3",
   "metadata": {},
   "outputs": [],
   "source": [
    "label_path_sample = np.concatenate((cityscapes_label_path_sample,synthia_label_path_sample),axis = 0)"
   ]
  },
  {
   "cell_type": "code",
   "execution_count": 27,
   "id": "6b9cf3f9",
   "metadata": {},
   "outputs": [],
   "source": [
    "df[\"label_path\"] = label_path_sample"
   ]
  },
  {
   "cell_type": "code",
   "execution_count": 29,
   "id": "c0884c53",
   "metadata": {},
   "outputs": [
    {
     "data": {
      "text/html": [
       "<div>\n",
       "<style scoped>\n",
       "    .dataframe tbody tr th:only-of-type {\n",
       "        vertical-align: middle;\n",
       "    }\n",
       "\n",
       "    .dataframe tbody tr th {\n",
       "        vertical-align: top;\n",
       "    }\n",
       "\n",
       "    .dataframe thead th {\n",
       "        text-align: right;\n",
       "    }\n",
       "</style>\n",
       "<table border=\"1\" class=\"dataframe\">\n",
       "  <thead>\n",
       "    <tr style=\"text-align: right;\">\n",
       "      <th></th>\n",
       "      <th>name</th>\n",
       "      <th>image_path</th>\n",
       "      <th>dataset</th>\n",
       "      <th>label_path</th>\n",
       "    </tr>\n",
       "  </thead>\n",
       "  <tbody>\n",
       "    <tr>\n",
       "      <th>5</th>\n",
       "      <td>237.jpeg</td>\n",
       "      <td>dataset\\original_cityscapes_inputs\\237.jpeg</td>\n",
       "      <td>Cityscapes</td>\n",
       "      <td>dataset\\cityscapes_labels_sample\\237.jpeg</td>\n",
       "    </tr>\n",
       "    <tr>\n",
       "      <th>6</th>\n",
       "      <td>486.jpeg</td>\n",
       "      <td>dataset\\original_cityscapes_inputs\\486.jpeg</td>\n",
       "      <td>Cityscapes</td>\n",
       "      <td>dataset\\cityscapes_labels_sample\\486.jpeg</td>\n",
       "    </tr>\n",
       "    <tr>\n",
       "      <th>7</th>\n",
       "      <td>134.jpeg</td>\n",
       "      <td>dataset\\original_cityscapes_inputs\\134.jpeg</td>\n",
       "      <td>Cityscapes</td>\n",
       "      <td>dataset\\cityscapes_labels_sample\\134.jpeg</td>\n",
       "    </tr>\n",
       "    <tr>\n",
       "      <th>8</th>\n",
       "      <td>442.jpeg</td>\n",
       "      <td>dataset\\original_cityscapes_inputs\\442.jpeg</td>\n",
       "      <td>Cityscapes</td>\n",
       "      <td>dataset\\cityscapes_labels_sample\\442.jpeg</td>\n",
       "    </tr>\n",
       "    <tr>\n",
       "      <th>9</th>\n",
       "      <td>183.jpeg</td>\n",
       "      <td>dataset\\original_cityscapes_inputs\\183.jpeg</td>\n",
       "      <td>Cityscapes</td>\n",
       "      <td>dataset\\cityscapes_labels_sample\\183.jpeg</td>\n",
       "    </tr>\n",
       "    <tr>\n",
       "      <th>10</th>\n",
       "      <td>0001480.png</td>\n",
       "      <td>dataset\\SYNTHIA_256\\image\\0001480.png</td>\n",
       "      <td>Synthia</td>\n",
       "      <td>dataset\\SYNTHIA_256\\new_labels\\0001480.png</td>\n",
       "    </tr>\n",
       "    <tr>\n",
       "      <th>11</th>\n",
       "      <td>0003215.png</td>\n",
       "      <td>dataset\\SYNTHIA_256\\image\\0003215.png</td>\n",
       "      <td>Synthia</td>\n",
       "      <td>dataset\\SYNTHIA_256\\new_labels\\0003215.png</td>\n",
       "    </tr>\n",
       "    <tr>\n",
       "      <th>12</th>\n",
       "      <td>0002457.png</td>\n",
       "      <td>dataset\\SYNTHIA_256\\image\\0002457.png</td>\n",
       "      <td>Synthia</td>\n",
       "      <td>dataset\\SYNTHIA_256\\new_labels\\0002457.png</td>\n",
       "    </tr>\n",
       "    <tr>\n",
       "      <th>13</th>\n",
       "      <td>0004959.png</td>\n",
       "      <td>dataset\\SYNTHIA_256\\image\\0004959.png</td>\n",
       "      <td>Synthia</td>\n",
       "      <td>dataset\\SYNTHIA_256\\new_labels\\0004959.png</td>\n",
       "    </tr>\n",
       "    <tr>\n",
       "      <th>14</th>\n",
       "      <td>0001305.png</td>\n",
       "      <td>dataset\\SYNTHIA_256\\image\\0001305.png</td>\n",
       "      <td>Synthia</td>\n",
       "      <td>dataset\\SYNTHIA_256\\new_labels\\0001305.png</td>\n",
       "    </tr>\n",
       "  </tbody>\n",
       "</table>\n",
       "</div>"
      ],
      "text/plain": [
       "           name                                   image_path     dataset  \\\n",
       "5      237.jpeg  dataset\\original_cityscapes_inputs\\237.jpeg  Cityscapes   \n",
       "6      486.jpeg  dataset\\original_cityscapes_inputs\\486.jpeg  Cityscapes   \n",
       "7      134.jpeg  dataset\\original_cityscapes_inputs\\134.jpeg  Cityscapes   \n",
       "8      442.jpeg  dataset\\original_cityscapes_inputs\\442.jpeg  Cityscapes   \n",
       "9      183.jpeg  dataset\\original_cityscapes_inputs\\183.jpeg  Cityscapes   \n",
       "10  0001480.png        dataset\\SYNTHIA_256\\image\\0001480.png     Synthia   \n",
       "11  0003215.png        dataset\\SYNTHIA_256\\image\\0003215.png     Synthia   \n",
       "12  0002457.png        dataset\\SYNTHIA_256\\image\\0002457.png     Synthia   \n",
       "13  0004959.png        dataset\\SYNTHIA_256\\image\\0004959.png     Synthia   \n",
       "14  0001305.png        dataset\\SYNTHIA_256\\image\\0001305.png     Synthia   \n",
       "\n",
       "                                    label_path  \n",
       "5    dataset\\cityscapes_labels_sample\\237.jpeg  \n",
       "6    dataset\\cityscapes_labels_sample\\486.jpeg  \n",
       "7    dataset\\cityscapes_labels_sample\\134.jpeg  \n",
       "8    dataset\\cityscapes_labels_sample\\442.jpeg  \n",
       "9    dataset\\cityscapes_labels_sample\\183.jpeg  \n",
       "10  dataset\\SYNTHIA_256\\new_labels\\0001480.png  \n",
       "11  dataset\\SYNTHIA_256\\new_labels\\0003215.png  \n",
       "12  dataset\\SYNTHIA_256\\new_labels\\0002457.png  \n",
       "13  dataset\\SYNTHIA_256\\new_labels\\0004959.png  \n",
       "14  dataset\\SYNTHIA_256\\new_labels\\0001305.png  "
      ]
     },
     "execution_count": 29,
     "metadata": {},
     "output_type": "execute_result"
    }
   ],
   "source": [
    "df.iloc[5:15]"
   ]
  },
  {
   "cell_type": "markdown",
   "id": "88c4bd44",
   "metadata": {},
   "source": [
    "# similar_image_paths，similar_IoU_score \n",
    "(Note: called IoU_score originally): finding the most similar masks from another dataset"
   ]
  },
  {
   "cell_type": "code",
   "execution_count": 30,
   "id": "04b12eeb",
   "metadata": {},
   "outputs": [],
   "source": [
    "# find the most similar mask from another dataset to the current image mask\n",
    "def most_similar_mask(instance, data,mode = \"IoU\"):\n",
    "#     nodes = np.asarray(nodes)\n",
    "    # Euclidean distance calculation\n",
    "    if mode == \"IoU\":\n",
    "        iou_list = []\n",
    "        for new_instance in data:\n",
    "#             the original IoU methods were not good because when both class is 0, the intersection won't count it\n",
    "#             intersection = np.logical_and(instance, new_instance)\n",
    "#             union = np.logical_or(instance, new_instance)\n",
    "            intersection = len(np.where(instance == new_instance)[0])\n",
    "            union = instance.shape[0]*instance.shape[1]\n",
    "#             print(intersection)\n",
    "#             print(union)\n",
    "            iou_score = intersection / union\n",
    "            iou_list.append(iou_score)\n",
    "        iou_arr = np.array(iou_list)\n",
    "        best_index = np.argmax(iou_arr)\n",
    "        best_score = iou_arr[best_index]\n",
    "    \n",
    "    return best_index, best_score"
   ]
  },
  {
   "cell_type": "code",
   "execution_count": 38,
   "id": "cd00a88a",
   "metadata": {},
   "outputs": [],
   "source": [
    "# find all the corresponding paths and similar scores for the most similar masks of the CITYSCAPES images\n",
    "cityscapes_similar_image_paths = []\n",
    "cityscapes_similar_scores = []\n",
    "\n",
    "for label in cityscapes_labels_sample:\n",
    "    image_index_synthia,similar_score = most_similar_mask(label,synthia_labels_sample)\n",
    "    similar_image_path = synthia_initial_info[image_index_synthia][1]\n",
    "    \n",
    "    cityscapes_similar_image_paths.append(similar_image_path)\n",
    "    cityscapes_similar_scores.append(similar_score)\n",
    "\n",
    "cityscapes_similar_image_paths = np.array(cityscapes_similar_image_paths)\n",
    "cityscapes_similar_scores = np.array(cityscapes_similar_scores)"
   ]
  },
  {
   "cell_type": "code",
   "execution_count": 39,
   "id": "88bee047",
   "metadata": {},
   "outputs": [],
   "source": [
    "# find all the corresponding paths and similar scores for the most similar masks of the SYNTHIA images\n",
    "synthia_similar_image_paths = []\n",
    "synthia_similar_scores = []\n",
    "\n",
    "for label in synthia_labels_sample:\n",
    "    image_index_cityscapes,similar_score = most_similar_mask(label,cityscapes_labels_sample)\n",
    "    similar_image_path = cityscapes_initial_info[image_index_cityscapes][1]\n",
    "    \n",
    "    synthia_similar_image_paths.append(similar_image_path)\n",
    "    synthia_similar_scores.append(similar_score)\n",
    "\n",
    "synthia_similar_image_paths = np.array(synthia_similar_image_paths)\n",
    "synthia_similar_scores = np.array(synthia_similar_scores)"
   ]
  },
  {
   "cell_type": "code",
   "execution_count": 40,
   "id": "7b8098b0",
   "metadata": {},
   "outputs": [],
   "source": [
    "similar_image_paths =  np.concatenate((cityscapes_similar_image_paths,synthia_similar_image_paths),axis = 0)\n",
    "similar_scores = np.concatenate((cityscapes_similar_scores,synthia_similar_scores),axis = 0)"
   ]
  },
  {
   "cell_type": "code",
   "execution_count": 41,
   "id": "bdb54b04",
   "metadata": {},
   "outputs": [],
   "source": [
    "df[\"similar_image_paths\"] = similar_image_paths\n",
    "df[\"similar_IoU_score\"]=similar_scores"
   ]
  },
  {
   "cell_type": "code",
   "execution_count": 43,
   "id": "bd065c04",
   "metadata": {},
   "outputs": [
    {
     "data": {
      "text/html": [
       "<div>\n",
       "<style scoped>\n",
       "    .dataframe tbody tr th:only-of-type {\n",
       "        vertical-align: middle;\n",
       "    }\n",
       "\n",
       "    .dataframe tbody tr th {\n",
       "        vertical-align: top;\n",
       "    }\n",
       "\n",
       "    .dataframe thead th {\n",
       "        text-align: right;\n",
       "    }\n",
       "</style>\n",
       "<table border=\"1\" class=\"dataframe\">\n",
       "  <thead>\n",
       "    <tr style=\"text-align: right;\">\n",
       "      <th></th>\n",
       "      <th>name</th>\n",
       "      <th>image_path</th>\n",
       "      <th>dataset</th>\n",
       "      <th>label_path</th>\n",
       "      <th>similar_image_paths</th>\n",
       "      <th>similar_IoU_score</th>\n",
       "    </tr>\n",
       "  </thead>\n",
       "  <tbody>\n",
       "    <tr>\n",
       "      <th>5</th>\n",
       "      <td>237.jpeg</td>\n",
       "      <td>dataset\\original_cityscapes_inputs\\237.jpeg</td>\n",
       "      <td>Cityscapes</td>\n",
       "      <td>dataset\\cityscapes_labels_sample\\237.jpeg</td>\n",
       "      <td>dataset\\SYNTHIA_256\\image\\0001480.png</td>\n",
       "      <td>0.435898</td>\n",
       "    </tr>\n",
       "    <tr>\n",
       "      <th>6</th>\n",
       "      <td>486.jpeg</td>\n",
       "      <td>dataset\\original_cityscapes_inputs\\486.jpeg</td>\n",
       "      <td>Cityscapes</td>\n",
       "      <td>dataset\\cityscapes_labels_sample\\486.jpeg</td>\n",
       "      <td>dataset\\SYNTHIA_256\\image\\0004946.png</td>\n",
       "      <td>0.474365</td>\n",
       "    </tr>\n",
       "    <tr>\n",
       "      <th>7</th>\n",
       "      <td>134.jpeg</td>\n",
       "      <td>dataset\\original_cityscapes_inputs\\134.jpeg</td>\n",
       "      <td>Cityscapes</td>\n",
       "      <td>dataset\\cityscapes_labels_sample\\134.jpeg</td>\n",
       "      <td>dataset\\SYNTHIA_256\\image\\0004946.png</td>\n",
       "      <td>0.451935</td>\n",
       "    </tr>\n",
       "    <tr>\n",
       "      <th>8</th>\n",
       "      <td>442.jpeg</td>\n",
       "      <td>dataset\\original_cityscapes_inputs\\442.jpeg</td>\n",
       "      <td>Cityscapes</td>\n",
       "      <td>dataset\\cityscapes_labels_sample\\442.jpeg</td>\n",
       "      <td>dataset\\SYNTHIA_256\\image\\0001305.png</td>\n",
       "      <td>0.362625</td>\n",
       "    </tr>\n",
       "    <tr>\n",
       "      <th>9</th>\n",
       "      <td>183.jpeg</td>\n",
       "      <td>dataset\\original_cityscapes_inputs\\183.jpeg</td>\n",
       "      <td>Cityscapes</td>\n",
       "      <td>dataset\\cityscapes_labels_sample\\183.jpeg</td>\n",
       "      <td>dataset\\SYNTHIA_256\\image\\0004946.png</td>\n",
       "      <td>0.359467</td>\n",
       "    </tr>\n",
       "    <tr>\n",
       "      <th>10</th>\n",
       "      <td>0001480.png</td>\n",
       "      <td>dataset\\SYNTHIA_256\\image\\0001480.png</td>\n",
       "      <td>Synthia</td>\n",
       "      <td>dataset\\SYNTHIA_256\\new_labels\\0001480.png</td>\n",
       "      <td>dataset\\original_cityscapes_inputs\\237.jpeg</td>\n",
       "      <td>0.435898</td>\n",
       "    </tr>\n",
       "    <tr>\n",
       "      <th>11</th>\n",
       "      <td>0003215.png</td>\n",
       "      <td>dataset\\SYNTHIA_256\\image\\0003215.png</td>\n",
       "      <td>Synthia</td>\n",
       "      <td>dataset\\SYNTHIA_256\\new_labels\\0003215.png</td>\n",
       "      <td>dataset\\original_cityscapes_inputs\\134.jpeg</td>\n",
       "      <td>0.390427</td>\n",
       "    </tr>\n",
       "    <tr>\n",
       "      <th>12</th>\n",
       "      <td>0002457.png</td>\n",
       "      <td>dataset\\SYNTHIA_256\\image\\0002457.png</td>\n",
       "      <td>Synthia</td>\n",
       "      <td>dataset\\SYNTHIA_256\\new_labels\\0002457.png</td>\n",
       "      <td>dataset\\original_cityscapes_inputs\\189.jpeg</td>\n",
       "      <td>0.336685</td>\n",
       "    </tr>\n",
       "    <tr>\n",
       "      <th>13</th>\n",
       "      <td>0004959.png</td>\n",
       "      <td>dataset\\SYNTHIA_256\\image\\0004959.png</td>\n",
       "      <td>Synthia</td>\n",
       "      <td>dataset\\SYNTHIA_256\\new_labels\\0004959.png</td>\n",
       "      <td>dataset\\original_cityscapes_inputs\\189.jpeg</td>\n",
       "      <td>0.478058</td>\n",
       "    </tr>\n",
       "    <tr>\n",
       "      <th>14</th>\n",
       "      <td>0001305.png</td>\n",
       "      <td>dataset\\SYNTHIA_256\\image\\0001305.png</td>\n",
       "      <td>Synthia</td>\n",
       "      <td>dataset\\SYNTHIA_256\\new_labels\\0001305.png</td>\n",
       "      <td>dataset\\original_cityscapes_inputs\\442.jpeg</td>\n",
       "      <td>0.362625</td>\n",
       "    </tr>\n",
       "  </tbody>\n",
       "</table>\n",
       "</div>"
      ],
      "text/plain": [
       "           name                                   image_path     dataset  \\\n",
       "5      237.jpeg  dataset\\original_cityscapes_inputs\\237.jpeg  Cityscapes   \n",
       "6      486.jpeg  dataset\\original_cityscapes_inputs\\486.jpeg  Cityscapes   \n",
       "7      134.jpeg  dataset\\original_cityscapes_inputs\\134.jpeg  Cityscapes   \n",
       "8      442.jpeg  dataset\\original_cityscapes_inputs\\442.jpeg  Cityscapes   \n",
       "9      183.jpeg  dataset\\original_cityscapes_inputs\\183.jpeg  Cityscapes   \n",
       "10  0001480.png        dataset\\SYNTHIA_256\\image\\0001480.png     Synthia   \n",
       "11  0003215.png        dataset\\SYNTHIA_256\\image\\0003215.png     Synthia   \n",
       "12  0002457.png        dataset\\SYNTHIA_256\\image\\0002457.png     Synthia   \n",
       "13  0004959.png        dataset\\SYNTHIA_256\\image\\0004959.png     Synthia   \n",
       "14  0001305.png        dataset\\SYNTHIA_256\\image\\0001305.png     Synthia   \n",
       "\n",
       "                                    label_path  \\\n",
       "5    dataset\\cityscapes_labels_sample\\237.jpeg   \n",
       "6    dataset\\cityscapes_labels_sample\\486.jpeg   \n",
       "7    dataset\\cityscapes_labels_sample\\134.jpeg   \n",
       "8    dataset\\cityscapes_labels_sample\\442.jpeg   \n",
       "9    dataset\\cityscapes_labels_sample\\183.jpeg   \n",
       "10  dataset\\SYNTHIA_256\\new_labels\\0001480.png   \n",
       "11  dataset\\SYNTHIA_256\\new_labels\\0003215.png   \n",
       "12  dataset\\SYNTHIA_256\\new_labels\\0002457.png   \n",
       "13  dataset\\SYNTHIA_256\\new_labels\\0004959.png   \n",
       "14  dataset\\SYNTHIA_256\\new_labels\\0001305.png   \n",
       "\n",
       "                            similar_image_paths  similar_IoU_score  \n",
       "5         dataset\\SYNTHIA_256\\image\\0001480.png           0.435898  \n",
       "6         dataset\\SYNTHIA_256\\image\\0004946.png           0.474365  \n",
       "7         dataset\\SYNTHIA_256\\image\\0004946.png           0.451935  \n",
       "8         dataset\\SYNTHIA_256\\image\\0001305.png           0.362625  \n",
       "9         dataset\\SYNTHIA_256\\image\\0004946.png           0.359467  \n",
       "10  dataset\\original_cityscapes_inputs\\237.jpeg           0.435898  \n",
       "11  dataset\\original_cityscapes_inputs\\134.jpeg           0.390427  \n",
       "12  dataset\\original_cityscapes_inputs\\189.jpeg           0.336685  \n",
       "13  dataset\\original_cityscapes_inputs\\189.jpeg           0.478058  \n",
       "14  dataset\\original_cityscapes_inputs\\442.jpeg           0.362625  "
      ]
     },
     "execution_count": 43,
     "metadata": {},
     "output_type": "execute_result"
    }
   ],
   "source": [
    "# df.iloc[495:505]\n",
    "df.iloc[5:15]"
   ]
  },
  {
   "cell_type": "code",
   "execution_count": 92,
   "id": "fc7e6f11",
   "metadata": {},
   "outputs": [],
   "source": [
    "# df.to_csv(\"system_df_full.csv\",index=True)"
   ]
  },
  {
   "cell_type": "markdown",
   "id": "404e1a7d",
   "metadata": {},
   "source": [
    "# generate from list of images and labels\n",
    "\n",
    "* class distribution\n",
    "    * (other_ratio, road_ratio, sidewalk_ratio, vegetation_ratio, sky_ratio, car_ratio)\n",
    "* embedding of input (originally: tsne_1, tsne_2)\n",
    "    * simple dimensionality reduction (simple_tsne_1,simple_tsne_2)\n",
    "    * and also the embedding from classification model(meaningful_tsne_1,meaningful_tsne_1)"
   ]
  },
  {
   "cell_type": "markdown",
   "id": "a1aba43f",
   "metadata": {},
   "source": [
    "Load images to data loader"
   ]
  },
  {
   "cell_type": "code",
   "execution_count": 44,
   "id": "506190eb",
   "metadata": {},
   "outputs": [],
   "source": [
    "class CityscapesDataset(Dataset):\n",
    "    \n",
    "    def __init__(self, images, labels, noise_level = 0):\n",
    "        self.images = images\n",
    "        self.labels = labels\n",
    "        self.noise_level = noise_level\n",
    "        \n",
    "    def __len__(self):\n",
    "        return len(self.images)\n",
    "    \n",
    "    def __getitem__(self, index):\n",
    "        image = self.images[index]\n",
    "        label = self.labels[index]\n",
    "        # helps to change the noise level\n",
    "        if self.noise_level!=0:\n",
    "            image = image+(self.noise_level*np.random.normal(0, (image.max() - image.min()), image.shape)).astype(\"uint8\") # (mean, sigma, image_shape)\n",
    "        image = self.transform(image)\n",
    "        label = torch.from_numpy(label).long()\n",
    "        return image, label\n",
    "        \n",
    "    def transform(self, image):\n",
    "        # normalization\n",
    "        transform_ops = transforms.Compose([\n",
    "            transforms.ToTensor(),\n",
    "            transforms.Normalize(mean=(0.485, 0.456, 0.406), std=(0.229, 0.224, 0.225)) # normalize to control the \"dynamic range\" of activations of different layers\n",
    "        ])\n",
    "        return transform_ops(image)"
   ]
  },
  {
   "cell_type": "code",
   "execution_count": 46,
   "id": "d83df314",
   "metadata": {},
   "outputs": [],
   "source": [
    "repo_path = \"D:\\zsh\\graduation\\\\Graduation-project-domain-shift-image-2-image\"\n",
    "# cityscapes_label_path = \"dataset\\\\cityscapes_labels_100\"\n",
    "cityscapes_images = []\n",
    "cityscapes_labels = []\n",
    "synthia_images = []\n",
    "synthia_labels = []\n",
    "\n",
    "# get the corresponding images and labels for the dataloader\n",
    "for index,path in enumerate(df[\"image_path\"]):\n",
    "    full_path = os.path.join(repo_path,path)\n",
    "    dataset = df[\"dataset\"].iloc[index]\n",
    "    # parse to get the name of image\n",
    "    name = os.path.split(path)[1]\n",
    "    label_index = int(name.split(\".\")[0])\n",
    "    if dataset == \"Cityscapes\":\n",
    "        # image\n",
    "        img = Image.open(full_path)\n",
    "        img = np.array(img)\n",
    "        # label\n",
    "        label = Y_test[label_index]\n",
    "        label = np.array(label)\n",
    "        cityscapes_images.append(img)\n",
    "        cityscapes_labels.append(label)\n",
    "    elif dataset == \"Synthia\":\n",
    "        # image\n",
    "        img = Image.open(full_path)\n",
    "        img = np.array(img)\n",
    "        # label\n",
    "        label = synthia_labels_sample[index-sample_number]\n",
    "        label = np.array(label)\n",
    "        synthia_images.append(img)\n",
    "        synthia_labels.append(label)\n",
    "    "
   ]
  },
  {
   "cell_type": "code",
   "execution_count": 47,
   "id": "b0c53def",
   "metadata": {},
   "outputs": [
    {
     "name": "stdout",
     "output_type": "stream",
     "text": [
      "(10, 256, 256, 3)\n",
      "(10, 256, 256, 3)\n"
     ]
    }
   ],
   "source": [
    "cityscapes_images = np.array(cityscapes_images)\n",
    "cityscapes_labels = np.array(cityscapes_labels)\n",
    "synthia_images = np.array(synthia_images)\n",
    "synthia_labels = np.array(synthia_labels)\n",
    "\n",
    "print(synthia_images.shape)\n",
    "print(synthia_images.shape)\n"
   ]
  },
  {
   "cell_type": "code",
   "execution_count": 48,
   "id": "3655394d",
   "metadata": {},
   "outputs": [],
   "source": [
    "# load to Dataset class and DataLoader\n",
    "batch_size = 1\n",
    "cityscapes_dataset = CityscapesDataset(cityscapes_images, cityscapes_labels,noise_level=0) # no noise for this comparison\n",
    "cityscapes_loader = DataLoader(cityscapes_dataset, batch_size=batch_size)\n",
    "\n",
    "synthia_dataset = CityscapesDataset(synthia_images, synthia_labels,noise_level=0)\n",
    "synthia_loader = DataLoader(synthia_dataset, batch_size=batch_size)"
   ]
  },
  {
   "cell_type": "markdown",
   "id": "bc3cfb1a",
   "metadata": {},
   "source": [
    "**class distribution**"
   ]
  },
  {
   "cell_type": "code",
   "execution_count": 49,
   "id": "31080428",
   "metadata": {},
   "outputs": [],
   "source": [
    "# get the ratio for each class\n",
    "def get_class_distribution(labels):\n",
    "    class_dist = []\n",
    "    for label in labels:\n",
    "        class_for_label = []\n",
    "        for i in range(6):\n",
    "            element_count = np.count_nonzero(label==i)\n",
    "            class_for_label.append(element_count/(256*256))\n",
    "        class_dist.append(class_for_label)\n",
    "        class_for_label= class_for_label# change to another size if the image size is changed\n",
    "    class_dist = np.array(class_dist)\n",
    "    return class_dist"
   ]
  },
  {
   "cell_type": "code",
   "execution_count": 50,
   "id": "dbac5c2c",
   "metadata": {},
   "outputs": [],
   "source": [
    "cityscpaes_class_dist = get_class_distribution(cityscapes_labels)\n",
    "# synthia_labels\n",
    "synthia_class_dist = get_class_distribution(synthia_labels)"
   ]
  },
  {
   "cell_type": "code",
   "execution_count": 51,
   "id": "c126f830",
   "metadata": {},
   "outputs": [
    {
     "name": "stdout",
     "output_type": "stream",
     "text": [
      "(10, 6)\n",
      "(10, 6)\n"
     ]
    }
   ],
   "source": [
    "print(cityscpaes_class_dist.shape)\n",
    "print(synthia_class_dist.shape)"
   ]
  },
  {
   "cell_type": "code",
   "execution_count": 53,
   "id": "04886605",
   "metadata": {},
   "outputs": [],
   "source": [
    "class_dist = np.concatenate((cityscpaes_class_dist,synthia_class_dist),axis=0)"
   ]
  },
  {
   "cell_type": "code",
   "execution_count": 54,
   "id": "6f6c94e2",
   "metadata": {},
   "outputs": [
    {
     "data": {
      "text/html": [
       "<div>\n",
       "<style scoped>\n",
       "    .dataframe tbody tr th:only-of-type {\n",
       "        vertical-align: middle;\n",
       "    }\n",
       "\n",
       "    .dataframe tbody tr th {\n",
       "        vertical-align: top;\n",
       "    }\n",
       "\n",
       "    .dataframe thead th {\n",
       "        text-align: right;\n",
       "    }\n",
       "</style>\n",
       "<table border=\"1\" class=\"dataframe\">\n",
       "  <thead>\n",
       "    <tr style=\"text-align: right;\">\n",
       "      <th></th>\n",
       "      <th>other_ratio</th>\n",
       "      <th>road_ratio</th>\n",
       "      <th>sidewalk_ratio</th>\n",
       "      <th>vegetation_ratio</th>\n",
       "      <th>sky_ratio</th>\n",
       "      <th>car_ratio</th>\n",
       "    </tr>\n",
       "  </thead>\n",
       "  <tbody>\n",
       "    <tr>\n",
       "      <th>0</th>\n",
       "      <td>0.268173</td>\n",
       "      <td>0.380219</td>\n",
       "      <td>0.054855</td>\n",
       "      <td>0.259460</td>\n",
       "      <td>0.026566</td>\n",
       "      <td>0.010727</td>\n",
       "    </tr>\n",
       "    <tr>\n",
       "      <th>1</th>\n",
       "      <td>0.390427</td>\n",
       "      <td>0.322311</td>\n",
       "      <td>0.000000</td>\n",
       "      <td>0.128143</td>\n",
       "      <td>0.004623</td>\n",
       "      <td>0.154495</td>\n",
       "    </tr>\n",
       "    <tr>\n",
       "      <th>2</th>\n",
       "      <td>0.615875</td>\n",
       "      <td>0.264603</td>\n",
       "      <td>0.010590</td>\n",
       "      <td>0.037872</td>\n",
       "      <td>0.023697</td>\n",
       "      <td>0.047363</td>\n",
       "    </tr>\n",
       "    <tr>\n",
       "      <th>3</th>\n",
       "      <td>0.235931</td>\n",
       "      <td>0.296295</td>\n",
       "      <td>0.021698</td>\n",
       "      <td>0.421646</td>\n",
       "      <td>0.023544</td>\n",
       "      <td>0.000885</td>\n",
       "    </tr>\n",
       "    <tr>\n",
       "      <th>4</th>\n",
       "      <td>0.501968</td>\n",
       "      <td>0.312622</td>\n",
       "      <td>0.026047</td>\n",
       "      <td>0.157547</td>\n",
       "      <td>0.000031</td>\n",
       "      <td>0.001785</td>\n",
       "    </tr>\n",
       "  </tbody>\n",
       "</table>\n",
       "</div>"
      ],
      "text/plain": [
       "   other_ratio  road_ratio  sidewalk_ratio  vegetation_ratio  sky_ratio  \\\n",
       "0     0.268173    0.380219        0.054855          0.259460   0.026566   \n",
       "1     0.390427    0.322311        0.000000          0.128143   0.004623   \n",
       "2     0.615875    0.264603        0.010590          0.037872   0.023697   \n",
       "3     0.235931    0.296295        0.021698          0.421646   0.023544   \n",
       "4     0.501968    0.312622        0.026047          0.157547   0.000031   \n",
       "\n",
       "   car_ratio  \n",
       "0   0.010727  \n",
       "1   0.154495  \n",
       "2   0.047363  \n",
       "3   0.000885  \n",
       "4   0.001785  "
      ]
     },
     "execution_count": 54,
     "metadata": {},
     "output_type": "execute_result"
    }
   ],
   "source": [
    "class_dist_df = pd.DataFrame(class_dist,columns=[\"other_ratio\",\"road_ratio\",\"sidewalk_ratio\",\"vegetation_ratio\",\"sky_ratio\",\"car_ratio\"])\n",
    "class_dist_df.head()"
   ]
  },
  {
   "cell_type": "code",
   "execution_count": 55,
   "id": "93077db7",
   "metadata": {},
   "outputs": [],
   "source": [
    "df_full = pd.concat((df,class_dist_df),axis=1)"
   ]
  },
  {
   "cell_type": "markdown",
   "id": "336b82ef",
   "metadata": {},
   "source": [
    "**embedding of input**"
   ]
  },
  {
   "cell_type": "markdown",
   "id": "6c62f4a5",
   "metadata": {},
   "source": [
    "* simple dimensionality reduction (simple_tsne_1,simple_tsne_2)\n",
    "* and also the embedding from classification model(meaningful_tsne_1,meaningful_tsne_1)"
   ]
  },
  {
   "cell_type": "markdown",
   "id": "dc3575f8",
   "metadata": {},
   "source": [
    "**TODO: change the two tsne to combined with PCA, if necessary**"
   ]
  },
  {
   "cell_type": "code",
   "execution_count": 69,
   "id": "7486fd3b",
   "metadata": {},
   "outputs": [
    {
     "name": "stdout",
     "output_type": "stream",
     "text": [
      "0.412335609776955\n"
     ]
    }
   ],
   "source": [
    "# simple dimensionality reduction\n",
    "combined_images = np.concatenate((cityscapes_images,synthia_images),axis=0)\n",
    "simple_combined_embedding = combined_images.reshape(combined_images.shape[0],-1)\n",
    "# simple_combined_embedding =np.reshape(combined_images,(len(combined_images), 256*256*3))\n",
    "\n",
    "# pca_50 = PCA(n_components=50)\n",
    "# pca_embedding = pca_50.fit_transform(simple_combined_embedding)\n",
    "# print(np.sum(pca_50.explained_variance_ratio_))\n",
    "tsne = TSNE()\n",
    "simple_tsne_embedding = tsne.fit_transform(simple_combined_embedding)\n",
    "# simple_tsne_embedding = tsne.fit_transform(pca_embedding)\n",
    "\n",
    "\n",
    "# simple pca embedding\n",
    "pca = PCA(n_components=2)\n",
    "simple_pca_embedding = pca.fit_transform(simple_combined_embedding)\n",
    "print(np.sum(pca.explained_variance_ratio_))"
   ]
  },
  {
   "cell_type": "code",
   "execution_count": 71,
   "id": "5819a673",
   "metadata": {},
   "outputs": [
    {
     "name": "stdout",
     "output_type": "stream",
     "text": [
      "D:\\zsh\\graduation\\ViTs-vs-CNNs\n"
     ]
    }
   ],
   "source": [
    "# move to the pre-trained model path\n",
    "cd D:\\zsh\\graduation\\ViTs-vs-CNNs"
   ]
  },
  {
   "cell_type": "code",
   "execution_count": 72,
   "id": "481483ef",
   "metadata": {},
   "outputs": [
    {
     "data": {
      "text/plain": [
       "<All keys matched successfully>"
      ]
     },
     "execution_count": 72,
     "metadata": {},
     "output_type": "execute_result"
    }
   ],
   "source": [
    "import torch\n",
    "import torch.nn as nn\n",
    "import global_val\n",
    "\n",
    "from models.ghost_bn import GhostBN2D_ADV\n",
    "from models.advresnet_gbn_gelu import Affine\n",
    "import models.advresnet_gbn_gelu as advres\n",
    "from main_adv_res import EightBN\n",
    "\n",
    "device = torch.device(\"cuda:0\" if torch.cuda.is_available() else \"cpu\")\n",
    "\n",
    "# load weights\n",
    "classifier_model = advres.__dict__[\"resnet50\"](norm_layer = EightBN)\n",
    "weights_path = \"D:\\zsh\\graduation\\Graduation-project-domain-shift-image-2-image\\models\\\\advres50_gelu.pth\"\n",
    "weight_dict = torch.load(weights_path,map_location=device)[\"model\"]\n",
    "\n",
    "classifier_model.load_state_dict(weight_dict)"
   ]
  },
  {
   "cell_type": "code",
   "execution_count": 73,
   "id": "05dadaab",
   "metadata": {},
   "outputs": [
    {
     "name": "stdout",
     "output_type": "stream",
     "text": [
      "D:\\zsh\\graduation\\Graduation-project-domain-shift-image-2-image\\jupyter\n"
     ]
    }
   ],
   "source": [
    "# move back to orriginal path\n",
    "cd D:\\zsh\\graduation\\Graduation-project-domain-shift-image-2-image\\jupyter"
   ]
  },
  {
   "cell_type": "code",
   "execution_count": 75,
   "id": "6a6f80f7",
   "metadata": {},
   "outputs": [],
   "source": [
    "# this get the embedding from the pre-trained classification model for one image\n",
    "def get_representation_for_image(image,label):\n",
    "    # resize the image and transform it to tensor # [256,256,3] -> [224,224,3] \n",
    "    resized_image = resize(image, (224, 224,3))\n",
    "    resized_image_tensor = torch.from_numpy(resized_image)\n",
    "    resized_image_tensor = torch.permute(resized_image_tensor, (2, 0, 1))\n",
    "    resized_image_tensor = resized_image_tensor[None,:] # [3,224,224] -> [1,3,224,224] (because model takes 4D input)\n",
    "    \n",
    "    # dictionary for the activations\n",
    "    activations = {}\n",
    "\n",
    "    def get_activations(name):\n",
    "        def hook(model, input, output):\n",
    "            activations[name] = output.detach()\n",
    "        return hook\n",
    "\n",
    "    # use the output of (avgpool) layer because it is the same as the input of last layer\n",
    "    h = classifier_model.avgpool.register_forward_hook(get_activations(\"input_last_layer\"))\n",
    "\n",
    "    classifier_model.eval()\n",
    "    classifier_model.sing=True\n",
    "    classifier_model.training=False\n",
    "    out = classifier_model(resized_image_tensor.float(),label)\n",
    "    \n",
    "    # remove the hook\n",
    "    h.remove()\n",
    "\n",
    "    first_part_embedding = torch.flatten(activations[\"input_last_layer\"][0])\n",
    "    \n",
    "    return first_part_embedding"
   ]
  },
  {
   "cell_type": "code",
   "execution_count": 76,
   "id": "9b7d3928",
   "metadata": {},
   "outputs": [],
   "source": [
    "embedding_list = []\n",
    "for i, image in enumerate(combined_images): # i is not used, could remove the enumerate\n",
    "    first_part_embedding = get_representation_for_image(image,\"__\") # y_label is never used for the pretrained model, so just use replacement\n",
    "    second_part_embedding = class_dist[i] # second part of the embedding is class ratio\n",
    "    embedding = np.concatenate((first_part_embedding.numpy(),np.array(second_part_embedding)),axis = 0)\n",
    "    embedding_list.append(embedding)"
   ]
  },
  {
   "cell_type": "code",
   "execution_count": 78,
   "id": "3d21f8f4",
   "metadata": {},
   "outputs": [],
   "source": [
    "embedding_arr = np.array(embedding_list)\n",
    "# pca_50 = PCA(n_components=50)\n",
    "# pca_embedding = pca_50.fit_transform(embedding_arr)\n",
    "# print(np.sum(pca_50.explained_variance_ratio_))\n",
    "# pca = PCA(n_components=2)\n",
    "tsne = TSNE()\n",
    "# meaningful_tsne_embedding = tsne.fit_transform(pca_embedding)\n",
    "meaningful_tsne_embedding = tsne.fit_transform(embedding_arr)"
   ]
  },
  {
   "cell_type": "code",
   "execution_count": 79,
   "id": "4bd3fbda",
   "metadata": {},
   "outputs": [],
   "source": [
    "full_embedding = np.concatenate((simple_tsne_embedding,meaningful_tsne_embedding,simple_pca_embedding),axis=1)"
   ]
  },
  {
   "cell_type": "code",
   "execution_count": 80,
   "id": "d8e6de70",
   "metadata": {},
   "outputs": [],
   "source": [
    "df_input_embedding = pd.DataFrame(full_embedding, columns=[\"simple_tsne_1\",\"simple_tsne_2\",\"meaningful_tsne_1\",\"meaningful_tsne_2\",\"pca_1\",\"pca_2\"])"
   ]
  },
  {
   "cell_type": "code",
   "execution_count": 81,
   "id": "4c64bea8",
   "metadata": {
    "scrolled": true
   },
   "outputs": [
    {
     "data": {
      "text/html": [
       "<div>\n",
       "<style scoped>\n",
       "    .dataframe tbody tr th:only-of-type {\n",
       "        vertical-align: middle;\n",
       "    }\n",
       "\n",
       "    .dataframe tbody tr th {\n",
       "        vertical-align: top;\n",
       "    }\n",
       "\n",
       "    .dataframe thead th {\n",
       "        text-align: right;\n",
       "    }\n",
       "</style>\n",
       "<table border=\"1\" class=\"dataframe\">\n",
       "  <thead>\n",
       "    <tr style=\"text-align: right;\">\n",
       "      <th></th>\n",
       "      <th>simple_tsne_1</th>\n",
       "      <th>simple_tsne_2</th>\n",
       "      <th>meaningful_tsne_1</th>\n",
       "      <th>meaningful_tsne_2</th>\n",
       "      <th>pca_1</th>\n",
       "      <th>pca_2</th>\n",
       "    </tr>\n",
       "  </thead>\n",
       "  <tbody>\n",
       "    <tr>\n",
       "      <th>0</th>\n",
       "      <td>61.698845</td>\n",
       "      <td>55.318829</td>\n",
       "      <td>-85.283386</td>\n",
       "      <td>-72.167946</td>\n",
       "      <td>503.546415</td>\n",
       "      <td>-3180.000910</td>\n",
       "    </tr>\n",
       "    <tr>\n",
       "      <th>1</th>\n",
       "      <td>-12.906113</td>\n",
       "      <td>21.398748</td>\n",
       "      <td>-35.235085</td>\n",
       "      <td>14.135887</td>\n",
       "      <td>7021.621696</td>\n",
       "      <td>-6708.378633</td>\n",
       "    </tr>\n",
       "    <tr>\n",
       "      <th>2</th>\n",
       "      <td>26.645414</td>\n",
       "      <td>-58.506546</td>\n",
       "      <td>-182.491776</td>\n",
       "      <td>123.563637</td>\n",
       "      <td>6927.331786</td>\n",
       "      <td>-2858.908411</td>\n",
       "    </tr>\n",
       "    <tr>\n",
       "      <th>3</th>\n",
       "      <td>101.314774</td>\n",
       "      <td>-74.139946</td>\n",
       "      <td>-197.710770</td>\n",
       "      <td>-70.297905</td>\n",
       "      <td>-1387.100221</td>\n",
       "      <td>1508.490089</td>\n",
       "    </tr>\n",
       "    <tr>\n",
       "      <th>4</th>\n",
       "      <td>69.829346</td>\n",
       "      <td>5.824750</td>\n",
       "      <td>15.701824</td>\n",
       "      <td>-76.754539</td>\n",
       "      <td>1293.309014</td>\n",
       "      <td>-6028.467934</td>\n",
       "    </tr>\n",
       "  </tbody>\n",
       "</table>\n",
       "</div>"
      ],
      "text/plain": [
       "   simple_tsne_1  simple_tsne_2  meaningful_tsne_1  meaningful_tsne_2  \\\n",
       "0      61.698845      55.318829         -85.283386         -72.167946   \n",
       "1     -12.906113      21.398748         -35.235085          14.135887   \n",
       "2      26.645414     -58.506546        -182.491776         123.563637   \n",
       "3     101.314774     -74.139946        -197.710770         -70.297905   \n",
       "4      69.829346       5.824750          15.701824         -76.754539   \n",
       "\n",
       "         pca_1        pca_2  \n",
       "0   503.546415 -3180.000910  \n",
       "1  7021.621696 -6708.378633  \n",
       "2  6927.331786 -2858.908411  \n",
       "3 -1387.100221  1508.490089  \n",
       "4  1293.309014 -6028.467934  "
      ]
     },
     "execution_count": 81,
     "metadata": {},
     "output_type": "execute_result"
    }
   ],
   "source": [
    "df_input_embedding.head()"
   ]
  },
  {
   "cell_type": "code",
   "execution_count": 82,
   "id": "7623f514",
   "metadata": {},
   "outputs": [
    {
     "data": {
      "text/html": [
       "<div>\n",
       "<style scoped>\n",
       "    .dataframe tbody tr th:only-of-type {\n",
       "        vertical-align: middle;\n",
       "    }\n",
       "\n",
       "    .dataframe tbody tr th {\n",
       "        vertical-align: top;\n",
       "    }\n",
       "\n",
       "    .dataframe thead th {\n",
       "        text-align: right;\n",
       "    }\n",
       "</style>\n",
       "<table border=\"1\" class=\"dataframe\">\n",
       "  <thead>\n",
       "    <tr style=\"text-align: right;\">\n",
       "      <th></th>\n",
       "      <th>name</th>\n",
       "      <th>image_path</th>\n",
       "      <th>dataset</th>\n",
       "      <th>label_path</th>\n",
       "      <th>similar_image_paths</th>\n",
       "      <th>similar_IoU_score</th>\n",
       "      <th>other_ratio</th>\n",
       "      <th>road_ratio</th>\n",
       "      <th>sidewalk_ratio</th>\n",
       "      <th>vegetation_ratio</th>\n",
       "      <th>sky_ratio</th>\n",
       "      <th>car_ratio</th>\n",
       "      <th>simple_tsne_1</th>\n",
       "      <th>simple_tsne_2</th>\n",
       "      <th>meaningful_tsne_1</th>\n",
       "      <th>meaningful_tsne_2</th>\n",
       "      <th>pca_1</th>\n",
       "      <th>pca_2</th>\n",
       "    </tr>\n",
       "  </thead>\n",
       "  <tbody>\n",
       "    <tr>\n",
       "      <th>0</th>\n",
       "      <td>14.jpeg</td>\n",
       "      <td>dataset\\original_cityscapes_inputs\\14.jpeg</td>\n",
       "      <td>Cityscapes</td>\n",
       "      <td>dataset\\cityscapes_labels_sample\\14.jpeg</td>\n",
       "      <td>dataset\\SYNTHIA_256\\image\\0001305.png</td>\n",
       "      <td>0.353790</td>\n",
       "      <td>0.268173</td>\n",
       "      <td>0.380219</td>\n",
       "      <td>0.054855</td>\n",
       "      <td>0.259460</td>\n",
       "      <td>0.026566</td>\n",
       "      <td>0.010727</td>\n",
       "      <td>61.698845</td>\n",
       "      <td>55.318829</td>\n",
       "      <td>-85.283386</td>\n",
       "      <td>-72.167946</td>\n",
       "      <td>503.546415</td>\n",
       "      <td>-3180.000910</td>\n",
       "    </tr>\n",
       "    <tr>\n",
       "      <th>1</th>\n",
       "      <td>87.jpeg</td>\n",
       "      <td>dataset\\original_cityscapes_inputs\\87.jpeg</td>\n",
       "      <td>Cityscapes</td>\n",
       "      <td>dataset\\cityscapes_labels_sample\\87.jpeg</td>\n",
       "      <td>dataset\\SYNTHIA_256\\image\\0004946.png</td>\n",
       "      <td>0.351639</td>\n",
       "      <td>0.390427</td>\n",
       "      <td>0.322311</td>\n",
       "      <td>0.000000</td>\n",
       "      <td>0.128143</td>\n",
       "      <td>0.004623</td>\n",
       "      <td>0.154495</td>\n",
       "      <td>-12.906113</td>\n",
       "      <td>21.398748</td>\n",
       "      <td>-35.235085</td>\n",
       "      <td>14.135887</td>\n",
       "      <td>7021.621696</td>\n",
       "      <td>-6708.378633</td>\n",
       "    </tr>\n",
       "    <tr>\n",
       "      <th>2</th>\n",
       "      <td>189.jpeg</td>\n",
       "      <td>dataset\\original_cityscapes_inputs\\189.jpeg</td>\n",
       "      <td>Cityscapes</td>\n",
       "      <td>dataset\\cityscapes_labels_sample\\189.jpeg</td>\n",
       "      <td>dataset\\SYNTHIA_256\\image\\0004959.png</td>\n",
       "      <td>0.478058</td>\n",
       "      <td>0.615875</td>\n",
       "      <td>0.264603</td>\n",
       "      <td>0.010590</td>\n",
       "      <td>0.037872</td>\n",
       "      <td>0.023697</td>\n",
       "      <td>0.047363</td>\n",
       "      <td>26.645414</td>\n",
       "      <td>-58.506546</td>\n",
       "      <td>-182.491776</td>\n",
       "      <td>123.563637</td>\n",
       "      <td>6927.331786</td>\n",
       "      <td>-2858.908411</td>\n",
       "    </tr>\n",
       "    <tr>\n",
       "      <th>3</th>\n",
       "      <td>167.jpeg</td>\n",
       "      <td>dataset\\original_cityscapes_inputs\\167.jpeg</td>\n",
       "      <td>Cityscapes</td>\n",
       "      <td>dataset\\cityscapes_labels_sample\\167.jpeg</td>\n",
       "      <td>dataset\\SYNTHIA_256\\image\\0003215.png</td>\n",
       "      <td>0.333984</td>\n",
       "      <td>0.235931</td>\n",
       "      <td>0.296295</td>\n",
       "      <td>0.021698</td>\n",
       "      <td>0.421646</td>\n",
       "      <td>0.023544</td>\n",
       "      <td>0.000885</td>\n",
       "      <td>101.314774</td>\n",
       "      <td>-74.139946</td>\n",
       "      <td>-197.710770</td>\n",
       "      <td>-70.297905</td>\n",
       "      <td>-1387.100221</td>\n",
       "      <td>1508.490089</td>\n",
       "    </tr>\n",
       "    <tr>\n",
       "      <th>4</th>\n",
       "      <td>439.jpeg</td>\n",
       "      <td>dataset\\original_cityscapes_inputs\\439.jpeg</td>\n",
       "      <td>Cityscapes</td>\n",
       "      <td>dataset\\cityscapes_labels_sample\\439.jpeg</td>\n",
       "      <td>dataset\\SYNTHIA_256\\image\\0005761.png</td>\n",
       "      <td>0.400711</td>\n",
       "      <td>0.501968</td>\n",
       "      <td>0.312622</td>\n",
       "      <td>0.026047</td>\n",
       "      <td>0.157547</td>\n",
       "      <td>0.000031</td>\n",
       "      <td>0.001785</td>\n",
       "      <td>69.829346</td>\n",
       "      <td>5.824750</td>\n",
       "      <td>15.701824</td>\n",
       "      <td>-76.754539</td>\n",
       "      <td>1293.309014</td>\n",
       "      <td>-6028.467934</td>\n",
       "    </tr>\n",
       "  </tbody>\n",
       "</table>\n",
       "</div>"
      ],
      "text/plain": [
       "       name                                   image_path     dataset  \\\n",
       "0   14.jpeg   dataset\\original_cityscapes_inputs\\14.jpeg  Cityscapes   \n",
       "1   87.jpeg   dataset\\original_cityscapes_inputs\\87.jpeg  Cityscapes   \n",
       "2  189.jpeg  dataset\\original_cityscapes_inputs\\189.jpeg  Cityscapes   \n",
       "3  167.jpeg  dataset\\original_cityscapes_inputs\\167.jpeg  Cityscapes   \n",
       "4  439.jpeg  dataset\\original_cityscapes_inputs\\439.jpeg  Cityscapes   \n",
       "\n",
       "                                  label_path  \\\n",
       "0   dataset\\cityscapes_labels_sample\\14.jpeg   \n",
       "1   dataset\\cityscapes_labels_sample\\87.jpeg   \n",
       "2  dataset\\cityscapes_labels_sample\\189.jpeg   \n",
       "3  dataset\\cityscapes_labels_sample\\167.jpeg   \n",
       "4  dataset\\cityscapes_labels_sample\\439.jpeg   \n",
       "\n",
       "                     similar_image_paths  similar_IoU_score  other_ratio  \\\n",
       "0  dataset\\SYNTHIA_256\\image\\0001305.png           0.353790     0.268173   \n",
       "1  dataset\\SYNTHIA_256\\image\\0004946.png           0.351639     0.390427   \n",
       "2  dataset\\SYNTHIA_256\\image\\0004959.png           0.478058     0.615875   \n",
       "3  dataset\\SYNTHIA_256\\image\\0003215.png           0.333984     0.235931   \n",
       "4  dataset\\SYNTHIA_256\\image\\0005761.png           0.400711     0.501968   \n",
       "\n",
       "   road_ratio  sidewalk_ratio  vegetation_ratio  sky_ratio  car_ratio  \\\n",
       "0    0.380219        0.054855          0.259460   0.026566   0.010727   \n",
       "1    0.322311        0.000000          0.128143   0.004623   0.154495   \n",
       "2    0.264603        0.010590          0.037872   0.023697   0.047363   \n",
       "3    0.296295        0.021698          0.421646   0.023544   0.000885   \n",
       "4    0.312622        0.026047          0.157547   0.000031   0.001785   \n",
       "\n",
       "   simple_tsne_1  simple_tsne_2  meaningful_tsne_1  meaningful_tsne_2  \\\n",
       "0      61.698845      55.318829         -85.283386         -72.167946   \n",
       "1     -12.906113      21.398748         -35.235085          14.135887   \n",
       "2      26.645414     -58.506546        -182.491776         123.563637   \n",
       "3     101.314774     -74.139946        -197.710770         -70.297905   \n",
       "4      69.829346       5.824750          15.701824         -76.754539   \n",
       "\n",
       "         pca_1        pca_2  \n",
       "0   503.546415 -3180.000910  \n",
       "1  7021.621696 -6708.378633  \n",
       "2  6927.331786 -2858.908411  \n",
       "3 -1387.100221  1508.490089  \n",
       "4  1293.309014 -6028.467934  "
      ]
     },
     "execution_count": 82,
     "metadata": {},
     "output_type": "execute_result"
    }
   ],
   "source": [
    "df_full = pd.concat((df_full,df_input_embedding),axis = 1)\n",
    "df_full.head()"
   ]
  },
  {
   "cell_type": "code",
   "execution_count": 84,
   "id": "da7abc63",
   "metadata": {},
   "outputs": [],
   "source": [
    "df_full.to_csv(\"system_df_small_sample.csv\",index=True)"
   ]
  },
  {
   "cell_type": "markdown",
   "id": "397872e3",
   "metadata": {},
   "source": [
    "#  bottleneck_activations_embedding, prediction_path, and performance\n",
    "* save output locally, and then add path (prediction_path)\n",
    "* performance: (other_IoU, road_IoU, sidewalk_IoU, vegetation_IoU, sky_IoU, car_IoU)\n",
    "    **How do you get the IoU per class (check original paper)**"
   ]
  },
  {
   "cell_type": "markdown",
   "id": "671874a6",
   "metadata": {},
   "source": [
    "Read the data (for updating the bottleneck activations)"
   ]
  },
  {
   "cell_type": "code",
   "execution_count": 85,
   "id": "9ffd2f3a",
   "metadata": {},
   "outputs": [],
   "source": [
    "df = df_full.copy()"
   ]
  },
  {
   "cell_type": "code",
   "execution_count": 86,
   "id": "2997f0e2",
   "metadata": {},
   "outputs": [
    {
     "data": {
      "text/html": [
       "<div>\n",
       "<style scoped>\n",
       "    .dataframe tbody tr th:only-of-type {\n",
       "        vertical-align: middle;\n",
       "    }\n",
       "\n",
       "    .dataframe tbody tr th {\n",
       "        vertical-align: top;\n",
       "    }\n",
       "\n",
       "    .dataframe thead th {\n",
       "        text-align: right;\n",
       "    }\n",
       "</style>\n",
       "<table border=\"1\" class=\"dataframe\">\n",
       "  <thead>\n",
       "    <tr style=\"text-align: right;\">\n",
       "      <th></th>\n",
       "      <th>name</th>\n",
       "      <th>image_path</th>\n",
       "      <th>dataset</th>\n",
       "      <th>label_path</th>\n",
       "      <th>similar_image_paths</th>\n",
       "      <th>similar_IoU_score</th>\n",
       "      <th>other_ratio</th>\n",
       "      <th>road_ratio</th>\n",
       "      <th>sidewalk_ratio</th>\n",
       "      <th>vegetation_ratio</th>\n",
       "      <th>sky_ratio</th>\n",
       "      <th>car_ratio</th>\n",
       "      <th>simple_tsne_1</th>\n",
       "      <th>simple_tsne_2</th>\n",
       "      <th>meaningful_tsne_1</th>\n",
       "      <th>meaningful_tsne_2</th>\n",
       "      <th>pca_1</th>\n",
       "      <th>pca_2</th>\n",
       "    </tr>\n",
       "  </thead>\n",
       "  <tbody>\n",
       "    <tr>\n",
       "      <th>0</th>\n",
       "      <td>14.jpeg</td>\n",
       "      <td>dataset\\original_cityscapes_inputs\\14.jpeg</td>\n",
       "      <td>Cityscapes</td>\n",
       "      <td>dataset\\cityscapes_labels_sample\\14.jpeg</td>\n",
       "      <td>dataset\\SYNTHIA_256\\image\\0001305.png</td>\n",
       "      <td>0.353790</td>\n",
       "      <td>0.268173</td>\n",
       "      <td>0.380219</td>\n",
       "      <td>0.054855</td>\n",
       "      <td>0.259460</td>\n",
       "      <td>0.026566</td>\n",
       "      <td>0.010727</td>\n",
       "      <td>61.698845</td>\n",
       "      <td>55.318829</td>\n",
       "      <td>-85.283386</td>\n",
       "      <td>-72.167946</td>\n",
       "      <td>503.546415</td>\n",
       "      <td>-3180.000910</td>\n",
       "    </tr>\n",
       "    <tr>\n",
       "      <th>1</th>\n",
       "      <td>87.jpeg</td>\n",
       "      <td>dataset\\original_cityscapes_inputs\\87.jpeg</td>\n",
       "      <td>Cityscapes</td>\n",
       "      <td>dataset\\cityscapes_labels_sample\\87.jpeg</td>\n",
       "      <td>dataset\\SYNTHIA_256\\image\\0004946.png</td>\n",
       "      <td>0.351639</td>\n",
       "      <td>0.390427</td>\n",
       "      <td>0.322311</td>\n",
       "      <td>0.000000</td>\n",
       "      <td>0.128143</td>\n",
       "      <td>0.004623</td>\n",
       "      <td>0.154495</td>\n",
       "      <td>-12.906113</td>\n",
       "      <td>21.398748</td>\n",
       "      <td>-35.235085</td>\n",
       "      <td>14.135887</td>\n",
       "      <td>7021.621696</td>\n",
       "      <td>-6708.378633</td>\n",
       "    </tr>\n",
       "    <tr>\n",
       "      <th>2</th>\n",
       "      <td>189.jpeg</td>\n",
       "      <td>dataset\\original_cityscapes_inputs\\189.jpeg</td>\n",
       "      <td>Cityscapes</td>\n",
       "      <td>dataset\\cityscapes_labels_sample\\189.jpeg</td>\n",
       "      <td>dataset\\SYNTHIA_256\\image\\0004959.png</td>\n",
       "      <td>0.478058</td>\n",
       "      <td>0.615875</td>\n",
       "      <td>0.264603</td>\n",
       "      <td>0.010590</td>\n",
       "      <td>0.037872</td>\n",
       "      <td>0.023697</td>\n",
       "      <td>0.047363</td>\n",
       "      <td>26.645414</td>\n",
       "      <td>-58.506546</td>\n",
       "      <td>-182.491776</td>\n",
       "      <td>123.563637</td>\n",
       "      <td>6927.331786</td>\n",
       "      <td>-2858.908411</td>\n",
       "    </tr>\n",
       "    <tr>\n",
       "      <th>3</th>\n",
       "      <td>167.jpeg</td>\n",
       "      <td>dataset\\original_cityscapes_inputs\\167.jpeg</td>\n",
       "      <td>Cityscapes</td>\n",
       "      <td>dataset\\cityscapes_labels_sample\\167.jpeg</td>\n",
       "      <td>dataset\\SYNTHIA_256\\image\\0003215.png</td>\n",
       "      <td>0.333984</td>\n",
       "      <td>0.235931</td>\n",
       "      <td>0.296295</td>\n",
       "      <td>0.021698</td>\n",
       "      <td>0.421646</td>\n",
       "      <td>0.023544</td>\n",
       "      <td>0.000885</td>\n",
       "      <td>101.314774</td>\n",
       "      <td>-74.139946</td>\n",
       "      <td>-197.710770</td>\n",
       "      <td>-70.297905</td>\n",
       "      <td>-1387.100221</td>\n",
       "      <td>1508.490089</td>\n",
       "    </tr>\n",
       "    <tr>\n",
       "      <th>4</th>\n",
       "      <td>439.jpeg</td>\n",
       "      <td>dataset\\original_cityscapes_inputs\\439.jpeg</td>\n",
       "      <td>Cityscapes</td>\n",
       "      <td>dataset\\cityscapes_labels_sample\\439.jpeg</td>\n",
       "      <td>dataset\\SYNTHIA_256\\image\\0005761.png</td>\n",
       "      <td>0.400711</td>\n",
       "      <td>0.501968</td>\n",
       "      <td>0.312622</td>\n",
       "      <td>0.026047</td>\n",
       "      <td>0.157547</td>\n",
       "      <td>0.000031</td>\n",
       "      <td>0.001785</td>\n",
       "      <td>69.829346</td>\n",
       "      <td>5.824750</td>\n",
       "      <td>15.701824</td>\n",
       "      <td>-76.754539</td>\n",
       "      <td>1293.309014</td>\n",
       "      <td>-6028.467934</td>\n",
       "    </tr>\n",
       "  </tbody>\n",
       "</table>\n",
       "</div>"
      ],
      "text/plain": [
       "       name                                   image_path     dataset  \\\n",
       "0   14.jpeg   dataset\\original_cityscapes_inputs\\14.jpeg  Cityscapes   \n",
       "1   87.jpeg   dataset\\original_cityscapes_inputs\\87.jpeg  Cityscapes   \n",
       "2  189.jpeg  dataset\\original_cityscapes_inputs\\189.jpeg  Cityscapes   \n",
       "3  167.jpeg  dataset\\original_cityscapes_inputs\\167.jpeg  Cityscapes   \n",
       "4  439.jpeg  dataset\\original_cityscapes_inputs\\439.jpeg  Cityscapes   \n",
       "\n",
       "                                  label_path  \\\n",
       "0   dataset\\cityscapes_labels_sample\\14.jpeg   \n",
       "1   dataset\\cityscapes_labels_sample\\87.jpeg   \n",
       "2  dataset\\cityscapes_labels_sample\\189.jpeg   \n",
       "3  dataset\\cityscapes_labels_sample\\167.jpeg   \n",
       "4  dataset\\cityscapes_labels_sample\\439.jpeg   \n",
       "\n",
       "                     similar_image_paths  similar_IoU_score  other_ratio  \\\n",
       "0  dataset\\SYNTHIA_256\\image\\0001305.png           0.353790     0.268173   \n",
       "1  dataset\\SYNTHIA_256\\image\\0004946.png           0.351639     0.390427   \n",
       "2  dataset\\SYNTHIA_256\\image\\0004959.png           0.478058     0.615875   \n",
       "3  dataset\\SYNTHIA_256\\image\\0003215.png           0.333984     0.235931   \n",
       "4  dataset\\SYNTHIA_256\\image\\0005761.png           0.400711     0.501968   \n",
       "\n",
       "   road_ratio  sidewalk_ratio  vegetation_ratio  sky_ratio  car_ratio  \\\n",
       "0    0.380219        0.054855          0.259460   0.026566   0.010727   \n",
       "1    0.322311        0.000000          0.128143   0.004623   0.154495   \n",
       "2    0.264603        0.010590          0.037872   0.023697   0.047363   \n",
       "3    0.296295        0.021698          0.421646   0.023544   0.000885   \n",
       "4    0.312622        0.026047          0.157547   0.000031   0.001785   \n",
       "\n",
       "   simple_tsne_1  simple_tsne_2  meaningful_tsne_1  meaningful_tsne_2  \\\n",
       "0      61.698845      55.318829         -85.283386         -72.167946   \n",
       "1     -12.906113      21.398748         -35.235085          14.135887   \n",
       "2      26.645414     -58.506546        -182.491776         123.563637   \n",
       "3     101.314774     -74.139946        -197.710770         -70.297905   \n",
       "4      69.829346       5.824750          15.701824         -76.754539   \n",
       "\n",
       "         pca_1        pca_2  \n",
       "0   503.546415 -3180.000910  \n",
       "1  7021.621696 -6708.378633  \n",
       "2  6927.331786 -2858.908411  \n",
       "3 -1387.100221  1508.490089  \n",
       "4  1293.309014 -6028.467934  "
      ]
     },
     "execution_count": 86,
     "metadata": {},
     "output_type": "execute_result"
    }
   ],
   "source": [
    "df.head()"
   ]
  },
  {
   "cell_type": "markdown",
   "id": "c753f699",
   "metadata": {},
   "source": [
    "Load model"
   ]
  },
  {
   "cell_type": "code",
   "execution_count": 93,
   "id": "c6d608ff",
   "metadata": {},
   "outputs": [],
   "source": [
    "# model structure of U-Net\n",
    "class UNet(nn.Module):\n",
    "    \n",
    "    def __init__(self, num_classes):\n",
    "        super(UNet, self).__init__()\n",
    "        self.num_classes = num_classes\n",
    "        self.contracting_11 = self.conv_block(in_channels=3, out_channels=64)\n",
    "        self.contracting_12 = nn.MaxPool2d(kernel_size=2, stride=2)\n",
    "        self.contracting_21 = self.conv_block(in_channels=64, out_channels=128)\n",
    "        self.contracting_22 = nn.MaxPool2d(kernel_size=2, stride=2)\n",
    "        self.contracting_31 = self.conv_block(in_channels=128, out_channels=256)\n",
    "        self.contracting_32 = nn.MaxPool2d(kernel_size=2, stride=2)\n",
    "        self.contracting_41 = self.conv_block(in_channels=256, out_channels=512)\n",
    "        self.contracting_42 = nn.MaxPool2d(kernel_size=2, stride=2)\n",
    "        self.middle = self.conv_block(in_channels=512, out_channels=1024)\n",
    "        self.expansive_11 = nn.ConvTranspose2d(in_channels=1024, out_channels=512, kernel_size=3, stride=2, padding=1, output_padding=1)\n",
    "        self.expansive_12 = self.conv_block(in_channels=1024, out_channels=512)\n",
    "        self.expansive_21 = nn.ConvTranspose2d(in_channels=512, out_channels=256, kernel_size=3, stride=2, padding=1, output_padding=1)\n",
    "        self.expansive_22 = self.conv_block(in_channels=512, out_channels=256)\n",
    "        self.expansive_31 = nn.ConvTranspose2d(in_channels=256, out_channels=128, kernel_size=3, stride=2, padding=1, output_padding=1)\n",
    "        self.expansive_32 = self.conv_block(in_channels=256, out_channels=128)\n",
    "        self.expansive_41 = nn.ConvTranspose2d(in_channels=128, out_channels=64, kernel_size=3, stride=2, padding=1, output_padding=1)\n",
    "        self.expansive_42 = self.conv_block(in_channels=128, out_channels=64)\n",
    "        self.output = nn.Conv2d(in_channels=64, out_channels=num_classes, kernel_size=3, stride=1, padding=1)\n",
    "        \n",
    "    def conv_block(self, in_channels, out_channels):\n",
    "        block = nn.Sequential(nn.Conv2d(in_channels=in_channels, out_channels=out_channels, kernel_size=3, stride=1, padding=1),\n",
    "                                    nn.ReLU(),\n",
    "                                    nn.BatchNorm2d(num_features=out_channels),\n",
    "                                    nn.Conv2d(in_channels=out_channels, out_channels=out_channels, kernel_size=3, stride=1, padding=1),\n",
    "                                    nn.ReLU(),\n",
    "                                    nn.BatchNorm2d(num_features=out_channels))\n",
    "        return block\n",
    "    \n",
    "    def forward(self, X):\n",
    "        contracting_11_out = self.contracting_11(X) # [-1, 64, 256, 256]\n",
    "        contracting_12_out = self.contracting_12(contracting_11_out) # [-1, 64, 128, 128]\n",
    "        contracting_21_out = self.contracting_21(contracting_12_out) # [-1, 128, 128, 128]\n",
    "        contracting_22_out = self.contracting_22(contracting_21_out) # [-1, 128, 64, 64]\n",
    "        contracting_31_out = self.contracting_31(contracting_22_out) # [-1, 256, 64, 64]\n",
    "        contracting_32_out = self.contracting_32(contracting_31_out) # [-1, 256, 32, 32]\n",
    "        contracting_41_out = self.contracting_41(contracting_32_out) # [-1, 512, 32, 32]\n",
    "        contracting_42_out = self.contracting_42(contracting_41_out) # [-1, 512, 16, 16]\n",
    "        middle_out = self.middle(contracting_42_out) # [-1, 1024, 16, 16]\n",
    "        expansive_11_out = self.expansive_11(middle_out) # [-1, 512, 32, 32]\n",
    "        expansive_12_out = self.expansive_12(torch.cat((expansive_11_out, contracting_41_out), dim=1)) # [-1, 1024, 32, 32] -> [-1, 512, 32, 32]\n",
    "        expansive_21_out = self.expansive_21(expansive_12_out) # [-1, 256, 64, 64]\n",
    "        expansive_22_out = self.expansive_22(torch.cat((expansive_21_out, contracting_31_out), dim=1)) # [-1, 512, 64, 64] -> [-1, 256, 64, 64]\n",
    "        expansive_31_out = self.expansive_31(expansive_22_out) # [-1, 128, 128, 128]\n",
    "        expansive_32_out = self.expansive_32(torch.cat((expansive_31_out, contracting_21_out), dim=1)) # [-1, 256, 128, 128] -> [-1, 128, 128, 128]\n",
    "        expansive_41_out = self.expansive_41(expansive_32_out) # [-1, 64, 256, 256]\n",
    "        expansive_42_out = self.expansive_42(torch.cat((expansive_41_out, contracting_11_out), dim=1)) # [-1, 128, 256, 256] -> [-1, 64, 256, 256]\n",
    "        output_out = self.output(expansive_42_out) # [-1, num_classes, 256, 256]\n",
    "        return output_out,middle_out"
   ]
  },
  {
   "cell_type": "code",
   "execution_count": 94,
   "id": "ff718676",
   "metadata": {},
   "outputs": [
    {
     "data": {
      "text/plain": [
       "<All keys matched successfully>"
      ]
     },
     "execution_count": 94,
     "metadata": {},
     "output_type": "execute_result"
    }
   ],
   "source": [
    "model_path = \"D:\\zsh\\graduation\\Graduation-project-domain-shift-image-2-image\\models\\\\5-classes-U-Net-2023-03-09.pth\"\n",
    "\n",
    "device = torch.device('cpu')\n",
    "model_ = UNet(num_classes=6).to(device)\n",
    "model_.load_state_dict(torch.load(model_path,map_location=device))"
   ]
  },
  {
   "cell_type": "code",
   "execution_count": 165,
   "id": "bbd6ac2c",
   "metadata": {},
   "outputs": [],
   "source": [
    "def IoU_per_class(prediction,label):\n",
    "    prediction = prediction.detach().numpy()\n",
    "    label = label.detach().numpy()\n",
    "    # Loop over each class\n",
    "    iou_list = []\n",
    "    # Flatten label and class arrays\n",
    "    flat_prediction = prediction.flatten()\n",
    "    flat_label = label.flatten()\n",
    "\n",
    "    for i in range(6):\n",
    "        \n",
    "        # Calculate intersection and union\n",
    "        intersection = np.sum((flat_prediction == i) & (flat_label == i))\n",
    "        union = np.sum((flat_prediction == i) | (flat_label == i))\n",
    "\n",
    "        # Calculate IoU\n",
    "        iou = intersection / (union + 1e-12) # prevent infinitiy iou value\n",
    "\n",
    "        # Store IoU value in dictionary\n",
    "        iou_list.append(iou)\n",
    "    \n",
    "    # calculate overall IoU\n",
    "    intersection = len(np.where(flat_prediction == flat_label)[0])\n",
    "    union = len(flat_label)\n",
    "    overall_iou = intersection / (union + 1e-12)\n",
    "    \n",
    "    return overall_iou,iou_list"
   ]
  },
  {
   "cell_type": "code",
   "execution_count": 166,
   "id": "e995be69",
   "metadata": {},
   "outputs": [],
   "source": [
    "# get the model activations and iou for each dataset\n",
    "def get_activations_and_iou(data_loader):\n",
    "    activations_list = []\n",
    "    overall_iou_list = []\n",
    "    iou_by_class_list =[]\n",
    "    predictions_list = []\n",
    "\n",
    "    for image,label in tqdm(data_loader):\n",
    "        # get prediction and bottleneck activations\n",
    "        output,bottleneck_activations = model_(image)\n",
    "        # transform the predictions to the corresponding classes\n",
    "        output_class=torch.argmax(output, dim=1)\n",
    "        # from 4d [1,1024,16,16] to 2d: [256,1024]\n",
    "        instance_activation_reshaped = bottleneck_activations.clone().detach().numpy().squeeze(0).reshape(1024,256).transpose()\n",
    "        activations_list.append(instance_activation_reshaped)\n",
    "        \n",
    "        overall_iou,iou_list = IoU_per_class(output_class,label)\n",
    "        overall_iou_list.append(overall_iou)\n",
    "        iou_by_class_list.append(iou_list)\n",
    "        output_class = output_class.detach().numpy()[0]\n",
    "        predictions_list.append(output_class)\n",
    "    \n",
    "    return np.array(activations_list),np.array(overall_iou_list),np.array(iou_by_class_list),np.array(predictions_list)"
   ]
  },
  {
   "cell_type": "code",
   "execution_count": 167,
   "id": "02081c62",
   "metadata": {},
   "outputs": [
    {
     "name": "stderr",
     "output_type": "stream",
     "text": [
      "100%|██████████████████████████████████████████████████████████████████████████████████| 10/10 [00:20<00:00,  2.07s/it]\n"
     ]
    }
   ],
   "source": [
    "cityscapes_activations, cityscapes_overall_iou, cityscapes_iou_by_class, cityscapes_predictions = get_activations_and_iou(cityscapes_loader)"
   ]
  },
  {
   "cell_type": "code",
   "execution_count": 168,
   "id": "dd13b42b",
   "metadata": {},
   "outputs": [
    {
     "name": "stderr",
     "output_type": "stream",
     "text": [
      "100%|██████████████████████████████████████████████████████████████████████████████████| 10/10 [00:12<00:00,  1.23s/it]\n"
     ]
    }
   ],
   "source": [
    "synthia_activations, synthia_overall_iou, synthia_iou_by_class, synthia_predictions = get_activations_and_iou(synthia_loader)"
   ]
  },
  {
   "cell_type": "code",
   "execution_count": 169,
   "id": "75402ecd",
   "metadata": {},
   "outputs": [],
   "source": [
    "combined_activations = np.concatenate((cityscapes_activations,synthia_activations),axis=0)\n",
    "combined_overall_iou = np.concatenate((cityscapes_overall_iou,synthia_overall_iou),axis=0)\n",
    "combined_iou_by_class = np.concatenate((cityscapes_iou_by_class,synthia_iou_by_class),axis=0)\n",
    "combined_predictions = np.concatenate((cityscapes_predictions,synthia_predictions),axis=0)"
   ]
  },
  {
   "cell_type": "code",
   "execution_count": 170,
   "id": "a0a1a476",
   "metadata": {},
   "outputs": [
    {
     "data": {
      "text/plain": [
       "(20, 256, 256)"
      ]
     },
     "execution_count": 170,
     "metadata": {},
     "output_type": "execute_result"
    }
   ],
   "source": [
    "combined_predictions.shape"
   ]
  },
  {
   "cell_type": "markdown",
   "id": "a3ad3b92",
   "metadata": {},
   "source": [
    "Save predictions to paths "
   ]
  },
  {
   "cell_type": "code",
   "execution_count": 171,
   "id": "439117e8",
   "metadata": {},
   "outputs": [],
   "source": [
    "cityscapes_prediction_folder = \"D:\\zsh\\graduation\\Graduation-project-domain-shift-image-2-image\\dataset\\cityscapes_predictions\"\n",
    "cityscapes_prediction_folder_relative = os.path.relpath(cityscapes_prediction_folder, start)\n",
    "\n",
    "synthia_prediction_folder = \"D:\\zsh\\graduation\\Graduation-project-domain-shift-image-2-image\\dataset\\SYNTHIA_256\\predictions\"\n",
    "synthia_prediction_folder_relative = os.path.relpath(synthia_prediction_folder, start)"
   ]
  },
  {
   "cell_type": "code",
   "execution_count": 172,
   "id": "9b7b0928",
   "metadata": {},
   "outputs": [],
   "source": [
    "# save also the relative paths of predictions, so that we could access it from the front-end\n",
    "prediction_paths = []\n",
    "for i, prediction in enumerate(combined_predictions):\n",
    "    name = df.iloc[i][\"name\"]\n",
    "    dataset = df.iloc[i][\"dataset\"]\n",
    "    prediction_img = class_to_color(prediction)\n",
    "    if dataset==\"Cityscapes\":\n",
    "        full_folder = cityscapes_prediction_folder\n",
    "        relative_folder = cityscapes_prediction_folder_relative\n",
    "    elif dataset==\"Synthia\":\n",
    "        full_folder = synthia_prediction_folder\n",
    "        relative_folder = synthia_prediction_folder_relative\n",
    "    \n",
    "    prediction_img = Image.fromarray(prediction_img.astype(np.uint8))\n",
    "    prediction_img.save(full_folder+\"\\\\\"+name)\n",
    "    prediction_paths.append(relative_folder+\"\\\\\"+name)"
   ]
  },
  {
   "cell_type": "code",
   "execution_count": 173,
   "id": "34e406ef",
   "metadata": {},
   "outputs": [
    {
     "data": {
      "text/plain": [
       "(20, 256, 1024)"
      ]
     },
     "execution_count": 173,
     "metadata": {},
     "output_type": "execute_result"
    }
   ],
   "source": [
    "combined_activations.shape"
   ]
  },
  {
   "cell_type": "markdown",
   "id": "d12183c2",
   "metadata": {},
   "source": [
    "# Create embeddings of model activations"
   ]
  },
  {
   "cell_type": "markdown",
   "id": "781fcf8f",
   "metadata": {},
   "source": [
    "TODO: first need to rescale the activations, then calculate the t-SNE, PCA and UMAP embeddings"
   ]
  },
  {
   "cell_type": "code",
   "execution_count": 174,
   "id": "7d024ab1",
   "metadata": {},
   "outputs": [],
   "source": [
    "combined_activations_2d = combined_activations.reshape(combined_activations.shape[0]*combined_activations.shape[1],-1) # 256 is 16x16, the activation \"image\""
   ]
  },
  {
   "cell_type": "code",
   "execution_count": 175,
   "id": "99d8dd63",
   "metadata": {},
   "outputs": [],
   "source": [
    "# select the first image of the subset (which corresponds to image 14 in the dataset)\n",
    "# selected_index = 0\n",
    "# sample_activation_image = cityscapes_activations[selected_index]\n",
    "\n",
    "scaler = MinMaxScaler()\n",
    "scaler.fit(combined_activations_2d)\n",
    "activations_2d_scaled = scaler.transform(combined_activations_2d)"
   ]
  },
  {
   "cell_type": "code",
   "execution_count": 176,
   "id": "b84a6ad1",
   "metadata": {},
   "outputs": [
    {
     "name": "stdout",
     "output_type": "stream",
     "text": [
      "[[0.0027131  0.00476936 0.00203868 ... 0.00214339 0.83588994 0.00502305]\n",
      " [0.0027131  0.00476936 0.00203868 ... 0.00214339 0.6648636  0.00502305]\n",
      " [0.0027131  0.00476936 0.00203868 ... 0.00214339 0.7757536  0.00502305]\n",
      " ...\n",
      " [0.00660872 0.00101541 0.00484488 ... 0.00713281 1.         0.01297495]\n",
      " [0.00660872 0.00101541 0.00484488 ... 0.41884694 0.7247918  0.01297495]\n",
      " [0.00660872 0.00101541 0.00484488 ... 0.00713281 0.77313083 0.01297495]]\n"
     ]
    }
   ],
   "source": [
    "print(activations_2d_scaled)"
   ]
  },
  {
   "cell_type": "code",
   "execution_count": 177,
   "id": "a4a5a8c7",
   "metadata": {},
   "outputs": [],
   "source": [
    "# load the labels\n",
    "# label = cityscapes_labels_sample[selected_index]\n",
    "\n",
    "# load the class names\n",
    "class_names = [\"others\",\"road\",\"sidewalk\",\"vegetation\",\"sky\",\"car\"]"
   ]
  },
  {
   "cell_type": "code",
   "execution_count": 178,
   "id": "c430ffd5",
   "metadata": {},
   "outputs": [],
   "source": [
    "activations_tsne_embedding = TSNE(n_components=2).fit_transform(activations_2d_scaled)\n",
    "activations_pca_embedding = PCA(n_components=2).fit_transform(activations_2d_scaled)\n",
    "\n",
    "reducer = umap.UMAP()\n",
    "activations_umap_embedding = reducer.fit_transform(activations_2d_scaled)"
   ]
  },
  {
   "cell_type": "markdown",
   "id": "f509f6e6",
   "metadata": {},
   "source": [
    "TODO: and then reshape it again"
   ]
  },
  {
   "cell_type": "code",
   "execution_count": 180,
   "id": "01539b48",
   "metadata": {},
   "outputs": [],
   "source": [
    "activations_tsne_embedding_reshaped = np.reshape(activations_tsne_embedding,(2*sample_number,256,2))\n",
    "activations_pca_embedding_reshaped = np.reshape(activations_pca_embedding,(2*sample_number,256,2))\n",
    "activations_umap_embedding_reshaped = np.reshape(activations_umap_embedding,(2*sample_number,256,2))"
   ]
  },
  {
   "cell_type": "code",
   "execution_count": 187,
   "id": "b0d97e76",
   "metadata": {},
   "outputs": [],
   "source": [
    "example_activation_1 = activations_tsne_embedding_reshaped[0]\n",
    "example_activation_2 = activations_tsne_embedding_reshaped[10]"
   ]
  },
  {
   "cell_type": "code",
   "execution_count": 188,
   "id": "e9cf30c9",
   "metadata": {},
   "outputs": [
    {
     "data": {
      "text/plain": [
       "<matplotlib.collections.PathCollection at 0x1ca8fc962e8>"
      ]
     },
     "execution_count": 188,
     "metadata": {},
     "output_type": "execute_result"
    },
    {
     "data": {
      "image/png": "[encoded data removed]",
      "text/plain": [
       "<Figure size 432x288 with 1 Axes>"
      ]
     },
     "metadata": {
      "needs_background": "light"
     },
     "output_type": "display_data"
    }
   ],
   "source": [
    "# print out the results to see if it makes sense now\n",
    "plt.scatter(example_activation_1[:,0],example_activation_1[:,1])\n",
    "plt.scatter(example_activation_2[:,0],example_activation_2[:,1])"
   ]
  },
  {
   "cell_type": "code",
   "execution_count": 194,
   "id": "a18c3831",
   "metadata": {},
   "outputs": [],
   "source": [
    "# add the activations to the full df\n",
    "df_full[\"bottleneck_tsne_embedding\"] = activations_tsne_embedding_reshaped.tolist()\n",
    "df_full[\"bottleneck_pca_embedding\"] = activations_pca_embedding_reshaped.tolist()\n",
    "df_full[\"bottleneck_umap_embedding\"] = activations_umap_embedding_reshaped.tolist()\n",
    "\n",
    "# overall_iou\n",
    "df_full[\"overall_iou\"] = combined_overall_iou\n",
    "\n",
    "# iou by class\n",
    "iou_class_df = pd.DataFrame(combined_iou_by_class,columns = [\"other_iou\",\"road_iou\",\"sidewalk_iou\",\"vegetation_iou\",\"sky_iou\",\"car_iou\"])\n",
    "df_full = pd.concat((df_full,iou_class_df),axis=1)\n",
    "\n",
    "# paths of predictions\n",
    "df_full[\"prediction_path\"] = prediction_paths"
   ]
  },
  {
   "cell_type": "markdown",
   "id": "847d7782",
   "metadata": {},
   "source": [
    "Why is it that the points are not really separating?"
   ]
  },
  {
   "cell_type": "code",
   "execution_count": 196,
   "id": "21de5beb",
   "metadata": {},
   "outputs": [],
   "source": [
    "# rearrange the columns in a fixed order\n",
    "df_rearrange = df_full[['name','dataset', 'image_path', 'label_path','prediction_path', 'similar_image_paths','similar_IoU_score', \n",
    "                       'other_ratio', 'road_ratio', 'sidewalk_ratio','vegetation_ratio', 'sky_ratio', 'car_ratio', \n",
    "                       'simple_tsne_1','simple_tsne_2', 'meaningful_tsne_1', 'meaningful_tsne_2',\"pca_1\",\"pca_2\",\n",
    "       'bottleneck_tsne_embedding','bottleneck_pca_embedding','bottleneck_umap_embedding', 'overall_iou', 'other_iou',\n",
    "       'road_iou', 'sidewalk_iou', 'vegetation_iou', 'sky_iou', 'car_iou']]"
   ]
  },
  {
   "cell_type": "code",
   "execution_count": 201,
   "id": "0ec2f920",
   "metadata": {},
   "outputs": [],
   "source": [
    "# drop duplicate columns\n",
    "# df_rearrange = df_rearrange.loc[:,~df_rearrange.columns.duplicated()]"
   ]
  },
  {
   "cell_type": "code",
   "execution_count": 202,
   "id": "24d18aa0",
   "metadata": {},
   "outputs": [
    {
     "data": {
      "text/plain": [
       "Index(['name', 'dataset', 'image_path', 'label_path', 'prediction_path',\n",
       "       'similar_image_paths', 'similar_IoU_score', 'other_ratio', 'road_ratio',\n",
       "       'sidewalk_ratio', 'vegetation_ratio', 'sky_ratio', 'car_ratio',\n",
       "       'simple_tsne_1', 'simple_tsne_2', 'meaningful_tsne_1',\n",
       "       'meaningful_tsne_2', 'pca_1', 'pca_2', 'bottleneck_tsne_embedding',\n",
       "       'bottleneck_pca_embedding', 'bottleneck_umap_embedding', 'overall_iou',\n",
       "       'other_iou', 'road_iou', 'sidewalk_iou', 'vegetation_iou', 'sky_iou',\n",
       "       'car_iou'],\n",
       "      dtype='object')"
      ]
     },
     "execution_count": 202,
     "metadata": {},
     "output_type": "execute_result"
    }
   ],
   "source": [
    "df_rearrange.columns"
   ]
  },
  {
   "cell_type": "code",
   "execution_count": 205,
   "id": "827495de",
   "metadata": {},
   "outputs": [],
   "source": [
    "df_rearrange.to_csv(\"system_df_small_sample.csv\",index=True)"
   ]
  },
  {
   "cell_type": "code",
   "execution_count": null,
   "id": "22212c7a",
   "metadata": {},
   "outputs": [],
   "source": []
  }
 ],
 "metadata": {
  "kernelspec": {
   "display_name": "Python 3",
   "language": "python",
   "name": "python3"
  },
  "language_info": {
   "codemirror_mode": {
    "name": "ipython",
    "version": 3
   },
   "file_extension": ".py",
   "mimetype": "text/x-python",
   "name": "python",
   "nbconvert_exporter": "python",
   "pygments_lexer": "ipython3",
   "version": "3.6.5"
  }
 },
 "nbformat": 4,
 "nbformat_minor": 5
}
