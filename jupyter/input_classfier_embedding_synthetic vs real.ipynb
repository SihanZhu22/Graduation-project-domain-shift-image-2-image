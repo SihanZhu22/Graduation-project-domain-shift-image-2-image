{
 "cells": [
  {
   "cell_type": "code",
   "execution_count": 14,
   "id": "7072ae4f",
   "metadata": {},
   "outputs": [],
   "source": [
    "from PIL import Image\n",
    "import numpy as np\n",
    "import os\n",
    "import pickle\n",
    "import random\n",
    "import matplotlib.pyplot as plt\n",
    "import pandas as pd\n",
    "import seaborn as sns\n",
    "from skimage.transform import resize\n",
    "\n",
    "import torch\n",
    "\n",
    "from sklearn.decomposition import PCA\n",
    "from sklearn.manifold import TSNE"
   ]
  },
  {
   "cell_type": "markdown",
   "id": "6a7a74be",
   "metadata": {},
   "source": [
    "# Load images"
   ]
  },
  {
   "cell_type": "code",
   "execution_count": 2,
   "id": "495bd8bf",
   "metadata": {},
   "outputs": [],
   "source": [
    "resize_image_path_synthia = \"D:\\zsh\\graduation\\Graduation-project-domain-shift-image-2-image\\dataset\\SYNTHIA_256\\image\"\n",
    "resize_label_path_synthia = \"D:\\zsh\\graduation\\Graduation-project-domain-shift-image-2-image\\dataset\\SYNTHIA_256\\label-rgb\"\n",
    "\n",
    "cityscapes_path = \"D:\\zsh\\graduation\\Graduation-project-domain-shift-image-2-image\\dataset\\original_cityscapes_inputs\""
   ]
  },
  {
   "cell_type": "code",
   "execution_count": 3,
   "id": "faef956b",
   "metadata": {},
   "outputs": [],
   "source": [
    "# get relative path for both datasets, because global path is not allowed (\"Not allowed to load local resource\")\n",
    "start = \"D:\\zsh\\graduation\\Graduation-project-domain-shift-image-2-image\"\n",
    "relative_path_cityscapes = os.path.relpath(cityscapes_path, start)\n",
    "relative_path_synthia = os.path.relpath(resize_image_path_synthia, start)"
   ]
  },
  {
   "cell_type": "code",
   "execution_count": 4,
   "id": "7e259288",
   "metadata": {},
   "outputs": [],
   "source": [
    "# Cityscapes\n",
    "# import the pickle \n",
    "cityscapes_100 = []\n",
    "cityscapes_path_100 = []\n",
    "\n",
    "cityscapes_names= os.listdir(cityscapes_path)\n",
    "cityscapes_names_100 = random.choices(cityscapes_names, k=100)\n",
    "for name in cityscapes_names_100:\n",
    "    image = Image.open(cityscapes_path+\"\\\\\"+name).convert(\"RGB\")\n",
    "    \n",
    "    cityscapes_100.append(np.array(image))\n",
    "    cityscapes_path_100.append(relative_path_cityscapes+\"\\\\\"+name)\n",
    "\n",
    "cityscapes_100 = np.array(cityscapes_100)\n",
    "cityscapes_path_100 = np.array(cityscapes_path_100)"
   ]
  },
  {
   "cell_type": "code",
   "execution_count": 5,
   "id": "1857c797",
   "metadata": {},
   "outputs": [],
   "source": [
    "# synthia\n",
    "\n",
    "synthia_100 = []\n",
    "synthia_path_100 =[]\n",
    "\n",
    "synthia_names = os.listdir(resize_image_path_synthia)\n",
    "# randomly select 100 images to load in to numpy array\n",
    "synthia_names_100 = random.choices(synthia_names, k=100)\n",
    "for name in synthia_names_100:\n",
    "#     print(name)\n",
    "#     print(resize_image_path_synthia)\n",
    "#     print(resize_image_path_synthia+\"\\\\\"+name)\n",
    "    image = Image.open(resize_image_path_synthia+\"\\\\\"+name).convert(\"RGB\")\n",
    "    \n",
    "    synthia_100.append(np.array(image))\n",
    "    synthia_path_100.append(relative_path_synthia+\"\\\\\"+name)\n",
    "\n",
    "synthia_100 = np.array(synthia_100)\n",
    "synthia_path_100 = np.array(synthia_path_100)"
   ]
  },
  {
   "cell_type": "code",
   "execution_count": 6,
   "id": "46a00f0e",
   "metadata": {},
   "outputs": [],
   "source": [
    "# concatenate the images and the paths from two different dataset\n",
    "combined_images = np.concatenate((cityscapes_100,synthia_100),axis=0)\n",
    "# combined_images = np.reshape(combined_embedding,(len(combined_embedding), 256*256*3))\n",
    "\n",
    "combined_paths = np.concatenate((cityscapes_path_100,synthia_path_100),axis=0)"
   ]
  },
  {
   "cell_type": "code",
   "execution_count": 8,
   "id": "3c5216a9",
   "metadata": {},
   "outputs": [
    {
     "data": {
      "text/plain": [
       "(200, 256, 256, 3)"
      ]
     },
     "execution_count": 8,
     "metadata": {},
     "output_type": "execute_result"
    }
   ],
   "source": [
    "combined_images.shape"
   ]
  },
  {
   "cell_type": "markdown",
   "id": "be483982",
   "metadata": {},
   "source": [
    "# Load model"
   ]
  },
  {
   "cell_type": "code",
   "execution_count": 16,
   "id": "b25a7834",
   "metadata": {},
   "outputs": [
    {
     "name": "stdout",
     "output_type": "stream",
     "text": [
      "D:\\zsh\\graduation\\ViTs-vs-CNNs\n"
     ]
    }
   ],
   "source": [
    "cd D:\\zsh\\graduation\\ViTs-vs-CNNs"
   ]
  },
  {
   "cell_type": "code",
   "execution_count": 17,
   "id": "2884717d",
   "metadata": {},
   "outputs": [],
   "source": [
    "import torch\n",
    "import torch.nn as nn\n",
    "import global_val\n",
    "\n",
    "from models.ghost_bn import GhostBN2D_ADV\n",
    "from models.advresnet_gbn_gelu import Affine\n",
    "import models.advresnet_gbn_gelu as advres\n",
    "from main_adv_res import EightBN"
   ]
  },
  {
   "cell_type": "code",
   "execution_count": 20,
   "id": "81053c58",
   "metadata": {},
   "outputs": [],
   "source": [
    "device = torch.device(\"cuda:0\" if torch.cuda.is_available() else \"cpu\")\n",
    "\n",
    "model = advres.__dict__[\"resnet50\"](norm_layer = EightBN)\n",
    "weights_path = \"D:\\zsh\\graduation\\Graduation-project-domain-shift-image-2-image\\models\\\\advres50_gelu.pth\"\n",
    "weight_dict = torch.load(weights_path,map_location=device)[\"model\"]"
   ]
  },
  {
   "cell_type": "code",
   "execution_count": 21,
   "id": "8b3eedc2",
   "metadata": {},
   "outputs": [
    {
     "data": {
      "text/plain": [
       "<All keys matched successfully>"
      ]
     },
     "execution_count": 21,
     "metadata": {},
     "output_type": "execute_result"
    }
   ],
   "source": [
    "model.load_state_dict(weight_dict)"
   ]
  },
  {
   "cell_type": "code",
   "execution_count": 23,
   "id": "8290daf6",
   "metadata": {},
   "outputs": [],
   "source": [
    "# print(model)"
   ]
  },
  {
   "cell_type": "markdown",
   "id": "fadc5e70",
   "metadata": {},
   "source": [
    "# Generate embedding"
   ]
  },
  {
   "cell_type": "code",
   "execution_count": 12,
   "id": "fd0362f4",
   "metadata": {},
   "outputs": [],
   "source": [
    "def get_representation_for_image(image,label):\n",
    "    # resize the image and transform it to tensor # [256,256,3] -> [224,224,3] \n",
    "    resized_image = resize(image, (224, 224,3))\n",
    "    resized_image_tensor = torch.from_numpy(resized_image)\n",
    "    resized_image_tensor = torch.permute(resized_image_tensor, (2, 0, 1))\n",
    "    resized_image_tensor = resized_image_tensor[None,:] # [3,224,224] -> [1,3,224,224] (because model takes 4D input)\n",
    "    \n",
    "    # dictionary for the activations\n",
    "    activations = {}\n",
    "\n",
    "    def get_activations(name):\n",
    "        def hook(model, input, output):\n",
    "            activations[name] = output.detach()\n",
    "        return hook\n",
    "\n",
    "    # use the output of (avgpool) layer because it is the same as the input of last layer\n",
    "    h = model.avgpool.register_forward_hook(get_activations(\"input_last_layer\"))\n",
    "\n",
    "    model.eval()\n",
    "    model.sing=True\n",
    "    model.training=False\n",
    "    out = model(resized_image_tensor.float(),label)\n",
    "    \n",
    "    # remove the hook\n",
    "    h.remove()\n",
    "\n",
    "    first_part_embedding = torch.flatten(activations[\"input_last_layer\"][0])\n",
    "    # the second part of the embedding is size of each class\n",
    "    second_part_embedding=[]\n",
    "    for i in range(6):\n",
    "        class_size = np.count_nonzero(label == i)\n",
    "        second_part_embedding.append(class_size)\n",
    "    embedding = np.concatenate((first_part_embedding.numpy(),np.array(second_part_embedding)),axis = 0)\n",
    "    \n",
    "    return embedding"
   ]
  },
  {
   "cell_type": "code",
   "execution_count": 25,
   "id": "bd07c21b",
   "metadata": {},
   "outputs": [],
   "source": [
    "embedding_list = []\n",
    "for i, image in enumerate(combined_images): # i is not used, could remove the enumerate\n",
    "    embedding = get_representation_for_image(image,\"__\") # y_label is never used, so just use replacement\n",
    "    embedding_list.append(embedding)"
   ]
  },
  {
   "cell_type": "code",
   "execution_count": 26,
   "id": "841548d6",
   "metadata": {},
   "outputs": [],
   "source": [
    "embedding_arr = np.array(embedding_list)"
   ]
  },
  {
   "cell_type": "code",
   "execution_count": 27,
   "id": "9218dfc4",
   "metadata": {},
   "outputs": [
    {
     "data": {
      "text/plain": [
       "(200, 2054)"
      ]
     },
     "execution_count": 27,
     "metadata": {},
     "output_type": "execute_result"
    }
   ],
   "source": [
    "embedding_arr.shape"
   ]
  },
  {
   "cell_type": "code",
   "execution_count": 28,
   "id": "084eacbe",
   "metadata": {},
   "outputs": [
    {
     "name": "stdout",
     "output_type": "stream",
     "text": [
      "D:\\zsh\\graduation\\Graduation-project-domain-shift-image-2-image\\jupyter\n"
     ]
    }
   ],
   "source": [
    "# back to where the jupyter notebook is in\n",
    "cd D:\\zsh\\graduation\\Graduation-project-domain-shift-image-2-image\\jupyter"
   ]
  },
  {
   "cell_type": "markdown",
   "id": "d340477d",
   "metadata": {},
   "source": [
    "PCA(50)->TSNE"
   ]
  },
  {
   "cell_type": "code",
   "execution_count": 45,
   "id": "d4411139",
   "metadata": {},
   "outputs": [
    {
     "name": "stdout",
     "output_type": "stream",
     "text": [
      "0.8674479314149676\n"
     ]
    },
    {
     "name": "stderr",
     "output_type": "stream",
     "text": [
      "d:\\zsh\\graduation\\grad_env_take_2\\lib\\site-packages\\pandas\\core\\indexing.py:670: SettingWithCopyWarning: \n",
      "A value is trying to be set on a copy of a slice from a DataFrame\n",
      "\n",
      "See the caveats in the documentation: https://pandas.pydata.org/pandas-docs/stable/user_guide/indexing.html#returning-a-view-versus-a-copy\n",
      "  iloc._setitem_with_indexer(indexer, value)\n"
     ]
    }
   ],
   "source": [
    "pca_50 = PCA(n_components=50)\n",
    "pca_embedding = pca_50.fit_transform(embedding_arr)\n",
    "print(np.sum(pca_50.explained_variance_ratio_))\n",
    "# pca = PCA(n_components=2)\n",
    "tsne = TSNE()\n",
    "tsne_embedding = tsne.fit_transform(pca_embedding)\n",
    "# tsne_embedding = tsne.fit_transform(embedding_arr)\n",
    "\n",
    "df_tsne = pd.DataFrame(tsne_embedding,columns=[\"tsne_1\",\"tsne_2\"])\n",
    "\n",
    "df_tsne[\"dataset\"] =np.nan\n",
    "df_tsne[\"path\"] = combined_paths\n",
    "\n",
    "df_tsne[\"dataset\"].iloc[:100] = \"Cityscapes\"\n",
    "df_tsne[\"dataset\"].iloc[100:] = \"Synthia\""
   ]
  },
  {
   "cell_type": "code",
   "execution_count": 46,
   "id": "6d702b87",
   "metadata": {},
   "outputs": [
    {
     "data": {
      "text/html": [
       "<div>\n",
       "<style scoped>\n",
       "    .dataframe tbody tr th:only-of-type {\n",
       "        vertical-align: middle;\n",
       "    }\n",
       "\n",
       "    .dataframe tbody tr th {\n",
       "        vertical-align: top;\n",
       "    }\n",
       "\n",
       "    .dataframe thead th {\n",
       "        text-align: right;\n",
       "    }\n",
       "</style>\n",
       "<table border=\"1\" class=\"dataframe\">\n",
       "  <thead>\n",
       "    <tr style=\"text-align: right;\">\n",
       "      <th></th>\n",
       "      <th>tsne_1</th>\n",
       "      <th>tsne_2</th>\n",
       "      <th>dataset</th>\n",
       "      <th>path</th>\n",
       "    </tr>\n",
       "  </thead>\n",
       "  <tbody>\n",
       "    <tr>\n",
       "      <th>0</th>\n",
       "      <td>-2.221869</td>\n",
       "      <td>4.099285</td>\n",
       "      <td>Cityscapes</td>\n",
       "      <td>dataset\\original_cityscapes_inputs\\191.jpeg</td>\n",
       "    </tr>\n",
       "    <tr>\n",
       "      <th>1</th>\n",
       "      <td>-10.937391</td>\n",
       "      <td>0.514338</td>\n",
       "      <td>Cityscapes</td>\n",
       "      <td>dataset\\original_cityscapes_inputs\\31.jpeg</td>\n",
       "    </tr>\n",
       "    <tr>\n",
       "      <th>2</th>\n",
       "      <td>-11.663597</td>\n",
       "      <td>7.924657</td>\n",
       "      <td>Cityscapes</td>\n",
       "      <td>dataset\\original_cityscapes_inputs\\171.jpeg</td>\n",
       "    </tr>\n",
       "    <tr>\n",
       "      <th>3</th>\n",
       "      <td>9.959833</td>\n",
       "      <td>-6.416883</td>\n",
       "      <td>Cityscapes</td>\n",
       "      <td>dataset\\original_cityscapes_inputs\\9.jpeg</td>\n",
       "    </tr>\n",
       "    <tr>\n",
       "      <th>4</th>\n",
       "      <td>-8.518798</td>\n",
       "      <td>-0.133276</td>\n",
       "      <td>Cityscapes</td>\n",
       "      <td>dataset\\original_cityscapes_inputs\\340.jpeg</td>\n",
       "    </tr>\n",
       "  </tbody>\n",
       "</table>\n",
       "</div>"
      ],
      "text/plain": [
       "      tsne_1    tsne_2     dataset  \\\n",
       "0  -2.221869  4.099285  Cityscapes   \n",
       "1 -10.937391  0.514338  Cityscapes   \n",
       "2 -11.663597  7.924657  Cityscapes   \n",
       "3   9.959833 -6.416883  Cityscapes   \n",
       "4  -8.518798 -0.133276  Cityscapes   \n",
       "\n",
       "                                          path  \n",
       "0  dataset\\original_cityscapes_inputs\\191.jpeg  \n",
       "1   dataset\\original_cityscapes_inputs\\31.jpeg  \n",
       "2  dataset\\original_cityscapes_inputs\\171.jpeg  \n",
       "3    dataset\\original_cityscapes_inputs\\9.jpeg  \n",
       "4  dataset\\original_cityscapes_inputs\\340.jpeg  "
      ]
     },
     "execution_count": 46,
     "metadata": {},
     "output_type": "execute_result"
    }
   ],
   "source": [
    "df_tsne.head()"
   ]
  },
  {
   "cell_type": "code",
   "execution_count": 47,
   "id": "4a3513ea",
   "metadata": {},
   "outputs": [
    {
     "data": {
      "text/plain": [
       "<AxesSubplot:xlabel='tsne_1', ylabel='tsne_2'>"
      ]
     },
     "execution_count": 47,
     "metadata": {},
     "output_type": "execute_result"
    },
    {
     "data": {
      "image/png": "[encoded data removed]",
      "text/plain": [
       "<Figure size 576x360 with 1 Axes>"
      ]
     },
     "metadata": {
      "needs_background": "light"
     },
     "output_type": "display_data"
    }
   ],
   "source": [
    "plt.figure(figsize=(8,5))\n",
    "sns.scatterplot(\n",
    "    x=\"tsne_1\", y=\"tsne_2\",\n",
    "    hue=\"dataset\", # see if this need to be changed\n",
    "#     palette=sns.color_palette(\"hls\", 2), # palette corresponds to hue\n",
    "    data=df_tsne # df_tsne_1 or df_tsne_2\n",
    ")"
   ]
  },
  {
   "cell_type": "code",
   "execution_count": 48,
   "id": "a7c57460",
   "metadata": {},
   "outputs": [],
   "source": [
    "# save\n",
    "df_tsne.to_csv(\"df_input_discrete_embedding_by_classfier.csv\",index=False)"
   ]
  },
  {
   "cell_type": "code",
   "execution_count": null,
   "id": "045cfd7d",
   "metadata": {},
   "outputs": [],
   "source": []
  }
 ],
 "metadata": {
  "kernelspec": {
   "display_name": "Python 3",
   "language": "python",
   "name": "python3"
  },
  "language_info": {
   "codemirror_mode": {
    "name": "ipython",
    "version": 3
   },
   "file_extension": ".py",
   "mimetype": "text/x-python",
   "name": "python",
   "nbconvert_exporter": "python",
   "pygments_lexer": "ipython3",
   "version": "3.6.5"
  }
 },
 "nbformat": 4,
 "nbformat_minor": 5
}
