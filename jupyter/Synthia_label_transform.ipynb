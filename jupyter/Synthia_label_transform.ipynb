{
 "cells": [
  {
   "cell_type": "markdown",
   "id": "77eb48ba",
   "metadata": {},
   "source": [
    "# Initial exploration"
   ]
  },
  {
   "cell_type": "code",
   "execution_count": null,
   "id": "470b3727",
   "metadata": {},
   "outputs": [],
   "source": [
    "import random"
   ]
  },
  {
   "cell_type": "code",
   "execution_count": null,
   "id": "87ea46cc",
   "metadata": {},
   "outputs": [],
   "source": [
    "# randomly select 100 images to load in to numpy array\n",
    "synthia_names = os.listdir(resize_image_path_synthia)\n",
    "synthia_names_100 = random.choices(synthia_names, k=100)"
   ]
  }
 ],
 "metadata": {
  "kernelspec": {
   "display_name": "Python 3",
   "language": "python",
   "name": "python3"
  },
  "language_info": {
   "codemirror_mode": {
    "name": "ipython",
    "version": 3
   },
   "file_extension": ".py",
   "mimetype": "text/x-python",
   "name": "python",
   "nbconvert_exporter": "python",
   "pygments_lexer": "ipython3",
   "version": "3.6.5"
  }
 },
 "nbformat": 4,
 "nbformat_minor": 5
}
